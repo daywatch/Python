{
 "cells": [
  {
   "cell_type": "code",
   "execution_count": 2,
   "metadata": {},
   "outputs": [
    {
     "name": "stderr",
     "output_type": "stream",
     "text": [
      "wandb: WARNING W&B installed but not logged in.  Run `wandb login` or set the WANDB_API_KEY env variable.\n"
     ]
    },
    {
     "data": {
      "application/vnd.jupyter.widget-view+json": {
       "model_id": "ed0422b94cef4d12a0e4151ee59313e1",
       "version_major": 2,
       "version_minor": 0
      },
      "text/plain": [
       "HBox(children=(FloatProgress(value=0.0, description='Downloading', max=1578.0, style=ProgressStyle(description…"
      ]
     },
     "metadata": {},
     "output_type": "display_data"
    },
    {
     "name": "stdout",
     "output_type": "stream",
     "text": [
      "\n"
     ]
    },
    {
     "data": {
      "application/vnd.jupyter.widget-view+json": {
       "model_id": "4933ef926ae14715bdc4714d02a5bf7c",
       "version_major": 2,
       "version_minor": 0
      },
      "text/plain": [
       "HBox(children=(FloatProgress(value=0.0, description='Downloading', max=898822.0, style=ProgressStyle(descripti…"
      ]
     },
     "metadata": {},
     "output_type": "display_data"
    },
    {
     "name": "stdout",
     "output_type": "stream",
     "text": [
      "\n"
     ]
    },
    {
     "data": {
      "application/vnd.jupyter.widget-view+json": {
       "model_id": "0b6da733b2394164a194142e3dbb033f",
       "version_major": 2,
       "version_minor": 0
      },
      "text/plain": [
       "HBox(children=(FloatProgress(value=0.0, description='Downloading', max=456318.0, style=ProgressStyle(descripti…"
      ]
     },
     "metadata": {},
     "output_type": "display_data"
    },
    {
     "name": "stdout",
     "output_type": "stream",
     "text": [
      "\n"
     ]
    },
    {
     "data": {
      "application/vnd.jupyter.widget-view+json": {
       "model_id": "0ea636b3c19749248520c962b0daa61a",
       "version_major": 2,
       "version_minor": 0
      },
      "text/plain": [
       "HBox(children=(FloatProgress(value=0.0, description='Downloading', max=26.0, style=ProgressStyle(description_w…"
      ]
     },
     "metadata": {},
     "output_type": "display_data"
    },
    {
     "name": "stdout",
     "output_type": "stream",
     "text": [
      "\n"
     ]
    },
    {
     "data": {
      "application/vnd.jupyter.widget-view+json": {
       "model_id": "6e352493008b48b094dab48065543336",
       "version_major": 2,
       "version_minor": 0
      },
      "text/plain": [
       "HBox(children=(FloatProgress(value=0.0, description='Downloading', max=1222317369.0, style=ProgressStyle(descr…"
      ]
     },
     "metadata": {},
     "output_type": "display_data"
    },
    {
     "name": "stdout",
     "output_type": "stream",
     "text": [
      "\n"
     ]
    }
   ],
   "source": [
    "# applying Facebook's BART model for summarization; trained on CNN-DM\n",
    "# https://huggingface.co/transformers/model_doc/bart.html\n",
    "\n",
    "from transformers import pipeline\n",
    "summarizer = pipeline(\"summarization\")"
   ]
  },
  {
   "cell_type": "code",
   "execution_count": 4,
   "metadata": {},
   "outputs": [],
   "source": [
    "ARTICLE = \"\"\"New York (CNN Business)Cinderella Castle has sat silent for 116 days.\n",
    "That's how long Walt Disney World has closed its doors because of the coronavirus pandemic. On Saturday, Disney will welcome guests back to its flagship theme park in Orlando, Florida, and reopen a cornerstone of its business.\n",
    "The Disney (DIS) resort plans to begin a phased reopening on Saturday for its Magic Kingdom and Animal Kingdom parks, followed by EPCOT and Hollywood Studios on July 15.\n",
    "Although Disney is implementing several measures to reopen safely, the reopening of a dense theme park roughly the size of San Francisco comes with risks, questions and criticisms as cases are spiking in Florida.\n",
    "Even in normal times, operating Disney World is no easy feat. The resort has more than 75,000 employees (or as the company calls them, \"cast members\") and is visited by millions of people every year. The Magic Kingdom alone, which houses trademark attractions like Cinderella Castle and Space Mountain, accounted for more than 20 million visitors in 2018, according to a report by AECOM.\n",
    "Disney World sets reopening date\n",
    "Disney World sets reopening date\n",
    "Disney World is \"the heart of the brand,\" according to Trip Miller, a Disney shareholder and managing partner at Gullane Capital Partners.\n",
    "\"When you think about Disney, I think for a lot of people, Disney World immediately comes to mind,\" he said.\n",
    "'Disney's most important single asset'\n",
    "Disney's media empire is vast. The company has blockbuster film franchises, a popular and growing streaming service, and a robust cable network in ESPN. Still, all those things may not be as vital to the company's bottom line in the near term as its parks and resorts.\n",
    "And no Disney park is as essential as Walt Disney World.\n",
    "\"It's three times the size of Disneyland in terms of revenue,\" Michael Nathanson, a media analyst and founding partner at MoffettNathanson, told CNN Business.\n",
    "Nathanson estimates that Disney World alone generated $11.2 billion, or about 16% of the company's total revenue in 2019 and added that it's a massive driver of growth for the company.\n",
    "\"It's probably their most important single asset,\" Nathanson said.\n",
    "Disney's Parks, Experiences and Products unit, which brought in more than $26 billion in fiscal 2019, was financially smashed last quarter because of the outbreak. The segment's operating profit fell 58% compared to the previous year, and Disney reported a loss a billion dollars in profit just a few weeks into the global shutdown.\n",
    "According to Nathanson, while the coronavirus pandemic has hit all parts of Disney's business, its parks are where Disney has the most agency in terms of reopening.\n",
    "\"You've got TV, which is impacted by lack of production, lack of sports, advertising weakness, cord-cutting. That's not good. You've got its film unit, which has great content, but no theatrical openings in the near term. That's a problem. And then you have parks, which have been hit by Covid-19 and closures,\" he said. \"So of those three, what you can control is your park business. You've got control over the safety issues, the opening. That's under your control, so you can do what you can there.\"\n",
    "Despite Disney's many safety protocols and health measures, which include reduced capacity at its parks and requiring all employees and guests to wear masks, one thing Disney cannot control is coronavirus itself.\n",
    "'How you plan for something that seemingly changes every day?'\n",
    "The Florida Department of Health reported more than 10,000 new coronavirus cases on Tuesday, bringing the state's total to more than 220,000.\n",
    "The significant uptick in cases over the last couple of weeks has led to petitions from employees asking to delay the reopening and the head of the union representing Disney World's service workers to warn that Disney \"has to get it right\" in terms of the reopening.\n",
    "\"To me, the risk is not just a potential outbreak at the parks, but it's the quick evolution of the virus,\" Miller said. \"Even if Disney has done everything possible to combat a spread of the virus, which it seems it has, how do you plan for something that seemingly changes every day?\"\n",
    "Bob Chapek, Disney's CEO, told CNN Business in May he thinks it's safe to return to the park.\n",
    "Disney World workers petition to delay reopening as Florida coronavirus cases surge\n",
    "Disney World workers petition to delay reopening as Florida coronavirus cases surge\n",
    "\"I think what we can say is that we've done everything we can to open up responsibly,\" Chapek said. \"Taking the guidance of local health officials, state health officials, national health officials, plus our own well qualified doctors on staff to create an environment to create new operating procedures, to create new policies, to do new training, new standards of hygiene.\"\n",
    "But a lot has changed since May.\n",
    "When reached for comment, a Disney spokesperson pointed out a blog post by Dr. Pamela Hymel, the chief medical officer for Disney Parks. In the post, Hymel wrote that Disney remains \"deeply committed\" to focusing on the well-being of guests and employees.\n",
    "\"From increased cleaning and disinfecting across our parks and resorts, to updated health and safety policies, we have reimagined the Disney experience so we can all enjoy the magic responsibly,\" Hymel wrote. \"We implemented our health and safety measures after considering the guidance of government and local health authorities.\"\n",
    "'This is the future of the travel industry at this point'\n",
    "Disney World is not the only theme park open in Florida. Other popular theme parks like Universal Orlando and SeaWorld Orlando have already had guests. And Disney has opened some of its other theme parks overseas including Shanghai Disneyland, which returned on May 11. Disneyland, Disney's resort in California, was set to reopen this month, but was postponed.\n",
    "But Disney World is different. It's not just the most popular theme park in America; it's the most popular theme park in the world, which can set the tone for the entire tourism industry, according to Robert Niles, editor of ThemeParkInsider.com.\n",
    "\"This is the future of the travel industry at this point,\" Niles said. \"It's just wreckage throughout the entire industry at this stage... So somebody's got to figure out a way to make this work if this industry is going to survive, and Disney's got more resources than anyone else. This is an obvious leadership opportunity for Disney.\"\n",
    "But what does the future hold for Disney, and its parks? Niles isn't sure.\n",
    "\"My best guess at this point is that this is a slow limp forward for Disney,\" he said. \"Even if they do the best possible job on keeping things safe, people still have to get there, they still have to go on airplanes, and the parks still need international borders to open. So Disney is at the mercy of a lot of other things outside of its control.\"\n",
    "\"\"\""
   ]
  },
  {
   "cell_type": "code",
   "execution_count": 5,
   "metadata": {},
   "outputs": [
    {
     "name": "stdout",
     "output_type": "stream",
     "text": [
      "[{'summary_text': ' Liana Barrientos, 39, is charged with two counts of \"offering a false instrument for filing in the first degree\" In total, she has been married 10 times, with nine of her marriages occurring between 1999 and 2002 . At one time, she was married to eight men at once, prosecutors say .'}]\n"
     ]
    }
   ],
   "source": [
    "print(summarizer(ARTICLE, max_length=130, min_length=30))"
   ]
  },
  {
   "cell_type": "code",
   "execution_count": null,
   "metadata": {},
   "outputs": [],
   "source": [
    "\n"
   ]
  },
  {
   "cell_type": "code",
   "execution_count": null,
   "metadata": {},
   "outputs": [],
   "source": []
  }
 ],
 "metadata": {
  "kernelspec": {
   "display_name": "Python 3",
   "language": "python",
   "name": "python3"
  },
  "language_info": {
   "codemirror_mode": {
    "name": "ipython",
    "version": 3
   },
   "file_extension": ".py",
   "mimetype": "text/x-python",
   "name": "python",
   "nbconvert_exporter": "python",
   "pygments_lexer": "ipython3",
   "version": "3.7.4"
  }
 },
 "nbformat": 4,
 "nbformat_minor": 4
}
