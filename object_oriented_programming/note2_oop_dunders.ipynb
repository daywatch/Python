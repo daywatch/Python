{
  "cells": [
    {
      "cell_type": "markdown",
      "source": [
        "## Let's Add A `__repr__`"
      ],
      "metadata": {
        "id": "Aho6KCjteoCl"
      }
    },
    {
      "cell_type": "code",
      "source": [
        "class Book:\n",
        "    def __init__(self, title, author, book_type, pages):\n",
        "        self.title = title\n",
        "        self.author = author\n",
        "        self.book_type = book_type\n",
        "        self.pages = pages"
      ],
      "execution_count": null,
      "outputs": [],
      "metadata": {
        "id": "ZaT2q12CeoCm"
      }
    },
    {
      "cell_type": "code",
      "source": [
        "b = Book(\"Antifragile\", \"Nassim Taleb\", \"Hardcover\", 519)"
      ],
      "execution_count": null,
      "outputs": [],
      "metadata": {
        "id": "kPWNAv0FeoCn"
      }
    },
    {
      "cell_type": "code",
      "source": [
        "b"
      ],
      "execution_count": null,
      "outputs": [
        {
          "data": {
            "text/plain": [
              "<__main__.Book at 0x7fca60046a60>"
            ]
          },
          "metadata": {},
          "output_type": "display_data"
        }
      ],
      "metadata": {
        "id": "3SBVfLIdeoCn",
        "outputId": "cc68622b-b2bf-4fde-9ece-db2ae4eb023d"
      }
    },
    {
      "cell_type": "code",
      "source": [
        "repr(b)"
      ],
      "execution_count": null,
      "outputs": [
        {
          "data": {
            "text/plain": [
              "'<__main__.Book object at 0x7fca60046a60>'"
            ]
          },
          "metadata": {},
          "output_type": "display_data"
        }
      ],
      "metadata": {
        "id": "wx0R8hN8eoCn",
        "outputId": "e4c07f26-9ad7-4abe-80f8-1c3638567c91"
      }
    },
    {
      "cell_type": "code",
      "source": [
        "class Book:\n",
        "    def __init__(self, title, author, book_type, pages):\n",
        "        self.title = title\n",
        "        self.author = author\n",
        "        self.book_type = book_type\n",
        "        self.pages = pages\n",
        "\n",
        "    def __repr__(self):\n",
        "        return f\"The title is {self.title}\""
      ],
      "execution_count": null,
      "outputs": [],
      "metadata": {
        "id": "pIc_dG07eoCo"
      }
    },
    {
      "cell_type": "code",
      "source": [
        "b = Book(\"Antifragile\", \"Nassim Taleb\", \"Hardcover\", 519)"
      ],
      "execution_count": null,
      "outputs": [],
      "metadata": {
        "id": "tVLZnhGReoCo"
      }
    },
    {
      "cell_type": "code",
      "source": [
        "b"
      ],
      "execution_count": null,
      "outputs": [
        {
          "data": {
            "text/plain": [
              "The title is Antifragile"
            ]
          },
          "metadata": {},
          "output_type": "display_data"
        }
      ],
      "metadata": {
        "id": "R6KDtvrleoCo",
        "outputId": "4c46a819-5975-4016-d561-87d61231a68a"
      }
    },
    {
      "cell_type": "code",
      "source": [
        "b1 = Book(\"America's Bank\", \"Roger Lowenstein\", \"Paperback\", 368)"
      ],
      "execution_count": null,
      "outputs": [],
      "metadata": {
        "id": "84PvGGDzeoCo"
      }
    },
    {
      "cell_type": "code",
      "source": [
        "b1"
      ],
      "execution_count": null,
      "outputs": [
        {
          "data": {
            "text/plain": [
              "The title is America's Bank"
            ]
          },
          "metadata": {},
          "output_type": "display_data"
        }
      ],
      "metadata": {
        "id": "4usXCbIBeoCo",
        "outputId": "073fbed7-9e1f-4aa6-d0d0-8a7f00b480ac"
      }
    },
    {
      "cell_type": "code",
      "source": [
        "print(b1)"
      ],
      "execution_count": null,
      "outputs": [
        {
          "name": "stdout",
          "text": [
            "The title is America's Bank\n"
          ],
          "output_type": "stream"
        }
      ],
      "metadata": {
        "id": "CpsdAW_FeoCo",
        "outputId": "80247e81-4c0e-4e3c-ecdd-599e76f5a63e"
      }
    },
    {
      "cell_type": "markdown",
      "source": [
        "## `__repr__ vs __str__`"
      ],
      "metadata": {
        "id": "raXCYFABeoCp"
      }
    },
    {
      "cell_type": "code",
      "source": [
        "class Book:\n",
        "    def __init__(self, title, author, book_type, pages):\n",
        "        self.title = title\n",
        "        self.author = author\n",
        "        self.book_type = book_type\n",
        "        self.pages = pages\n",
        "\n",
        "    def __repr__(self):\n",
        "        return f\"The title is {self.title}\"\n",
        "\n",
        "    def __str__(self):\n",
        "        return f\"{self.title} by {self.author} in {self.book_type}\""
      ],
      "execution_count": null,
      "outputs": [],
      "metadata": {
        "id": "goerYNFoeoCp"
      }
    },
    {
      "cell_type": "code",
      "source": [
        "b = Book(\"Antifragile\", \"Nassim Taleb\", \"Hardcover\", 519)"
      ],
      "execution_count": null,
      "outputs": [],
      "metadata": {
        "id": "xtFXyOeseoCp"
      }
    },
    {
      "cell_type": "code",
      "source": [
        "str(b)"
      ],
      "execution_count": null,
      "outputs": [
        {
          "data": {
            "text/plain": [
              "'Antifragile by Nassim Taleb in Hardcover'"
            ]
          },
          "metadata": {},
          "output_type": "display_data"
        }
      ],
      "metadata": {
        "id": "IWovFkj0eoCp",
        "outputId": "608db376-fcd9-4234-a4e9-7a2eb2aef8ff"
      }
    },
    {
      "cell_type": "code",
      "source": [
        "print(b)"
      ],
      "execution_count": null,
      "outputs": [
        {
          "name": "stdout",
          "text": [
            "Antifragile by Nassim Taleb in Hardcover\n"
          ],
          "output_type": "stream"
        }
      ],
      "metadata": {
        "id": "-bdS8K3DeoCp",
        "outputId": "67da5de4-2d15-409e-e57e-ed92d0757105"
      }
    },
    {
      "cell_type": "code",
      "source": [
        "b"
      ],
      "execution_count": null,
      "outputs": [
        {
          "data": {
            "text/plain": [
              "The title is Antifragile"
            ]
          },
          "metadata": {},
          "output_type": "display_data"
        }
      ],
      "metadata": {
        "id": "AryTtSoseoCp",
        "outputId": "03652a52-f632-4f14-ff64-8317a6b028a3"
      }
    },
    {
      "cell_type": "code",
      "source": [
        "repr(b)"
      ],
      "execution_count": null,
      "outputs": [
        {
          "data": {
            "text/plain": [
              "'The title is Antifragile'"
            ]
          },
          "metadata": {},
          "output_type": "display_data"
        }
      ],
      "metadata": {
        "id": "0nSAXn-geoCq",
        "outputId": "8dad0c65-c3db-48fe-b850-628120022ba2"
      }
    },
    {
      "cell_type": "code",
      "source": [
        "# __str__ -> informal for end user\n",
        "# __repr__ -> more dev/code user oriented"
      ],
      "execution_count": null,
      "outputs": [],
      "metadata": {
        "id": "FlO9ypdweoCq"
      }
    },
    {
      "cell_type": "code",
      "source": [
        "class Book:\n",
        "    def __init__(self, title, author, book_type, pages):\n",
        "        self.title = title\n",
        "        self.author = author\n",
        "        self.book_type = book_type\n",
        "        self.pages = pages\n",
        "\n",
        "    def __repr__(self):\n",
        "        return f\"Attributes: {self.title}, {self.author}, {self.book_type}, {self.pages}\"\n",
        "\n",
        "    def __str__(self):\n",
        "        return f\"{self.title} by {self.author} in {self.book_type}\""
      ],
      "execution_count": null,
      "outputs": [],
      "metadata": {
        "id": "H4FQCUg6eoCq"
      }
    },
    {
      "cell_type": "code",
      "source": [
        "b = Book(\"Antifragile\", \"Nassim Taleb\", \"Hardcover\", 519)"
      ],
      "execution_count": null,
      "outputs": [],
      "metadata": {
        "id": "bcDmDY-zeoCq"
      }
    },
    {
      "cell_type": "code",
      "source": [
        "b"
      ],
      "execution_count": null,
      "outputs": [
        {
          "data": {
            "text/plain": [
              "Attributes: Antifragile, Nassim Taleb, Hardcover, 519"
            ]
          },
          "metadata": {},
          "output_type": "display_data"
        }
      ],
      "metadata": {
        "id": "VOU6_rImeoCq",
        "outputId": "9f0d040f-a840-455e-b41f-8cfe4b380923"
      }
    },
    {
      "cell_type": "code",
      "source": [
        "b.__dict__"
      ],
      "execution_count": null,
      "outputs": [
        {
          "data": {
            "text/plain": [
              "{'title': 'Antifragile',\n",
              " 'author': 'Nassim Taleb',\n",
              " 'book_type': 'Hardcover',\n",
              " 'pages': 519}"
            ]
          },
          "metadata": {},
          "output_type": "display_data"
        }
      ],
      "metadata": {
        "id": "fRAXuEjUeoCq",
        "outputId": "6bd4810f-2b99-44ab-b751-bb9d04704e11"
      }
    },
    {
      "cell_type": "code",
      "source": [
        "# evaluate as valid python code into a new instance"
      ],
      "execution_count": null,
      "outputs": [],
      "metadata": {
        "id": "KIt1v_kgeoCq"
      }
    },
    {
      "cell_type": "code",
      "source": [
        "eval(\"2+2\")"
      ],
      "execution_count": null,
      "outputs": [
        {
          "data": {
            "text/plain": [
              "4"
            ]
          },
          "metadata": {},
          "output_type": "display_data"
        }
      ],
      "metadata": {
        "id": "ym0T3LIYeoCr",
        "outputId": "29f9c86d-a3e2-48fe-8c62-7a0b5b658384"
      }
    },
    {
      "cell_type": "code",
      "source": [
        "eval(\"None\")"
      ],
      "execution_count": null,
      "outputs": [],
      "metadata": {
        "id": "zX5DXSoieoCr"
      }
    },
    {
      "cell_type": "code",
      "source": [
        "None"
      ],
      "execution_count": null,
      "outputs": [],
      "metadata": {
        "id": "aU4sjeBbeoCr"
      }
    },
    {
      "cell_type": "code",
      "source": [
        "eval(\"print('do nothing')\")"
      ],
      "execution_count": null,
      "outputs": [
        {
          "name": "stdout",
          "text": [
            "do nothing\n"
          ],
          "output_type": "stream"
        }
      ],
      "metadata": {
        "id": "XWplXzfLeoCr",
        "outputId": "a6f7b45c-19c1-4a86-eb6c-34b6d0c4d6b4"
      }
    },
    {
      "cell_type": "code",
      "source": [
        "repr(b)"
      ],
      "execution_count": null,
      "outputs": [
        {
          "data": {
            "text/plain": [
              "'Attributes: Antifragile, Nassim Taleb, Hardcover, 519'"
            ]
          },
          "metadata": {},
          "output_type": "display_data"
        }
      ],
      "metadata": {
        "id": "_2e7tSs_eoCr",
        "outputId": "5fc60660-da93-41d2-a37d-cda0b0798932"
      }
    },
    {
      "cell_type": "code",
      "source": [
        "eval(repr(b1))"
      ],
      "execution_count": null,
      "outputs": [
        {
          "ename": "SyntaxError",
          "evalue": "SyntaxError: invalid syntax",
          "traceback": [
            "\u001b[0;31m---------------------------------------------------------------------------",
            "Traceback (most recent call last)",
            "SyntaxError: invalid syntax"
          ],
          "output_type": "error"
        }
      ],
      "metadata": {
        "id": "d5k-4FKGeoCr",
        "outputId": "f8c103ae-4ff9-4124-9af6-361de876af87"
      }
    },
    {
      "cell_type": "code",
      "source": [
        "class Book:\n",
        "    def __init__(self, title, author, book_type, pages):\n",
        "        self.title = title\n",
        "        self.author = author\n",
        "        self.book_type = book_type\n",
        "        self.pages = pages\n",
        "\n",
        "    def __repr__(self):\n",
        "        return f\"Book('{self.title}', '{self.author}', '{self.book_type}', {self.pages})\"\n",
        "\n",
        "    # def __str__(self):\n",
        "    #     return f\"{self.title} by {self.author} in {self.book_type}\""
      ],
      "execution_count": null,
      "outputs": [],
      "metadata": {
        "id": "CXgzM-1OeoCr"
      }
    },
    {
      "cell_type": "code",
      "source": [
        "b = Book(\"Antifragile\", \"Nassim Taleb\", \"Hardcover\", 519)"
      ],
      "execution_count": null,
      "outputs": [],
      "metadata": {
        "id": "GltSo_T7eoCs"
      }
    },
    {
      "cell_type": "code",
      "source": [
        "print(b) # normally -> str() -> __str__"
      ],
      "execution_count": null,
      "outputs": [
        {
          "name": "stdout",
          "text": [
            "Book('Antifragile', 'Nassim Taleb', 'Hardcover', 519)\n"
          ],
          "output_type": "stream"
        }
      ],
      "metadata": {
        "id": "KESNHgnkeoCs",
        "outputId": "19433b98-a845-4868-fc25-b2c0e7af5c4a"
      }
    },
    {
      "cell_type": "code",
      "source": [
        "b"
      ],
      "execution_count": null,
      "outputs": [
        {
          "data": {
            "text/plain": [
              "Book('Antifragile', 'Nassim Taleb', 'Hardcover', 519)"
            ]
          },
          "metadata": {},
          "output_type": "display_data"
        }
      ],
      "metadata": {
        "id": "Yz4Mh-zOeoCs",
        "outputId": "58dc8a77-1a65-4182-93a3-15ce11edceac"
      }
    },
    {
      "cell_type": "code",
      "source": [
        "repr(b)"
      ],
      "execution_count": null,
      "outputs": [
        {
          "data": {
            "text/plain": [
              "\"Book('Antifragile', 'Nassim Taleb', 'Hardcover', 519)\""
            ]
          },
          "metadata": {},
          "output_type": "display_data"
        }
      ],
      "metadata": {
        "id": "i0aAQfkOeoCs",
        "outputId": "454bbd6c-dce3-4dc0-9532-92e3ac6bd734"
      }
    },
    {
      "cell_type": "code",
      "source": [
        "eval(repr(b))"
      ],
      "execution_count": null,
      "outputs": [
        {
          "data": {
            "text/plain": [
              "Book('Antifragile', 'Nassim Taleb', 'Hardcover', 519)"
            ]
          },
          "metadata": {},
          "output_type": "display_data"
        }
      ],
      "metadata": {
        "id": "bKr9uoO6eoCs",
        "outputId": "a84da8bd-e241-4a31-c3e7-78c9d8842730"
      }
    },
    {
      "cell_type": "markdown",
      "source": [
        "## `__format__`"
      ],
      "metadata": {
        "id": "JlaiYx8YeoCt"
      }
    },
    {
      "cell_type": "code",
      "source": [
        "class Book:\n",
        "    def __init__(self, title, author, book_type, pages):\n",
        "        self.title = title\n",
        "        self.author = author\n",
        "        self.book_type = book_type\n",
        "        self.pages = pages\n",
        "\n",
        "    def __repr__(self):\n",
        "        return f\"Book('{self.title}', '{self.author}', '{self.book_type}', {self.pages})\"\n",
        "\n",
        "\n",
        "b = Book(\"Antifragile\", \"Nassim Taleb\", \"Hardcover\", 519)"
      ],
      "execution_count": null,
      "outputs": [],
      "metadata": {
        "id": "Jk_ZM8SYeoCt"
      }
    },
    {
      "cell_type": "code",
      "source": [
        "f\"{b}\""
      ],
      "execution_count": null,
      "outputs": [
        {
          "data": {
            "text/plain": [
              "\"Book('Antifragile', 'Nassim Taleb', 'Hardcover', 519)\""
            ]
          },
          "metadata": {},
          "output_type": "display_data"
        }
      ],
      "metadata": {
        "id": "e9wfVXKaeoCt",
        "outputId": "7eccf4cc-5d46-4a59-96d8-449069cf0895"
      }
    },
    {
      "cell_type": "code",
      "source": [
        "f\"{100}\""
      ],
      "execution_count": null,
      "outputs": [
        {
          "data": {
            "text/plain": [
              "'100'"
            ]
          },
          "metadata": {},
          "output_type": "display_data"
        }
      ],
      "metadata": {
        "id": "nwjZ19fveoCt",
        "outputId": "21678f86-a8f2-40c5-cb9e-df030f30ed59"
      }
    },
    {
      "cell_type": "code",
      "source": [
        "f\"{100:.3f}\""
      ],
      "execution_count": null,
      "outputs": [
        {
          "data": {
            "text/plain": [
              "'100.000'"
            ]
          },
          "metadata": {},
          "output_type": "display_data"
        }
      ],
      "metadata": {
        "id": "nP0LffXmeoCt",
        "outputId": "23396bff-8342-4b72-8b41-8889066e1c18"
      }
    },
    {
      "cell_type": "code",
      "source": [
        "format(100, '.3f')"
      ],
      "execution_count": null,
      "outputs": [
        {
          "data": {
            "text/plain": [
              "'100.000'"
            ]
          },
          "metadata": {},
          "output_type": "display_data"
        }
      ],
      "metadata": {
        "id": "Tol8LORueoCt",
        "outputId": "2c237ec8-7e65-4324-e611-8ee8969c8c39"
      }
    },
    {
      "cell_type": "code",
      "source": [
        "\"{:.3f}\".format(100)"
      ],
      "execution_count": null,
      "outputs": [
        {
          "data": {
            "text/plain": [
              "'100.000'"
            ]
          },
          "metadata": {},
          "output_type": "display_data"
        }
      ],
      "metadata": {
        "id": "Es9cvXYHeoCu",
        "outputId": "271c66b2-ae2e-4ae5-ac60-6f4e6366e9ad"
      }
    },
    {
      "cell_type": "code",
      "source": [
        "class Book:\n",
        "    def __init__(self, title, author, book_type, pages):\n",
        "        self.title = title\n",
        "        self.author = author\n",
        "        self.book_type = book_type\n",
        "        self.pages = pages\n",
        "\n",
        "    def __repr__(self):\n",
        "        return f\"Book('{self.title}', '{self.author}', '{self.book_type}', {self.pages})\"\n",
        "\n",
        "    def __format__(self, format_spec):\n",
        "        if format_spec == \"short\":\n",
        "            return f\"{self.title} - {self.author}\"\n",
        "        elif format_spec == \"stealth\":\n",
        "            return f\"A book containing exactly {self.pages}. Guess?\"\n",
        "\n",
        "        return repr(self)\n",
        "\n",
        "\n",
        "b = Book(\"Antifragile\", \"Nassim Taleb\", \"Hardcover\", 519)"
      ],
      "execution_count": null,
      "outputs": [],
      "metadata": {
        "id": "R6OOsojBeoCu"
      }
    },
    {
      "cell_type": "code",
      "source": [
        "f\"{b}\""
      ],
      "execution_count": null,
      "outputs": [
        {
          "data": {
            "text/plain": [
              "\"Book('Antifragile', 'Nassim Taleb', 'Hardcover', 519)\""
            ]
          },
          "metadata": {},
          "output_type": "display_data"
        }
      ],
      "metadata": {
        "id": "SelU-mWoeoCu",
        "outputId": "d8b3195d-c5df-42c3-cfb1-439fb756cf8c"
      }
    },
    {
      "cell_type": "code",
      "source": [
        "f\"{b:short}\""
      ],
      "execution_count": null,
      "outputs": [
        {
          "data": {
            "text/plain": [
              "'Antifragile - Nassim Taleb'"
            ]
          },
          "metadata": {},
          "output_type": "display_data"
        }
      ],
      "metadata": {
        "id": "mlY7KZr7eoCu",
        "outputId": "15ea35c4-b6be-46c3-9ce6-51fc08524f7e"
      }
    },
    {
      "cell_type": "code",
      "source": [
        "f\"{b:stealth}\""
      ],
      "execution_count": null,
      "outputs": [
        {
          "data": {
            "text/plain": [
              "'A book containing exactly 519. Guess?'"
            ]
          },
          "metadata": {},
          "output_type": "display_data"
        }
      ],
      "metadata": {
        "id": "sb3DzCaEeoCu",
        "outputId": "b07847d8-0b26-4c8c-9875-8eabb600b685"
      }
    },
    {
      "cell_type": "code",
      "source": [
        "\"{}\".format(b)"
      ],
      "execution_count": null,
      "outputs": [
        {
          "data": {
            "text/plain": [
              "\"Book('Antifragile', 'Nassim Taleb', 'Hardcover', 519)\""
            ]
          },
          "metadata": {},
          "output_type": "display_data"
        }
      ],
      "metadata": {
        "id": "BVdYIYW6eoCu",
        "outputId": "2575a514-1ac6-4262-c996-26f45f872ad5"
      }
    },
    {
      "cell_type": "code",
      "source": [
        "\"{:short}\".format(b)"
      ],
      "execution_count": null,
      "outputs": [
        {
          "data": {
            "text/plain": [
              "'Antifragile - Nassim Taleb'"
            ]
          },
          "metadata": {},
          "output_type": "display_data"
        }
      ],
      "metadata": {
        "id": "PMhsuK7aeoCv",
        "outputId": "ff2f8292-8949-4d45-e107-efed490e8703"
      }
    },
    {
      "cell_type": "code",
      "source": [
        "\"{:stealth}\".format(b)"
      ],
      "execution_count": null,
      "outputs": [
        {
          "data": {
            "text/plain": [
              "'A book containing exactly 519. Guess?'"
            ]
          },
          "metadata": {},
          "output_type": "display_data"
        }
      ],
      "metadata": {
        "id": "XKjQTHUxeoCv",
        "outputId": "82366331-1a75-4936-c134-c2c58e0cc99a"
      }
    },
    {
      "cell_type": "code",
      "source": [
        "format(b, \"stealth\")"
      ],
      "execution_count": null,
      "outputs": [
        {
          "data": {
            "text/plain": [
              "'A book containing exactly 519. Guess?'"
            ]
          },
          "metadata": {},
          "output_type": "display_data"
        }
      ],
      "metadata": {
        "id": "qOFX31zXeoCv",
        "outputId": "43f0f0c9-1474-49fe-8047-e478f2474050"
      }
    },
    {
      "cell_type": "markdown",
      "source": [
        "## `Object Equality`"
      ],
      "metadata": {
        "id": "AsTBixbNeoCv"
      }
    },
    {
      "cell_type": "code",
      "source": [
        "class Book:\n",
        "    def __init__(self, title, author, book_type, pages):\n",
        "        self.title = title\n",
        "        self.author = author\n",
        "        self.book_type = book_type\n",
        "        self.pages = pages\n",
        "\n",
        "    def __repr__(self):\n",
        "        return f\"Book('{self.title}', '{self.author}', '{self.book_type}', {self.pages})\"\n",
        "\n",
        "    def __eq__(self, other):\n",
        "        if not isinstance(other, Book):\n",
        "            return False\n",
        "\n",
        "        return self.title == other.title and self.author == other.author"
      ],
      "execution_count": null,
      "outputs": [],
      "metadata": {
        "id": "b-zXkknoeoCv"
      }
    },
    {
      "cell_type": "code",
      "source": [
        "from collections import namedtuple"
      ],
      "execution_count": null,
      "outputs": [],
      "metadata": {
        "id": "FHzw8hPseoCv"
      }
    },
    {
      "cell_type": "code",
      "source": [
        "essay = namedtuple(\"essay\", [\"title\", \"author\"])"
      ],
      "execution_count": null,
      "outputs": [],
      "metadata": {
        "id": "yZYPfTsseoCw"
      }
    },
    {
      "cell_type": "code",
      "source": [
        "e = essay(\"Antifragile\", \"Nassim Taleb\")"
      ],
      "execution_count": null,
      "outputs": [],
      "metadata": {
        "id": "B3qfcmVpeoCw"
      }
    },
    {
      "cell_type": "code",
      "source": [
        "e.title"
      ],
      "execution_count": null,
      "outputs": [
        {
          "data": {
            "text/plain": [
              "'Antifragile'"
            ]
          },
          "metadata": {},
          "output_type": "display_data"
        }
      ],
      "metadata": {
        "id": "joS9clg2eoCw",
        "outputId": "e155b7a0-cecb-45f0-b332-c1b2176b28b7"
      }
    },
    {
      "cell_type": "code",
      "source": [
        "e.author"
      ],
      "execution_count": null,
      "outputs": [
        {
          "data": {
            "text/plain": [
              "'Nassim Taleb'"
            ]
          },
          "metadata": {},
          "output_type": "display_data"
        }
      ],
      "metadata": {
        "id": "1KmjtlDceoCw",
        "outputId": "ccd2abd7-6af0-4afb-ccb9-9ed249cbfe0e"
      }
    },
    {
      "cell_type": "code",
      "source": [
        "b.author"
      ],
      "execution_count": null,
      "outputs": [
        {
          "data": {
            "text/plain": [
              "'Nassim Taleb'"
            ]
          },
          "metadata": {},
          "output_type": "display_data"
        }
      ],
      "metadata": {
        "id": "jmIHhiF3eoCw",
        "outputId": "4944e347-09ad-428d-c95a-8e734f96a9ba"
      }
    },
    {
      "cell_type": "code",
      "source": [
        "b.title"
      ],
      "execution_count": null,
      "outputs": [
        {
          "data": {
            "text/plain": [
              "'Antifragile'"
            ]
          },
          "metadata": {},
          "output_type": "display_data"
        }
      ],
      "metadata": {
        "id": "TZ_ld-QueoCx",
        "outputId": "2725f432-1433-4b9d-936c-6041f8565105"
      }
    },
    {
      "cell_type": "code",
      "source": [
        "e = essay(\"Antifragile\", \"Nassim Taleb\")\n",
        "b = Book(\"Antifragile\", \"Nassim Taleb\", \"Hardcover\", 519)"
      ],
      "execution_count": null,
      "outputs": [],
      "metadata": {
        "id": "ZBtYDBOueoCx"
      }
    },
    {
      "cell_type": "code",
      "source": [
        "e == b"
      ],
      "execution_count": null,
      "outputs": [
        {
          "data": {
            "text/plain": [
              "True"
            ]
          },
          "metadata": {},
          "output_type": "display_data"
        }
      ],
      "metadata": {
        "id": "qG8QRO9peoCx",
        "outputId": "b5013008-22bd-42d5-833e-2c740fcb1d09"
      }
    },
    {
      "cell_type": "code",
      "source": [
        "b = Book(\"Antifragile\", \"Nassim Taleb\", \"Hardcover\", 519)\n",
        "b2 = Book(\"Antifragile\", \"Nassim Taleb II\", \"Hardcover\", 519)"
      ],
      "execution_count": null,
      "outputs": [],
      "metadata": {
        "id": "5_w3557-eoCx"
      }
    },
    {
      "cell_type": "code",
      "source": [
        "b == b2"
      ],
      "execution_count": null,
      "outputs": [
        {
          "data": {
            "text/plain": [
              "False"
            ]
          },
          "metadata": {},
          "output_type": "display_data"
        }
      ],
      "metadata": {
        "id": "b18loUHHeoCx",
        "outputId": "0d5da91a-3ade-491a-8b9b-5e7350e145aa"
      }
    },
    {
      "cell_type": "code",
      "source": [
        "id(b)"
      ],
      "execution_count": null,
      "outputs": [
        {
          "data": {
            "text/plain": [
              "140506965153728"
            ]
          },
          "metadata": {},
          "output_type": "display_data"
        }
      ],
      "metadata": {
        "id": "4MzpyVYIeoCy",
        "outputId": "0c78452b-ddab-47d1-8c14-b84b50c93d54"
      }
    },
    {
      "cell_type": "code",
      "source": [
        "id(b2)"
      ],
      "execution_count": null,
      "outputs": [
        {
          "data": {
            "text/plain": [
              "140506965153152"
            ]
          },
          "metadata": {},
          "output_type": "display_data"
        }
      ],
      "metadata": {
        "id": "XD1wE9-XeoCy",
        "outputId": "7102db56-fd66-485a-8997-c0dee181932a"
      }
    },
    {
      "cell_type": "markdown",
      "source": [
        "## `BONUS: Non-Equality`"
      ],
      "metadata": {
        "id": "tDByz96aeoCy"
      }
    },
    {
      "cell_type": "code",
      "source": [
        "class Book:\n",
        "    def __init__(self, title, author, book_type, pages):\n",
        "        self.title = title\n",
        "        self.author = author\n",
        "        self.book_type = book_type\n",
        "        self.pages = pages\n",
        "\n",
        "    def __repr__(self):\n",
        "        return f\"Book('{self.title}', '{self.author}', '{self.book_type}', {self.pages})\"\n",
        "\n",
        "    def __eq__(self, other):\n",
        "        if not isinstance(other, Book):\n",
        "            return False\n",
        "\n",
        "        return self.title == other.title and self.author == other.author\n",
        "\n",
        "    def __ne__(self, other):\n",
        "        print(\"Comparing non-equality...\")\n",
        "\n",
        "        if not isinstance(other, Book):\n",
        "            return False\n",
        "\n",
        "        return self.title != other.title and self.author != other.author"
      ],
      "execution_count": null,
      "outputs": [],
      "metadata": {
        "id": "0SmNPidreoCy"
      }
    },
    {
      "cell_type": "code",
      "source": [
        "b   = Book(\"Antifragile\", \"Nassim Taleb\", \"Hardcover\", 519)\n",
        "b2  = Book(\"Antifragile\", \"Nassim Taleb\", \"Hardcover\", 519)"
      ],
      "execution_count": null,
      "outputs": [],
      "metadata": {
        "id": "IyJjodsBeoCy"
      }
    },
    {
      "cell_type": "code",
      "source": [
        "b == b2"
      ],
      "execution_count": null,
      "outputs": [
        {
          "data": {
            "text/plain": [
              "True"
            ]
          },
          "metadata": {},
          "output_type": "display_data"
        }
      ],
      "metadata": {
        "id": "ip3kXyDGeoCy",
        "outputId": "b5aa39fd-ea61-4a10-c7ba-0ca2182d8bcb"
      }
    },
    {
      "cell_type": "code",
      "source": [
        "b != b2"
      ],
      "execution_count": null,
      "outputs": [
        {
          "name": "stdout",
          "text": [
            "Comparing non-equality...\n"
          ],
          "output_type": "stream"
        },
        {
          "data": {
            "text/plain": [
              "False"
            ]
          },
          "metadata": {},
          "output_type": "display_data"
        }
      ],
      "metadata": {
        "id": "ToKyUG17eoCz",
        "outputId": "45a2938b-ad2e-4cab-aa9e-5cfe18082496"
      }
    },
    {
      "cell_type": "code",
      "source": [
        "# inhertiance of built-ins"
      ],
      "execution_count": null,
      "outputs": [],
      "metadata": {
        "id": "15kg_S10eoCz"
      }
    },
    {
      "cell_type": "markdown",
      "source": [
        "## `Hashing and Mutability`"
      ],
      "metadata": {
        "id": "B9d5-TK1eoCz"
      }
    },
    {
      "cell_type": "code",
      "source": [
        "# unhashable type!"
      ],
      "execution_count": null,
      "outputs": [],
      "metadata": {
        "id": "_khfZne5eoCz"
      }
    },
    {
      "cell_type": "code",
      "source": [
        "l = [\"Andy\", 7]"
      ],
      "execution_count": null,
      "outputs": [],
      "metadata": {
        "id": "CmWZ2HKPeoCz"
      }
    },
    {
      "cell_type": "code",
      "source": [
        "{\n",
        "    l: \"Bek\"\n",
        "}"
      ],
      "execution_count": null,
      "outputs": [
        {
          "ename": "TypeError",
          "evalue": "TypeError: unhashable type: 'list'",
          "traceback": [
            "\u001b[0;31m---------------------------------------------------------------------------",
            "Traceback (most recent call last)",
            "    at line 1 in <module>",
            "TypeError: unhashable type: 'list'"
          ],
          "output_type": "error"
        }
      ],
      "metadata": {
        "id": "kOnCLzI0eoCz",
        "outputId": "ef667430-e140-4c44-83e8-fe21011dfb73"
      }
    },
    {
      "cell_type": "code",
      "source": [
        "hash(l)"
      ],
      "execution_count": null,
      "outputs": [
        {
          "ename": "TypeError",
          "evalue": "TypeError: unhashable type: 'list'",
          "traceback": [
            "\u001b[0;31m---------------------------------------------------------------------------",
            "Traceback (most recent call last)",
            "    at line 1 in <module>",
            "TypeError: unhashable type: 'list'"
          ],
          "output_type": "error"
        }
      ],
      "metadata": {
        "id": "GUpyu-cLeoCz",
        "outputId": "497f32ab-da76-409a-b8bf-3ecc375d4d7a"
      }
    },
    {
      "cell_type": "code",
      "source": [
        "name_str = \"Andy\"\n",
        "num_int = 7\n",
        "both_tuple = (name_str, num_int)"
      ],
      "execution_count": null,
      "outputs": [],
      "metadata": {
        "id": "PaIiOtHxeoC0"
      }
    },
    {
      "cell_type": "code",
      "source": [
        "hash(name_str), hash(num_int), hash(both_tuple)"
      ],
      "execution_count": null,
      "outputs": [
        {
          "data": {
            "text/plain": [
              "(-1193955242656165984, 7, 656105283672789536)"
            ]
          },
          "metadata": {},
          "output_type": "display_data"
        }
      ],
      "metadata": {
        "id": "zOwiQ6MZeoC0",
        "outputId": "d7c4130a-1138-49b3-fe2b-b273f87a24be"
      }
    },
    {
      "cell_type": "code",
      "source": [
        "# Hashable object\n",
        "# * could be compared to other objects,\n",
        "# * if it compares equal, shares the same hash with the other object\n",
        "# * hash a hash value that never changes over its life"
      ],
      "execution_count": null,
      "outputs": [],
      "metadata": {
        "id": "RjT-E2H3eoC0"
      }
    },
    {
      "cell_type": "code",
      "source": [
        "id(name_str)"
      ],
      "execution_count": null,
      "outputs": [
        {
          "data": {
            "text/plain": [
              "140680400144368"
            ]
          },
          "metadata": {},
          "output_type": "display_data"
        }
      ],
      "metadata": {
        "id": "HuBgAQ4KeoC0",
        "outputId": "bd37d0ab-b89c-4bfe-b380-e7fcfb636487"
      }
    },
    {
      "cell_type": "code",
      "source": [
        "name_str = \"Andy B\""
      ],
      "execution_count": null,
      "outputs": [],
      "metadata": {
        "id": "y-3vQyczeoC0"
      }
    },
    {
      "cell_type": "code",
      "source": [
        "id(name_str)"
      ],
      "execution_count": null,
      "outputs": [
        {
          "data": {
            "text/plain": [
              "140680406804464"
            ]
          },
          "metadata": {},
          "output_type": "display_data"
        }
      ],
      "metadata": {
        "id": "Du8P0-DaeoC0",
        "outputId": "1aa5c66e-624d-42e6-e9db-a822e9a03502"
      }
    },
    {
      "cell_type": "code",
      "source": [
        "# GC -> garbage collector"
      ],
      "execution_count": null,
      "outputs": [],
      "metadata": {
        "id": "LFfHwnTAeoC1"
      }
    },
    {
      "cell_type": "markdown",
      "source": [
        "## `Hashable Book`"
      ],
      "metadata": {
        "id": "X6_NkqIheoC1"
      }
    },
    {
      "cell_type": "code",
      "source": [
        "class Book:\n",
        "    def __init__(self, title, author, book_type, pages):\n",
        "        self.title = title\n",
        "        self.author = author\n",
        "        self.book_type = book_type\n",
        "        self.pages = pages\n",
        "\n",
        "    def __repr__(self):\n",
        "        return f\"Book('{self.title}', '{self.author}', '{self.book_type}', {self.pages})\"\n",
        "\n",
        "    def __eq__(self, other):\n",
        "        if not isinstance(other, Book):\n",
        "            return False\n",
        "\n",
        "        return self.title == other.title and self.author == other.author\n",
        "\n",
        "    def __hash__(self):\n",
        "        return hash((self.title, self.author))"
      ],
      "execution_count": null,
      "outputs": [],
      "metadata": {
        "id": "4U7oQngieoC1"
      }
    },
    {
      "cell_type": "code",
      "source": [
        "b = Book(\"Antifragile\", \"Nassim Taleb\", \"Hardcover\", 519)\n",
        "b2 = Book(\"Antifragile\", \"Nassim Taleb II\", \"Hardcover\", 519)\n",
        "b3 = Book(\"Antifragile\", \"Nassim Taleb\", \"Hardcover\", 519)"
      ],
      "execution_count": null,
      "outputs": [],
      "metadata": {
        "id": "4eYFJSz2eoC1"
      }
    },
    {
      "cell_type": "code",
      "source": [
        "hash(b) == hash(b3)"
      ],
      "execution_count": null,
      "outputs": [
        {
          "data": {
            "text/plain": [
              "True"
            ]
          },
          "metadata": {},
          "output_type": "display_data"
        }
      ],
      "metadata": {
        "id": "WwubpWX1eoC1",
        "outputId": "12b2ba4d-4f34-468f-a270-724df140de38"
      }
    },
    {
      "cell_type": "code",
      "source": [
        "hash(b), hash(b3)"
      ],
      "execution_count": null,
      "outputs": [
        {
          "data": {
            "text/plain": [
              "(3056053031767595009, 3056053031767595009)"
            ]
          },
          "metadata": {},
          "output_type": "display_data"
        }
      ],
      "metadata": {
        "id": "e0fIx0OneoC1",
        "outputId": "966d1cee-a6b6-4d78-81ad-5a98499a2c4e"
      }
    },
    {
      "cell_type": "code",
      "source": [
        "hash(b) == hash(b2)"
      ],
      "execution_count": null,
      "outputs": [
        {
          "data": {
            "text/plain": [
              "False"
            ]
          },
          "metadata": {},
          "output_type": "display_data"
        }
      ],
      "metadata": {
        "id": "YnqBkliyeoC2",
        "outputId": "d49babd1-12d4-4784-9e9f-3f0614e32567"
      }
    },
    {
      "cell_type": "code",
      "source": [
        "class Magazine:\n",
        "    pass"
      ],
      "execution_count": null,
      "outputs": [],
      "metadata": {
        "id": "KKS_4kPzeoC2"
      }
    },
    {
      "cell_type": "code",
      "source": [
        "m = Magazine()"
      ],
      "execution_count": null,
      "outputs": [],
      "metadata": {
        "id": "iPQDCHp6eoC2"
      }
    },
    {
      "cell_type": "code",
      "source": [
        "hash(m)"
      ],
      "execution_count": null,
      "outputs": [
        {
          "data": {
            "text/plain": [
              "8792525495962"
            ]
          },
          "metadata": {},
          "output_type": "display_data"
        }
      ],
      "metadata": {
        "id": "JLyUbrGEeoC2",
        "outputId": "21a24c8d-ae41-4ba2-b0bc-39115f634efa"
      }
    },
    {
      "cell_type": "markdown",
      "source": [
        "## `BONUS: Hashing Gotcha`"
      ],
      "metadata": {
        "id": "NgrGIvKpeoC2"
      }
    },
    {
      "cell_type": "code",
      "source": [
        "# - has a hash value that never changes over its life\n",
        "# - could be compared to other objects, and\n",
        "# - if it compares equal, shares the same hash with the other object"
      ],
      "execution_count": null,
      "outputs": [],
      "metadata": {
        "id": "eCz-ke_keoC2"
      }
    },
    {
      "cell_type": "code",
      "source": [
        "b = Book(\"Antifragile\", \"Nassim Taleb\", \"Hardcover\", 519)"
      ],
      "execution_count": null,
      "outputs": [],
      "metadata": {
        "id": "yLnbP-LzeoC3"
      }
    },
    {
      "cell_type": "code",
      "source": [
        "hash(b)"
      ],
      "execution_count": null,
      "outputs": [
        {
          "data": {
            "text/plain": [
              "3056053031767595009"
            ]
          },
          "metadata": {},
          "output_type": "display_data"
        }
      ],
      "metadata": {
        "id": "_nglXm7reoC3",
        "outputId": "ab31e9d6-7e50-4563-91f6-688904237fdd"
      }
    },
    {
      "cell_type": "code",
      "source": [
        "b.author = \"Andy\""
      ],
      "execution_count": null,
      "outputs": [],
      "metadata": {
        "id": "wBApubI_eoC3"
      }
    },
    {
      "cell_type": "code",
      "source": [
        "hash(b)"
      ],
      "execution_count": null,
      "outputs": [
        {
          "data": {
            "text/plain": [
              "-5960555659465603820"
            ]
          },
          "metadata": {},
          "output_type": "display_data"
        }
      ],
      "metadata": {
        "id": "uVe2s962eoC3",
        "outputId": "e63f5225-f2d7-4921-93c6-bf644c23eed9"
      }
    },
    {
      "cell_type": "code",
      "source": [
        "# __hash__ -> hash(tuple(self.author, self.title))"
      ],
      "execution_count": null,
      "outputs": [],
      "metadata": {
        "id": "ZB3RA1SEeoC3"
      }
    },
    {
      "cell_type": "code",
      "source": [
        "d = {}"
      ],
      "execution_count": null,
      "outputs": [],
      "metadata": {
        "id": "b1YECqFHeoC4"
      }
    },
    {
      "cell_type": "code",
      "source": [
        "d[b] = \"value\""
      ],
      "execution_count": null,
      "outputs": [],
      "metadata": {
        "id": "2pxRcJ0AeoC4"
      }
    },
    {
      "cell_type": "code",
      "source": [
        "b in d"
      ],
      "execution_count": null,
      "outputs": [
        {
          "data": {
            "text/plain": [
              "True"
            ]
          },
          "metadata": {},
          "output_type": "display_data"
        }
      ],
      "metadata": {
        "id": "GwASWmhzeoC4",
        "outputId": "dd604e68-d641-45f3-ef18-2636c9714419"
      }
    },
    {
      "cell_type": "code",
      "source": [
        "b.title = \"Untitled\""
      ],
      "execution_count": null,
      "outputs": [],
      "metadata": {
        "id": "GL19TWhdeoC4"
      }
    },
    {
      "cell_type": "code",
      "source": [
        "b in d"
      ],
      "execution_count": null,
      "outputs": [
        {
          "data": {
            "text/plain": [
              "False"
            ]
          },
          "metadata": {},
          "output_type": "display_data"
        }
      ],
      "metadata": {
        "id": "MtQ8mOYQeoC4",
        "outputId": "95e71ce2-3d8f-4cdc-ddd5-85c446ebf010"
      }
    },
    {
      "cell_type": "markdown",
      "source": [
        "## `Other Rich Comparisons`"
      ],
      "metadata": {
        "id": "kG50VD5ZeoC4"
      }
    },
    {
      "cell_type": "code",
      "source": [
        "class Book:\n",
        "    def __init__(self, title, author, book_type, pages):\n",
        "        self.title = title\n",
        "        self.author = author\n",
        "        self.book_type = book_type\n",
        "        self.pages = pages\n",
        "\n",
        "    def __repr__(self):\n",
        "        return f\"Book('{self.title}', '{self.author}', '{self.book_type}', {self.pages})\"\n",
        "\n",
        "    def __eq__(self, other):\n",
        "        if not isinstance(other, Book):\n",
        "            return False\n",
        "\n",
        "        return self.title == other.title and self.author == other.author\n",
        "\n",
        "    def __gt__(self, other):\n",
        "        if not isinstance(other, Book):\n",
        "            return NotImplemented\n",
        "\n",
        "        return self.pages > other.pages\n",
        "\n",
        "    def __lt__(self, other):\n",
        "        return NotImplemented\n",
        "\n",
        "    def __le__(self, other):\n",
        "        return self.pages <= other.pages\n",
        "\n",
        "    def __ge__(self, other):\n",
        "        return NotImplemented\n",
        "\n",
        "    def __hash__(self):\n",
        "        return hash((self.title, self.author))"
      ],
      "execution_count": null,
      "outputs": [],
      "metadata": {
        "id": "HRpHeOSZeoC5"
      }
    },
    {
      "cell_type": "code",
      "source": [
        "b = Book(\"Antifragile\", \"Nassim Taleb\", \"Hardcover\", 519)\n",
        "\n",
        "b1 = Book(\"How Asia Works\", \"Joe Studwell\", \"Paperback\", 472)"
      ],
      "execution_count": null,
      "outputs": [],
      "metadata": {
        "id": "i1ATlBE_eoC5"
      }
    },
    {
      "cell_type": "code",
      "source": [
        "b >= b1"
      ],
      "execution_count": null,
      "outputs": [
        {
          "data": {
            "text/plain": [
              "True"
            ]
          },
          "metadata": {},
          "output_type": "display_data"
        }
      ],
      "metadata": {
        "id": "mK1WtZxkeoC5",
        "outputId": "998ff2ee-5e91-4926-8774-dfcd299a4e3e"
      }
    },
    {
      "cell_type": "code",
      "source": [
        "b <= b1"
      ],
      "execution_count": null,
      "outputs": [
        {
          "data": {
            "text/plain": [
              "False"
            ]
          },
          "metadata": {},
          "output_type": "display_data"
        }
      ],
      "metadata": {
        "id": "e5Wm_nzIeoC5",
        "outputId": "dbc9325d-988a-4671-f8fe-ecfa87b14228"
      }
    },
    {
      "cell_type": "code",
      "source": [
        "b > b1"
      ],
      "execution_count": null,
      "outputs": [
        {
          "data": {
            "text/plain": [
              "True"
            ]
          },
          "metadata": {},
          "output_type": "display_data"
        }
      ],
      "metadata": {
        "id": "0To1aw2eeoC5",
        "outputId": "757c2e36-681b-4433-b90f-ff51d670d182"
      }
    },
    {
      "cell_type": "code",
      "source": [
        "b < b1"
      ],
      "execution_count": null,
      "outputs": [
        {
          "data": {
            "text/plain": [
              "False"
            ]
          },
          "metadata": {},
          "output_type": "display_data"
        }
      ],
      "metadata": {
        "id": "ZKbVXUMfeoC5",
        "outputId": "75a693ae-1518-4efd-a07d-241f1f5e8826"
      }
    },
    {
      "cell_type": "code",
      "source": [
        "b1 > b"
      ],
      "execution_count": null,
      "outputs": [
        {
          "data": {
            "text/plain": [
              "False"
            ]
          },
          "metadata": {},
          "output_type": "display_data"
        }
      ],
      "metadata": {
        "id": "dkO33ZaJeoC6",
        "outputId": "23851d1e-1fe8-4b15-f8f2-127af07d617b"
      }
    },
    {
      "cell_type": "markdown",
      "source": [
        "## `A Better Way`"
      ],
      "metadata": {
        "id": "541fK2EKeoC6"
      }
    },
    {
      "cell_type": "code",
      "source": [
        "from functools import total_ordering"
      ],
      "execution_count": null,
      "outputs": [],
      "metadata": {
        "id": "cVJkd5cVeoC6"
      }
    },
    {
      "cell_type": "code",
      "source": [
        "@total_ordering\n",
        "class Book:\n",
        "    def __init__(self, title, author, book_type, pages):\n",
        "        self.title = title\n",
        "        self.author = author\n",
        "        self.book_type = book_type\n",
        "        self.pages = pages\n",
        "\n",
        "    def __repr__(self):\n",
        "        return f\"Book('{self.title}', '{self.author}', '{self.book_type}', {self.pages})\"\n",
        "\n",
        "    def __eq__(self, other):\n",
        "        if not isinstance(other, Book):\n",
        "            return False\n",
        "\n",
        "        return self.title == other.title and self.author == other.author\n",
        "\n",
        "    def __gt__(self, other):\n",
        "        if not isinstance(other, Book):\n",
        "            return NotImplemented\n",
        "\n",
        "        return self.pages > other.pages\n",
        "\n",
        "    def __hash__(self):\n",
        "        return hash((self.title, self.author))"
      ],
      "execution_count": null,
      "outputs": [],
      "metadata": {
        "id": "Q7dloYD-eoC6"
      }
    },
    {
      "cell_type": "code",
      "source": [
        "b = Book(\"Antifragile\", \"Nassim Taleb\", \"Hardcover\", 519)\n",
        "\n",
        "b1 = Book(\"How Asia Works\", \"Joe Studwell\", \"Paperback\", 472)"
      ],
      "execution_count": null,
      "outputs": [],
      "metadata": {
        "id": "dK1FDNHaeoC6"
      }
    },
    {
      "cell_type": "code",
      "source": [
        "print(b == b1)\n",
        "print(b != b1)\n",
        "print(b < b1)\n",
        "print(b <= b1)\n",
        "print(b > b1)\n",
        "print(b >= b1)"
      ],
      "execution_count": null,
      "outputs": [
        {
          "name": "stdout",
          "text": [
            "False\n",
            "True\n",
            "False\n",
            "False\n",
            "True\n",
            "True\n"
          ],
          "output_type": "stream"
        }
      ],
      "metadata": {
        "id": "C_OCtqheeoC6",
        "outputId": "223b1096-f1f5-48b3-9fbb-f496536480d5"
      }
    },
    {
      "cell_type": "code",
      "source": [
        "b = Book(\"Antifragile\", \"Nassim Taleb\", \"Hardcover\", 519)\n",
        "\n",
        "b1 = Book(\"How Asia Works\", \"Joe Studwell\", \"Paperback\", 472)"
      ],
      "execution_count": null,
      "outputs": [],
      "metadata": {
        "id": "qMobhNkLeoC7"
      }
    },
    {
      "cell_type": "code",
      "source": [
        "b < b1"
      ],
      "execution_count": null,
      "outputs": [
        {
          "data": {
            "text/plain": [
              "True"
            ]
          },
          "metadata": {},
          "output_type": "display_data"
        }
      ],
      "metadata": {
        "id": "5Wt40GiVeoC7",
        "outputId": "12f69572-fc96-48c5-b165-e6a4af9f5550"
      }
    },
    {
      "cell_type": "code",
      "source": [
        "b > b1"
      ],
      "execution_count": null,
      "outputs": [
        {
          "data": {
            "text/plain": [
              "True"
            ]
          },
          "metadata": {},
          "output_type": "display_data"
        }
      ],
      "metadata": {
        "id": "bg5Y6vv9eoC7",
        "outputId": "7bf1ffbf-92ff-43dd-940f-82e9d47ec748"
      }
    },
    {
      "cell_type": "markdown",
      "source": [
        "## `Truthiness`"
      ],
      "metadata": {
        "id": "HWSETlP_eoC7"
      }
    },
    {
      "cell_type": "code",
      "source": [
        "from functools import total_ordering\n",
        "\n",
        "\n",
        "@total_ordering\n",
        "class Book:\n",
        "    def __init__(self, title, author, book_type, pages):\n",
        "        self.title = title\n",
        "        self.author = author\n",
        "        self.book_type = book_type\n",
        "        self.pages = pages\n",
        "\n",
        "    def __repr__(self):\n",
        "        return f\"Book('{self.title}', '{self.author}', '{self.book_type}', {self.pages})\"\n",
        "\n",
        "    def __eq__(self, other):\n",
        "        if not isinstance(other, Book):\n",
        "            return False\n",
        "\n",
        "        return self.title == other.title and self.author == other.author\n",
        "\n",
        "    def __gt__(self, other):\n",
        "        if not isinstance(other, Book):\n",
        "            return NotImplemented\n",
        "\n",
        "        return self.pages > other.pages\n",
        "\n",
        "    def __hash__(self):\n",
        "        return hash((self.title, self.author))\n",
        "\n",
        "    def __bool__(self):\n",
        "        return bool(self.pages) and not (self.pages < 1)"
      ],
      "execution_count": null,
      "outputs": [],
      "metadata": {
        "id": "qAqZw3oVeoC7"
      }
    },
    {
      "cell_type": "code",
      "source": [
        "b   = Book(\"Antifragile\", \"Nassim Taleb\", \"Hardcover\", 519)"
      ],
      "execution_count": null,
      "outputs": [],
      "metadata": {
        "id": "8TapEOyAeoC7"
      }
    },
    {
      "cell_type": "code",
      "source": [
        "if b:\n",
        "    print(\"Truthy\")\n",
        "else:\n",
        "    print(\"Falsey\")"
      ],
      "execution_count": null,
      "outputs": [
        {
          "name": "stdout",
          "text": [
            "Truthy\n"
          ],
          "output_type": "stream"
        }
      ],
      "metadata": {
        "id": "D99gEnQ7eoC8",
        "outputId": "c78ce645-f1db-4bb4-bdf0-12cc8ac038f4"
      }
    },
    {
      "cell_type": "code",
      "source": [
        "bool(b)"
      ],
      "execution_count": null,
      "outputs": [
        {
          "data": {
            "text/plain": [
              "True"
            ]
          },
          "metadata": {},
          "output_type": "display_data"
        }
      ],
      "metadata": {
        "id": "xNoIv7YheoC8",
        "outputId": "59036c49-0af3-43ab-ec26-86b5d0eaa3df"
      }
    },
    {
      "cell_type": "code",
      "source": [
        "bool(0)"
      ],
      "execution_count": null,
      "outputs": [
        {
          "data": {
            "text/plain": [
              "False"
            ]
          },
          "metadata": {},
          "output_type": "display_data"
        }
      ],
      "metadata": {
        "id": "PDCtmEZjeoC8",
        "outputId": "2763ca4f-476c-4a93-c247-dccb749369a6"
      }
    },
    {
      "cell_type": "code",
      "source": [
        "bool([]), bool(None), bool({}), bool(set()), bool('')"
      ],
      "execution_count": null,
      "outputs": [
        {
          "data": {
            "text/plain": [
              "(False, False, False, False, False)"
            ]
          },
          "metadata": {},
          "output_type": "display_data"
        }
      ],
      "metadata": {
        "id": "2kardN9deoC8",
        "outputId": "f9fd415d-f6ec-42e3-bd15-24c8c4581221"
      }
    },
    {
      "cell_type": "code",
      "source": [
        "b_zero   = Book(\"Antifragile\", \"Nassim Taleb\", \"Hardcover\", 0)\n",
        "b_neg   = Book(\"Antifragile\", \"Nassim Taleb\", \"Hardcover\", -10)\n",
        "b_pos   = Book(\"Antifragile\", \"Nassim Taleb\", \"Hardcover\", 519)"
      ],
      "execution_count": null,
      "outputs": [],
      "metadata": {
        "id": "9c7lnC5BeoC8"
      }
    },
    {
      "cell_type": "code",
      "source": [
        "bool(b_zero), bool(b_neg), bool(b_pos)"
      ],
      "execution_count": null,
      "outputs": [
        {
          "data": {
            "text/plain": [
              "(False, False, True)"
            ]
          },
          "metadata": {},
          "output_type": "display_data"
        }
      ],
      "metadata": {
        "id": "UtwtcP6ceoC8",
        "outputId": "47b65beb-4e56-4746-d9ec-5c562a4aafd0"
      }
    },
    {
      "cell_type": "markdown",
      "source": [
        "## `BONUS: Truth Value Testing Via __len__`"
      ],
      "metadata": {
        "id": "eZSkNefeeoC9"
      }
    },
    {
      "cell_type": "code",
      "source": [
        "from functools import total_ordering\n",
        "\n",
        "\n",
        "@total_ordering\n",
        "class Book:\n",
        "    def __init__(self, title, author, book_type, pages):\n",
        "        self.title = title\n",
        "        self.author = author\n",
        "        self.book_type = book_type\n",
        "        self.pages = pages\n",
        "\n",
        "    def __repr__(self):\n",
        "        return f\"Book('{self.title}', '{self.author}', '{self.book_type}', {self.pages})\"\n",
        "\n",
        "    def __eq__(self, other):\n",
        "        if not isinstance(other, Book):\n",
        "            return False\n",
        "\n",
        "        return self.title == other.title and self.author == other.author\n",
        "\n",
        "    def __gt__(self, other):\n",
        "        if not isinstance(other, Book):\n",
        "            return NotImplemented\n",
        "\n",
        "        return self.pages > other.pages\n",
        "\n",
        "    def __hash__(self):\n",
        "        return hash((self.title, self.author))\n",
        "\n",
        "    # def __bool__(self):\n",
        "    #     return bool(self.pages) and not (self.pages < 1)\n",
        "\n",
        "    def __len__(self):\n",
        "        return self.pages if self.pages > 0 else 0"
      ],
      "execution_count": null,
      "outputs": [],
      "metadata": {
        "id": "dUm0uBtaeoC9"
      }
    },
    {
      "cell_type": "code",
      "source": [
        "b_zero   = Book(\"Antifragile\", \"Nassim Taleb\", \"Hardcover\", 0)\n",
        "b_neg   = Book(\"Antifragile\", \"Nassim Taleb\", \"Hardcover\", -10)\n",
        "b_pos   = Book(\"Antifragile\", \"Nassim Taleb\", \"Hardcover\", 519)"
      ],
      "execution_count": null,
      "outputs": [],
      "metadata": {
        "id": "Jr6RgFGEeoC9"
      }
    },
    {
      "cell_type": "code",
      "source": [
        "len(b_neg)"
      ],
      "execution_count": null,
      "outputs": [
        {
          "data": {
            "text/plain": [
              "0"
            ]
          },
          "metadata": {},
          "output_type": "display_data"
        }
      ],
      "metadata": {
        "id": "t8TE2Ad8eoC9",
        "outputId": "ec59aaca-6eb6-40cb-b7d0-93d7d4af9cb3"
      }
    },
    {
      "cell_type": "code",
      "source": [
        "import sys"
      ],
      "execution_count": null,
      "outputs": [],
      "metadata": {
        "id": "pvuYyumzeoC9"
      }
    },
    {
      "cell_type": "code",
      "source": [
        "sys.maxsize"
      ],
      "execution_count": null,
      "outputs": [
        {
          "data": {
            "text/plain": [
              "9223372036854775807"
            ]
          },
          "metadata": {},
          "output_type": "display_data"
        }
      ],
      "metadata": {
        "id": "T-Mk71FMeoC-",
        "outputId": "b1c2eb6b-490b-4200-fe7c-2fab4869ac91"
      }
    },
    {
      "cell_type": "code",
      "source": [
        "# OverflowError"
      ],
      "execution_count": null,
      "outputs": [],
      "metadata": {
        "id": "e42iwwkbeoC-"
      }
    },
    {
      "cell_type": "code",
      "source": [
        "len(b_zero)"
      ],
      "execution_count": null,
      "outputs": [
        {
          "data": {
            "text/plain": [
              "0"
            ]
          },
          "metadata": {},
          "output_type": "display_data"
        }
      ],
      "metadata": {
        "id": "cRQYpB3aeoC-",
        "outputId": "766c00c5-bae0-414d-9356-2a1f256592a0"
      }
    },
    {
      "cell_type": "code",
      "source": [
        "bool(b_zero)"
      ],
      "execution_count": null,
      "outputs": [
        {
          "data": {
            "text/plain": [
              "False"
            ]
          },
          "metadata": {},
          "output_type": "display_data"
        }
      ],
      "metadata": {
        "id": "8BX-lBc4eoC-",
        "outputId": "9b1e3d0c-29e1-4143-e0ea-078eabe8dd09"
      }
    },
    {
      "cell_type": "markdown",
      "source": [
        "## `Container Classes`"
      ],
      "metadata": {
        "id": "f71NQm38eoC-"
      }
    },
    {
      "cell_type": "code",
      "source": [
        "class BookShelf:\n",
        "    def __init__(self, capacity):\n",
        "        self.books = []\n",
        "        self.capacity = capacity\n",
        "\n",
        "    def add_book(self, book):\n",
        "        if not isinstance(book, Book):\n",
        "            raise TypeError(\"Only instances of Book could be added to the BookShelf\")\n",
        "\n",
        "        if not self.capacity > len(self.books):\n",
        "            raise OverflowError(\"BookShelf is full\")\n",
        "\n",
        "        self.books.append(book)\n",
        "\n",
        "    def __repr__(self):\n",
        "        return str(self.books)"
      ],
      "execution_count": null,
      "outputs": [],
      "metadata": {
        "id": "M7GE9sVCeoC-"
      }
    },
    {
      "cell_type": "code",
      "source": [
        "shelf = BookShelf(capacity=10)"
      ],
      "execution_count": null,
      "outputs": [],
      "metadata": {
        "id": "N9Tu1pPleoC-"
      }
    },
    {
      "cell_type": "code",
      "source": [
        "b1 = Book(\"Homo Empathicus\", \"Alexander Gorlach\", \"Paperback\", 160)\n",
        "b2 = Book(\"Titan\", \"Ron Chernow\", \"Hardcover\", 832)\n",
        "b3 = Book(\"The Circle\", \"Dave Eggers\", \"Paperback\", 497)\n",
        "b4 = Book(\"Homo Deus\", \"Yuval Noah Harari\", \"Paperback\", 464)"
      ],
      "execution_count": null,
      "outputs": [],
      "metadata": {
        "id": "aL8YBdhEeoC_"
      }
    },
    {
      "cell_type": "code",
      "source": [
        "shelf.add_book(b1)"
      ],
      "execution_count": null,
      "outputs": [],
      "metadata": {
        "id": "dJ33V7z3eoC_"
      }
    },
    {
      "cell_type": "code",
      "source": [
        "shelf.add_book(b2)"
      ],
      "execution_count": null,
      "outputs": [],
      "metadata": {
        "id": "7LFg_ShpeoC_"
      }
    },
    {
      "cell_type": "code",
      "source": [
        "shelf"
      ],
      "execution_count": null,
      "outputs": [
        {
          "data": {
            "text/plain": [
              "[Book('Homo Empathicus', 'Alexander Gorlach', 'Paperback', 160), Book('Titan', 'Ron Chernow', 'Hardcover', 832)]"
            ]
          },
          "metadata": {},
          "output_type": "display_data"
        }
      ],
      "metadata": {
        "id": "0o3uxygdeoC_",
        "outputId": "2ce60372-2c1f-46aa-d84f-9e7fd9c31431"
      }
    },
    {
      "cell_type": "markdown",
      "source": [
        "## `Pythonic Add`"
      ],
      "metadata": {
        "id": "hx-L8OCXeoC_"
      }
    },
    {
      "cell_type": "code",
      "source": [
        "class BookShelf:\n",
        "    def __init__(self, capacity):\n",
        "        self.books = []\n",
        "        self.capacity = capacity\n",
        "\n",
        "    def add_book(self, book):\n",
        "        if not isinstance(book, Book):\n",
        "            raise TypeError(\"Only instances of Book could be added to the BookShelf\")\n",
        "\n",
        "        if not self.capacity > len(self.books):\n",
        "            raise OverflowError(\"BookShelf is full\")\n",
        "\n",
        "        self.books.append(book)\n",
        "\n",
        "    def __repr__(self):\n",
        "        return str(self.books)\n",
        "\n",
        "    def __add__(self, other):\n",
        "        if not isinstance(other, Book):\n",
        "            raise TypeError(\"Operating only supported on instances of Book\")\n",
        "\n",
        "        new_shelf = BookShelf(self.capacity)\n",
        "\n",
        "        for book in self.books:\n",
        "            new_shelf.add_book(book)\n",
        "\n",
        "        new_shelf.add_book(other)\n",
        "\n",
        "        return new_shelf\n",
        "\n",
        "    def __radd__(self, other):\n",
        "        if not isinstance(other, Book):\n",
        "            raise TypeError(\"Operating only supported on instances of Book\")\n",
        "\n",
        "        return self + other"
      ],
      "execution_count": null,
      "outputs": [],
      "metadata": {
        "id": "2LshuwxfeoC_"
      }
    },
    {
      "cell_type": "code",
      "source": [
        "# operator overloading"
      ],
      "execution_count": null,
      "outputs": [],
      "metadata": {
        "id": "W7j-phNGeoC_"
      }
    },
    {
      "cell_type": "code",
      "source": [
        "b1 = Book(\"Homo Empathicus\", \"Alexander Gorlach\", \"Paperback\", 160)\n",
        "b2 = Book(\"Titan\", \"Ron Chernow\", \"Hardcover\", 832)\n",
        "b3 = Book(\"The Circle\", \"Dave Eggers\", \"Paperback\", 497)\n",
        "b4 = Book(\"Homo Deus\", \"Yuval Noah Harari\", \"Paperback\", 464)"
      ],
      "execution_count": null,
      "outputs": [],
      "metadata": {
        "id": "6sH-cgdIeoDA"
      }
    },
    {
      "cell_type": "code",
      "source": [
        "shelf = BookShelf(10)\n",
        "shelf.add_book(b1)\n",
        "shelf.add_book(b2)"
      ],
      "execution_count": null,
      "outputs": [],
      "metadata": {
        "id": "7MePnLOmeoDA"
      }
    },
    {
      "cell_type": "code",
      "source": [
        "shelf + b3"
      ],
      "execution_count": null,
      "outputs": [
        {
          "data": {
            "text/plain": [
              "[Book('Homo Empathicus', 'Alexander Gorlach', 'Paperback', 160), Book('Titan', 'Ron Chernow', 'Hardcover', 832), Book('The Circle', 'Dave Eggers', 'Paperback', 497)]"
            ]
          },
          "metadata": {},
          "output_type": "display_data"
        }
      ],
      "metadata": {
        "id": "AuFOf6MVeoDA",
        "outputId": "073084c9-d421-4a0c-b398-5804ed704903"
      }
    },
    {
      "cell_type": "code",
      "source": [
        "b3 + shelf"
      ],
      "execution_count": null,
      "outputs": [
        {
          "data": {
            "text/plain": [
              "[Book('Homo Empathicus', 'Alexander Gorlach', 'Paperback', 160), Book('Titan', 'Ron Chernow', 'Hardcover', 832), Book('The Circle', 'Dave Eggers', 'Paperback', 497)]"
            ]
          },
          "metadata": {},
          "output_type": "display_data"
        }
      ],
      "metadata": {
        "id": "I4CIwIpAeoDA",
        "outputId": "e0ab1afe-360c-40ea-d1b1-f747f9f62d6c"
      }
    },
    {
      "cell_type": "code",
      "source": [
        "shelf += b4 # inplace add -> __iadd__"
      ],
      "execution_count": null,
      "outputs": [],
      "metadata": {
        "id": "nSl6rk69eoDA"
      }
    },
    {
      "cell_type": "code",
      "source": [
        "shelf"
      ],
      "execution_count": null,
      "outputs": [
        {
          "data": {
            "text/plain": [
              "[Book('Homo Empathicus', 'Alexander Gorlach', 'Paperback', 160), Book('Titan', 'Ron Chernow', 'Hardcover', 832), Book('Homo Deus', 'Yuval Noah Harari', 'Paperback', 464)]"
            ]
          },
          "metadata": {},
          "output_type": "display_data"
        }
      ],
      "metadata": {
        "id": "iTuyy84GeoDA",
        "outputId": "8d541ff8-13d4-4abb-966b-96b686b20d09"
      }
    },
    {
      "cell_type": "code",
      "source": [],
      "execution_count": null,
      "outputs": [],
      "metadata": {
        "id": "UxpDOJeDeoDB"
      }
    },
    {
      "cell_type": "code",
      "source": [
        "shelf"
      ],
      "execution_count": null,
      "outputs": [
        {
          "data": {
            "text/plain": [
              "[Book('Homo Empathicus', 'Alexander Gorlach', 'Paperback', 160), Book('Titan', 'Ron Chernow', 'Hardcover', 832), Book('Homo Deus', 'Yuval Noah Harari', 'Paperback', 464)]"
            ]
          },
          "metadata": {},
          "output_type": "display_data"
        }
      ],
      "metadata": {
        "id": "rbl8ZMa_eoDB",
        "outputId": "177e72c4-4826-484b-d976-9139f41fa7bb"
      }
    },
    {
      "cell_type": "code",
      "source": [
        "# radd -> right add"
      ],
      "execution_count": null,
      "outputs": [],
      "metadata": {
        "id": "IY8mDhdEeoDB"
      }
    },
    {
      "cell_type": "code",
      "source": [
        "b3 + shelf"
      ],
      "execution_count": null,
      "outputs": [
        {
          "data": {
            "text/plain": [
              "[Book('Homo Empathicus', 'Alexander Gorlach', 'Paperback', 160), Book('Titan', 'Ron Chernow', 'Hardcover', 832), Book('Homo Deus', 'Yuval Noah Harari', 'Paperback', 464), Book('The Circle', 'Dave Eggers', 'Paperback', 497)]"
            ]
          },
          "metadata": {},
          "output_type": "display_data"
        }
      ],
      "metadata": {
        "id": "dw1Kfr9keoDB",
        "outputId": "95c30bfd-38de-429f-d271-b8055821796d"
      }
    },
    {
      "cell_type": "code",
      "source": [
        "b3.__add__(shelf)"
      ],
      "execution_count": null,
      "outputs": [
        {
          "ename": "AttributeError",
          "evalue": "AttributeError: 'Book' object has no attribute '__add__'",
          "traceback": [
            "\u001b[0;31m---------------------------------------------------------------------------",
            "Traceback (most recent call last)",
            "    at line 1 in <module>",
            "AttributeError: 'Book' object has no attribute '__add__'"
          ],
          "output_type": "error"
        }
      ],
      "metadata": {
        "id": "eS3BzSdIeoDB",
        "outputId": "0c44f855-6e2f-4949-d842-67abad2b4804"
      }
    },
    {
      "cell_type": "code",
      "source": [
        "shelf.__radd__(b3)"
      ],
      "execution_count": null,
      "outputs": [
        {
          "data": {
            "text/plain": [
              "[Book('Homo Empathicus', 'Alexander Gorlach', 'Paperback', 160), Book('Titan', 'Ron Chernow', 'Hardcover', 832), Book('Homo Deus', 'Yuval Noah Harari', 'Paperback', 464), Book('The Circle', 'Dave Eggers', 'Paperback', 497)]"
            ]
          },
          "metadata": {},
          "output_type": "display_data"
        }
      ],
      "metadata": {
        "id": "M9IogvVaeoDB",
        "outputId": "fbbdbaf2-233a-4a79-af4c-a85ba2e0cd25"
      }
    },
    {
      "cell_type": "code",
      "source": [
        "# <--- right to left"
      ],
      "execution_count": null,
      "outputs": [],
      "metadata": {
        "id": "zp5OSuEIeoDC"
      }
    },
    {
      "cell_type": "markdown",
      "source": [
        "## `The __getitem__ Magic`"
      ],
      "metadata": {
        "id": "fQDG4mPCeoDC"
      }
    },
    {
      "cell_type": "code",
      "source": [
        "class BookShelf:\n",
        "    def __init__(self, capacity):\n",
        "        self.books = []\n",
        "        self.capacity = capacity\n",
        "\n",
        "    def add_book(self, book):\n",
        "        if not isinstance(book, Book):\n",
        "            raise TypeError(\"Only instances of Book could be added to the BookShelf\")\n",
        "\n",
        "        if not self.capacity > len(self.books):\n",
        "            raise OverflowError(\"BookShelf is full\")\n",
        "\n",
        "        self.books.append(book)\n",
        "\n",
        "    def __repr__(self):\n",
        "        return str(self.books)\n",
        "\n",
        "    def __add__(self, other):\n",
        "        if not isinstance(other, Book):\n",
        "            raise TypeError(\"Operating only supported on instances of Book\")\n",
        "\n",
        "        new_shelf = BookShelf(self.capacity)\n",
        "\n",
        "        for book in self.books:\n",
        "            new_shelf.add_book(book)\n",
        "\n",
        "        new_shelf.add_book(other)\n",
        "\n",
        "        return new_shelf\n",
        "\n",
        "    def __radd__(self, other):\n",
        "        if not isinstance(other, Book):\n",
        "            raise TypeError(\"Operating only supported on instances of Book\")\n",
        "\n",
        "        return self + other\n",
        "\n",
        "    def __getitem__(self, item):\n",
        "        if isinstance(item, str):\n",
        "            return [book for book in self.books if item.lower() in book.title.lower()]\n",
        "\n",
        "        return self.books[item]"
      ],
      "execution_count": null,
      "outputs": [],
      "metadata": {
        "id": "EbUqMoj_eoDC"
      }
    },
    {
      "cell_type": "code",
      "source": [
        "b1 = Book(\"Homo Empathicus\", \"Alexander Gorlach\", \"Paperback\", 160)\n",
        "b2 = Book(\"Titan\", \"Ron Chernow\", \"Hardcover\", 832)\n",
        "b3 = Book(\"The Circle\", \"Dave Eggers\", \"Paperback\", 497)\n",
        "b4 = Book(\"Homo Deus\", \"Yuval Noah Harari\", \"Paperback\", 464)\n",
        "\n",
        "shelf = BookShelf(capacity=10)\n",
        "\n",
        "for b in [b1, b2, b3, b4]:\n",
        "    shelf += b\n",
        "\n",
        "shelf"
      ],
      "execution_count": null,
      "outputs": [
        {
          "data": {
            "text/plain": [
              "[Book('Homo Empathicus', 'Alexander Gorlach', 'Paperback', 160), Book('Titan', 'Ron Chernow', 'Hardcover', 832), Book('The Circle', 'Dave Eggers', 'Paperback', 497), Book('Homo Deus', 'Yuval Noah Harari', 'Paperback', 464)]"
            ]
          },
          "metadata": {},
          "output_type": "display_data"
        }
      ],
      "metadata": {
        "id": "hCNJar9oeoDC",
        "outputId": "e08b2bd1-05be-4291-b12d-9237e8d6bd85"
      }
    },
    {
      "cell_type": "code",
      "source": [
        "shelf[0]"
      ],
      "execution_count": null,
      "outputs": [
        {
          "data": {
            "text/plain": [
              "Book('Homo Empathicus', 'Alexander Gorlach', 'Paperback', 160)"
            ]
          },
          "metadata": {},
          "output_type": "display_data"
        }
      ],
      "metadata": {
        "id": "YnS01L-ueoDC",
        "outputId": "aa72b3b2-c86c-4e9a-c25c-84f3c26166c4"
      }
    },
    {
      "cell_type": "code",
      "source": [
        "shelf[\"Homo\"]"
      ],
      "execution_count": null,
      "outputs": [
        {
          "data": {
            "text/plain": [
              "[Book('Homo Empathicus', 'Alexander Gorlach', 'Paperback', 160),\n",
              " Book('Homo Deus', 'Yuval Noah Harari', 'Paperback', 464)]"
            ]
          },
          "metadata": {},
          "output_type": "display_data"
        }
      ],
      "metadata": {
        "id": "z2TRSekheoDD",
        "outputId": "d2bb01a3-2c7d-4413-c1de-97f1852d7baf"
      }
    },
    {
      "cell_type": "code",
      "source": [
        "shelf[\"homo\"]"
      ],
      "execution_count": null,
      "outputs": [
        {
          "data": {
            "text/plain": [
              "[Book('Homo Empathicus', 'Alexander Gorlach', 'Paperback', 160),\n",
              " Book('Homo Deus', 'Yuval Noah Harari', 'Paperback', 464)]"
            ]
          },
          "metadata": {},
          "output_type": "display_data"
        }
      ],
      "metadata": {
        "id": "uQefRMaqeoDD",
        "outputId": "60a99402-66d7-447c-a6c5-13496e598604"
      }
    },
    {
      "cell_type": "code",
      "source": [
        "# homo -> man, as in mankind in latin"
      ],
      "execution_count": null,
      "outputs": [],
      "metadata": {
        "id": "6MH9IJl5eoDD"
      }
    },
    {
      "cell_type": "code",
      "source": [
        "shelf[2:4]"
      ],
      "execution_count": null,
      "outputs": [
        {
          "data": {
            "text/plain": [
              "[Book('The Circle', 'Dave Eggers', 'Paperback', 497),\n",
              " Book('Homo Deus', 'Yuval Noah Harari', 'Paperback', 464)]"
            ]
          },
          "metadata": {},
          "output_type": "display_data"
        }
      ],
      "metadata": {
        "id": "uBL8XAW1eoDE",
        "outputId": "fe524855-e95f-45db-8080-7b494db5f330"
      }
    },
    {
      "cell_type": "code",
      "source": [
        "for book in shelf:\n",
        "    print(book)"
      ],
      "execution_count": null,
      "outputs": [
        {
          "name": "stdout",
          "text": [
            "Book('Homo Empathicus', 'Alexander Gorlach', 'Paperback', 160)\n",
            "Book('Titan', 'Ron Chernow', 'Hardcover', 832)\n",
            "Book('The Circle', 'Dave Eggers', 'Paperback', 497)\n",
            "Book('Homo Deus', 'Yuval Noah Harari', 'Paperback', 464)\n"
          ],
          "output_type": "stream"
        }
      ],
      "metadata": {
        "id": "SaBHMipDeoDJ",
        "outputId": "9863779e-08d7-49b4-fb7e-b912f9ea78e5"
      }
    },
    {
      "cell_type": "markdown",
      "source": [
        "## `Defining Our Own Magics`"
      ],
      "metadata": {
        "id": "VwsDGP-YeoDJ"
      }
    },
    {
      "cell_type": "code",
      "source": [
        "class BookShelf:\n",
        "    def __init__(self, capacity):\n",
        "        self.books = []\n",
        "        self.capacity = capacity\n",
        "\n",
        "    def add_book(self, book):\n",
        "        if not isinstance(book, Book):\n",
        "            raise TypeError(\"Only instances of Book could be added to the BookShelf\")\n",
        "\n",
        "        if not self.capacity > len(self.books):\n",
        "            raise OverflowError(\"BookShelf is full\")\n",
        "\n",
        "        self.books.append(book)\n",
        "\n",
        "    def __repr__(self):\n",
        "        return str(self.books)\n",
        "\n",
        "    def __add__(self, other):\n",
        "        if not isinstance(other, Book):\n",
        "            raise TypeError(\"Operating only supported on instances of Book\")\n",
        "\n",
        "        new_shelf = BookShelf(self.capacity)\n",
        "\n",
        "        for book in self.books:\n",
        "            new_shelf.add_book(book)\n",
        "\n",
        "        new_shelf.add_book(other)\n",
        "\n",
        "        return new_shelf\n",
        "\n",
        "    def __radd__(self, other):\n",
        "        if not isinstance(other, Book):\n",
        "            raise TypeError(\"Operating only supported on instances of Book\")\n",
        "\n",
        "        return self + other\n",
        "\n",
        "    def __getitem__(self, item):\n",
        "        if isinstance(item, str):\n",
        "            return [book for book in self.books if item.lower() in book.title.lower()]\n",
        "\n",
        "        return self.books[item]\n",
        "\n",
        "    def __greeting__(self):\n",
        "        return \"Last lecutre before the skill challenge!!\"\n",
        "\n",
        "    def __sum__(self):\n",
        "        pass"
      ],
      "execution_count": null,
      "outputs": [],
      "metadata": {
        "id": "RtOwwJ0MeoDJ"
      }
    },
    {
      "cell_type": "code",
      "source": [
        "bs = BookShelf(3)"
      ],
      "execution_count": null,
      "outputs": [],
      "metadata": {
        "id": "OA5yKYQVeoDK"
      }
    },
    {
      "cell_type": "code",
      "source": [
        "bs.__greeting__()"
      ],
      "execution_count": null,
      "outputs": [
        {
          "data": {
            "text/plain": [
              "'Last lecutre before the skill challenge!!'"
            ]
          },
          "metadata": {},
          "output_type": "display_data"
        }
      ],
      "metadata": {
        "id": "wPVsg1aMeoDK",
        "outputId": "cac2708a-11ca-4e8b-92a4-106b34542871"
      }
    },
    {
      "cell_type": "code",
      "source": [
        "BookShelf.__dict__"
      ],
      "execution_count": null,
      "outputs": [
        {
          "data": {
            "text/plain": [
              "mappingproxy({'__module__': '__main__',\n",
              "              '__init__': <function __main__.BookShelf.__init__(self, capacity)>,\n",
              "              'add_book': <function __main__.BookShelf.add_book(self, book)>,\n",
              "              '__repr__': <function __main__.BookShelf.__repr__(self)>,\n",
              "              '__add__': <function __main__.BookShelf.__add__(self, other)>,\n",
              "              '__radd__': <function __main__.BookShelf.__radd__(self, other)>,\n",
              "              '__getitem__': <function __main__.BookShelf.__getitem__(self, item)>,\n",
              "              '__greeting__': <function __main__.BookShelf.__greeting__(self)>,\n",
              "              '__dict__': <attribute '__dict__' of 'BookShelf' objects>,\n",
              "              '__weakref__': <attribute '__weakref__' of 'BookShelf' objects>,\n",
              "              '__doc__': None})"
            ]
          },
          "metadata": {},
          "output_type": "display_data"
        }
      ],
      "metadata": {
        "id": "eENl3kKxeoDK",
        "outputId": "c823f67a-579a-4c3e-ad61-aa60f40eb650"
      }
    },
    {
      "cell_type": "code",
      "source": [],
      "execution_count": null,
      "outputs": [],
      "metadata": {
        "id": "-eeaaNXGeoDK"
      }
    }
  ],
  "metadata": {
    "colab": {
      "provenance": []
    }
  },
  "nbformat": 4,
  "nbformat_minor": 0
}