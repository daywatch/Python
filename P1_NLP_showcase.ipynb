{
 "cells": [
  {
   "cell_type": "markdown",
   "metadata": {
    "toc": true
   },
   "source": [
    "<h1>Table of Contents<span class=\"tocSkip\"></span></h1>\n",
    "<div class=\"toc\"><ul class=\"toc-item\"><li><span><a href=\"#My-NLP-library-toolkits:-Part-1\" data-toc-modified-id=\"My-NLP-library-toolkits:-Part-1-1\">My NLP library toolkits: Part 1</a></span><ul class=\"toc-item\"><li><span><a href=\"#0.-Loading-the-dataset\" data-toc-modified-id=\"0.-Loading-the-dataset-1.1\">0. Loading the dataset</a></span></li><li><span><a href=\"#1.-N-grams\" data-toc-modified-id=\"1.-N-grams-1.2\">1. N-grams</a></span></li><li><span><a href=\"#2.-Part-of_speech-tagging\" data-toc-modified-id=\"2.-Part-of_speech-tagging-1.3\">2. Part-of_speech tagging</a></span></li><li><span><a href=\"#3.-Lemmatizer\" data-toc-modified-id=\"3.-Lemmatizer-1.4\">3. Lemmatizer</a></span></li><li><span><a href=\"#4.-Word-frequencies-+-data-cleaning\" data-toc-modified-id=\"4.-Word-frequencies-+-data-cleaning-1.5\">4. Word frequencies + data cleaning</a></span><ul class=\"toc-item\"><li><span><a href=\"#4.1-Bar-chart\" data-toc-modified-id=\"4.1-Bar-chart-1.5.1\">4.1 Bar chart</a></span></li><li><span><a href=\"#4.2-Treemap\" data-toc-modified-id=\"4.2-Treemap-1.5.2\">4.2 Treemap</a></span></li><li><span><a href=\"#4.3-Word-cloud\" data-toc-modified-id=\"4.3-Word-cloud-1.5.3\">4.3 Word cloud</a></span></li></ul></li><li><span><a href=\"#5.-TF-IDF\" data-toc-modified-id=\"5.-TF-IDF-1.6\">5. TF-IDF</a></span></li><li><span><a href=\"#6.-Sentimental-Analysis\" data-toc-modified-id=\"6.-Sentimental-Analysis-1.7\">6. Sentimental Analysis</a></span><ul class=\"toc-item\"><li><span><a href=\"#6.1-Unified\" data-toc-modified-id=\"6.1-Unified-1.7.1\">6.1 Unified</a></span></li><li><span><a href=\"#6.2-Combined\" data-toc-modified-id=\"6.2-Combined-1.7.2\">6.2 Combined</a></span></li><li><span><a href=\"#6.3-Sentiment-labels\" data-toc-modified-id=\"6.3-Sentiment-labels-1.7.3\">6.3 Sentiment labels</a></span></li></ul></li></ul></li></ul></div>"
   ]
  },
  {
   "cell_type": "markdown",
   "metadata": {},
   "source": [
    "# My NLP library toolkits: Part 1\n",
    "\n",
    "**Tao Lin**\n",
    "\n",
    "This part mainly contains word and subword level analyses like frequency counts and POS.\n",
    "\n",
    "1. N-grams\n",
    "2. POS tagging\n",
    "3. Lemmatizer\n",
    "4. Word frequency + data cleaning\n",
    "5. TF-IDF vectors\n",
    "6. Sentiment analysis\n",
    "\n",
    "----------------"
   ]
  },
  {
   "cell_type": "markdown",
   "metadata": {},
   "source": [
    "## 0. Loading the dataset"
   ]
  },
  {
   "cell_type": "code",
   "execution_count": 1,
   "metadata": {},
   "outputs": [],
   "source": [
    "# open the file and read the CNN-dm data (originally for summarization tasks)\n",
    "source_lines = open('/Users/taolin/Desktop/udacity/data/train.txt.src' , encoding='utf-8').\\\n",
    "read().strip().split('\\n')\n",
    "source_lines = source_lines\n",
    "target_lines = open('/Users/taolin/Desktop/udacity/data/train.txt.tgt.tagged' , encoding='utf-8').\\\n",
    "read().replace(\"</t>\",'').replace(\"<t>\",'').strip('').split('\\n')\n",
    "target_lines = target_lines"
   ]
  },
  {
   "cell_type": "code",
   "execution_count": 2,
   "metadata": {},
   "outputs": [
    {
     "name": "stdout",
     "output_type": "stream",
     "text": [
      "The raw input: \n",
      "\n",
      " orme , tennessee , has running water from 6 p.m. to 9 p.m.   town 's spring ran dry in midst of southeast drought .   donated water is trucked in from alabama .   completion of pipeline will solve problem for good . \n"
     ]
    }
   ],
   "source": [
    "sample_data = target_lines[0:1000]\n",
    "print(\"The raw input: \\n\\n\" + sample_data[45])"
   ]
  },
  {
   "cell_type": "markdown",
   "metadata": {},
   "source": [
    "## 1. N-grams"
   ]
  },
  {
   "cell_type": "code",
   "execution_count": 3,
   "metadata": {},
   "outputs": [],
   "source": [
    "import nltk\n",
    "from nltk.util import ngrams"
   ]
  },
  {
   "cell_type": "code",
   "execution_count": 4,
   "metadata": {},
   "outputs": [
    {
     "name": "stdout",
     "output_type": "stream",
     "text": [
      "A bigram list:\n",
      "\n",
      "('orme', ',') (',', 'tennessee') ('tennessee', ',') (',', 'has') ('has', 'running') ('running', 'water') ('water', 'from') ('from', '6') ('6', 'p.m.') ('p.m.', 'to') ('to', '9') ('9', 'p.m.') ('p.m.', 'town') ('town', \"'s\") (\"'s\", 'spring') ('spring', 'ran') ('ran', 'dry') ('dry', 'in') ('in', 'midst') ('midst', 'of') ('of', 'southeast') ('southeast', 'drought') ('drought', '.') ('.', 'donated') ('donated', 'water') ('water', 'is') ('is', 'trucked') ('trucked', 'in') ('in', 'from') ('from', 'alabama') ('alabama', '.') ('.', 'completion') ('completion', 'of') ('of', 'pipeline') ('pipeline', 'will') ('will', 'solve') ('solve', 'problem') ('problem', 'for') ('for', 'good') ('good', '.')\n"
     ]
    }
   ],
   "source": [
    "def Ngrams(sen,num,string):\n",
    "    n_grams = ngrams(sen.split(), num)\n",
    "    x = [grams for grams in n_grams]\n",
    "    print(f\"A {string} list:\\n\")\n",
    "    print (*x)\n",
    "\n",
    "# example: bigrams\n",
    "Ngrams(sample_data[45],2,\"bigram\")"
   ]
  },
  {
   "cell_type": "markdown",
   "metadata": {},
   "source": [
    "## 2. Part-of_speech tagging"
   ]
  },
  {
   "cell_type": "code",
   "execution_count": 5,
   "metadata": {},
   "outputs": [
    {
     "name": "stdout",
     "output_type": "stream",
     "text": [
      "POS tagging output: \n",
      "\n",
      "('orme', 'NN') (',', ',') ('tennessee', 'NN') (',', ',') ('has', 'VBZ') ('running', 'VBG') ('water', 'NN') ('from', 'IN') ('6', 'CD') ('p.m.', 'NN') ('to', 'TO') ('9', 'CD') ('p.m.', 'NN') ('town', 'NN') (\"'s\", 'POS') ('spring', 'NN') ('ran', 'VBD') ('dry', 'NNS') ('in', 'IN') ('midst', 'NN') ('of', 'IN') ('southeast', 'JJ') ('drought', 'NN') ('.', '.') ('donated', 'JJ') ('water', 'NN') ('is', 'VBZ') ('trucked', 'VBN') ('in', 'IN') ('from', 'IN') ('alabama', 'NN') ('.', '.') ('completion', 'NN') ('of', 'IN') ('pipeline', 'NN') ('will', 'MD') ('solve', 'VB') ('problem', 'NN') ('for', 'IN') ('good', 'JJ') ('.', '.')\n"
     ]
    }
   ],
   "source": [
    "from nltk.tokenize import word_tokenize\n",
    "\n",
    "def POS_tagger(sen):\n",
    "    text = word_tokenize(sen)\n",
    "    print(\"POS tagging output: \\n\")\n",
    "    print(*nltk.pos_tag(text))\n",
    "POS_tagger(sample_data[45])"
   ]
  },
  {
   "cell_type": "markdown",
   "metadata": {},
   "source": [
    "## 3. Lemmatizer"
   ]
  },
  {
   "cell_type": "code",
   "execution_count": 6,
   "metadata": {},
   "outputs": [
    {
     "name": "stdout",
     "output_type": "stream",
     "text": [
      "Lemmatized result: \n",
      "\n",
      "[' ', 'orme', ',', 'tennessee', ',', 'have', 'run', 'water', 'from', '6', 'p.m.', 'to', '9', 'p.m.', '  ', 'town', \"'s\", 'spring', 'run', 'dry', 'in', 'midst', 'of', 'southeast', 'drought', '.', '  ', 'donate', 'water', 'be', 'truck', 'in', 'from', 'alabama', '.', '  ', 'completion', 'of', 'pipeline', 'will', 'solve', 'problem', 'for', 'good', '.']\n"
     ]
    }
   ],
   "source": [
    "import spacy\n",
    "\n",
    "nlp = spacy.load('en')\n",
    "nlp.remove_pipe('parser')\n",
    "nlp.remove_pipe('ner')\n",
    "\n",
    "\n",
    "def Lemmatizer(sen):\n",
    "    doc = nlp(sen)\n",
    "    lem = [token.lemma_ for token in doc]\n",
    "    print(\"Lemmatized result: \\n\")\n",
    "    print(lem)\n",
    "Lemmatizer(sample_data[45])      "
   ]
  },
  {
   "cell_type": "markdown",
   "metadata": {},
   "source": [
    "## 4. Word frequencies + data cleaning"
   ]
  },
  {
   "cell_type": "code",
   "execution_count": 7,
   "metadata": {},
   "outputs": [],
   "source": [
    "from nltk.corpus import stopwords\n",
    "\n",
    "stop_words = stopwords.words('english')\n",
    "stop_words.extend(['from', 'subject', 're', 'edu', 'use','please','fw','fwd','user','issue'])\n",
    "stop_words.extend([\"a\",\"about\",\"above\",\"after\",\"again\",\"against\",\"ain\",\"all\",\"am\",\"an\",\"and\",\"any\",\"are\",\"aren\",\"aren't\",\"as\",\"at\",\"be\",\"because\",\"been\",\"before\",\"being\",\"below\",\"between\",\"both\",\"but\",\"by\",\"can\",\"couldn\",\"couldn't\",\"d\",\"did\",\"didn\",\"didn't\",\"do\",\"does\",\"doesn\",\"doesn't\",\"doing\",\"don\",\"don't\",\"down\",\"during\",\"each\",\"few\",\"for\",\"from\",\"further\",\"had\",\"hadn\",\"hadn't\",\"has\",\"hasn\",\"hasn't\",\"have\",\"haven\",\"haven't\",\"having\",\"he\",\"her\",\"here\",\"hers\",\"herself\",\"him\",\"himself\",\"his\",\"how\",\"i\",\"if\",\"in\",\"into\",\"is\",\"isn\",\"isn't\",\"it\",\"it's\",\"its\",\"itself\",\"just\",\"ll\",\"m\",\"ma\",\"me\",\"mightn\",\"mightn't\",\"more\",\"most\",\"mustn\",\"mustn't\",\"my\",\"myself\",\"needn\",\"needn't\",\"no\",\"nor\",\"not\",\"now\",\"o\",\"of\",\"off\",\"on\",\"once\",\"only\",\"or\",\"other\",\"our\",\"ours\",\"ourselves\",\"out\",\"over\",\"own\",\"re\",\"s\",\"same\",\"shan\",\"shan't\",\"she\",\"she's\",\"should\",\"should've\",\"shouldn\",\"shouldn't\",\"so\",\"some\",\"such\",\"t\",\"than\",\"that\",\"that'll\",\"the\",\"their\",\"theirs\",\"them\",\"themselves\",\"then\",\"there\",\"these\",\"they\",\"this\",\"those\",\"through\",\"to\",\"too\",\"under\",\"until\",\"up\",\"ve\",\"very\",\"was\",\"wasn\",\"wasn't\",\"we\",\"were\",\"weren\",\"weren't\",\"what\",\"when\",\"where\",\"which\",\"while\",\"who\",\"whom\",\"why\",\"will\",\"with\",\"won\",\"won't\",\"wouldn\",\"wouldn't\",\"y\",\"you\",\"you'd\",\"you'll\",\"you're\",\"you've\",\"your\",\"yours\",\"yourself\",\"yourselves\",\"could\",\"he'd\",\"he'll\",\"he's\",\"here's\",\"how's\",\"i'd\",\"i'll\",\"i'm\",\"i've\",\"let's\",\"ought\",\"she'd\",\"she'll\",\"that's\",\"there's\",\"they'd\",\"they'll\",\"they're\",\"they've\",\"we'd\",\"we'll\",\"we're\",\"we've\",\"what's\",\"when's\",\"where's\",\"who's\",\"why's\",\"would\",\"able\",\"abst\",\"accordance\",\"according\",\"accordingly\",\"across\",\"act\",\"actually\",\"added\",\"adj\",\"affected\",\"affecting\",\"affects\",\"afterwards\",\"ah\",\"almost\",\"alone\",\"along\",\"already\",\"also\",\"although\",\"always\",\"among\",\"amongst\",\"announce\",\"another\",\"anybody\",\"anyhow\",\"anymore\",\"anyone\",\"anything\",\"anyway\",\"anyways\",\"anywhere\",\"apparently\",\"approximately\",\"arent\",\"arise\",\"around\",\"aside\",\"ask\",\"asking\",\"auth\",\"available\",\"away\",\"awfully\",\"b\",\"back\",\"became\",\"become\",\"becomes\",\"becoming\",\"beforehand\",\"begin\",\"beginning\",\"beginnings\",\"begins\",\"behind\",\"believe\",\"beside\",\"besides\",\"beyond\",\"biol\",\"brief\",\"briefly\",\"c\",\"ca\",\"came\",\"cannot\",\"can't\",\"cause\",\"causes\",\"certain\",\"certainly\",\"co\",\"com\",\"come\",\"comes\",\"contain\",\"containing\",\"contains\",\"couldnt\",\"date\",\"different\",\"done\",\"downwards\",\"due\",\"e\",\"ed\",\"edu\",\"effect\",\"eg\",\"eight\",\"eighty\",\"either\",\"else\",\"elsewhere\",\"end\",\"ending\",\"enough\",\"especially\",\"et\",\"etc\",\"even\",\"ever\",\"every\",\"everybody\",\"everyone\",\"everything\",\"everywhere\",\"ex\",\"except\",\"f\",\"far\",\"ff\",\"fifth\",\"first\",\"five\",\"fix\",\"followed\",\"following\",\"follows\",\"former\",\"formerly\",\"forth\",\"found\",\"four\",\"furthermore\",\"g\",\"gave\",\"get\",\"gets\",\"getting\",\"give\",\"given\",\"gives\",\"giving\",\"go\",\"goes\",\"gone\",\"got\",\"gotten\",\"h\",\"happens\",\"hardly\",\"hed\",\"hence\",\"hereafter\",\"hereby\",\"herein\",\"heres\",\"hereupon\",\"hes\",\"hi\",\"hid\",\"hither\",\"home\",\"howbeit\",\"however\",\"hundred\",\"id\",\"ie\",\"im\",\"immediate\",\"immediately\",\"importance\",\"important\",\"inc\",\"indeed\",\"index\",\"information\",\"instead\",\"invention\",\"inward\",\"itd\",\"it'll\",\"j\",\"k\",\"keep\",\"keeps\",\"kept\",\"kg\",\"km\",\"know\",\"known\",\"knows\",\"l\",\"largely\",\"last\",\"lately\",\"later\",\"latter\",\"latterly\",\"least\",\"less\",\"lest\",\"let\",\"lets\",\"like\",\"liked\",\"likely\",\"line\",\"little\",\"'ll\",\"look\",\"looking\",\"looks\",\"ltd\",\"made\",\"mainly\",\"make\",\"makes\",\"many\",\"may\",\"maybe\",\"mean\",\"means\",\"meantime\",\"meanwhile\",\"merely\",\"mg\",\"might\",\"million\",\"miss\",\"ml\",\"moreover\",\"mostly\",\"mr\",\"mrs\",\"much\",\"mug\",\"must\",\"n\",\"na\",\"name\",\"namely\",\"nay\",\"nd\",\"near\",\"nearly\",\"necessarily\",\"necessary\",\"need\",\"needs\",\"neither\",\"never\",\"nevertheless\",\"new\",\"next\",\"nine\",\"ninety\",\"nobody\",\"non\",\"none\",\"nonetheless\",\"noone\",\"normally\",\"nos\",\"noted\",\"nothing\",\"nowhere\",\"obtain\",\"obtained\",\"obviously\",\"often\",\"oh\",\"ok\",\"okay\",\"old\",\"omitted\",\"one\",\"ones\",\"onto\",\"ord\",\"others\",\"otherwise\",\"outside\",\"overall\",\"owing\",\"p\",\"page\",\"pages\",\"part\",\"particular\",\"particularly\",\"past\",\"per\",\"perhaps\",\"placed\",\"please\",\"plus\",\"poorly\",\"possible\",\"possibly\",\"potentially\",\"pp\",\"predominantly\",\"present\",\"previously\",\"primarily\",\"probably\",\"promptly\",\"proud\",\"provides\",\"put\",\"q\",\"que\",\"quickly\",\"quite\",\"qv\",\"r\",\"ran\",\"rather\",\"rd\",\"readily\",\"really\",\"recent\",\"recently\",\"ref\",\"refs\",\"regarding\",\"regardless\",\"regards\",\"related\",\"relatively\",\"research\",\"respectively\",\"resulted\",\"resulting\",\"results\",\"right\",\"run\",\"said\",\"saw\",\"say\",\"saying\",\"says\",\"sec\",\"section\",\"see\",\"seeing\",\"seem\",\"seemed\",\"seeming\",\"seems\",\"seen\",\"self\",\"selves\",\"sent\",\"seven\",\"several\",\"shall\",\"shed\",\"shes\",\"show\",\"showed\",\"shown\",\"showns\",\"shows\",\"significant\",\"significantly\",\"similar\",\"similarly\",\"since\",\"six\",\"slightly\",\"somebody\",\"somehow\",\"someone\",\"somethan\",\"something\",\"sometime\",\"sometimes\",\"somewhat\",\"somewhere\",\"soon\",\"sorry\",\"specifically\",\"specified\",\"specify\",\"specifying\",\"still\",\"stop\",\"strongly\",\"sub\",\"substantially\",\"successfully\",\"sufficiently\",\"suggest\",\"sup\",\"sure\",\"take\",\"taken\",\"taking\",\"tell\",\"tends\",\"th\",\"thank\",\"thanks\",\"thanx\",\"thats\",\"that've\",\"thence\",\"thereafter\",\"thereby\",\"thered\",\"therefore\",\"therein\",\"there'll\",\"thereof\",\"therere\",\"theres\",\"thereto\",\"thereupon\",\"there've\",\"theyd\",\"theyre\",\"think\",\"thou\",\"though\",\"thoughh\",\"thousand\",\"throug\",\"throughout\",\"thru\",\"thus\",\"til\",\"tip\",\"together\",\"took\",\"toward\",\"towards\",\"tried\",\"tries\",\"truly\",\"try\",\"trying\",\"ts\",\"twice\",\"two\",\"u\",\"un\",\"unfortunately\",\"unless\",\"unlike\",\"unlikely\",\"unto\",\"upon\",\"ups\",\"us\",\"use\",\"used\",\"useful\",\"usefully\",\"usefulness\",\"uses\",\"using\",\"usually\",\"v\",\"value\",\"various\",\"'ve\",\"via\",\"viz\",\"vol\",\"vols\",\"vs\",\"w\",\"want\",\"wants\",\"wasnt\",\"way\",\"wed\",\"welcome\",\"went\",\"werent\",\"whatever\",\"what'll\",\"whats\",\"whence\",\"whenever\",\"whereafter\",\"whereas\",\"whereby\",\"wherein\",\"wheres\",\"whereupon\",\"wherever\",\"whether\",\"whim\",\"whither\",\"whod\",\"whoever\",\"whole\",\"who'll\",\"whomever\",\"whos\",\"whose\",\"widely\",\"willing\",\"wish\",\"within\",\"without\",\"wont\",\"words\",\"world\",\"wouldnt\",\"www\",\"x\",\"yes\",\"yet\",\"youd\",\"youre\",\"z\",\"zero\",\"a's\",\"ain't\",\"allow\",\"allows\",\"apart\",\"appear\",\"appreciate\",\"appropriate\",\"associated\",\"best\",\"better\",\"c'mon\",\"c's\",\"cant\",\"changes\",\"clearly\",\"concerning\",\"consequently\",\"consider\",\"considering\",\"corresponding\",\"course\",\"currently\",\"definitely\",\"described\",\"despite\",\"entirely\",\"exactly\",\"example\",\"going\",\"greetings\",\"hello\",\"help\",\"hopefully\",\"ignored\",\"inasmuch\",\"indicate\",\"indicated\",\"indicates\",\"inner\",\"insofar\",\"it'd\",\"keep\",\"keeps\",\"novel\",\"presumably\",\"reasonably\",\"second\",\"secondly\",\"sensible\",\"serious\",\"seriously\",\"sure\",\"t's\",\"third\",\"thorough\",\"thoroughly\",\"three\",\"well\",\"wonder\",\"a\", \"about\", \"above\", \"above\", \"across\", \"after\", \"afterwards\", \"again\", \"against\", \"all\", \"almost\", \"alone\", \"along\", \"already\", \"also\",\"although\",\"always\",\"am\",\"among\", \"amongst\", \"amoungst\", \"amount\", \"an\", \"and\", \"another\", \"any\",\"anyhow\",\"anyone\",\"anything\",\"anyway\", \"anywhere\", \"are\", \"around\", \"as\", \"at\", \"back\",\"be\",\"became\", \"because\",\"become\",\"becomes\", \"becoming\", \"been\", \"before\", \"beforehand\", \"behind\", \"being\", \"below\", \"beside\", \"besides\", \"between\", \"beyond\", \"bill\", \"both\", \"bottom\",\"but\", \"by\", \"call\", \"can\", \"cannot\", \"cant\", \"co\", \"con\", \"could\", \"couldnt\", \"cry\", \"de\", \"describe\", \"detail\", \"do\", \"done\", \"down\", \"due\", \"during\", \"each\", \"eg\", \"eight\", \"either\", \"eleven\",\"else\", \"elsewhere\", \"empty\", \"enough\", \"etc\", \"even\", \"ever\", \"every\", \"everyone\", \"everything\", \"everywhere\", \"except\", \"few\", \"fifteen\", \"fify\", \"fill\", \"find\", \"fire\", \"first\", \"five\", \"for\", \"former\", \"formerly\", \"forty\", \"found\", \"four\", \"from\", \"front\", \"full\", \"further\", \"get\", \"give\", \"go\", \"had\", \"has\", \"hasnt\", \"have\", \"he\", \"hence\", \"her\", \"here\", \"hereafter\", \"hereby\", \"herein\", \"hereupon\", \"hers\", \"herself\", \"him\", \"himself\", \"his\", \"how\", \"however\", \"hundred\", \"ie\", \"if\", \"in\", \"inc\", \"indeed\", \"interest\", \"into\", \"is\", \"it\", \"its\", \"itself\", \"keep\", \"last\", \"latter\", \"latterly\", \"least\", \"less\", \"ltd\", \"made\", \"many\", \"may\", \"me\", \"meanwhile\", \"might\", \"mill\", \"mine\", \"more\", \"moreover\", \"most\", \"mostly\", \"move\", \"much\", \"must\", \"my\", \"myself\", \"name\", \"namely\", \"neither\", \"never\", \"nevertheless\", \"next\", \"nine\", \"no\", \"nobody\", \"none\", \"noone\", \"nor\", \"not\", \"nothing\", \"now\", \"nowhere\", \"of\", \"off\", \"often\", \"on\", \"once\", \"one\", \"only\", \"onto\", \"or\", \"other\", \"others\", \"otherwise\", \"our\", \"ours\", \"ourselves\", \"out\", \"over\", \"own\",\"part\", \"per\", \"perhaps\", \"please\", \"put\", \"rather\", \"re\", \"same\", \"see\", \"seem\", \"seemed\", \"seeming\", \"seems\", \"serious\", \"several\", \"she\", \"should\", \"show\", \"side\", \"since\", \"sincere\", \"six\", \"sixty\", \"so\", \"some\", \"somehow\", \"someone\", \"something\", \"sometime\", \"sometimes\", \"somewhere\", \"still\", \"such\", \"system\", \"take\", \"ten\", \"than\", \"that\", \"the\", \"their\", \"them\", \"themselves\", \"then\", \"thence\", \"there\", \"thereafter\", \"thereby\", \"therefore\", \"therein\", \"thereupon\", \"these\", \"they\", \"thickv\", \"thin\", \"third\", \"this\", \"those\", \"though\", \"three\", \"through\", \"throughout\", \"thru\", \"thus\", \"to\", \"together\", \"too\", \"top\", \"toward\", \"towards\", \"twelve\", \"twenty\", \"two\", \"un\", \"under\", \"until\", \"up\", \"upon\", \"us\", \"very\", \"via\", \"was\", \"we\", \"well\", \"were\", \"what\", \"whatever\", \"when\", \"whence\", \"whenever\", \"where\", \"whereafter\", \"whereas\", \"whereby\", \"wherein\", \"whereupon\", \"wherever\", \"whether\", \"which\", \"while\", \"whither\", \"who\", \"whoever\", \"whole\", \"whom\", \"whose\", \"why\", \"will\", \"with\", \"within\", \"without\", \"would\", \"yet\", \"you\", \"your\", \"yours\", \"yourself\", \"yourselves\", \"the\",\"a\", \"b\", \"c\", \"d\", \"e\", \"f\", \"g\", \"h\", \"i\", \"j\", \"k\", \"l\", \"m\", \"n\", \"o\", \"p\",\n",
    "\"q\", \"r\", \"s\", \"t\", \"u\", \"v\", \"w\", \"x\", \"y\", \"z\",\"A\", \"B\", \"C\", \"D\", \"E\", \"F\", \"G\", \"H\", \"I\", \"J\", \"K\", \"L\", \"M\", \"N\", \"O\", \"P\", \"Q\", \"R\", \"S\", \"T\", \"U\", \"V\", \"W\", \"X\", \"Y\", \"Z\",'co','op','research-articl', 'pagecount','cit','ibid','les','le','au','que','est','pas','vol','el','los','pp','u201d','well-b', 'http', 'volumtype', 'par', '0o', '0s', '3a', '3b', '3d', '6b', '6o', 'a1', 'a2', 'a3', 'a4', 'ab', 'ac', 'ad', 'ae', 'af', 'ag', 'aj', 'al', 'an', 'ao', 'ap', 'ar', 'av', 'aw', 'ax', 'ay', 'az', 'b1', 'b2', 'b3', 'ba', 'bc', 'bd', 'be', 'bi', 'bj', 'bk', 'bl', 'bn', 'bp', 'br', 'bs', 'bt', 'bu', 'bx', 'c1', 'c2', 'c3', 'cc', 'cd', 'ce', 'cf', 'cg', 'ch', 'ci', 'cj', 'cl', 'cm', 'cn', 'cp', 'cq', 'cr', 'cs', 'ct', 'cu', 'cv', 'cx', 'cy', 'cz', 'd2', 'da', 'dc', 'dd', 'de', 'df', 'di', 'dj', 'dk', 'dl', 'do', 'dp', 'dr', 'ds', 'dt', 'du', 'dx', 'dy', 'e2', 'e3', 'ea', 'ec', 'ed', 'ee', 'ef', 'ei', 'ej', 'el', 'em', 'en', 'eo', 'ep', 'eq', 'er', 'es', 'et', 'eu', 'ev', 'ex', 'ey', 'f2', 'fa', 'fc', 'ff', 'fi', 'fj', 'fl', 'fn', 'fo', 'fr', 'fs', 'ft', 'fu', 'fy', 'ga', 'ge', 'gi', 'gj', 'gl', 'go', 'gr', 'gs', 'gy', 'h2', 'h3', 'hh', 'hi', 'hj', 'ho', 'hr', 'hs', 'hu', 'hy', 'i', 'i2', 'i3', 'i4', 'i6', 'i7', 'i8', 'ia', 'ib', 'ic', 'ie', 'ig', 'ih', 'ii', 'ij', 'il', 'in', 'io', 'ip', 'iq', 'ir', 'iv', 'ix', 'iy', 'iz', 'jj', 'jr', 'js', 'jt', 'ju', 'ke', 'kg', 'kj', 'km', 'ko', 'l2', 'la', 'lb', 'lc', 'lf', 'lj', 'ln', 'lo', 'lr', 'ls', 'lt', 'm2', 'ml', 'mn', 'mo', 'ms', 'mt', 'mu', 'n2', 'nc', 'nd', 'ne', 'ng', 'ni', 'nj', 'nl', 'nn', 'nr', 'ns', 'nt', 'ny', 'oa', 'ob', 'oc', 'od', 'of', 'og', 'oi', 'oj', 'ol', 'om', 'on', 'oo', 'oq', 'or', 'os', 'ot', 'ou', 'ow', 'ox', 'oz', 'p1', 'p2', 'p3', 'pc', 'pd', 'pe', 'pf', 'ph', 'pi', 'pj', 'pk', 'pl', 'pm', 'pn', 'po', 'pq', 'pr', 'ps', 'pt', 'pu', 'py', 'qj', 'qu', 'r2', 'ra', 'rc', 'rd', 'rf', 'rh', 'ri', 'rj', 'rl', 'rm', 'rn', 'ro', 'rq', 'rr', 'rs', 'rt', 'ru', 'rv', 'ry', 's2', 'sa', 'sc', 'sd', 'se', 'sf', 'si', 'sj', 'sl', 'sm', 'sn', 'sp', 'sq', 'sr', 'ss', 'st', 'sy', 'sz', 't1', 't2', 't3', 'tb', 'tc', 'td', 'te', 'tf', 'th', 'ti', 'tj', 'tl', 'tm', 'tn', 'tp', 'tq', 'tr', 'ts', 'tt', 'tv', 'tx', 'ue', 'ui', 'uj', 'uk', 'um', 'un', 'uo', 'ur', 'ut', 'va', 'wa', 'vd', 'wi', 'vj', 'vo', 'wo', 'vq', 'vt', 'vu', 'x1', 'x2', 'x3', 'xf', 'xi', 'xj', 'xk', 'xl', 'xn', 'xo', 'xs', 'xt', 'xv', 'xx', 'y2', 'yj', 'yl', 'yr', 'ys', 'yt', 'zi', 'zz'])"
   ]
  },
  {
   "cell_type": "code",
   "execution_count": 8,
   "metadata": {},
   "outputs": [],
   "source": [
    "import re\n",
    "\n",
    "# data cleaning\n",
    "def data_list(data,stop):\n",
    "    \n",
    "    #from nltk.stem.lancaster import LancasterStemmer\n",
    "    #st = LancasterStemmer()\n",
    "    \n",
    "    new_data = []\n",
    "    for item in data:\n",
    "        \n",
    "        #if type(item)== str: doc = nlp(item)\n",
    "        # document level language detection. Think of it like average language of document!\n",
    "        #lang = doc._.language['language']\n",
    "        #print(lang)\n",
    "        \n",
    "        #if (type(item) == str) and (lang ==\"en\"):\n",
    "        if (type(item) == str):\n",
    "            #print(item)\n",
    "            #print(\"\\n\")\n",
    "    \n",
    "    # delete some expressions\n",
    "            if \"== Created by\": pass\n",
    "    \n",
    "    # delete weblinks\n",
    "            item = re.sub(r'http[s]?://(?:[a-zA-Z]|[0-9]|[$-_@.&+]|[!*\\(\\), ]|(?:%[0-9a-fA-F][0-9a-fA-F]))+',\"\",item)\n",
    "    #lower case\n",
    "            item = item.lower()\n",
    "    \n",
    "    # remove newlines\n",
    "            item = re.sub(r'\\r\\n\\r\\n\\r\\n\\r\\n', '. ', item)\n",
    "\n",
    "    # remove emails\n",
    "            item = re.sub('\\S*@\\S*\\s?', '', item)\n",
    "        \n",
    "    # remove <...> and {...}\n",
    "            item = re.sub('<.*?>','',item)\n",
    "            item = re.sub('{.*?}','',item)\n",
    "\n",
    "    # remove all numbers; puntuations\n",
    "            item = re.sub(r'\\d+', '',item)\n",
    "            item = re.sub(r'\\+', '',item)\n",
    "            item = re.sub(r'\\|',\"\",item)\n",
    "            #item = re.sub(r'==','',item)\n",
    "            #item = re.sub(r'\\*','',item)\n",
    "            #item = re.sub(r'\\_','',item)\n",
    "            item = re.sub(r'[^\\w\\s]', '', item)\n",
    "    \n",
    "    # remove specific words or phrases\n",
    "            item = re.sub('hi team',\"\",item)\n",
    "            item = re.sub(\"hey\",\"\",item)\n",
    "            item = re.sub(\"hi\",\"\",item)\n",
    "            item = re.sub(\"hi there\",\"\",item)\n",
    "            \n",
    "            #print(item)\n",
    "            \n",
    "            w_list = item.split()\n",
    "            #print(w_list)\n",
    "            w = []  \n",
    "            for word in w_list:\n",
    "                if word not in stop:\n",
    "                    w.append(word)\n",
    "            new_data.append(w)\n",
    "        \n",
    "    return(new_data)"
   ]
  },
  {
   "cell_type": "code",
   "execution_count": 9,
   "metadata": {},
   "outputs": [
    {
     "name": "stdout",
     "output_type": "stream",
     "text": [
      "The top 10 words for the sample corpus: \n",
      "\n",
      "\n",
      "('police', 112) ('president', 105) ('people', 98) ('obama', 91) ('iraq', 75) ('killed', 66) ('clinton', 62) ('bush', 58) ('years', 56) ('year', 55)\n"
     ]
    }
   ],
   "source": [
    "# define a word frequency count function\n",
    "import itertools\n",
    "from collections import Counter\n",
    "\n",
    "def frequency_counts(list_name,st,num):\n",
    "    x = data_list(list_name,stop_words)\n",
    "    #print(x)\n",
    "    merged = list(itertools.chain(*x))# merge the list\n",
    "    #print(merged)\n",
    "    counts = Counter(merged) # count freq\n",
    "    y = list(counts.items())\n",
    "    MY_SORTED_TUPLE = list(sorted(y, key=lambda item: item[1],reverse=True)) # demonstrate the results in a tuple\n",
    "    #print(MY_SORTED_TUPLE)\n",
    "    print(f\"The top {num} words for {st}: \\n\\n\")\n",
    "    return MY_SORTED_TUPLE[0:num] # top-n words\n",
    "\n",
    "freq = frequency_counts(sample_data,\"the sample corpus\",10)\n",
    "print(*freq)"
   ]
  },
  {
   "cell_type": "markdown",
   "metadata": {},
   "source": [
    "### 4.1 Bar chart"
   ]
  },
  {
   "cell_type": "code",
   "execution_count": 10,
   "metadata": {},
   "outputs": [
    {
     "data": {
      "text/plain": [
       "<Figure size 1000x1000 with 1 Axes>"
      ]
     },
     "metadata": {},
     "output_type": "display_data"
    }
   ],
   "source": [
    "# create a bar chart\n",
    "import matplotlib\n",
    "import matplotlib.pyplot as plt\n",
    "import matplotlib.ticker as mticker\n",
    "from matplotlib.pyplot import figure\n",
    "from textwrap import wrap\n",
    "\n",
    "def bar(count_tuple,title):\n",
    "    x = [item[0] for item in count_tuple[0:9]]\n",
    "    y = [item[1] for item in count_tuple[0:9]]\n",
    "    \n",
    "    x = [re.sub(\"(.{10})\", \"\\\\1\\n\", label, 0, re.DOTALL) for label in x]\n",
    "\n",
    "    #y = ['\\n'.join(wrap(1,12)) for item in y]\n",
    "    \n",
    "    plt.figure(figsize=(10,10))\n",
    "    matplotlib.rcParams.update({'font.size': 10})\n",
    "    \n",
    "    plt.bar(x,y)\n",
    "\n",
    "    plt.title(title)\n",
    "    plt.xlabel('Words')\n",
    "    \n",
    "    plt.ylabel('Counts')\n",
    "    plt.show()\n",
    "    plt.close()\n",
    "    \n",
    "bar(freq,'Top-10 single-word topics')"
   ]
  },
  {
   "cell_type": "markdown",
   "metadata": {},
   "source": [
    "### 4.2 Treemap"
   ]
  },
  {
   "cell_type": "code",
   "execution_count": 11,
   "metadata": {},
   "outputs": [
    {
     "data": {
      "image/png": "[encoded data removed]",
      "text/plain": [
       "<Figure size 2160x2160 with 1 Axes>"
      ]
     },
     "metadata": {
      "needs_background": "light"
     },
     "output_type": "display_data"
    }
   ],
   "source": [
    "import squarify \n",
    "\n",
    "it_tm = freq\n",
    "\n",
    "sizes = [item[1] for item in it_tm]\n",
    "label=[item[0] for item in it_tm]\n",
    "plt.figure(figsize=(30,30))\n",
    "matplotlib.rcParams.update({'font.size': 22.5})\n",
    "color=['red','blue','green','yellow','lightgreen']\n",
    "squarify.plot(sizes=sizes, color=color,label=label, alpha=0.6)\n",
    "\n",
    "plt.axis('off')\n",
    "plt.show()\n",
    "plt.close()"
   ]
  },
  {
   "cell_type": "markdown",
   "metadata": {},
   "source": [
    "### 4.3 Word cloud"
   ]
  },
  {
   "cell_type": "code",
   "execution_count": 12,
   "metadata": {},
   "outputs": [
    {
     "name": "stdout",
     "output_type": "stream",
     "text": [
      "{'police': 112, 'president': 105, 'people': 98, 'obama': 91, 'iraq': 75, 'killed': 66, 'clinton': 62, 'bush': 58, 'years': 56, 'year': 55}\n"
     ]
    },
    {
     "data": {
      "image/png": "[encoded data removed]",
      "text/plain": [
       "<Figure size 1080x576 with 1 Axes>"
      ]
     },
     "metadata": {
      "needs_background": "light"
     },
     "output_type": "display_data"
    }
   ],
   "source": [
    "from wordcloud import WordCloud\n",
    "import matplotlib.pyplot as plt\n",
    "\n",
    "def word_cloud(tupl):\n",
    "    dic = {}\n",
    "    for item in tupl:\n",
    "        dic[item[0]]=item[1]\n",
    "    print(dic)\n",
    "    wordcloud = WordCloud(background_color=\"white\", width = 1000, height = 500).generate_from_frequencies(dic)\n",
    "\n",
    "    plt.figure(figsize=(15,8))\n",
    "    plt.axis('off')\n",
    "    plt.imshow(wordcloud)\n",
    "\n",
    "word_cloud(freq)"
   ]
  },
  {
   "cell_type": "markdown",
   "metadata": {},
   "source": [
    "## 5. TF-IDF"
   ]
  },
  {
   "cell_type": "code",
   "execution_count": 13,
   "metadata": {},
   "outputs": [],
   "source": [
    "from sklearn.feature_extraction.text import TfidfVectorizer\n",
    "\n",
    "x = data_list(sample_data[0:10],stop_words)\n"
   ]
  },
  {
   "cell_type": "code",
   "execution_count": 14,
   "metadata": {},
   "outputs": [
    {
     "name": "stdout",
     "output_type": "stream",
     "text": [
      "actor 2.7047480922384253\n",
      "address 2.7047480922384253\n",
      "administration 2.7047480922384253\n",
      "admits 2.7047480922384253\n",
      "aid 2.7047480922384253\n",
      "anytng 2.7047480922384253\n",
      "atlanta 2.7047480922384253\n",
      "attempt 2.7047480922384253\n",
      "august 2.7047480922384253\n",
      "avoidable 2.7047480922384253\n",
      "awareness 2.7047480922384253\n",
      "battle 2.7047480922384253\n",
      "beam 2.7047480922384253\n",
      "bore 2.7047480922384253\n",
      "bridge 2.7047480922384253\n",
      "burn 2.7047480922384253\n",
      "bush 1.7884573603642702\n",
      "camp 2.7047480922384253\n",
      "cancer 2.7047480922384253\n",
      "cash 2.7047480922384253\n",
      "cef 2.2992829841302607\n",
      "center 2.7047480922384253\n",
      "change 2.7047480922384253\n",
      "cldren 2.7047480922384253\n",
      "cnn 2.2992829841302607\n",
      "collapsed 2.7047480922384253\n",
      "colonoscopy 2.7047480922384253\n",
      "conduct 2.7047480922384253\n",
      "cost 2.7047480922384253\n",
      "court 2.7047480922384253\n",
      "critical 2.7047480922384253\n",
      "cut 2.7047480922384253\n",
      "dad 2.7047480922384253\n",
      "dana 2.7047480922384253\n",
      "daniel 2.7047480922384253\n",
      "david 2.7047480922384253\n",
      "debate 2.7047480922384253\n",
      "deeply 2.7047480922384253\n",
      "die 2.7047480922384253\n",
      "dogfighting 2.7047480922384253\n",
      "dream 2.7047480922384253\n",
      "drilled 2.7047480922384253\n",
      "drive 2.7047480922384253\n",
      "driver 2.7047480922384253\n",
      "earnings 2.7047480922384253\n",
      "emboldened 2.7047480922384253\n",
      "everytng 2.7047480922384253\n",
      "face 2.7047480922384253\n",
      "facility 2.7047480922384253\n",
      "falcons 2.7047480922384253\n",
      "fall 2.7047480922384253\n",
      "federal 2.7047480922384253\n",
      "feed 2.7047480922384253\n",
      "felonies 2.7047480922384253\n",
      "fighting 2.7047480922384253\n",
      "films 2.7047480922384253\n",
      "floor 2.7047480922384253\n",
      "folded 2.7047480922384253\n",
      "foot 2.7047480922384253\n",
      "foreign 2.7047480922384253\n",
      "forgotten 2.7047480922384253\n",
      "fortune 2.7047480922384253\n",
      "free 2.7047480922384253\n",
      "fritter 2.7047480922384253\n",
      "fund 2.7047480922384253\n",
      "funding 2.7047480922384253\n",
      "future 2.7047480922384253\n",
      "gamble 2.7047480922384253\n",
      "group 2.7047480922384253\n",
      "half 2.7047480922384253\n",
      "happy 2.7047480922384253\n",
      "harry 2.7047480922384253\n",
      "health 2.7047480922384253\n",
      "held 2.7047480922384253\n",
      "holes 2.7047480922384253\n",
      "hour 2.7047480922384253\n",
      "house 2.7047480922384253\n",
      "housed 2.7047480922384253\n",
      "ill 2.7047480922384253\n",
      "increased 2.7047480922384253\n",
      "indefinitely 2.7047480922384253\n",
      "inmates 2.7047480922384253\n",
      "iraq 2.2992829841302607\n",
      "iraqi 2.7047480922384253\n",
      "job 2.7047480922384253\n",
      "judge 2.7047480922384253\n",
      "lady 2.7047480922384253\n",
      "latest 2.7047480922384253\n",
      "leaders 2.7047480922384253\n",
      "leaving 2.7047480922384253\n",
      "leifman 2.7047480922384253\n",
      "life 2.7047480922384253\n",
      "living 2.7047480922384253\n",
      "man 2.7047480922384253\n",
      "men 2.7047480922384253\n",
      "mentally 2.7047480922384253\n",
      "miami 2.7047480922384253\n",
      "michael 2.7047480922384253\n",
      "minnesota 2.7047480922384253\n",
      "mom 2.7047480922384253\n",
      "monday 2.2992829841302607\n",
      "mothers 2.7047480922384253\n",
      "mountain 2.7047480922384253\n",
      "nfl 2.7047480922384253\n",
      "offered 2.7047480922384253\n",
      "operation 2.7047480922384253\n",
      "options 2.7047480922384253\n",
      "outpouring 2.7047480922384253\n",
      "owner 2.7047480922384253\n",
      "parents 2.7047480922384253\n",
      "patient 2.7047480922384253\n",
      "pay 2.7047480922384253\n",
      "perino 2.7047480922384253\n",
      "pickup 2.7047480922384253\n",
      "plans 2.7047480922384253\n",
      "political 2.7047480922384253\n",
      "polyps 2.7047480922384253\n",
      "potter 2.7047480922384253\n",
      "powers 2.7047480922384253\n",
      "president 1.6061358035703155\n",
      "press 2.7047480922384253\n",
      "pride 2.7047480922384253\n",
      "problem 2.7047480922384253\n",
      "procedure 2.7047480922384253\n",
      "prostitution 2.7047480922384253\n",
      "provide 2.7047480922384253\n",
      "quarterback 2.7047480922384253\n",
      "radcliffe 2.7047480922384253\n",
      "raise 2.7047480922384253\n",
      "reclaims 2.7047480922384253\n",
      "reconstructive 2.7047480922384253\n",
      "reframe 2.7047480922384253\n",
      "remains 2.7047480922384253\n",
      "result 2.7047480922384253\n",
      "routine 2.7047480922384253\n",
      "rush 2.7047480922384253\n",
      "saddened 2.7047480922384253\n",
      "safety 2.7047480922384253\n",
      "secretary 2.7047480922384253\n",
      "september 2.7047480922384253\n",
      "shouts 2.7047480922384253\n",
      "signs 2.7047480922384253\n",
      "small 2.7047480922384253\n",
      "smiling 2.7047480922384253\n",
      "snow 2.7047480922384253\n",
      "son 2.7047480922384253\n",
      "speech 2.7047480922384253\n",
      "spokesman 2.7047480922384253\n",
      "star 2.7047480922384253\n",
      "steven 2.7047480922384253\n",
      "succeeded 2.7047480922384253\n",
      "support 2.7047480922384253\n",
      "surgeries 2.7047480922384253\n",
      "suspends 2.7047480922384253\n",
      "terrorists 2.7047480922384253\n",
      "thought 2.7047480922384253\n",
      "today 2.7047480922384253\n",
      "tony 2.7047480922384253\n",
      "tours 2.7047480922384253\n",
      "tragedy 2.7047480922384253\n",
      "transferred 2.7047480922384253\n",
      "trapped 2.7047480922384253\n",
      "treatment 2.7047480922384253\n",
      "truck 2.7047480922384253\n",
      "trust 2.7047480922384253\n",
      "turned 2.7047480922384253\n",
      "turns 2.7047480922384253\n",
      "uncertain 2.7047480922384253\n",
      "undergoes 2.7047480922384253\n",
      "underground 2.7047480922384253\n",
      "unjust 2.7047480922384253\n",
      "veterans 2.7047480922384253\n",
      "vice 2.7047480922384253\n",
      "vick 2.7047480922384253\n",
      "vietnam 2.7047480922384253\n",
      "violence 2.7047480922384253\n",
      "wars 2.7047480922384253\n",
      "wednesday 2.2992829841302607\n",
      "win 2.7047480922384253\n",
      "withdrawing 2.7047480922384253\n",
      "wle 2.7047480922384253\n",
      "woman 2.7047480922384253\n",
      "women 2.7047480922384253\n",
      "workers 2.7047480922384253\n",
      "working 2.7047480922384253\n",
      "worrisome 2.7047480922384253\n",
      "wte 2.7047480922384253\n",
      "young 2.7047480922384253\n",
      "youssif 2.7047480922384253\n"
     ]
    }
   ],
   "source": [
    "from sklearn.feature_extraction.text import CountVectorizer, TfidfTransformer\n",
    "\n",
    "def TF_IDF(list_name):\n",
    "    \n",
    "    list_name = [\" \".join(item) for item in list_name]\n",
    "    #print(list_name)\n",
    "\n",
    "    cv = CountVectorizer()\n",
    "\n",
    "    # convert text data into term-frequency matrix\n",
    "    data = cv.fit_transform(list_name)\n",
    "\n",
    "    tfidf_transformer = TfidfTransformer()\n",
    "\n",
    "    # convert term-frequency matrix into tf-idf\n",
    "    tfidf_matrix = tfidf_transformer.fit_transform(data)\n",
    "\n",
    "    # create dictionary to find a tfidf word each word\n",
    "    word2tfidf = dict(zip(cv.get_feature_names(), tfidf_transformer.idf_))\n",
    "\n",
    "    for word, score in word2tfidf.items():\n",
    "        print(word, score)\n",
    "\n",
    "TF_IDF(x)"
   ]
  },
  {
   "cell_type": "markdown",
   "metadata": {},
   "source": [
    "## 6. Sentimental Analysis\n",
    "### 6.1 Unified"
   ]
  },
  {
   "cell_type": "code",
   "execution_count": 15,
   "metadata": {},
   "outputs": [
    {
     "name": "stdout",
     "output_type": "stream",
     "text": [
      " orme , tennessee , has running water from 6 p.m. to 9 p.m.   town 's spring ran dry in midst of southeast drought .   donated water is trucked in from alabama .   completion of pipeline will solve problem for good . \n",
      "\n",
      "\n",
      "The unified sentiment score: 0.31666666666666665\n"
     ]
    }
   ],
   "source": [
    "# textblob returns a unified scale of sentiment from -1 to 1\n",
    "from textblob import TextBlob\n",
    "\n",
    "def textblob_senti(sen):\n",
    "    result = TextBlob(sen).sentiment\n",
    "    #print(result)\n",
    "    print (sen + \"\\n\\n\")\n",
    "    print(f\"The unified sentiment score: {result[0]}\")\n",
    "\n",
    "textblob_senti(sample_data[45])   "
   ]
  },
  {
   "cell_type": "markdown",
   "metadata": {},
   "source": [
    "### 6.2 Combined"
   ]
  },
  {
   "cell_type": "code",
   "execution_count": 16,
   "metadata": {},
   "outputs": [
    {
     "name": "stdout",
     "output_type": "stream",
     "text": [
      " orme , tennessee , has running water from 6 p.m. to 9 p.m.   town 's spring ran dry in midst of southeast drought .   donated water is trucked in from alabama .   completion of pipeline will solve problem for good . \n",
      "\n",
      "\n",
      "The vader sentiment scores are: \n",
      "\n",
      "\n",
      "{'neg': 0.059, 'neu': 0.837, 'pos': 0.104, 'compound': 0.25}\n"
     ]
    }
   ],
   "source": [
    "# vader uses combined scoring\n",
    "from vaderSentiment.vaderSentiment import SentimentIntensityAnalyzer\n",
    "\n",
    "def vader(sen):\n",
    "    \n",
    "    analyzer = SentimentIntensityAnalyzer()\n",
    "    vs = analyzer.polarity_scores(sen)\n",
    "    print (sen + \"\\n\\n\")\n",
    "    print(\"The vader sentiment scores are: \\n\\n\")\n",
    "    \n",
    "    print (str(vs))\n",
    "    #return str(vs)\n",
    "    \n",
    "vader(sample_data[45])"
   ]
  },
  {
   "cell_type": "markdown",
   "metadata": {},
   "source": [
    "### 6.3 Sentiment labels"
   ]
  },
  {
   "cell_type": "code",
   "execution_count": 17,
   "metadata": {},
   "outputs": [
    {
     "name": "stdout",
     "output_type": "stream",
     "text": [
      "2021-06-29 18:06:30,933 loading file /Users/taolin/.flair/models/sentiment-en-mix-distillbert_4.pt\n",
      "The Flair sentiment is: \n"
     ]
    },
    {
     "data": {
      "text/plain": [
       "NEGATIVE (0.9975)"
      ]
     },
     "execution_count": 17,
     "metadata": {},
     "output_type": "execute_result"
    }
   ],
   "source": [
    "# Flair returns a sentiment label after classification\n",
    "from flair.models import TextClassifier\n",
    "from flair.data import Sentence\n",
    "\n",
    "classifier = TextClassifier.load('en-sentiment') #if needed\n",
    "\n",
    "def flair(sen):\n",
    "    sentence = Sentence(sen)\n",
    "    classifier.predict(sentence)\n",
    "\n",
    "    print('The Flair sentiment is: ')\n",
    "    return sentence.labels[0]\n",
    "\n",
    "flair(sample_data[45])"
   ]
  }
 ],
 "metadata": {
  "kernelspec": {
   "display_name": "Python 3",
   "language": "python",
   "name": "python3"
  },
  "language_info": {
   "codemirror_mode": {
    "name": "ipython",
    "version": 3
   },
   "file_extension": ".py",
   "mimetype": "text/x-python",
   "name": "python",
   "nbconvert_exporter": "python",
   "pygments_lexer": "ipython3",
   "version": "3.7.4"
  },
  "toc": {
   "base_numbering": 1,
   "nav_menu": {},
   "number_sections": false,
   "sideBar": true,
   "skip_h1_title": false,
   "title_cell": "Table of Contents",
   "title_sidebar": "Contents",
   "toc_cell": true,
   "toc_position": {
    "height": "calc(100% - 180px)",
    "left": "10px",
    "top": "150px",
    "width": "165px"
   },
   "toc_section_display": true,
   "toc_window_display": true
  }
 },
 "nbformat": 4,
 "nbformat_minor": 2
}
