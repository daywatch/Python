{
  "cells": [
    {
      "cell_type": "markdown",
      "source": [
        "## `Inheritance`"
      ],
      "metadata": {
        "id": "gegYppGEdpSC"
      }
    },
    {
      "cell_type": "code",
      "source": [
        "# intro\n",
        "\n",
        "class Person():\n",
        "  #initialization\n",
        "  def __init__(self, name, age, color):\n",
        "\n",
        "    # attributes\n",
        "    self.name = name\n",
        "    self.age = age\n",
        "    self.color = color\n",
        "\n",
        "  # create a dob method\n",
        "  def year_of_birth(self):\n",
        "    return 2021-self.age\n",
        "\n",
        "  # project age\n",
        "  def projected_age(self,years = 5):\n",
        "    return self.age+years\n",
        "\n",
        "class Astronaut(Person):\n",
        "  #initialization\n",
        "  def __init__(self, name, age, color,mission_length):\n",
        "    super().__init__(name,age,color) #inheritance\n",
        "    self.mission_length = mission_length\n",
        "\n",
        "  def age_of_return(self): #qupte a previous method\n",
        "    return self.projected_age(years = self.mission_length)"
      ],
      "metadata": {
        "id": "XmECjPAIdsGF"
      },
      "execution_count": null,
      "outputs": []
    },
    {
      "cell_type": "code",
      "source": [
        "# class -> object"
      ],
      "execution_count": null,
      "outputs": [],
      "metadata": {
        "id": "4eO3DhipdpSE"
      }
    },
    {
      "cell_type": "code",
      "source": [
        "# superclass or base class or parent class\n",
        "class Virus:\n",
        "    pass\n",
        "\n",
        "\n",
        "# derived class, or child class\n",
        "# or subclass or subtype\n",
        "class RNAVirus(Virus):\n",
        "    pass"
      ],
      "execution_count": null,
      "outputs": [],
      "metadata": {
        "id": "AHZmfXG3dpSG"
      }
    },
    {
      "cell_type": "code",
      "source": [
        "# \"is a\" relationships"
      ],
      "execution_count": null,
      "outputs": [],
      "metadata": {
        "id": "CDMi1FR2dpSH"
      }
    },
    {
      "cell_type": "code",
      "source": [
        "class Virus:\n",
        "    pass\n",
        "\n",
        "class RNAVirus(Virus):\n",
        "    pass\n",
        "\n",
        "class Coronavirus(RNAVirus):\n",
        "    pass\n",
        "\n",
        "class SARSCov2(Coronavirus):\n",
        "    pass"
      ],
      "execution_count": null,
      "outputs": [],
      "metadata": {
        "id": "ehJxavkhdpSH"
      }
    },
    {
      "cell_type": "code",
      "source": [
        "issubclass(SARSCov2, Coronavirus)"
      ],
      "execution_count": null,
      "outputs": [
        {
          "data": {
            "text/plain": [
              "True"
            ]
          },
          "metadata": {},
          "output_type": "display_data"
        }
      ],
      "metadata": {
        "id": "HGIb19vGdpSH",
        "outputId": "13cddc7e-d88e-43f5-902c-c4df609807ba"
      }
    },
    {
      "cell_type": "code",
      "source": [
        "issubclass(Coronavirus, RNAVirus)"
      ],
      "execution_count": null,
      "outputs": [
        {
          "data": {
            "text/plain": [
              "True"
            ]
          },
          "metadata": {},
          "output_type": "display_data"
        }
      ],
      "metadata": {
        "id": "lUAWzEmUdpSI",
        "outputId": "23162b62-1fb1-4aee-cace-9eab880d7bfa"
      }
    },
    {
      "cell_type": "code",
      "source": [
        "issubclass(SARSCov2, Virus)"
      ],
      "execution_count": null,
      "outputs": [
        {
          "data": {
            "text/plain": [
              "True"
            ]
          },
          "metadata": {},
          "output_type": "display_data"
        }
      ],
      "metadata": {
        "id": "nvXkxrUjdpSJ",
        "outputId": "e9e1f737-0e39-4f01-d37f-2defd12877f9"
      }
    },
    {
      "cell_type": "markdown",
      "source": [
        "## `What's Inheritance Good For?`"
      ],
      "metadata": {
        "id": "dZ40sNEQdpSJ"
      }
    },
    {
      "cell_type": "code",
      "source": [
        "class Virus:\n",
        "    def __init__(self, name, reproduction_rate, resistance):\n",
        "        self.name = name\n",
        "        self.reproduction_rate = reproduction_rate\n",
        "        self.load = 1\n",
        "        self.host = None\n",
        "\n",
        "    def infect(self, host):\n",
        "        self.host = host\n",
        "\n",
        "    def reproduce(self):\n",
        "        if self.host is not None:\n",
        "            self.load *= (1 + self.reproduction_rate)\n",
        "\n",
        "            return True, f\"Virus reproduced in {self.host}. Viral load: {int(self.load)}\"\n",
        "\n",
        "        raise AttributeError(\"Virus needs to infect a host before being able to reproduce.\")"
      ],
      "execution_count": null,
      "outputs": [],
      "metadata": {
        "id": "VdGzNFgMdpSJ"
      }
    },
    {
      "cell_type": "code",
      "source": [
        "v = Virus(\"chandipura\", 1.2, 1.1)"
      ],
      "execution_count": null,
      "outputs": [],
      "metadata": {
        "id": "PvRWfHUYdpSJ"
      }
    },
    {
      "cell_type": "code",
      "source": [
        "v.reproduce()"
      ],
      "execution_count": null,
      "outputs": [
        {
          "ename": "AttributeError",
          "evalue": "AttributeError: Virus needs to infect a host before being able to reproduce.",
          "traceback": [
            "\u001b[0;31m---------------------------------------------------------------------------",
            "Traceback (most recent call last)",
            "    at line 1 in <module>",
            "    at line 17 in reproduce(self)",
            "AttributeError: Virus needs to infect a host before being able to reproduce."
          ],
          "output_type": "error"
        }
      ],
      "metadata": {
        "id": "kenO_52mdpSK",
        "outputId": "ed9bec53-79e9-4f07-9de4-06bc383f5d6d"
      }
    },
    {
      "cell_type": "code",
      "source": [
        "v.infect(\"animal1\")"
      ],
      "execution_count": null,
      "outputs": [],
      "metadata": {
        "id": "3PaLQB7UdpSK"
      }
    },
    {
      "cell_type": "code",
      "source": [
        "v.reproduce()"
      ],
      "execution_count": null,
      "outputs": [
        {
          "data": {
            "text/plain": [
              "(True, 'Virus reproduced in animal1. Viral load: 2')"
            ]
          },
          "metadata": {},
          "output_type": "display_data"
        }
      ],
      "metadata": {
        "id": "Wa-iOyTUdpSK",
        "outputId": "b3c012ef-7374-432b-a97c-19bce724a66c"
      }
    },
    {
      "cell_type": "code",
      "source": [
        "class RNAVirus(Virus):\n",
        "    genome = \"ribonucleic\"\n",
        "\n",
        "    def reproduce(self):\n",
        "        success, status = Virus.reproduce(self)\n",
        "\n",
        "        if success:\n",
        "            print(f\"{self.name} just replicated in the cytoplasm of {self.host} cells\")"
      ],
      "execution_count": null,
      "outputs": [],
      "metadata": {
        "id": "kkDkQgKDdpSK"
      }
    },
    {
      "cell_type": "code",
      "source": [
        "class DNAVirus(Virus):\n",
        "    genome = \"deoxyribonucleic\"\n",
        "\n",
        "    def reproduce(self):\n",
        "        success, status = Virus.reproduce(self)\n",
        "\n",
        "        if success:\n",
        "            print(f\"{self.name} just replicated in the nucleus of {self.host} cells\")"
      ],
      "execution_count": null,
      "outputs": [],
      "metadata": {
        "id": "A1mR-AGOdpSL"
      }
    },
    {
      "cell_type": "code",
      "source": [
        "r = RNAVirus(\"HIV\", 1.1, 0.2)"
      ],
      "execution_count": null,
      "outputs": [],
      "metadata": {
        "id": "KFMcU_y8dpSL"
      }
    },
    {
      "cell_type": "code",
      "source": [
        "r.reproduce()"
      ],
      "execution_count": null,
      "outputs": [
        {
          "ename": "AttributeError",
          "evalue": "AttributeError: Virus needs to infect a host before being able to reproduce.",
          "traceback": [
            "\u001b[0;31m---------------------------------------------------------------------------",
            "Traceback (most recent call last)",
            "    at line 1 in <module>",
            "    at line 5 in reproduce(self)",
            "    at line 17 in reproduce(self)",
            "AttributeError: Virus needs to infect a host before being able to reproduce."
          ],
          "output_type": "error"
        }
      ],
      "metadata": {
        "id": "LqsrQmEtdpSL",
        "outputId": "e264be5f-5a59-474e-c94d-f0d9aa423f7b"
      }
    },
    {
      "cell_type": "code",
      "source": [
        "r.infect(\"monkey0\")"
      ],
      "execution_count": null,
      "outputs": [],
      "metadata": {
        "id": "66gbky6DdpSL"
      }
    },
    {
      "cell_type": "code",
      "source": [
        "r.reproduce()"
      ],
      "execution_count": null,
      "outputs": [
        {
          "name": "stdout",
          "text": [
            "HIV just replicated in the cytoplasm of monkey0 cells\n"
          ],
          "output_type": "stream"
        }
      ],
      "metadata": {
        "id": "sz2A5ykddpSL",
        "outputId": "b4b6a807-0501-48b1-8ec2-c215a5f2ae61"
      }
    },
    {
      "cell_type": "code",
      "source": [
        "d = DNAVirus(\"Ecoli\", 2.1, 0.2)"
      ],
      "execution_count": null,
      "outputs": [],
      "metadata": {
        "id": "AS0O92QYdpSM"
      }
    },
    {
      "cell_type": "code",
      "source": [
        "d.infect(\"sheep1\")"
      ],
      "execution_count": null,
      "outputs": [],
      "metadata": {
        "id": "AzDygzVTdpSM"
      }
    },
    {
      "cell_type": "code",
      "source": [
        "d.reproduce()"
      ],
      "execution_count": null,
      "outputs": [
        {
          "name": "stdout",
          "text": [
            "Ecoli just replicated in the nucleus of sheep1 cells\n"
          ],
          "output_type": "stream"
        }
      ],
      "metadata": {
        "id": "gu6nUI_fdpSU",
        "outputId": "4361b9cf-94a8-4b33-bf65-9d60b8204941"
      }
    },
    {
      "cell_type": "code",
      "source": [
        "d.genome, r.genome"
      ],
      "execution_count": null,
      "outputs": [
        {
          "data": {
            "text/plain": [
              "('deoxyribonucleic', 'ribonucleic')"
            ]
          },
          "metadata": {},
          "output_type": "display_data"
        }
      ],
      "metadata": {
        "id": "2CnfEUzddpSU",
        "outputId": "a12b7c74-a194-4c30-d7ac-09121d070eb0"
      }
    },
    {
      "cell_type": "markdown",
      "source": [
        "## `All Classes Inherit From object`"
      ],
      "metadata": {
        "id": "jtioOjBbdpSV"
      }
    },
    {
      "cell_type": "code",
      "source": [
        "class Virus:\n",
        "    pass\n",
        "\n",
        "class RNAVirus(Virus):\n",
        "    pass"
      ],
      "execution_count": null,
      "outputs": [],
      "metadata": {
        "id": "O4N1eSjodpSV"
      }
    },
    {
      "cell_type": "code",
      "source": [
        "object"
      ],
      "execution_count": null,
      "outputs": [
        {
          "data": {
            "text/plain": [
              "object"
            ]
          },
          "metadata": {},
          "output_type": "display_data"
        }
      ],
      "metadata": {
        "id": "XWj8s98mdpSV",
        "outputId": "044f1f2f-a4c1-4688-ea71-862cb0f592e6"
      }
    },
    {
      "cell_type": "code",
      "source": [
        "object()"
      ],
      "execution_count": null,
      "outputs": [
        {
          "data": {
            "text/plain": [
              "<object at 0x7fc01ba60eb0>"
            ]
          },
          "metadata": {},
          "output_type": "display_data"
        }
      ],
      "metadata": {
        "id": "Mhbmj5pRdpSW",
        "outputId": "4ae318ff-f64c-4276-dcf6-efc734ed45c1"
      }
    },
    {
      "cell_type": "code",
      "source": [
        "# sentinel"
      ],
      "execution_count": null,
      "outputs": [],
      "metadata": {
        "id": "dGTkS3A3dpSW"
      }
    },
    {
      "cell_type": "code",
      "source": [
        "o1 = object()\n",
        "o2 = object()"
      ],
      "execution_count": null,
      "outputs": [],
      "metadata": {
        "id": "6UM89XhidpSX"
      }
    },
    {
      "cell_type": "code",
      "source": [
        "o1 is o2"
      ],
      "execution_count": null,
      "outputs": [
        {
          "data": {
            "text/plain": [
              "False"
            ]
          },
          "metadata": {},
          "output_type": "display_data"
        }
      ],
      "metadata": {
        "id": "deFRMe51dpSX",
        "outputId": "f850ae02-5916-433a-9a7d-d90d2b76e3bb"
      }
    },
    {
      "cell_type": "code",
      "source": [
        "o1 == o2"
      ],
      "execution_count": null,
      "outputs": [
        {
          "data": {
            "text/plain": [
              "False"
            ]
          },
          "metadata": {},
          "output_type": "display_data"
        }
      ],
      "metadata": {
        "id": "Kl3CzDrHdpSX",
        "outputId": "ea25d294-a1bf-488f-8826-f516fb324e1a"
      }
    },
    {
      "cell_type": "code",
      "source": [
        "o1.__class__"
      ],
      "execution_count": null,
      "outputs": [
        {
          "data": {
            "text/plain": [
              "object"
            ]
          },
          "metadata": {},
          "output_type": "display_data"
        }
      ],
      "metadata": {
        "id": "aDD0rn3AdpSY",
        "outputId": "06213620-508d-45bc-ee51-13b2de035a4d"
      }
    },
    {
      "cell_type": "code",
      "source": [
        "o1.__repr__()"
      ],
      "execution_count": null,
      "outputs": [
        {
          "data": {
            "text/plain": [
              "'<object object at 0x7fc01bc1ee90>'"
            ]
          },
          "metadata": {},
          "output_type": "display_data"
        }
      ],
      "metadata": {
        "id": "lF5uA5pbdpSY",
        "outputId": "c81bc2ee-6834-4f66-dcec-9730e531332a"
      }
    },
    {
      "cell_type": "code",
      "source": [
        "o1.__hash__()"
      ],
      "execution_count": null,
      "outputs": [
        {
          "data": {
            "text/plain": [
              "8778942258921"
            ]
          },
          "metadata": {},
          "output_type": "display_data"
        }
      ],
      "metadata": {
        "id": "5Lz9aXICdpSY",
        "outputId": "b51fa620-c02a-486b-e171-1f092dfaf73d"
      }
    },
    {
      "cell_type": "code",
      "source": [
        "class TempVirus:\n",
        "    pass\n",
        "\n",
        "\n",
        "class TempVirus(object):\n",
        "    pass"
      ],
      "execution_count": null,
      "outputs": [],
      "metadata": {
        "id": "s6LhpPJgdpSY"
      }
    },
    {
      "cell_type": "code",
      "source": [
        "[TempVirus() for i in range(3)]"
      ],
      "execution_count": null,
      "outputs": [
        {
          "data": {
            "text/plain": [
              "[<__main__.TempVirus at 0x7fc01bf1b520>,\n",
              " <__main__.TempVirus at 0x7fc01bf1b2b0>,\n",
              " <__main__.TempVirus at 0x7fc01bf1b100>]"
            ]
          },
          "metadata": {},
          "output_type": "display_data"
        }
      ],
      "metadata": {
        "id": "kbeioo86dpSZ",
        "outputId": "3e84bb76-8f72-43f2-eb7f-da47816af78c"
      }
    },
    {
      "cell_type": "code",
      "source": [
        "# object is callable is because its type implements __call__"
      ],
      "execution_count": null,
      "outputs": [],
      "metadata": {
        "id": "Yw7JBhXHdpSZ"
      }
    },
    {
      "cell_type": "code",
      "source": [
        "TempVirus.__call__"
      ],
      "execution_count": null,
      "outputs": [
        {
          "data": {
            "text/plain": [
              "<method-wrapper '__call__' of type object at 0x557756ad2ff0>"
            ]
          },
          "metadata": {},
          "output_type": "display_data"
        }
      ],
      "metadata": {
        "id": "hNmg4dCGdpSa",
        "outputId": "a24cd877-5cfd-4fc5-c302-9166a696d2f7"
      }
    },
    {
      "cell_type": "markdown",
      "source": [
        "## `Method Resolution Order`"
      ],
      "metadata": {
        "id": "ZeA3bzt1dpSa"
      }
    },
    {
      "cell_type": "code",
      "source": [
        "class TempVirus:\n",
        "    attr = \"some_class_attribute\"\n",
        "    attr_other = \"some_other_class_attribute\"\n",
        "\n",
        "    def __init__(self, attr):\n",
        "        self.attr = attr"
      ],
      "execution_count": null,
      "outputs": [],
      "metadata": {
        "id": "pFNullOndpSa"
      }
    },
    {
      "cell_type": "code",
      "source": [
        "# __dict__"
      ],
      "execution_count": null,
      "outputs": [],
      "metadata": {
        "id": "1ddmpwp7dpSb"
      }
    },
    {
      "cell_type": "code",
      "source": [
        "v1 = TempVirus(\"instance_attribute\")"
      ],
      "execution_count": null,
      "outputs": [],
      "metadata": {
        "id": "bNHpXrizdpSb"
      }
    },
    {
      "cell_type": "code",
      "source": [
        "v1.attr"
      ],
      "execution_count": null,
      "outputs": [
        {
          "data": {
            "text/plain": [
              "'instance_attribute'"
            ]
          },
          "metadata": {},
          "output_type": "display_data"
        }
      ],
      "metadata": {
        "id": "WsFeYgsTdpSb",
        "outputId": "973d2844-b2a1-4fd7-f3a8-346485da2f30"
      }
    },
    {
      "cell_type": "code",
      "source": [
        "v1.__dict__"
      ],
      "execution_count": null,
      "outputs": [
        {
          "data": {
            "text/plain": [
              "{'attr': 'instance_attribute'}"
            ]
          },
          "metadata": {},
          "output_type": "display_data"
        }
      ],
      "metadata": {
        "id": "3LjkuM9bdpSb",
        "outputId": "51c3779b-6501-4e0d-f3c2-cfd0a648e3a6"
      }
    },
    {
      "cell_type": "code",
      "source": [
        "v1.attr_other"
      ],
      "execution_count": null,
      "outputs": [
        {
          "data": {
            "text/plain": [
              "'some_other_class_attribute'"
            ]
          },
          "metadata": {},
          "output_type": "display_data"
        }
      ],
      "metadata": {
        "id": "ME6GAikddpSb",
        "outputId": "cd21ede5-3ec9-4402-af16-becdfabf589a"
      }
    },
    {
      "cell_type": "code",
      "source": [
        "type(v1).__dict__"
      ],
      "execution_count": null,
      "outputs": [
        {
          "data": {
            "text/plain": [
              "mappingproxy({'__module__': '__main__',\n",
              "              'attr': 'some_class_attribute',\n",
              "              'attr_other': 'some_other_class_attribute',\n",
              "              '__init__': <function __main__.TempVirus.__init__(self, attr)>,\n",
              "              '__dict__': <attribute '__dict__' of 'TempVirus' objects>,\n",
              "              '__weakref__': <attribute '__weakref__' of 'TempVirus' objects>,\n",
              "              '__doc__': None})"
            ]
          },
          "metadata": {},
          "output_type": "display_data"
        }
      ],
      "metadata": {
        "id": "lNe4fadUdpSc",
        "outputId": "57b1531a-2793-449d-bf3a-944bc16db02c"
      }
    },
    {
      "cell_type": "code",
      "source": [
        "TempVirus.__dict__"
      ],
      "execution_count": null,
      "outputs": [
        {
          "data": {
            "text/plain": [
              "mappingproxy({'__module__': '__main__',\n",
              "              'attr': 'some_class_attribute',\n",
              "              'attr_other': 'some_other_class_attribute',\n",
              "              '__init__': <function __main__.TempVirus.__init__(self, attr)>,\n",
              "              '__dict__': <attribute '__dict__' of 'TempVirus' objects>,\n",
              "              '__weakref__': <attribute '__weakref__' of 'TempVirus' objects>,\n",
              "              '__doc__': None})"
            ]
          },
          "metadata": {},
          "output_type": "display_data"
        }
      ],
      "metadata": {
        "id": "zUr82dfSdpSc",
        "outputId": "a0395069-50cb-47a0-bd18-38493096b914"
      }
    },
    {
      "cell_type": "code",
      "source": [
        "v1.__class__.__dict__"
      ],
      "execution_count": null,
      "outputs": [
        {
          "data": {
            "text/plain": [
              "mappingproxy({'__module__': '__main__',\n",
              "              'attr': 'some_class_attribute',\n",
              "              'attr_other': 'some_other_class_attribute',\n",
              "              '__init__': <function __main__.TempVirus.__init__(self, attr)>,\n",
              "              '__dict__': <attribute '__dict__' of 'TempVirus' objects>,\n",
              "              '__weakref__': <attribute '__weakref__' of 'TempVirus' objects>,\n",
              "              '__doc__': None})"
            ]
          },
          "metadata": {},
          "output_type": "display_data"
        }
      ],
      "metadata": {
        "id": "rDR2dymrdpSc",
        "outputId": "690da8d8-3dd1-479d-cead-ca1f8544001a"
      }
    },
    {
      "cell_type": "code",
      "source": [
        "# instance -> class -> superclass(s) -> object, else AttributeError"
      ],
      "execution_count": null,
      "outputs": [],
      "metadata": {
        "id": "VkjNx860dpSc"
      }
    },
    {
      "cell_type": "code",
      "source": [
        "# v1.imaginary"
      ],
      "execution_count": null,
      "outputs": [],
      "metadata": {
        "id": "vDs07b0GdpSd"
      }
    },
    {
      "cell_type": "code",
      "source": [
        "TempVirus.__bases__"
      ],
      "execution_count": null,
      "outputs": [
        {
          "data": {
            "text/plain": [
              "(object,)"
            ]
          },
          "metadata": {},
          "output_type": "display_data"
        }
      ],
      "metadata": {
        "id": "qDxSRh2tdpSd",
        "outputId": "f6db9d1f-d79f-4fc8-bc96-44608e8f1ea4"
      }
    },
    {
      "cell_type": "code",
      "source": [
        "RNAVirus.__bases__"
      ],
      "execution_count": null,
      "outputs": [
        {
          "data": {
            "text/plain": [
              "(__main__.Virus,)"
            ]
          },
          "metadata": {},
          "output_type": "display_data"
        }
      ],
      "metadata": {
        "id": "KlGvNNLNdpSd",
        "outputId": "05ec7163-c330-4c0f-c0b4-1d024b22a635"
      }
    },
    {
      "cell_type": "code",
      "source": [
        "Coronavirus.__bases__"
      ],
      "execution_count": null,
      "outputs": [
        {
          "data": {
            "text/plain": [
              "(__main__.RNAVirus,)"
            ]
          },
          "metadata": {},
          "output_type": "display_data"
        }
      ],
      "metadata": {
        "id": "59-hJuVtdpSd",
        "outputId": "79a94363-b13d-4c48-a815-02ca937d8185"
      }
    },
    {
      "cell_type": "code",
      "source": [
        "# __mro__ -> method resolution order"
      ],
      "execution_count": null,
      "outputs": [],
      "metadata": {
        "id": "bXo-8h0ndpSd"
      }
    },
    {
      "cell_type": "code",
      "source": [
        "RNAVirus.__mro__"
      ],
      "execution_count": null,
      "outputs": [
        {
          "data": {
            "text/plain": [
              "(__main__.RNAVirus, __main__.Virus, object)"
            ]
          },
          "metadata": {},
          "output_type": "display_data"
        }
      ],
      "metadata": {
        "id": "GpBezSNydpSj",
        "outputId": "a6b1ba69-3810-4957-a75a-463561b04441"
      }
    },
    {
      "cell_type": "code",
      "source": [
        "Coronavirus.__mro__"
      ],
      "execution_count": null,
      "outputs": [
        {
          "data": {
            "text/plain": [
              "(__main__.Coronavirus, __main__.RNAVirus, __main__.Virus, object)"
            ]
          },
          "metadata": {},
          "output_type": "display_data"
        }
      ],
      "metadata": {
        "id": "b7UJ2hkpdpSj",
        "outputId": "f1eec14f-1980-4736-be2f-c6d90a67a497"
      }
    },
    {
      "cell_type": "markdown",
      "source": [
        "## `Subclass Overrides`"
      ],
      "metadata": {
        "id": "mUiT1J_edpSj"
      }
    },
    {
      "cell_type": "code",
      "source": [
        "from random import getrandbits"
      ],
      "execution_count": null,
      "outputs": [],
      "metadata": {
        "id": "u9iv7_widpSj"
      }
    },
    {
      "cell_type": "code",
      "source": [
        "for i in range(4):\n",
        "    print(getrandbits(1))"
      ],
      "execution_count": null,
      "outputs": [
        {
          "name": "stdout",
          "text": [
            "1\n",
            "1\n",
            "0\n",
            "1\n"
          ],
          "output_type": "stream"
        }
      ],
      "metadata": {
        "id": "RYIAs0WXdpSk",
        "outputId": "03df398f-6060-4a2d-8e60-844b2437b30d"
      }
    },
    {
      "cell_type": "code",
      "source": [],
      "execution_count": null,
      "outputs": [],
      "metadata": {
        "id": "d9XZFR-mdpSk"
      }
    },
    {
      "cell_type": "code",
      "source": [
        "class Virus:\n",
        "    def __init__(self, name, reproduction_rate, resistance):\n",
        "        self.name = name\n",
        "        self.reproduction_rate = reproduction_rate\n",
        "        self.load = 1\n",
        "        self.host = None\n",
        "\n",
        "    def infect(self, host):\n",
        "        self.host = host\n",
        "\n",
        "    def reproduce(self):\n",
        "        if self.host is not None:\n",
        "            self.load *= (1 + self.reproduction_rate)\n",
        "\n",
        "            should_mutate = getrandbits(1)\n",
        "            print(f\"Should mutate: {should_mutate}\")\n",
        "\n",
        "            if should_mutate:\n",
        "                try:\n",
        "                    self.mutate()\n",
        "                except AttributeError:\n",
        "                    pass\n",
        "\n",
        "            return True, f\"Virus reproduced in {self.host}. Viral load: {int(self.load)}\"\n",
        "\n",
        "        raise AttributeError(\"Virus needs to infect a host before being able to reproduce.\")\n",
        "\n",
        "\n",
        "class RNAVirus(Virus):\n",
        "    genome = \"ribonucleic\"\n",
        "\n",
        "    def reproduce(self):\n",
        "        success, status = Virus.reproduce(self)\n",
        "\n",
        "        if success:\n",
        "            print(f\"{self.name} just replicated in the cytoplasm of {self.host} cells\")\n",
        "\n",
        "\n",
        "class DNAVirus(Virus):\n",
        "    genome = \"deoxyribonucleic\"\n",
        "\n",
        "    def reproduce(self):\n",
        "        success, status = Virus.reproduce(self)\n",
        "\n",
        "        if success:\n",
        "            print(f\"{self.name} just replicated in the nucleus of {self.host} cells\")"
      ],
      "execution_count": null,
      "outputs": [],
      "metadata": {
        "id": "Lx4oDHP3dpSk"
      }
    },
    {
      "cell_type": "code",
      "source": [
        "class Coronavirus(RNAVirus):\n",
        "    pass\n",
        "\n",
        "class SARSCov2(Coronavirus):\n",
        "    def mutate(self):\n",
        "        print(f\"The {self.name} virus just mutated its spike protein\")"
      ],
      "execution_count": null,
      "outputs": [],
      "metadata": {
        "id": "INl9319jdpSk"
      }
    },
    {
      "cell_type": "code",
      "source": [
        "cv = SARSCov2(\"original\", 2.9, 1.2)"
      ],
      "execution_count": null,
      "outputs": [],
      "metadata": {
        "id": "JJp3G-YndpSk"
      }
    },
    {
      "cell_type": "code",
      "source": [
        "cv.infect(\"Tobi\")"
      ],
      "execution_count": null,
      "outputs": [],
      "metadata": {
        "id": "2YEQk8EddpSl"
      }
    },
    {
      "cell_type": "code",
      "source": [
        "for _ in range(4):\n",
        "    print(cv.reproduce(), \"\\n\")"
      ],
      "execution_count": null,
      "outputs": [
        {
          "name": "stdout",
          "text": [
            "Should mutate: 1\n",
            "The original virus just mutated its spike protein\n",
            "original just replicated in the cytoplasm of Tobi cells\n",
            "None \n",
            "\n",
            "Should mutate: 0\n",
            "original just replicated in the cytoplasm of Tobi cells\n",
            "None \n",
            "\n",
            "Should mutate: 1\n",
            "The original virus just mutated its spike protein\n",
            "original just replicated in the cytoplasm of Tobi cells\n",
            "None \n",
            "\n",
            "Should mutate: 0\n",
            "original just replicated in the cytoplasm of Tobi cells\n",
            "None \n",
            "\n"
          ],
          "output_type": "stream"
        }
      ],
      "metadata": {
        "id": "8Kx9Aq0SdpSl",
        "outputId": "6f41ca87-09d9-4419-fc17-74bca0ec25ea"
      }
    },
    {
      "cell_type": "markdown",
      "source": [
        "## `Better Parent Delegation: super()`"
      ],
      "metadata": {
        "id": "xnUGxuL-dpSl"
      }
    },
    {
      "cell_type": "code",
      "source": [
        "class Virus:\n",
        "    def __init__(self, name, reproduction_rate, resistance):\n",
        "        self.name = name\n",
        "        self.reproduction_rate = reproduction_rate\n",
        "        self.load = 1\n",
        "        self.host = None\n",
        "\n",
        "    def infect(self, host):\n",
        "        self.host = host\n",
        "\n",
        "    def reproduce(self):\n",
        "        if self.host is not None:\n",
        "            self.load *= (1 + self.reproduction_rate)\n",
        "\n",
        "            should_mutate = getrandbits(1)\n",
        "            print(f\"Should mutate: {should_mutate}\")\n",
        "\n",
        "            if should_mutate:\n",
        "                try:\n",
        "                    self.mutate()\n",
        "                except AttributeError:\n",
        "                    pass\n",
        "\n",
        "            return True, f\"Virus reproduced in {self.host}. Viral load: {int(self.load)}\"\n",
        "\n",
        "        raise AttributeError(\"Virus needs to infect a host before being able to reproduce.\")\n",
        "\n",
        "\n",
        "class RNAVirus(Virus):\n",
        "    genome = \"ribonucleic\"\n",
        "\n",
        "    def reproduce(self):\n",
        "        success, status = Virus.reproduce(self)\n",
        "\n",
        "        if success:\n",
        "            print(f\"{self.name} just replicated in the cytoplasm of {self.host} cells\")\n",
        "\n",
        "\n",
        "class DNAVirus(Virus):\n",
        "    genome = \"deoxyribonucleic\"\n",
        "\n",
        "    def reproduce(self):\n",
        "        # success, status = Virus.reproduce(self)\n",
        "        success, status = super().reproduce()\n",
        "\n",
        "        if success:\n",
        "            print(f\"{self.name} just replicated in the nucleus of {self.host} cells\")\n",
        "\n",
        "\n",
        "class Coronavirus(RNAVirus):\n",
        "    pass\n",
        "\n",
        "\n",
        "class SARSCov2(Coronavirus):\n",
        "    def mutate(self):\n",
        "        print(f\"The {self.name} virus just mutated its spike protein\")"
      ],
      "execution_count": null,
      "outputs": [],
      "metadata": {
        "id": "fdCUQNXjdpSl"
      }
    },
    {
      "cell_type": "code",
      "source": [
        "rv = RNAVirus(\"a\", 1.1, 1.2)\n",
        "dv = DNAVirus(\"dv\", 1.3, 1.2)\n",
        "\n",
        "rv.infect(\"Andrew\")\n",
        "dv.infect(\"Tobi\")"
      ],
      "execution_count": null,
      "outputs": [],
      "metadata": {
        "id": "ai2Bgzu6dpSl"
      }
    },
    {
      "cell_type": "code",
      "source": [
        "rv.reproduce()"
      ],
      "execution_count": null,
      "outputs": [
        {
          "name": "stdout",
          "text": [
            "Should mutate: 1\n",
            "a just replicated in the cytoplasm of Andrew cells\n"
          ],
          "output_type": "stream"
        }
      ],
      "metadata": {
        "id": "fpeDA6hodpSm",
        "outputId": "5c457a5b-2c72-4eef-9daf-0290835a0b19"
      }
    },
    {
      "cell_type": "code",
      "source": [
        "dv.reproduce()"
      ],
      "execution_count": null,
      "outputs": [
        {
          "name": "stdout",
          "text": [
            "Should mutate: 0\n",
            "dv just replicated in the nucleus of Tobi cells\n"
          ],
          "output_type": "stream"
        }
      ],
      "metadata": {
        "id": "xgzMMuTPdpSm",
        "outputId": "50e58ff6-1f5f-405d-a025-b7f51a855581"
      }
    },
    {
      "cell_type": "markdown",
      "source": [
        "## `Subclass __init__`"
      ],
      "metadata": {
        "id": "rjjVJS3kdpSm"
      }
    },
    {
      "cell_type": "code",
      "source": [
        "class Virus:\n",
        "    def __init__(self, name, reproduction_rate, resistance):\n",
        "        self.name = name\n",
        "        self.reproduction_rate = reproduction_rate\n",
        "        self.load = 1\n",
        "        self.host = None\n",
        "\n",
        "    def infect(self, host):\n",
        "        self.host = host\n",
        "\n",
        "    def reproduce(self):\n",
        "        if self.host is not None:\n",
        "            self.load *= (1 + self.reproduction_rate)\n",
        "\n",
        "            should_mutate = getrandbits(1)\n",
        "            print(f\"Should mutate: {should_mutate}\")\n",
        "\n",
        "            if should_mutate:\n",
        "                try:\n",
        "                    self.mutate()\n",
        "                except AttributeError:\n",
        "                    pass\n",
        "\n",
        "            return True, f\"Virus reproduced in {self.host}. Viral load: {int(self.load)}\"\n",
        "\n",
        "        raise AttributeError(\"Virus needs to infect a host before being able to reproduce.\")\n",
        "\n",
        "\n",
        "class RNAVirus(Virus):\n",
        "    genome = \"ribonucleic\"\n",
        "\n",
        "    def reproduce(self):\n",
        "        success, status = Virus.reproduce(self)\n",
        "\n",
        "        if success:\n",
        "            print(f\"{self.name} just replicated in the cytoplasm of {self.host} cells\")\n",
        "\n",
        "\n",
        "class DNAVirus(Virus):\n",
        "    genome = \"deoxyribonucleic\"\n",
        "\n",
        "    def reproduce(self):\n",
        "        # success, status = Virus.reproduce(self)\n",
        "        success, status = super().reproduce()\n",
        "\n",
        "        if success:\n",
        "            print(f\"{self.name} just replicated in the nucleus of {self.host} cells\")\n",
        "\n",
        "\n",
        "class Coronavirus(RNAVirus):\n",
        "    pass\n",
        "\n",
        "\n",
        "class SARSCov2(Coronavirus):\n",
        "    def __init__(self, variant):\n",
        "        super().__init__(\"SARSCovid2\", 2.49, 1.3)\n",
        "        self.variant = variant\n",
        "\n",
        "    def mutate(self):\n",
        "        print(f\"The {self.name} virus just mutated its spike protein\")"
      ],
      "execution_count": null,
      "outputs": [],
      "metadata": {
        "id": "1EiwIsygdpSm"
      }
    },
    {
      "cell_type": "code",
      "source": [
        "cv = SARSCov2(\"Omicron\")"
      ],
      "execution_count": null,
      "outputs": [],
      "metadata": {
        "id": "rlAV-VUFdpSn"
      }
    },
    {
      "cell_type": "code",
      "source": [
        "cv"
      ],
      "execution_count": null,
      "outputs": [
        {
          "data": {
            "text/plain": [
              "<__main__.SARSCov2 at 0x7f8509d1ee80>"
            ]
          },
          "metadata": {},
          "output_type": "display_data"
        }
      ],
      "metadata": {
        "id": "vmLsttSMdpSo",
        "outputId": "0b699f04-3dd5-4d1b-8db6-90229a21ca28"
      }
    },
    {
      "cell_type": "code",
      "source": [
        "cv.reproduction_rate"
      ],
      "execution_count": null,
      "outputs": [
        {
          "data": {
            "text/plain": [
              "2.49"
            ]
          },
          "metadata": {},
          "output_type": "display_data"
        }
      ],
      "metadata": {
        "id": "BaGjzMAzdpSp",
        "outputId": "ca0d5459-0f4c-4b2f-fe15-6a9a78a69e29"
      }
    },
    {
      "cell_type": "code",
      "source": [
        "cv.__dict__"
      ],
      "execution_count": null,
      "outputs": [
        {
          "data": {
            "text/plain": [
              "{'name': 'SARSCovid2',\n",
              " 'reproduction_rate': 2.49,\n",
              " 'load': 1,\n",
              " 'host': None,\n",
              " 'variant': 'Omicron'}"
            ]
          },
          "metadata": {},
          "output_type": "display_data"
        }
      ],
      "metadata": {
        "id": "wUzM4VH4dpSq",
        "outputId": "4dbb4174-e163-40ab-ea48-784782efcc92"
      }
    },
    {
      "cell_type": "code",
      "source": [
        "SARSCov2.__mro__"
      ],
      "execution_count": null,
      "outputs": [
        {
          "data": {
            "text/plain": [
              "(__main__.SARSCov2,\n",
              " __main__.Coronavirus,\n",
              " __main__.RNAVirus,\n",
              " __main__.Virus,\n",
              " object)"
            ]
          },
          "metadata": {},
          "output_type": "display_data"
        }
      ],
      "metadata": {
        "id": "VTFKykbPdpSr",
        "outputId": "df8a2a6c-6417-49b1-e25c-813a5ba3dc84"
      }
    },
    {
      "cell_type": "code",
      "source": [
        "# - parent - child class relationship defined using inheritance\n",
        "# - where the child defined an init only for the purpose of calling the parent init"
      ],
      "execution_count": null,
      "outputs": [],
      "metadata": {
        "id": "zbMcLHe8dpSs"
      }
    },
    {
      "cell_type": "code",
      "source": [
        "class Parent:\n",
        "    def __init__(self):\n",
        "        print(\"parent init\")\n",
        "\n",
        "\n",
        "class Child(Parent):\n",
        "    pass\n",
        "    # def __init__(self):\n",
        "    #     super().__init__()"
      ],
      "execution_count": null,
      "outputs": [],
      "metadata": {
        "id": "SqYuiJdadpSt"
      }
    },
    {
      "cell_type": "code",
      "source": [
        "c = Child()"
      ],
      "execution_count": null,
      "outputs": [
        {
          "name": "stdout",
          "text": [
            "parent init\n"
          ],
          "output_type": "stream"
        }
      ],
      "metadata": {
        "id": "3XaIoW1rdpSt",
        "outputId": "45d7822a-4f22-4dc9-ae25-4b9b12a2bb2f"
      }
    },
    {
      "cell_type": "markdown",
      "source": [
        "## `Subclassing Properties`"
      ],
      "metadata": {
        "id": "KETKKNmodpSt"
      }
    },
    {
      "cell_type": "code",
      "source": [
        "class SARSCov2(Coronavirus):\n",
        "    known_variants = [\"alpha\", \"beta\", \"gamma\", \"epsilon\"]\n",
        "\n",
        "    def __init__(self, variant):\n",
        "        super().__init__(\"SARSCovid2\", 2.49, 1.3)\n",
        "        self.variant = variant\n",
        "\n",
        "    def mutate(self):\n",
        "        print(f\"The {self.name} virus just mutated its spike protein\")\n",
        "\n",
        "    @property\n",
        "    def variant(self):\n",
        "        return self._variant\n",
        "\n",
        "    @variant.setter\n",
        "    def variant(self, value):\n",
        "        if value.lower() not in self.known_variants:\n",
        "            raise ValueError(\"Expected a known variant of concer\")\n",
        "\n",
        "        self._variant = value.lower()"
      ],
      "execution_count": null,
      "outputs": [],
      "metadata": {
        "id": "hrbB4esYdpS0"
      }
    },
    {
      "cell_type": "code",
      "source": [
        "cv = SARSCov2(\"ALPha\")"
      ],
      "execution_count": null,
      "outputs": [],
      "metadata": {
        "id": "PEkzcdyldpS0"
      }
    },
    {
      "cell_type": "code",
      "source": [
        "cv.__dict__"
      ],
      "execution_count": null,
      "outputs": [
        {
          "data": {
            "text/plain": [
              "{'name': 'SARSCovid2',\n",
              " 'reproduction_rate': 2.49,\n",
              " 'load': 1,\n",
              " 'host': None,\n",
              " '_variant': 'alpha'}"
            ]
          },
          "metadata": {},
          "output_type": "display_data"
        }
      ],
      "metadata": {
        "id": "3MUNrRqFdpS0",
        "outputId": "717008a8-bc7d-44a6-c956-c31f1edb4703"
      }
    },
    {
      "cell_type": "code",
      "source": [
        "cv.variant = \"UK\""
      ],
      "execution_count": null,
      "outputs": [
        {
          "ename": "ValueError",
          "evalue": "ValueError: Expected a known variant of concer",
          "traceback": [
            "\u001b[0;31m---------------------------------------------------------------------------",
            "Traceback (most recent call last)",
            "    at line 1 in <module>",
            "    at line 18 in variant(self, value)",
            "ValueError: Expected a known variant of concer"
          ],
          "output_type": "error"
        }
      ],
      "metadata": {
        "id": "JYAA-XqNdpS1",
        "outputId": "c439bfd8-99fa-4c21-a58b-dd2a558217ac"
      }
    },
    {
      "cell_type": "code",
      "source": [
        "cv.variant = \"beta\""
      ],
      "execution_count": null,
      "outputs": [],
      "metadata": {
        "id": "8vSL7MmudpS1"
      }
    },
    {
      "cell_type": "code",
      "source": [
        "cv.variant"
      ],
      "execution_count": null,
      "outputs": [
        {
          "data": {
            "text/plain": [
              "'beta'"
            ]
          },
          "metadata": {},
          "output_type": "display_data"
        }
      ],
      "metadata": {
        "id": "X_m5v0sBdpS1",
        "outputId": "98668683-cac5-4c0f-d307-a8a802168781"
      }
    },
    {
      "cell_type": "code",
      "source": [
        "class DoubleMutant(SARSCov2):\n",
        "    pass"
      ],
      "execution_count": null,
      "outputs": [],
      "metadata": {
        "id": "NiO5yEBldpS2"
      }
    },
    {
      "cell_type": "code",
      "source": [
        "DoubleMutant(\"NEW\")"
      ],
      "execution_count": null,
      "outputs": [
        {
          "ename": "ValueError",
          "evalue": "ValueError: Expected a known variant of concer",
          "traceback": [
            "\u001b[0;31m---------------------------------------------------------------------------",
            "Traceback (most recent call last)",
            "    at line 1 in <module>",
            "    at line 6 in __init__(self, variant)",
            "    at line 18 in variant(self, value)",
            "ValueError: Expected a known variant of concer"
          ],
          "output_type": "error"
        }
      ],
      "metadata": {
        "id": "0hHpox-TdpS2",
        "outputId": "fcad0e5a-ac0e-4bf1-8b3a-bc0781ec5e61"
      }
    },
    {
      "cell_type": "code",
      "source": [
        "class DoubleMutant(SARSCov2):\n",
        "    @variant.setter\n",
        "    def variant(self, value):\n",
        "        self._variant = value.lower()"
      ],
      "execution_count": null,
      "outputs": [
        {
          "ename": "NameError",
          "evalue": "NameError: name 'variant' is not defined",
          "traceback": [
            "\u001b[0;31m---------------------------------------------------------------------------",
            "Traceback (most recent call last)",
            "    at line 1 in <module>",
            "    at line 2 in DoubleMutant()",
            "NameError: name 'variant' is not defined"
          ],
          "output_type": "error"
        }
      ],
      "metadata": {
        "id": "Mo4WfFVpdpS2",
        "outputId": "91abc70c-0eba-4d67-bb29-f8379bf6dbe2"
      }
    },
    {
      "cell_type": "code",
      "source": [
        "class DoubleMutant(SARSCov2):\n",
        "    @SARSCov2.variant.setter\n",
        "    def variant(self, value):\n",
        "        self._variant = value.lower()"
      ],
      "execution_count": null,
      "outputs": [],
      "metadata": {
        "id": "qXSmHi0gdpS2"
      }
    },
    {
      "cell_type": "code",
      "source": [
        "dm = DoubleMutant(\"NEW_VARIANT\")"
      ],
      "execution_count": null,
      "outputs": [],
      "metadata": {
        "id": "wbBc9aiUdpS3"
      }
    },
    {
      "cell_type": "code",
      "source": [
        "dm.variant"
      ],
      "execution_count": null,
      "outputs": [
        {
          "data": {
            "text/plain": [
              "'new_variant'"
            ]
          },
          "metadata": {},
          "output_type": "display_data"
        }
      ],
      "metadata": {
        "id": "ZeOSY_1xdpS3",
        "outputId": "0c945990-b61d-4ae6-859b-646d650a6b12"
      }
    },
    {
      "cell_type": "code",
      "source": [
        "class DoubleMutant(SARSCov2):\n",
        "    @property\n",
        "    def variant(self):\n",
        "        print(\"Getter from the subclass!\")\n",
        "        return self._variant\n",
        "\n",
        "    @variant.setter\n",
        "    def variant(self, value):\n",
        "        self._variant = value.lower()\n",
        "\n",
        "    @variant.deleter\n",
        "    def variant(self):\n",
        "        del self._variant"
      ],
      "execution_count": null,
      "outputs": [],
      "metadata": {
        "id": "rZURuVcKdpS3"
      }
    },
    {
      "cell_type": "code",
      "source": [
        "cv = SARSCov2(\"alpha\")\n",
        "\n",
        "dm = DoubleMutant(\"ALPHA V92\")"
      ],
      "execution_count": null,
      "outputs": [],
      "metadata": {
        "id": "vR3FMvmZdpS4"
      }
    },
    {
      "cell_type": "code",
      "source": [
        "dm.variant = \"NEW VARIANTas dfasd\""
      ],
      "execution_count": null,
      "outputs": [],
      "metadata": {
        "id": "XVxW7G6FdpS5"
      }
    },
    {
      "cell_type": "code",
      "source": [
        "dm.variant"
      ],
      "execution_count": null,
      "outputs": [
        {
          "name": "stdout",
          "text": [
            "Getter from the subclass!\n"
          ],
          "output_type": "stream"
        },
        {
          "data": {
            "text/plain": [
              "'new variantas dfasd'"
            ]
          },
          "metadata": {},
          "output_type": "display_data"
        }
      ],
      "metadata": {
        "id": "GBA7JTyVdpS5",
        "outputId": "a63c5513-25b2-44d4-ea13-55ce91042f5f"
      }
    },
    {
      "cell_type": "code",
      "source": [
        "cv.variant = \"NEW VARIANTas dfasd\""
      ],
      "execution_count": null,
      "outputs": [
        {
          "ename": "ValueError",
          "evalue": "ValueError: Expected a known variant of concer",
          "traceback": [
            "\u001b[0;31m---------------------------------------------------------------------------",
            "Traceback (most recent call last)",
            "    at line 1 in <module>",
            "    at line 18 in variant(self, value)",
            "ValueError: Expected a known variant of concer"
          ],
          "output_type": "error"
        }
      ],
      "metadata": {
        "id": "T7hAvsmBdpS7",
        "outputId": "21cec524-1cc4-4052-a212-61bee9e85e80"
      }
    },
    {
      "cell_type": "code",
      "source": [
        "DoubleMutant.__dict__"
      ],
      "execution_count": null,
      "outputs": [
        {
          "data": {
            "text/plain": [
              "mappingproxy({'__module__': '__main__',\n",
              "              'variant': <property at 0x7f5eb363d8b0>,\n",
              "              '__doc__': None})"
            ]
          },
          "metadata": {},
          "output_type": "display_data"
        }
      ],
      "metadata": {
        "id": "WYKswFc4dpS7",
        "outputId": "aa996dec-44e9-4057-a4d9-549024438d22"
      }
    },
    {
      "cell_type": "code",
      "source": [
        "SARSCov2.__dict__"
      ],
      "execution_count": null,
      "outputs": [
        {
          "data": {
            "text/plain": [
              "mappingproxy({'__module__': '__main__',\n",
              "              'known_variants': ['alpha', 'beta', 'gamma', 'epsilon'],\n",
              "              '__init__': <function __main__.SARSCov2.__init__(self, variant)>,\n",
              "              'mutate': <function __main__.SARSCov2.mutate(self)>,\n",
              "              'variant': <property at 0x7f5ec090f810>,\n",
              "              '__doc__': None})"
            ]
          },
          "metadata": {},
          "output_type": "display_data"
        }
      ],
      "metadata": {
        "id": "7Aw21w2FdpS8",
        "outputId": "4baf6abd-e35b-42f9-cf3b-3fd1c03b4cac"
      }
    },
    {
      "cell_type": "markdown",
      "source": [
        "## `Extending Built-ins`"
      ],
      "metadata": {
        "id": "NtkR1qsYdpS9"
      }
    },
    {
      "cell_type": "code",
      "source": [
        "# list or dict"
      ],
      "execution_count": null,
      "outputs": [],
      "metadata": {
        "id": "fra8bzqodpS-"
      }
    },
    {
      "cell_type": "code",
      "source": [
        "population = {\n",
        "    \"CAN\": 38,\n",
        "    \"USA\": 329,\n",
        "    \"IND\": 1380\n",
        "}"
      ],
      "execution_count": null,
      "outputs": [],
      "metadata": {
        "id": "tYx9tFa2dpS-"
      }
    },
    {
      "cell_type": "code",
      "source": [
        "population['CAN']"
      ],
      "execution_count": null,
      "outputs": [
        {
          "data": {
            "text/plain": [
              "38"
            ]
          },
          "metadata": {},
          "output_type": "display_data"
        }
      ],
      "metadata": {
        "id": "gGg5p_PDdpTE",
        "outputId": "1b7659c0-46e5-43bd-e51d-f307a62b63b0"
      }
    },
    {
      "cell_type": "code",
      "source": [
        "population['CANADA']"
      ],
      "execution_count": null,
      "outputs": [
        {
          "ename": "KeyError",
          "evalue": "KeyError: 'CANADA'",
          "traceback": [
            "\u001b[0;31m---------------------------------------------------------------------------",
            "Traceback (most recent call last)",
            "    at line 1 in <module>",
            "KeyError: 'CANADA'"
          ],
          "output_type": "error"
        }
      ],
      "metadata": {
        "id": "RtOaA4_YdpTE",
        "outputId": "df8b5846-cd61-40ab-c1cd-df7b3cdb119e"
      }
    },
    {
      "cell_type": "code",
      "source": [
        "population.__getitem__(\"CANADA\")"
      ],
      "execution_count": null,
      "outputs": [
        {
          "ename": "KeyError",
          "evalue": "KeyError: 'CANADA'",
          "traceback": [
            "\u001b[0;31m---------------------------------------------------------------------------",
            "Traceback (most recent call last)",
            "    at line 1 in <module>",
            "KeyError: 'CANADA'"
          ],
          "output_type": "error"
        }
      ],
      "metadata": {
        "id": "0S8pixoddpTE",
        "outputId": "ca9da579-74f5-47cc-e3c3-4cdda30866dc"
      }
    },
    {
      "cell_type": "code",
      "source": [
        "from random import choice\n",
        "\n",
        "class FunnyDict(dict):\n",
        "    not_found = ['404', 'Wait, what?', 'Try again, or dont?']\n",
        "\n",
        "    def __getitem__(self, item):\n",
        "        if not item in self:\n",
        "            return choice(self.not_found)\n",
        "\n",
        "        return super().__getitem__(item)"
      ],
      "execution_count": null,
      "outputs": [],
      "metadata": {
        "id": "W8UMqE0odpTF"
      }
    },
    {
      "cell_type": "code",
      "source": [
        "population = FunnyDict({\n",
        "    \"CAN\": 38,\n",
        "    \"USA\": 329,\n",
        "    \"IND\": 1380\n",
        "})"
      ],
      "execution_count": null,
      "outputs": [],
      "metadata": {
        "id": "BfQBZvy2dpTH"
      }
    },
    {
      "cell_type": "code",
      "source": [
        "population['CAN']"
      ],
      "execution_count": null,
      "outputs": [
        {
          "data": {
            "text/plain": [
              "38"
            ]
          },
          "metadata": {},
          "output_type": "display_data"
        }
      ],
      "metadata": {
        "id": "wzv0pLaVdpTH",
        "outputId": "abafb94c-30a7-4e89-dc0a-1a1484df3ba5"
      }
    },
    {
      "cell_type": "code",
      "source": [
        "for i in range(6):\n",
        "    print(population['CANADA'])"
      ],
      "execution_count": null,
      "outputs": [
        {
          "name": "stdout",
          "text": [
            "Wait, what?\n",
            "Try again, or dont?\n",
            "Try again, or dont?\n",
            "404\n",
            "Wait, what?\n",
            "404\n"
          ],
          "output_type": "stream"
        }
      ],
      "metadata": {
        "id": "fC0xENNudpTI",
        "outputId": "d0b8b2be-4f30-4179-f045-acf4c4397687"
      }
    },
    {
      "cell_type": "markdown",
      "source": [
        "## `Another Example`"
      ],
      "metadata": {
        "id": "DILpZQSXdpTI"
      }
    },
    {
      "cell_type": "code",
      "source": [
        "l = [1, 10, 2.23, 21]"
      ],
      "execution_count": null,
      "outputs": [],
      "metadata": {
        "id": "18eNcPRkdpTI"
      }
    },
    {
      "cell_type": "code",
      "source": [
        "sum(l) / len(l)"
      ],
      "execution_count": null,
      "outputs": [
        {
          "data": {
            "text/plain": [
              "8.557500000000001"
            ]
          },
          "metadata": {},
          "output_type": "display_data"
        }
      ],
      "metadata": {
        "id": "is5SqdF8dpTJ",
        "outputId": "a77b9d58-aea9-483d-9261-cb9bc938701a"
      }
    },
    {
      "cell_type": "code",
      "source": [
        "class AvgList(list):\n",
        "    def average(self):\n",
        "        return sum(self) / len(self)"
      ],
      "execution_count": null,
      "outputs": [],
      "metadata": {
        "id": "CASuYeTXdpTJ"
      }
    },
    {
      "cell_type": "code",
      "source": [
        "l2 = AvgList([1, 10, 2.23, 21])"
      ],
      "execution_count": null,
      "outputs": [],
      "metadata": {
        "id": "xp-OWudQdpTK"
      }
    },
    {
      "cell_type": "code",
      "source": [
        "l2.average()"
      ],
      "execution_count": null,
      "outputs": [
        {
          "data": {
            "text/plain": [
              "8.557500000000001"
            ]
          },
          "metadata": {},
          "output_type": "display_data"
        }
      ],
      "metadata": {
        "id": "thkxNkBjdpTK",
        "outputId": "a838a2a5-5d18-48a7-f59a-d3d0e238a669"
      }
    },
    {
      "cell_type": "code",
      "source": [
        "class AvgList(list):\n",
        "    @property\n",
        "    def average(self):\n",
        "        return sum(self) / len(self)"
      ],
      "execution_count": null,
      "outputs": [],
      "metadata": {
        "id": "yN9--gVwdpTL"
      }
    },
    {
      "cell_type": "code",
      "source": [
        "l3 = AvgList([1, 10, 2.23, 21])"
      ],
      "execution_count": null,
      "outputs": [],
      "metadata": {
        "id": "6r6RihG8dpTL"
      }
    },
    {
      "cell_type": "code",
      "source": [
        "l3.average"
      ],
      "execution_count": null,
      "outputs": [
        {
          "data": {
            "text/plain": [
              "8.557500000000001"
            ]
          },
          "metadata": {},
          "output_type": "display_data"
        }
      ],
      "metadata": {
        "id": "9Sxez1lKdpTM",
        "outputId": "f9c14ecc-84bf-4114-ad9e-929f62ae22fd"
      }
    },
    {
      "cell_type": "code",
      "source": [
        "class AvgList(list):\n",
        "    def __init__(self, *args):\n",
        "        if args and type(args[0]) != list:\n",
        "            super().__init__(args)\n",
        "        else:\n",
        "            super().__init__(args[0])\n",
        "\n",
        "    @property\n",
        "    def average(self):\n",
        "        return sum(self) / len(self)"
      ],
      "execution_count": null,
      "outputs": [],
      "metadata": {
        "id": "P1o08kntdpTM"
      }
    },
    {
      "cell_type": "code",
      "source": [
        "l4 = AvgList(1, 10, 2.23, 21)"
      ],
      "execution_count": null,
      "outputs": [],
      "metadata": {
        "id": "ebFPe2AQdpTM"
      }
    },
    {
      "cell_type": "code",
      "source": [
        "l4.average"
      ],
      "execution_count": null,
      "outputs": [
        {
          "data": {
            "text/plain": [
              "8.557500000000001"
            ]
          },
          "metadata": {},
          "output_type": "display_data"
        }
      ],
      "metadata": {
        "id": "9kkVnBeKdpTM",
        "outputId": "8c52bf0a-1605-4f17-eff5-34675a724fe9"
      }
    },
    {
      "cell_type": "code",
      "source": [
        "l5 = AvgList([1, 10, 2.23, 21])"
      ],
      "execution_count": null,
      "outputs": [],
      "metadata": {
        "id": "afVyF5YJdpTN"
      }
    },
    {
      "cell_type": "code",
      "source": [
        "l5.average"
      ],
      "execution_count": null,
      "outputs": [
        {
          "data": {
            "text/plain": [
              "8.557500000000001"
            ]
          },
          "metadata": {},
          "output_type": "display_data"
        }
      ],
      "metadata": {
        "id": "zHM2hCNadpTP",
        "outputId": "f25a9d38-4160-49e6-f583-7ebd5f34d0cf"
      }
    },
    {
      "cell_type": "markdown",
      "source": [
        "## `Beware The Pitfalls`"
      ],
      "metadata": {
        "id": "s0IMvS2pdpTS"
      }
    },
    {
      "cell_type": "code",
      "source": [
        "from random import choice\n",
        "\n",
        "\n",
        "class FunnyDict(dict):\n",
        "    not_found = [\"404\", \"Wait, what?\", \"Try again, or don't?\"]\n",
        "\n",
        "    def __getitem__(self, item):\n",
        "        if not item in self:\n",
        "            return choice(self.not_found)\n",
        "\n",
        "        return super().__getitem__(item)"
      ],
      "execution_count": null,
      "outputs": [],
      "metadata": {
        "id": "ds9ANTwhdpTT"
      }
    },
    {
      "cell_type": "code",
      "source": [
        "rd = {\n",
        "    \"CAN\": 38,\n",
        "    \"USA\": 329,\n",
        "    \"IND\": 1380\n",
        "}\n",
        "\n",
        "fd = FunnyDict({\n",
        "    \"CAN\": 38,\n",
        "    \"USA\": 329,\n",
        "    \"IND\": 1380\n",
        "})"
      ],
      "execution_count": null,
      "outputs": [],
      "metadata": {
        "id": "rZ25r5gMdpTU"
      }
    },
    {
      "cell_type": "code",
      "source": [
        "rd[\"CAR\"]"
      ],
      "execution_count": null,
      "outputs": [
        {
          "ename": "KeyError",
          "evalue": "KeyError: 'CAR'",
          "traceback": [
            "\u001b[0;31m---------------------------------------------------------------------------",
            "Traceback (most recent call last)",
            "    at line 1 in <module>",
            "KeyError: 'CAR'"
          ],
          "output_type": "error"
        }
      ],
      "metadata": {
        "id": "hF6cAFp-dpTV",
        "outputId": "98c47d08-93e5-485b-b74f-2e101fdbb28d"
      }
    },
    {
      "cell_type": "code",
      "source": [
        "fd[\"CAR\"]"
      ],
      "execution_count": null,
      "outputs": [
        {
          "data": {
            "text/plain": [
              "'404'"
            ]
          },
          "metadata": {},
          "output_type": "display_data"
        }
      ],
      "metadata": {
        "id": "mgw-uNOUdpTV",
        "outputId": "48fc4211-839f-4776-c04a-b3ae346e75f1"
      }
    },
    {
      "cell_type": "code",
      "source": [
        "rd.get(\"CAN\")"
      ],
      "execution_count": null,
      "outputs": [
        {
          "data": {
            "text/plain": [
              "38"
            ]
          },
          "metadata": {},
          "output_type": "display_data"
        }
      ],
      "metadata": {
        "id": "tb4P-pWudpTV",
        "outputId": "d543adab-6391-4a29-df10-7f9daf821892"
      }
    },
    {
      "cell_type": "code",
      "source": [
        "fd.get(\"CAN\")"
      ],
      "execution_count": null,
      "outputs": [
        {
          "data": {
            "text/plain": [
              "38"
            ]
          },
          "metadata": {},
          "output_type": "display_data"
        }
      ],
      "metadata": {
        "id": "utJ8_3g3dpTW",
        "outputId": "c512785a-f9dc-4f29-c5d4-eeaa9b274dc7"
      }
    },
    {
      "cell_type": "code",
      "source": [
        "fd.get(\"CAR\")"
      ],
      "execution_count": null,
      "outputs": [],
      "metadata": {
        "id": "5VEwjcvZdpTX"
      }
    },
    {
      "cell_type": "code",
      "source": [
        "from random import choice\n",
        "\n",
        "\n",
        "class FunnyDict(dict):\n",
        "    not_found = [\"404\", \"Wait, what?\", \"Try again, or don't?\"]\n",
        "\n",
        "    def __getitem__(self, item):\n",
        "        if not item in self:\n",
        "            return choice(self.not_found)\n",
        "\n",
        "        return super().__getitem__(item)\n",
        "\n",
        "    def get(self, value):\n",
        "        return self.__getitem__(value)"
      ],
      "execution_count": null,
      "outputs": [],
      "metadata": {
        "id": "Nv8fnWnudpTX"
      }
    },
    {
      "cell_type": "code",
      "source": [
        "fd = FunnyDict({\n",
        "    \"CAN\": 38,\n",
        "    \"USA\": 329,\n",
        "    \"IND\": 1380\n",
        "})"
      ],
      "execution_count": null,
      "outputs": [],
      "metadata": {
        "id": "mdVz7M-2dpTY"
      }
    },
    {
      "cell_type": "code",
      "source": [
        "fd.get(\"CAR\")"
      ],
      "execution_count": null,
      "outputs": [
        {
          "data": {
            "text/plain": [
              "'Wait, what?'"
            ]
          },
          "metadata": {},
          "output_type": "display_data"
        }
      ],
      "metadata": {
        "id": "2XRVPSDqdpTY",
        "outputId": "e7982c97-6ab6-4d09-a580-f08b4f84a360"
      }
    },
    {
      "cell_type": "code",
      "source": [
        "# update(), pop()"
      ],
      "execution_count": null,
      "outputs": [],
      "metadata": {
        "id": "Smxw9op8dpTY"
      }
    },
    {
      "cell_type": "code",
      "source": [
        "from random import choice\n",
        "from collections import UserDict\n",
        "\n",
        "\n",
        "class FunnyDict(UserDict):\n",
        "    not_found = [\"404\", \"Wait, what?\", \"Try again, or don't?\"]\n",
        "\n",
        "    def __getitem__(self, item):\n",
        "        if not item in self:\n",
        "            return choice(self.not_found)\n",
        "\n",
        "        return super().__getitem__(item)"
      ],
      "execution_count": null,
      "outputs": [],
      "metadata": {
        "id": "7kUiFtuudpTZ"
      }
    },
    {
      "cell_type": "code",
      "source": [
        "fd = FunnyDict({\n",
        "    \"CAN\": 38,\n",
        "    \"USA\": 329,\n",
        "    \"IND\": 1380\n",
        "})"
      ],
      "execution_count": null,
      "outputs": [],
      "metadata": {
        "id": "ylEuBcIEdpTZ"
      }
    },
    {
      "cell_type": "code",
      "source": [
        "fd.get(\"CAR\")"
      ],
      "execution_count": null,
      "outputs": [
        {
          "data": {
            "text/plain": [
              "\"Try again, or don't?\""
            ]
          },
          "metadata": {},
          "output_type": "display_data"
        }
      ],
      "metadata": {
        "id": "m8d2crbVdpTZ",
        "outputId": "904272f1-c1c9-4998-8c44-dfee286ff6a6"
      }
    },
    {
      "cell_type": "code",
      "source": [
        "fd['CARA:LDFK']"
      ],
      "execution_count": null,
      "outputs": [
        {
          "data": {
            "text/plain": [
              "'404'"
            ]
          },
          "metadata": {},
          "output_type": "display_data"
        }
      ],
      "metadata": {
        "id": "QvysO-qKdpTa",
        "outputId": "66ba4b05-020a-45ef-aec5-a8993b6273c3"
      }
    },
    {
      "cell_type": "code",
      "source": [
        "fd[\"CAN\"]"
      ],
      "execution_count": null,
      "outputs": [
        {
          "data": {
            "text/plain": [
              "38"
            ]
          },
          "metadata": {},
          "output_type": "display_data"
        }
      ],
      "metadata": {
        "id": "1jKP6lQudpTb",
        "outputId": "4a6d4d76-8e76-4a66-8d7c-40d35b4c30b5"
      }
    },
    {
      "cell_type": "code",
      "source": [
        "fd.data"
      ],
      "execution_count": null,
      "outputs": [
        {
          "data": {
            "text/plain": [
              "{'CAN': 38, 'USA': 329, 'IND': 1380}"
            ]
          },
          "metadata": {},
          "output_type": "display_data"
        }
      ],
      "metadata": {
        "id": "FOv4-X7AdpTb",
        "outputId": "d0ca10c5-4015-4687-9244-b0fc5f814172"
      }
    },
    {
      "cell_type": "markdown",
      "source": [
        "## `Beyond Inheritance`"
      ],
      "metadata": {
        "id": "4o9wcHnhdpTb"
      }
    },
    {
      "cell_type": "code",
      "source": [],
      "execution_count": null,
      "outputs": [],
      "metadata": {
        "id": "UFgri1j9dpTc"
      }
    },
    {
      "cell_type": "code",
      "source": [],
      "execution_count": null,
      "outputs": [],
      "metadata": {
        "id": "UVwfOPridpTc"
      }
    },
    {
      "cell_type": "code",
      "source": [],
      "execution_count": null,
      "outputs": [],
      "metadata": {
        "id": "8TrpgoxKdpTd"
      }
    }
  ],
  "metadata": {
    "colab": {
      "provenance": []
    }
  },
  "nbformat": 4,
  "nbformat_minor": 0
}