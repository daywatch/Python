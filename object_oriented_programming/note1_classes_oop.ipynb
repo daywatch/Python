{
  "nbformat": 4,
  "nbformat_minor": 0,
  "metadata": {
    "colab": {
      "provenance": [],
      "mount_file_id": "13BIJ_1fIrGuy-tYFvh652yVtjnlCCFsb",
      "authorship_tag": "ABX9TyMQOtAYmh/UVKFOev7jk6IV",
      "include_colab_link": true
    },
    "kernelspec": {
      "name": "python3",
      "display_name": "Python 3"
    },
    "language_info": {
      "name": "python"
    }
  },
  "cells": [
    {
      "cell_type": "markdown",
      "metadata": {
        "id": "view-in-github",
        "colab_type": "text"
      },
      "source": [
        "<a href=\"https://colab.research.google.com/github/daywatch/Python/blob/main/object_oriented_programming/note1_classes_oop.ipynb\" target=\"_parent\"><img src=\"https://colab.research.google.com/assets/colab-badge.svg\" alt=\"Open In Colab\"/></a>"
      ]
    },
    {
      "cell_type": "code",
      "execution_count": null,
      "metadata": {
        "colab": {
          "base_uri": "https://localhost:8080/"
        },
        "id": "_MB3V2R9CFpr",
        "outputId": "b4128e82-8402-46c0-b15a-b0b9dc0b2139"
      },
      "outputs": [
        {
          "output_type": "stream",
          "name": "stdout",
          "text": [
            "Drive already mounted at /content/drive; to attempt to forcibly remount, call drive.mount(\"/content/drive\", force_remount=True).\n"
          ]
        }
      ],
      "source": [
        "# prompt: how to link colab to google drive\n",
        "from google.colab import drive\n",
        "drive.mount('/content/drive')\n"
      ]
    },
    {
      "cell_type": "markdown",
      "source": [
        "## define a class: calling a name, instances, and base"
      ],
      "metadata": {
        "id": "UaeSYvArEeM7"
      }
    },
    {
      "cell_type": "code",
      "source": [
        "class MercedezBenz:\n",
        "  pass"
      ],
      "metadata": {
        "id": "R4E1Ywb8CeuD"
      },
      "execution_count": null,
      "outputs": []
    },
    {
      "cell_type": "code",
      "source": [
        "MercedezBenz"
      ],
      "metadata": {
        "colab": {
          "base_uri": "https://localhost:8080/"
        },
        "id": "bcQwUL5bD5A9",
        "outputId": "dc40809b-62ae-46ee-91d5-d50c2be9d0e7"
      },
      "execution_count": null,
      "outputs": [
        {
          "output_type": "execute_result",
          "data": {
            "text/plain": [
              "__main__.MercedezBenz"
            ]
          },
          "metadata": {},
          "execution_count": 3
        }
      ]
    },
    {
      "cell_type": "code",
      "source": [
        "type(MercedezBenz)"
      ],
      "metadata": {
        "colab": {
          "base_uri": "https://localhost:8080/"
        },
        "id": "yI11pK5lD7Lt",
        "outputId": "2478b51e-e315-4352-d199-29e0a41703bb"
      },
      "execution_count": null,
      "outputs": [
        {
          "output_type": "execute_result",
          "data": {
            "text/plain": [
              "type"
            ]
          },
          "metadata": {},
          "execution_count": 4
        }
      ]
    },
    {
      "cell_type": "code",
      "source": [
        "MercedezBenz.__bases__"
      ],
      "metadata": {
        "colab": {
          "base_uri": "https://localhost:8080/"
        },
        "id": "_K1wKhnLD8ek",
        "outputId": "01a35d58-d919-4569-86d7-017b9c0cba4c"
      },
      "execution_count": null,
      "outputs": [
        {
          "output_type": "execute_result",
          "data": {
            "text/plain": [
              "(object,)"
            ]
          },
          "metadata": {},
          "execution_count": 5
        }
      ]
    },
    {
      "cell_type": "code",
      "source": [
        "MercedezBenz.__name__"
      ],
      "metadata": {
        "colab": {
          "base_uri": "https://localhost:8080/",
          "height": 35
        },
        "id": "_RVElNjOEKQl",
        "outputId": "47c2e87e-4ab5-46dc-8b53-e85d803c644c"
      },
      "execution_count": null,
      "outputs": [
        {
          "output_type": "execute_result",
          "data": {
            "text/plain": [
              "'MercedezBenz'"
            ],
            "application/vnd.google.colaboratory.intrinsic+json": {
              "type": "string"
            }
          },
          "metadata": {},
          "execution_count": 6
        }
      ]
    },
    {
      "cell_type": "code",
      "source": [
        "MercedezBenz() #this is an instance, unique"
      ],
      "metadata": {
        "colab": {
          "base_uri": "https://localhost:8080/"
        },
        "id": "Ww8gwKUJENt9",
        "outputId": "767f97a0-1408-4505-88e0-1b52dc4277ac"
      },
      "execution_count": null,
      "outputs": [
        {
          "output_type": "execute_result",
          "data": {
            "text/plain": [
              "<__main__.MercedezBenz at 0x7ea10bba1e40>"
            ]
          },
          "metadata": {},
          "execution_count": 7
        }
      ]
    },
    {
      "cell_type": "code",
      "source": [
        "MercedezBenz()"
      ],
      "metadata": {
        "colab": {
          "base_uri": "https://localhost:8080/"
        },
        "id": "vXmOeHfIEPwI",
        "outputId": "3d188916-5f19-422b-8635-a921a5c83ba4"
      },
      "execution_count": null,
      "outputs": [
        {
          "output_type": "execute_result",
          "data": {
            "text/plain": [
              "<__main__.MercedezBenz at 0x7ea10bba1e70>"
            ]
          },
          "metadata": {},
          "execution_count": 8
        }
      ]
    },
    {
      "cell_type": "markdown",
      "source": [
        "## define a class: dict, adding attribtues, shared among instances"
      ],
      "metadata": {
        "id": "tzQqjkETEpap"
      }
    },
    {
      "cell_type": "code",
      "source": [
        "class MercedezBenz2:\n",
        "  doors =2\n",
        "  wheels = 4"
      ],
      "metadata": {
        "id": "yAsudBa4ErO-"
      },
      "execution_count": null,
      "outputs": []
    },
    {
      "cell_type": "code",
      "source": [
        "MercedezBenz2.__dict__"
      ],
      "metadata": {
        "colab": {
          "base_uri": "https://localhost:8080/"
        },
        "id": "KcW74RGsErLs",
        "outputId": "46aa3d67-e7e8-43b2-c9ac-328cb98a5f4e"
      },
      "execution_count": null,
      "outputs": [
        {
          "output_type": "execute_result",
          "data": {
            "text/plain": [
              "mappingproxy({'__module__': '__main__',\n",
              "              'doors': 2,\n",
              "              'wheels': 4,\n",
              "              '__dict__': <attribute '__dict__' of 'MercedezBenz2' objects>,\n",
              "              '__weakref__': <attribute '__weakref__' of 'MercedezBenz2' objects>,\n",
              "              '__doc__': None})"
            ]
          },
          "metadata": {},
          "execution_count": 10
        }
      ]
    },
    {
      "cell_type": "code",
      "source": [
        "MercedezBenz2.doors = 100"
      ],
      "metadata": {
        "id": "1ivEy2xeL029"
      },
      "execution_count": null,
      "outputs": []
    },
    {
      "cell_type": "code",
      "source": [
        "# add new attribute\n",
        "\n",
        "MercedezBenz2.model = \"nothing\"\n",
        "\n",
        "MercedezBenz2.__dict__"
      ],
      "metadata": {
        "colab": {
          "base_uri": "https://localhost:8080/"
        },
        "id": "GKqzh9OxMfmU",
        "outputId": "c67084c9-6a6d-4380-bd8b-7b4fedcbd027"
      },
      "execution_count": null,
      "outputs": [
        {
          "output_type": "execute_result",
          "data": {
            "text/plain": [
              "mappingproxy({'__module__': '__main__',\n",
              "              'doors': 100,\n",
              "              'wheels': 4,\n",
              "              '__dict__': <attribute '__dict__' of 'MercedezBenz2' objects>,\n",
              "              '__weakref__': <attribute '__weakref__' of 'MercedezBenz2' objects>,\n",
              "              '__doc__': None,\n",
              "              'model': 'nothing'})"
            ]
          },
          "metadata": {},
          "execution_count": 12
        }
      ]
    },
    {
      "cell_type": "code",
      "source": [
        "MercedezBenz2.model, MercedezBenz2.model"
      ],
      "metadata": {
        "colab": {
          "base_uri": "https://localhost:8080/"
        },
        "id": "MY4lDNOXM0R9",
        "outputId": "5d9aeb5e-5343-4f6e-afa7-41a703c2edd7"
      },
      "execution_count": null,
      "outputs": [
        {
          "output_type": "execute_result",
          "data": {
            "text/plain": [
              "('nothing', 'nothing')"
            ]
          },
          "metadata": {},
          "execution_count": 13
        }
      ]
    },
    {
      "cell_type": "markdown",
      "source": [
        "## Methods and custom behaviors\n",
        "\n",
        "\n",
        "*   add functions\n",
        "*   self, instances\n",
        "\n"
      ],
      "metadata": {
        "id": "O7JPYF7xNPSf"
      }
    },
    {
      "cell_type": "code",
      "source": [
        "class MercedezBenz:\n",
        "  doors =2\n",
        "  wheels = 4\n",
        "  model = \"G\"\n",
        "\n",
        "  def drive(self): #instance method always takes self as requirement / self by convention\n",
        "    return self\n"
      ],
      "metadata": {
        "id": "BcklGrm2NMQp"
      },
      "execution_count": null,
      "outputs": []
    },
    {
      "cell_type": "code",
      "source": [
        "MercedezBenz().drive()"
      ],
      "metadata": {
        "colab": {
          "base_uri": "https://localhost:8080/"
        },
        "id": "gPI1eDn3NU3x",
        "outputId": "eb4ea678-e1a9-4c71-bdaf-9d44f7eb6945"
      },
      "execution_count": null,
      "outputs": [
        {
          "output_type": "execute_result",
          "data": {
            "text/plain": [
              "<__main__.MercedezBenz at 0x7ea10bba2bc0>"
            ]
          },
          "metadata": {},
          "execution_count": 15
        }
      ]
    },
    {
      "cell_type": "code",
      "source": [
        "class MercedezBenz:\n",
        "  doors =2\n",
        "  wheels = 4\n",
        "  model = \"G\"\n",
        "\n",
        "  def drive(self): #instance method always takes self as requirement / self by convention\n",
        "    return f\"A mercedez is driving. And it is {self}\\n\""
      ],
      "metadata": {
        "id": "ucDcM7NENU0g"
      },
      "execution_count": null,
      "outputs": []
    },
    {
      "cell_type": "code",
      "source": [
        "m1 = MercedezBenz()\n",
        "m2 = MercedezBenz()"
      ],
      "metadata": {
        "id": "fPtLzheCNUxy"
      },
      "execution_count": null,
      "outputs": []
    },
    {
      "cell_type": "code",
      "source": [
        "m1.drive() == m2.drive() # this is becasue self is different amont instances"
      ],
      "metadata": {
        "colab": {
          "base_uri": "https://localhost:8080/"
        },
        "id": "l_Gl2hjbNMMB",
        "outputId": "95d0891a-44c1-411b-f472-a0ca2055f102"
      },
      "execution_count": null,
      "outputs": [
        {
          "output_type": "execute_result",
          "data": {
            "text/plain": [
              "False"
            ]
          },
          "metadata": {},
          "execution_count": 18
        }
      ]
    },
    {
      "cell_type": "code",
      "source": [
        "m1.drive,m2.drive"
      ],
      "metadata": {
        "colab": {
          "base_uri": "https://localhost:8080/"
        },
        "id": "7CW-pHGFMyJj",
        "outputId": "3a263cfe-b70e-4dbf-e5d2-0f18ef2326a1"
      },
      "execution_count": null,
      "outputs": [
        {
          "output_type": "execute_result",
          "data": {
            "text/plain": [
              "(<bound method MercedezBenz.drive of <__main__.MercedezBenz object at 0x7ea10bba3070>>,\n",
              " <bound method MercedezBenz.drive of <__main__.MercedezBenz object at 0x7ea10bba3430>>)"
            ]
          },
          "metadata": {},
          "execution_count": 19
        }
      ]
    },
    {
      "cell_type": "markdown",
      "source": [
        "## class instance attributes: instance-based features\n",
        "\n",
        "*   init > bound with instance\n",
        "\n"
      ],
      "metadata": {
        "id": "0TSoJpe8RUk8"
      }
    },
    {
      "cell_type": "code",
      "source": [
        "class MercedezBenz:\n",
        "  doors =2\n",
        "  wheels = 4\n",
        "  model = \"G\"\n",
        "\n",
        "  def __init__(self,color=\"black\"): #after instance creation, but before it is returned; default arg is used\n",
        "    self.color = color\n",
        "\n",
        "  def drive(self): #instance method always takes self as requirement / self by convention\n",
        "    return f\"A mercedez is driving. And it is {self}\\n\""
      ],
      "metadata": {
        "id": "R_Ujzs7cQtA6"
      },
      "execution_count": null,
      "outputs": []
    },
    {
      "cell_type": "code",
      "source": [
        "m1 = MercedezBenz(color='blue')\n",
        "m2 = MercedezBenz(color='black')\n",
        "m3 = MercedezBenz()\n",
        "m1.color,m2.color,m3.color"
      ],
      "metadata": {
        "colab": {
          "base_uri": "https://localhost:8080/"
        },
        "id": "yUunzOzMReR3",
        "outputId": "0371929f-87f6-46e2-b8cb-fb42a8362b0a"
      },
      "execution_count": null,
      "outputs": [
        {
          "output_type": "execute_result",
          "data": {
            "text/plain": [
              "('blue', 'black', 'black')"
            ]
          },
          "metadata": {},
          "execution_count": 21
        }
      ]
    },
    {
      "cell_type": "markdown",
      "source": [
        "## getattr() and setattr()\n",
        "- class.attribute()\n",
        "- These methods are useful for renaming at scale\n",
        "- getattr() can replace a try statement\n",
        "\n"
      ],
      "metadata": {
        "id": "6fZrnXM4W5Ar"
      }
    },
    {
      "cell_type": "code",
      "source": [
        "MercedezBenz.doors"
      ],
      "metadata": {
        "colab": {
          "base_uri": "https://localhost:8080/"
        },
        "id": "--ENx-P6UAGh",
        "outputId": "52c422d2-bbb0-44a7-9e11-1e5097add249"
      },
      "execution_count": null,
      "outputs": [
        {
          "output_type": "execute_result",
          "data": {
            "text/plain": [
              "2"
            ]
          },
          "metadata": {},
          "execution_count": 22
        }
      ]
    },
    {
      "cell_type": "code",
      "source": [
        "getattr(m1,\"color\")"
      ],
      "metadata": {
        "colab": {
          "base_uri": "https://localhost:8080/",
          "height": 35
        },
        "id": "Wn5Cn-UkXBCj",
        "outputId": "eeb0b3ed-b3c4-489a-e674-893fa3b5d0f8"
      },
      "execution_count": null,
      "outputs": [
        {
          "output_type": "execute_result",
          "data": {
            "text/plain": [
              "'blue'"
            ],
            "application/vnd.google.colaboratory.intrinsic+json": {
              "type": "string"
            }
          },
          "metadata": {},
          "execution_count": 23
        }
      ]
    },
    {
      "cell_type": "code",
      "source": [
        "setattr(m1,\"color\",\"very red\")\n",
        "m1.color"
      ],
      "metadata": {
        "colab": {
          "base_uri": "https://localhost:8080/",
          "height": 35
        },
        "id": "QIAiSmH0XKp5",
        "outputId": "baa8cc59-50c3-4518-acca-6237ca3bb489"
      },
      "execution_count": null,
      "outputs": [
        {
          "output_type": "execute_result",
          "data": {
            "text/plain": [
              "'very red'"
            ],
            "application/vnd.google.colaboratory.intrinsic+json": {
              "type": "string"
            }
          },
          "metadata": {},
          "execution_count": 24
        }
      ]
    },
    {
      "cell_type": "code",
      "source": [
        "# builk setting attributes\n",
        "objs = [m1,m2]\n",
        "attr = [\"color\",\"doors\"]\n",
        "values = [\"red\",\"purple\"]\n",
        "\n",
        "for obj in objs:\n",
        "  for attrib, val in zip(attr,values):\n",
        "    setattr(obj,attrib,val)"
      ],
      "metadata": {
        "id": "79i_r47FXVpa"
      },
      "execution_count": null,
      "outputs": []
    },
    {
      "cell_type": "code",
      "source": [
        "m1.color,m2.color"
      ],
      "metadata": {
        "colab": {
          "base_uri": "https://localhost:8080/"
        },
        "id": "EunOZPwXZ0KA",
        "outputId": "62c842d4-f6f4-46a7-a450-8f34539ce572"
      },
      "execution_count": null,
      "outputs": [
        {
          "output_type": "execute_result",
          "data": {
            "text/plain": [
              "('red', 'red')"
            ]
          },
          "metadata": {},
          "execution_count": 26
        }
      ]
    },
    {
      "cell_type": "code",
      "source": [
        "getattr(m2,\"wingspan\",\"no attr found\")\n",
        "\n",
        "# this code is the same as try - exception flow but more convinient"
      ],
      "metadata": {
        "colab": {
          "base_uri": "https://localhost:8080/",
          "height": 35
        },
        "id": "kPpKwnIOZ9bD",
        "outputId": "1a0cea5f-bdbc-493d-e0ec-b031c6f41aaf"
      },
      "execution_count": null,
      "outputs": [
        {
          "output_type": "execute_result",
          "data": {
            "text/plain": [
              "'no attr found'"
            ],
            "application/vnd.google.colaboratory.intrinsic+json": {
              "type": "string"
            }
          },
          "metadata": {},
          "execution_count": 27
        }
      ]
    },
    {
      "cell_type": "markdown",
      "source": [
        "## Revisiting self\n",
        "- in C# and java is called this(reserved keyword)\n",
        "- any function under class needs self instance as input"
      ],
      "metadata": {
        "id": "oLxz5jVicM10"
      }
    },
    {
      "cell_type": "code",
      "source": [
        "class MercedezBenz:\n",
        "  doors =2\n",
        "  wheels = 4\n",
        "  model = \"G\"\n",
        "\n",
        "  def __init__(self,color=\"black\"): #after instance creation, but before it is returned; default arg is used\n",
        "    self.color = color\n",
        "\n",
        "  def drive(self): #instance method always takes self as requirement / self by convention\n",
        "    return f\"A mercedez is driving. And it is {self}\\n\"\n",
        "\n",
        "  def auto_drive(): #any function under class is default as instance function with instance/self as its arg\n",
        "    return \"auto-dirving for now...\""
      ],
      "metadata": {
        "id": "r-xZqow9Z9X5"
      },
      "execution_count": null,
      "outputs": []
    },
    {
      "cell_type": "code",
      "source": [
        "m1 = MercedezBenz(\"pink\")\n",
        "\n",
        "#m1.auto_drive()\n",
        "\n",
        "#TypeError: MercedezBenz.auto_drive() takes 0 positional arguments but 1 was given\n"
      ],
      "metadata": {
        "id": "cvw1IiVmZ5lu"
      },
      "execution_count": null,
      "outputs": []
    },
    {
      "cell_type": "code",
      "source": [
        "class MercedezBenz:\n",
        "  doors =2\n",
        "  wheels = 4\n",
        "  model = \"G\"\n",
        "\n",
        "  def __init__(self,color=\"black\"): #after instance creation, but before it is returned; default arg is used\n",
        "    self.color = color\n",
        "\n",
        "  def drive(self): #instance method always takes self as requirement / self by convention\n",
        "    return f\"A mercedez is driving. And it is {self}\\n\"\n",
        "\n",
        "  def auto_drive(self): #any function under class is default as instance function with instance/self as its arg\n",
        "    return \"auto-dirving for now...\"\n",
        "\n",
        "m1 = MercedezBenz(\"pink\")\n",
        "\n",
        "m1.auto_drive()"
      ],
      "metadata": {
        "colab": {
          "base_uri": "https://localhost:8080/",
          "height": 35
        },
        "id": "LjxSFbdpchGu",
        "outputId": "c4c4a32c-fcb8-46e2-9ca4-4b09341a348e"
      },
      "execution_count": null,
      "outputs": [
        {
          "output_type": "execute_result",
          "data": {
            "text/plain": [
              "'auto-dirving for now...'"
            ],
            "application/vnd.google.colaboratory.intrinsic+json": {
              "type": "string"
            }
          },
          "metadata": {},
          "execution_count": 30
        }
      ]
    },
    {
      "cell_type": "markdown",
      "source": [
        "## class and static method\n",
        "\n",
        "\n",
        "*   Previously, instance method\n",
        "*   static: regular functions living within class\n",
        "*   class-level method\n",
        "\n"
      ],
      "metadata": {
        "id": "N-OuGTO0j5lM"
      }
    },
    {
      "cell_type": "code",
      "source": [
        "class MercedezBenz:\n",
        "  doors =4\n",
        "  wheels = 4\n",
        "  model = \"G\"\n",
        "\n",
        "  def __init__(self,color=\"black\"): #after instance creation, but before it is returned; default arg is used\n",
        "    self.color = color\n",
        "\n",
        "  def drive(self): #instance method always takes self as requirement / self by convention\n",
        "    return f\"A mercedez is driving. And it is {self}\\n\"\n",
        "\n",
        "  @staticmethod\n",
        "  def auto_drive(): #any function under class is default as instance function with instance/self as its arg\n",
        "    return \"auto-dirving for now...\"\n",
        "\n",
        "  @classmethod\n",
        "  def create_lease(cls):\n",
        "    print(f\"A lease for {cls} will be created\")"
      ],
      "metadata": {
        "id": "eFnnF0rac9cj"
      },
      "execution_count": null,
      "outputs": []
    },
    {
      "cell_type": "code",
      "source": [
        "m1 = MercedezBenz()\n",
        "m1.auto_drive()"
      ],
      "metadata": {
        "id": "fwkwikFcdMuv",
        "colab": {
          "base_uri": "https://localhost:8080/",
          "height": 35
        },
        "outputId": "14b1906c-80fb-49fc-b36f-dc8f43984580"
      },
      "execution_count": null,
      "outputs": [
        {
          "output_type": "execute_result",
          "data": {
            "text/plain": [
              "'auto-dirving for now...'"
            ],
            "application/vnd.google.colaboratory.intrinsic+json": {
              "type": "string"
            }
          },
          "metadata": {},
          "execution_count": 34
        }
      ]
    },
    {
      "cell_type": "code",
      "source": [
        "MercedezBenz().create_lease()"
      ],
      "metadata": {
        "colab": {
          "base_uri": "https://localhost:8080/"
        },
        "id": "HIDr1OOv0BBE",
        "outputId": "ce3f018e-692b-4528-e28b-8defc1ad6ceb"
      },
      "execution_count": null,
      "outputs": [
        {
          "output_type": "stream",
          "name": "stdout",
          "text": [
            "A lease for <class '__main__.MercedezBenz'> will be created\n"
          ]
        }
      ]
    },
    {
      "cell_type": "code",
      "source": [
        "m1 = MercedezBenz()\n",
        "m1.create_lease()"
      ],
      "metadata": {
        "colab": {
          "base_uri": "https://localhost:8080/"
        },
        "id": "25d2ob2F0BFB",
        "outputId": "f9f01809-725a-4a7d-fe1e-7cc102e818a1"
      },
      "execution_count": null,
      "outputs": [
        {
          "output_type": "stream",
          "name": "stdout",
          "text": [
            "A lease for <class '__main__.MercedezBenz'> will be created\n"
          ]
        }
      ]
    },
    {
      "cell_type": "code",
      "source": [
        "# previous using decorative syntax, now we use alternative syntax (only need references)\n",
        "\n",
        "class MercedezBenz:\n",
        "  doors =4\n",
        "  wheels = 4\n",
        "  model = \"G\"\n",
        "\n",
        "  def __init__(self,color=\"black\"): #after instance creation, but before it is returned; default arg is used\n",
        "    self.color = color\n",
        "\n",
        "  def drive(self): #instance method always takes self as requirement / self by convention\n",
        "    return f\"A mercedez is driving. And it is {self}\\n\"\n",
        "\n",
        "  def auto_drive(): #any function under class is default as instance function with instance/self as its arg\n",
        "    return \"auto-dirving for now...\"\n",
        "\n",
        "  def create_lease(cls):\n",
        "    print(f\"A lease for {cls} will be created\")\n",
        "\n",
        "  create_lease = classmethod(create_lease)\n",
        "  auto_drive = staticmethod(auto_drive)\n"
      ],
      "metadata": {
        "id": "DpD6Kl3Q0BKr"
      },
      "execution_count": null,
      "outputs": []
    },
    {
      "cell_type": "code",
      "source": [
        "m1 = MercedezBenz()\n",
        "m1.create_lease()"
      ],
      "metadata": {
        "id": "VxUZnGf8dMsN",
        "colab": {
          "base_uri": "https://localhost:8080/"
        },
        "outputId": "21418918-40a6-436f-e339-8f997e605d15"
      },
      "execution_count": null,
      "outputs": [
        {
          "output_type": "stream",
          "name": "stdout",
          "text": [
            "A lease for <class '__main__.MercedezBenz'> will be created\n"
          ]
        }
      ]
    },
    {
      "cell_type": "markdown",
      "source": [
        "## Dunder Dict"
      ],
      "metadata": {
        "id": "Ez7u1V9E2UBD"
      }
    },
    {
      "cell_type": "code",
      "source": [
        "m1 = MercedezBenz(\"lanvender\")\n",
        "m1.color"
      ],
      "metadata": {
        "colab": {
          "base_uri": "https://localhost:8080/",
          "height": 35
        },
        "id": "2z6E3V_X2Zei",
        "outputId": "a3e78a0a-31a2-4863-9600-561db4de8ead"
      },
      "execution_count": null,
      "outputs": [
        {
          "output_type": "execute_result",
          "data": {
            "text/plain": [
              "'lanvender'"
            ],
            "application/vnd.google.colaboratory.intrinsic+json": {
              "type": "string"
            }
          },
          "metadata": {},
          "execution_count": 43
        }
      ]
    },
    {
      "cell_type": "code",
      "source": [
        "m1.__dict__ #for attributes"
      ],
      "metadata": {
        "colab": {
          "base_uri": "https://localhost:8080/"
        },
        "id": "2pjSIUDM2ZSB",
        "outputId": "1274e2cd-aff3-4c59-95f8-d00ac7c0fd49"
      },
      "execution_count": null,
      "outputs": [
        {
          "output_type": "execute_result",
          "data": {
            "text/plain": [
              "{'color': 'lanvender'}"
            ]
          },
          "metadata": {},
          "execution_count": 45
        }
      ]
    },
    {
      "cell_type": "code",
      "source": [
        "m2 = MercedezBenz(\"cyan\")\n",
        "m2.__dict__ #totally different from m1"
      ],
      "metadata": {
        "colab": {
          "base_uri": "https://localhost:8080/"
        },
        "id": "1-DENwqb2k03",
        "outputId": "30c22d50-72de-47a7-e19f-e72cc3c6875f"
      },
      "execution_count": null,
      "outputs": [
        {
          "output_type": "execute_result",
          "data": {
            "text/plain": [
              "{'color': 'cyan'}"
            ]
          },
          "metadata": {},
          "execution_count": 48
        }
      ]
    },
    {
      "cell_type": "code",
      "source": [
        "m2.whatver = 490 #assign a new attribute\n",
        "m2.__dict__"
      ],
      "metadata": {
        "colab": {
          "base_uri": "https://localhost:8080/"
        },
        "id": "tdUnuSWg2xbc",
        "outputId": "4b600767-3052-4cf7-fbbc-48ae391c044e"
      },
      "execution_count": null,
      "outputs": [
        {
          "output_type": "execute_result",
          "data": {
            "text/plain": [
              "{'color': 'cyan', 'whatver': 490}"
            ]
          },
          "metadata": {},
          "execution_count": 50
        }
      ]
    },
    {
      "cell_type": "code",
      "source": [
        "# another way to assign is using the dict\n",
        "m2.__dict__[\"whatever\"] = 4900\n",
        "m2.__dict__"
      ],
      "metadata": {
        "colab": {
          "base_uri": "https://localhost:8080/"
        },
        "id": "R2QJCDYF2xWi",
        "outputId": "3955055a-eb5d-4d62-e2d1-c64e0724b8b2"
      },
      "execution_count": null,
      "outputs": [
        {
          "output_type": "execute_result",
          "data": {
            "text/plain": [
              "{'color': 'cyan', 'whatver': 4900}"
            ]
          },
          "metadata": {},
          "execution_count": 52
        }
      ]
    },
    {
      "cell_type": "markdown",
      "source": [
        "## class vs instance __dict__\n",
        "* class __dict__ a read-only mapping for internal method resolution order\n",
        "* in the mappingproxy, there are keys called descriptors\n",
        "* get attribute by name \"__dict__\", python goes looking for it in the namespace > then class > in the class, it finds dict > > the attribute name (__dict__) points to a descriptor > then descriptor get() is called which returns the sub-dictionary"
      ],
      "metadata": {
        "id": "Ey-HzcKy3YFd"
      }
    },
    {
      "cell_type": "code",
      "source": [
        "MercedezBenz.__dict__"
      ],
      "metadata": {
        "colab": {
          "base_uri": "https://localhost:8080/"
        },
        "id": "0fEcAyga2xT1",
        "outputId": "cdc0529f-3f9f-4b37-a930-4d4649ed6c1a"
      },
      "execution_count": null,
      "outputs": [
        {
          "output_type": "execute_result",
          "data": {
            "text/plain": [
              "mappingproxy({'__module__': '__main__',\n",
              "              'doors': 4,\n",
              "              'wheels': 4,\n",
              "              'model': 'G',\n",
              "              '__init__': <function __main__.MercedezBenz.__init__(self, color='black')>,\n",
              "              'drive': <function __main__.MercedezBenz.drive(self)>,\n",
              "              'auto_drive': <staticmethod(<function MercedezBenz.auto_drive at 0x7ea0e2b09120>)>,\n",
              "              'create_lease': <classmethod(<function MercedezBenz.create_lease at 0x7ea0e2b09090>)>,\n",
              "              '__dict__': <attribute '__dict__' of 'MercedezBenz' objects>,\n",
              "              '__weakref__': <attribute '__weakref__' of 'MercedezBenz' objects>,\n",
              "              '__doc__': None,\n",
              "              '__annotations__': {}})"
            ]
          },
          "metadata": {},
          "execution_count": 53
        }
      ]
    },
    {
      "cell_type": "code",
      "source": [
        "type(MercedezBenz.__dict__)"
      ],
      "metadata": {
        "colab": {
          "base_uri": "https://localhost:8080/"
        },
        "id": "7ttBx-Ez3vUe",
        "outputId": "24056dd7-42a8-4140-bf03-9caf2a83e81c"
      },
      "execution_count": null,
      "outputs": [
        {
          "output_type": "execute_result",
          "data": {
            "text/plain": [
              "mappingproxy"
            ]
          },
          "metadata": {},
          "execution_count": 54
        }
      ]
    },
    {
      "cell_type": "markdown",
      "source": [
        "## be careful about mutable objects in classes\n",
        "* immutables: bool, int, string, float, tuple > most data structures in python\n",
        "* mutables: **list** > will cause dynamic issue because they share regardless of different instances"
      ],
      "metadata": {
        "id": "nXXI4_ey65ai"
      }
    },
    {
      "cell_type": "code",
      "source": [
        "class Tire:\n",
        "  def __init__(self,kind,distance_covered):\n",
        "    self.kind = kind\n",
        "    self.distance_covered = distance_covered"
      ],
      "metadata": {
        "id": "j52VbFF675Mj"
      },
      "execution_count": null,
      "outputs": []
    },
    {
      "cell_type": "code",
      "source": [
        "class MercedezBenz:\n",
        "  tires = [Tire(\"operational\",10) for i in range(4)]\n",
        "  doors =4\n",
        "  wheels = 4\n",
        "  model = \"G\"\n",
        "\n",
        "  def __init__(self,color=\"black\"): #after instance creation, but before it is returned; default arg is used\n",
        "    self.color = color\n",
        "\n",
        "  def drive(self): #instance method always takes self as requirement / self by convention\n",
        "    return f\"A mercedez is driving. And it is {self}\\n\"\n",
        "\n",
        "  def auto_drive(): #any function under class is default as instance function with instance/self as its arg\n",
        "    return \"auto-dirving for now...\"\n",
        "\n",
        "  def create_lease(cls):\n",
        "    print(f\"A lease for {cls} will be created\")\n",
        "\n",
        "  create_lease = classmethod(create_lease)\n",
        "  auto_drive = staticmethod(auto_drive)"
      ],
      "metadata": {
        "id": "pU6xCgfZ2kya"
      },
      "execution_count": null,
      "outputs": []
    },
    {
      "cell_type": "code",
      "source": [
        "m1 = MercedezBenz()\n",
        "m1.tires"
      ],
      "metadata": {
        "colab": {
          "base_uri": "https://localhost:8080/"
        },
        "id": "zPKeMrkq6rMq",
        "outputId": "eeca3eb8-910c-46b3-d049-2d1aa0a6a5e4"
      },
      "execution_count": null,
      "outputs": [
        {
          "output_type": "execute_result",
          "data": {
            "text/plain": [
              "[<__main__.Tire at 0x7ea10bba17e0>,\n",
              " <__main__.Tire at 0x7ea10bbf9510>,\n",
              " <__main__.Tire at 0x7ea10bbf9c90>,\n",
              " <__main__.Tire at 0x7ea10bbfa290>]"
            ]
          },
          "metadata": {},
          "execution_count": 59
        }
      ]
    },
    {
      "cell_type": "code",
      "source": [
        "m2 = MercedezBenz()\n",
        "m2.tires"
      ],
      "metadata": {
        "colab": {
          "base_uri": "https://localhost:8080/"
        },
        "id": "xCfe8CMw6rVy",
        "outputId": "7ab4e609-7e3d-488c-a4f5-c0d7430a8b51"
      },
      "execution_count": null,
      "outputs": [
        {
          "output_type": "execute_result",
          "data": {
            "text/plain": [
              "[<__main__.Tire at 0x7ea10bba17e0>,\n",
              " <__main__.Tire at 0x7ea10bbf9510>,\n",
              " <__main__.Tire at 0x7ea10bbf9c90>,\n",
              " <__main__.Tire at 0x7ea10bbfa290>]"
            ]
          },
          "metadata": {},
          "execution_count": 60
        }
      ]
    },
    {
      "cell_type": "code",
      "source": [
        "m1.tires.append(Tire(kind=\"spare\",distance_covered=90))\n",
        "# m2 will be affected by m1\n",
        "m2.tires"
      ],
      "metadata": {
        "colab": {
          "base_uri": "https://localhost:8080/"
        },
        "id": "flqD07dx2kvp",
        "outputId": "50a2a531-cd7c-4d29-b7eb-dedd88970040"
      },
      "execution_count": null,
      "outputs": [
        {
          "output_type": "execute_result",
          "data": {
            "text/plain": [
              "[<__main__.Tire at 0x7ea10bba17e0>,\n",
              " <__main__.Tire at 0x7ea10bbf9510>,\n",
              " <__main__.Tire at 0x7ea10bbf9c90>,\n",
              " <__main__.Tire at 0x7ea10bbfa290>,\n",
              " <__main__.Tire at 0x7ea10bba17b0>]"
            ]
          },
          "metadata": {},
          "execution_count": 61
        }
      ]
    },
    {
      "cell_type": "markdown",
      "source": [
        "## acess control\n",
        "* for example in java you have public vs. private; java additional functions (getters and setters) defined in the class\n",
        "* in python everything is public - uniform access pricinple - same syntax everywhere > python can set up properties as constraints >\n",
        "* ** we use _ before a function to make it private to the class **"
      ],
      "metadata": {
        "id": "z-AnGhty9Hpf"
      }
    },
    {
      "cell_type": "code",
      "source": [
        "m1.doors += 1\n",
        "m1.__dict__"
      ],
      "metadata": {
        "colab": {
          "base_uri": "https://localhost:8080/"
        },
        "id": "UPuWu-AP8T9O",
        "outputId": "639fc5fb-264d-4352-9b6c-5f726126fdbe"
      },
      "execution_count": null,
      "outputs": [
        {
          "output_type": "execute_result",
          "data": {
            "text/plain": [
              "{'color': 'black', 'doors': 7}"
            ]
          },
          "metadata": {},
          "execution_count": 64
        }
      ]
    },
    {
      "cell_type": "code",
      "source": [
        "# the problem is that you can allow m1.doors += \"whatever\""
      ],
      "metadata": {
        "id": "wIV9fR509ECB"
      },
      "execution_count": null,
      "outputs": []
    },
    {
      "cell_type": "markdown",
      "source": [
        "## docstrings!\n",
        "* popular standards: pep257; google's https://google.github.io/styleguide/pyguide.html  \n",
        "* numpy's https://numpydoc.readthedocs.io/en/latest/format.html"
      ],
      "metadata": {
        "id": "hmjI9qGY-yWt"
      }
    },
    {
      "cell_type": "code",
      "source": [
        "help(getattr)"
      ],
      "metadata": {
        "colab": {
          "base_uri": "https://localhost:8080/"
        },
        "id": "amVH-Ii4-eVz",
        "outputId": "28c9c304-f95a-441d-eb86-a55f08f9dd07"
      },
      "execution_count": null,
      "outputs": [
        {
          "output_type": "stream",
          "name": "stdout",
          "text": [
            "Help on built-in function getattr in module builtins:\n",
            "\n",
            "getattr(...)\n",
            "    getattr(object, name[, default]) -> value\n",
            "    \n",
            "    Get a named attribute from an object; getattr(x, 'y') is equivalent to x.y.\n",
            "    When a default argument is given, it is returned when the attribute doesn't\n",
            "    exist; without it, an exception is raised in that case.\n",
            "\n"
          ]
        }
      ]
    },
    {
      "cell_type": "code",
      "source": [
        "# customized func do not have useful docstrings\n",
        "help(Tire)"
      ],
      "metadata": {
        "colab": {
          "base_uri": "https://localhost:8080/"
        },
        "id": "5FPkUEb--eSx",
        "outputId": "d5bd02aa-f373-4e69-881d-7088a821e2f8"
      },
      "execution_count": null,
      "outputs": [
        {
          "output_type": "stream",
          "name": "stdout",
          "text": [
            "Help on class Tire in module __main__:\n",
            "\n",
            "class Tire(builtins.object)\n",
            " |  Tire(kind, distance_covered)\n",
            " |  \n",
            " |  Methods defined here:\n",
            " |  \n",
            " |  __init__(self, kind, distance_covered)\n",
            " |      Initialize self.  See help(type(self)) for accurate signature.\n",
            " |  \n",
            " |  ----------------------------------------------------------------------\n",
            " |  Data descriptors defined here:\n",
            " |  \n",
            " |  __dict__\n",
            " |      dictionary for instance variables (if defined)\n",
            " |  \n",
            " |  __weakref__\n",
            " |      list of weak references to the object (if defined)\n",
            "\n"
          ]
        }
      ]
    },
    {
      "cell_type": "code",
      "source": [
        "class Tire:\n",
        "  \"\"\"Defines an automobile tire object.\n",
        "\n",
        "  :param kind: the kinds of tire, e.g., operational, spare, or winter\n",
        "  :param distance_covered in km the tire has coveed\n",
        "  \"\"\"\n",
        "\n",
        "  def __init__(self,kind,distance_covered):\n",
        "    self.kind = kind\n",
        "    self.distance_covered = distance_covered"
      ],
      "metadata": {
        "id": "Sz-fNO8l_JIO"
      },
      "execution_count": null,
      "outputs": []
    },
    {
      "cell_type": "code",
      "source": [
        "help(Tire)"
      ],
      "metadata": {
        "colab": {
          "base_uri": "https://localhost:8080/"
        },
        "id": "OtbkQvHY_I4n",
        "outputId": "96094df1-63cf-43a8-ce12-b17168d421f6"
      },
      "execution_count": null,
      "outputs": [
        {
          "output_type": "stream",
          "name": "stdout",
          "text": [
            "Help on class Tire in module __main__:\n",
            "\n",
            "class Tire(builtins.object)\n",
            " |  Tire(kind, distance_covered)\n",
            " |  \n",
            " |  Defines an automobile tire object.\n",
            " |  \n",
            " |  :param kind: the kinds of tire, e.g., operational, spare, or winter\n",
            " |  :param distance_covered in km the tire has coveed\n",
            " |  \n",
            " |  Methods defined here:\n",
            " |  \n",
            " |  __init__(self, kind, distance_covered)\n",
            " |      Initialize self.  See help(type(self)) for accurate signature.\n",
            " |  \n",
            " |  ----------------------------------------------------------------------\n",
            " |  Data descriptors defined here:\n",
            " |  \n",
            " |  __dict__\n",
            " |      dictionary for instance variables (if defined)\n",
            " |  \n",
            " |  __weakref__\n",
            " |      list of weak references to the object (if defined)\n",
            "\n"
          ]
        }
      ]
    },
    {
      "cell_type": "code",
      "source": [
        "Tire.__dict__ # doc is automatically collected in the __dict__"
      ],
      "metadata": {
        "colab": {
          "base_uri": "https://localhost:8080/"
        },
        "id": "lRMh2aTX_Iyl",
        "outputId": "49509050-6564-493c-dd99-202a91e524f3"
      },
      "execution_count": null,
      "outputs": [
        {
          "output_type": "execute_result",
          "data": {
            "text/plain": [
              "mappingproxy({'__module__': '__main__',\n",
              "              '__doc__': 'Defines an automobile tire object.\\n\\n  :param kind: the kinds of tire, e.g., operational, spare, or winter\\n  :param distance_covered in km the tire has coveed\\n  ',\n",
              "              '__init__': <function __main__.Tire.__init__(self, kind, distance_covered)>,\n",
              "              '__dict__': <attribute '__dict__' of 'Tire' objects>,\n",
              "              '__weakref__': <attribute '__weakref__' of 'Tire' objects>,\n",
              "              '__annotations__': {}})"
            ]
          },
          "metadata": {},
          "execution_count": 71
        }
      ]
    },
    {
      "cell_type": "code",
      "source": [],
      "metadata": {
        "id": "Blk_PRPI_x8c"
      },
      "execution_count": null,
      "outputs": []
    },
    {
      "cell_type": "code",
      "source": [],
      "metadata": {
        "id": "ekGaDiw-_x5U"
      },
      "execution_count": null,
      "outputs": []
    },
    {
      "cell_type": "code",
      "source": [],
      "metadata": {
        "id": "wjCPDGyH_ig4"
      },
      "execution_count": null,
      "outputs": []
    },
    {
      "cell_type": "code",
      "source": [],
      "metadata": {
        "id": "V-e61F9h_ieh"
      },
      "execution_count": null,
      "outputs": []
    },
    {
      "cell_type": "code",
      "source": [],
      "metadata": {
        "id": "auKbS93u_ibk"
      },
      "execution_count": null,
      "outputs": []
    },
    {
      "cell_type": "code",
      "source": [],
      "metadata": {
        "id": "ySmZVOMg-ePu"
      },
      "execution_count": null,
      "outputs": []
    },
    {
      "cell_type": "code",
      "source": [],
      "metadata": {
        "id": "QyKM82w59D_I"
      },
      "execution_count": null,
      "outputs": []
    },
    {
      "cell_type": "code",
      "source": [],
      "metadata": {
        "id": "aZmdPQN98UAC"
      },
      "execution_count": null,
      "outputs": []
    },
    {
      "cell_type": "code",
      "source": [],
      "metadata": {
        "id": "3G7rXMzWdMpq"
      },
      "execution_count": null,
      "outputs": []
    }
  ]
}