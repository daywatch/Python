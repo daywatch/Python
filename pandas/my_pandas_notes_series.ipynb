{
 "cells": [
  {
   "cell_type": "code",
   "execution_count": 1,
   "id": "a1a52dc3-e594-46ab-b54a-ce197c545784",
   "metadata": {},
   "outputs": [],
   "source": [
    "import pandas as pd"
   ]
  },
  {
   "cell_type": "markdown",
   "id": "81f3c6d8-5735-44e3-8084-5a9a80ef45b7",
   "metadata": {},
   "source": [
    "# pd series"
   ]
  },
  {
   "cell_type": "code",
   "execution_count": 2,
   "id": "d5023d58-ae76-4baf-8fe1-808ecb1e695a",
   "metadata": {},
   "outputs": [
    {
     "data": {
      "text/plain": [
       "'Chocolate'"
      ]
     },
     "execution_count": 2,
     "metadata": {},
     "output_type": "execute_result"
    }
   ],
   "source": [
    "ice_cream = [\"Chocolate\", \"Vanilla\", \"Strawberry\", \"Rum Raisin\"]\n",
    "pd.Series(ice_cream)[0]"
   ]
  },
  {
   "cell_type": "code",
   "execution_count": 3,
   "id": "dada9720-4bd8-48c5-8ba0-a90d5514597a",
   "metadata": {},
   "outputs": [
    {
     "data": {
      "text/plain": [
       "0     4\n",
       "1     8\n",
       "2    15\n",
       "3    16\n",
       "4    23\n",
       "5    42\n",
       "dtype: int64"
      ]
     },
     "execution_count": 3,
     "metadata": {},
     "output_type": "execute_result"
    }
   ],
   "source": [
    "lottery_numbers = [4, 8, 15, 16, 23, 42]\n",
    "pd.Series(lottery_numbers)"
   ]
  },
  {
   "cell_type": "code",
   "execution_count": 4,
   "id": "f8d784d9-b7f5-4658-986a-a4ef5ed6ffc3",
   "metadata": {},
   "outputs": [
    {
     "data": {
      "text/plain": [
       "0     True\n",
       "1    False\n",
       "2    False\n",
       "3    False\n",
       "4     True\n",
       "dtype: bool"
      ]
     },
     "execution_count": 4,
     "metadata": {},
     "output_type": "execute_result"
    }
   ],
   "source": [
    "registrations = [True, False, False, False, True]\n",
    "pd.Series(registrations)"
   ]
  },
  {
   "cell_type": "markdown",
   "id": "509a1afe-4046-4149-8e45-117621ced292",
   "metadata": {},
   "source": [
    "### create a series from a dictionary\n",
    "key > pd's index"
   ]
  },
  {
   "cell_type": "code",
   "execution_count": 5,
   "id": "940f2c69-63e5-420d-9c4d-297cb2bc79ae",
   "metadata": {},
   "outputs": [
    {
     "data": {
      "text/plain": [
       "Salmon    Orange\n",
       "Tuna         Red\n",
       "Eel        Brown\n",
       "dtype: object"
      ]
     },
     "execution_count": 5,
     "metadata": {},
     "output_type": "execute_result"
    }
   ],
   "source": [
    "sushi = {\n",
    "    \"Salmon\": \"Orange\",\n",
    "    \"Tuna\": \"Red\",\n",
    "    \"Eel\": \"Brown\"\n",
    "}\n",
    "\n",
    "pd.Series(sushi)"
   ]
  },
  {
   "cell_type": "markdown",
   "id": "04e1a7c4-2aab-4839-aa19-c83f376abfe0",
   "metadata": {},
   "source": [
    "## Series methods\n",
    "series is a value list (mapped to python lists and dicts); 1 dim \n",
    "### There are parethesis"
   ]
  },
  {
   "cell_type": "code",
   "execution_count": 6,
   "id": "196ba197-c8ca-400e-a29b-ac6c3a1c80e9",
   "metadata": {},
   "outputs": [
    {
     "data": {
      "text/plain": [
       "0    2.99\n",
       "1    4.45\n",
       "2    1.36\n",
       "dtype: float64"
      ]
     },
     "execution_count": 6,
     "metadata": {},
     "output_type": "execute_result"
    }
   ],
   "source": [
    "prices = pd.Series([2.99, 4.45, 1.36])\n",
    "prices"
   ]
  },
  {
   "cell_type": "code",
   "execution_count": 7,
   "id": "6c5f7a5f-701e-43c8-8a3b-bf6ac7511519",
   "metadata": {},
   "outputs": [
    {
     "name": "stdout",
     "output_type": "stream",
     "text": [
      "2.9333333333333336\n",
      "8.8\n",
      "18.095480000000006\n",
      "2.99\n",
      "1.5457791994115246\n"
     ]
    }
   ],
   "source": [
    "print(prices.mean())\n",
    "print(prices.sum())\n",
    "print(prices.product())\n",
    "print(prices.median())\n",
    "print(prices.std())"
   ]
  },
  {
   "cell_type": "markdown",
   "id": "9ef5e557-065c-4654-b7b2-e0aea061d176",
   "metadata": {},
   "source": [
    "## Series attributes\n",
    "### There are NO paretheses"
   ]
  },
  {
   "cell_type": "code",
   "execution_count": 8,
   "id": "4153fbcc-3481-4ce4-b77d-cfc55ff71185",
   "metadata": {},
   "outputs": [
    {
     "data": {
      "text/plain": [
       "0        Smart\n",
       "1     Handsome\n",
       "2     Charming\n",
       "3    Brilliant\n",
       "4       Humble\n",
       "5        Smart\n",
       "dtype: object"
      ]
     },
     "execution_count": 8,
     "metadata": {},
     "output_type": "execute_result"
    }
   ],
   "source": [
    "adjectives = pd.Series([\"Smart\", \"Handsome\", \"Charming\", \"Brilliant\", \"Humble\", \"Smart\"])\n",
    "adjectives"
   ]
  },
  {
   "cell_type": "code",
   "execution_count": 9,
   "id": "39700df5-08d0-4ee6-8627-f9f0724aa84e",
   "metadata": {},
   "outputs": [
    {
     "name": "stdout",
     "output_type": "stream",
     "text": [
      "6\n",
      "False\n",
      "['Smart' 'Handsome' 'Charming' 'Brilliant' 'Humble' 'Smart']\n",
      "RangeIndex(start=0, stop=6, step=1)\n",
      "<class 'pandas.core.indexes.range.RangeIndex'>\n",
      "<class 'numpy.ndarray'>\n"
     ]
    }
   ],
   "source": [
    "print(adjectives.size)\n",
    "print(adjectives.is_unique)\n",
    "print(adjectives.values)\n",
    "print(adjectives.index)\n",
    "print(type(adjectives.index))\n",
    "print(type(adjectives.values))"
   ]
  },
  {
   "cell_type": "code",
   "execution_count": 10,
   "id": "e8120cdc-01d2-4f6c-9f28-af2a17d20115",
   "metadata": {},
   "outputs": [
    {
     "name": "stdout",
     "output_type": "stream",
     "text": [
      "Apple            Monday\n",
      "Orange          Tuesday\n",
      "Plum          Wednesday\n",
      "Grape          Thursday\n",
      "Blueberry        Friday\n",
      "Watermelon       Monday\n",
      "dtype: object\n",
      "\n",
      "\n",
      "Apple            Monday\n",
      "Orange          Tuesday\n",
      "Plum          Wednesday\n",
      "Grape          Thursday\n",
      "Blueberry        Friday\n",
      "Watermelon       Monday\n",
      "dtype: object\n",
      "\n",
      "\n",
      "Monday            Apple\n",
      "Tuesday          Orange\n",
      "Wednesday          Plum\n",
      "Thursday          Grape\n",
      "Friday        Blueberry\n",
      "Monday       Watermelon\n",
      "dtype: object\n"
     ]
    }
   ],
   "source": [
    "# positional and keyword arguments\n",
    "fruits = [\"Apple\", \"Orange\", \"Plum\", \"Grape\", \"Blueberry\", \"Watermelon\"]\n",
    "weekdays = [\"Monday\", \"Tuesday\", \"Wednesday\", \"Thursday\", \"Friday\", \"Monday\"]\n",
    "\n",
    "pd.Series(fruits)\n",
    "pd.Series(weekdays)\n",
    "pd.Series(fruits, weekdays)\n",
    "print(pd.Series(weekdays, fruits)) # data, index by default\n",
    "print(\"\\n\")\n",
    "print(pd.Series(index = fruits, data = weekdays))\n",
    "print(\"\\n\")\n",
    "print(pd.Series(fruits, index = weekdays))"
   ]
  },
  {
   "cell_type": "markdown",
   "id": "21267708-edb1-4395-9f6d-9550e2e17a98",
   "metadata": {},
   "source": [
    "### Within a function, press shift + tab to see arg detail info"
   ]
  },
  {
   "cell_type": "markdown",
   "id": "f06df25b-6053-4efe-af78-1ac42e1af957",
   "metadata": {},
   "source": [
    "## Read a table\n",
    "\n",
    "df: a two dim table"
   ]
  },
  {
   "cell_type": "code",
   "execution_count": 11,
   "id": "ff378c5c-7a10-4448-8497-dd3682a0b43b",
   "metadata": {},
   "outputs": [
    {
     "data": {
      "text/html": [
       "<div>\n",
       "<style scoped>\n",
       "    .dataframe tbody tr th:only-of-type {\n",
       "        vertical-align: middle;\n",
       "    }\n",
       "\n",
       "    .dataframe tbody tr th {\n",
       "        vertical-align: top;\n",
       "    }\n",
       "\n",
       "    .dataframe thead th {\n",
       "        text-align: right;\n",
       "    }\n",
       "</style>\n",
       "<table border=\"1\" class=\"dataframe\">\n",
       "  <thead>\n",
       "    <tr style=\"text-align: right;\">\n",
       "      <th></th>\n",
       "      <th>Date</th>\n",
       "      <th>Price</th>\n",
       "    </tr>\n",
       "  </thead>\n",
       "  <tbody>\n",
       "    <tr>\n",
       "      <th>0</th>\n",
       "      <td>2004-08-19</td>\n",
       "      <td>2.490664</td>\n",
       "    </tr>\n",
       "    <tr>\n",
       "      <th>1</th>\n",
       "      <td>2004-08-20</td>\n",
       "      <td>2.515820</td>\n",
       "    </tr>\n",
       "    <tr>\n",
       "      <th>2</th>\n",
       "      <td>2004-08-23</td>\n",
       "      <td>2.758411</td>\n",
       "    </tr>\n",
       "    <tr>\n",
       "      <th>3</th>\n",
       "      <td>2004-08-24</td>\n",
       "      <td>2.770615</td>\n",
       "    </tr>\n",
       "    <tr>\n",
       "      <th>4</th>\n",
       "      <td>2004-08-25</td>\n",
       "      <td>2.614201</td>\n",
       "    </tr>\n",
       "  </tbody>\n",
       "</table>\n",
       "</div>"
      ],
      "text/plain": [
       "         Date     Price\n",
       "0  2004-08-19  2.490664\n",
       "1  2004-08-20  2.515820\n",
       "2  2004-08-23  2.758411\n",
       "3  2004-08-24  2.770615\n",
       "4  2004-08-25  2.614201"
      ]
     },
     "execution_count": 11,
     "metadata": {},
     "output_type": "execute_result"
    }
   ],
   "source": [
    "df_google= pd.read_csv(\"google_stock_price.csv\")\n",
    "df_google.head()"
   ]
  },
  {
   "cell_type": "code",
   "execution_count": 12,
   "id": "abb4d2fd-7e5f-4665-a7b7-d488ab5c483a",
   "metadata": {},
   "outputs": [
    {
     "data": {
      "text/html": [
       "<div>\n",
       "<style scoped>\n",
       "    .dataframe tbody tr th:only-of-type {\n",
       "        vertical-align: middle;\n",
       "    }\n",
       "\n",
       "    .dataframe tbody tr th {\n",
       "        vertical-align: top;\n",
       "    }\n",
       "\n",
       "    .dataframe thead th {\n",
       "        text-align: right;\n",
       "    }\n",
       "</style>\n",
       "<table border=\"1\" class=\"dataframe\">\n",
       "  <thead>\n",
       "    <tr style=\"text-align: right;\">\n",
       "      <th></th>\n",
       "      <th>Name</th>\n",
       "      <th>Type</th>\n",
       "    </tr>\n",
       "  </thead>\n",
       "  <tbody>\n",
       "    <tr>\n",
       "      <th>0</th>\n",
       "      <td>Bulbasaur</td>\n",
       "      <td>Grass, Poison</td>\n",
       "    </tr>\n",
       "    <tr>\n",
       "      <th>1</th>\n",
       "      <td>Ivysaur</td>\n",
       "      <td>Grass, Poison</td>\n",
       "    </tr>\n",
       "    <tr>\n",
       "      <th>2</th>\n",
       "      <td>Venusaur</td>\n",
       "      <td>Grass, Poison</td>\n",
       "    </tr>\n",
       "    <tr>\n",
       "      <th>3</th>\n",
       "      <td>Charmander</td>\n",
       "      <td>Fire</td>\n",
       "    </tr>\n",
       "    <tr>\n",
       "      <th>4</th>\n",
       "      <td>Charmeleon</td>\n",
       "      <td>Fire</td>\n",
       "    </tr>\n",
       "  </tbody>\n",
       "</table>\n",
       "</div>"
      ],
      "text/plain": [
       "         Name           Type\n",
       "0   Bulbasaur  Grass, Poison\n",
       "1     Ivysaur  Grass, Poison\n",
       "2    Venusaur  Grass, Poison\n",
       "3  Charmander           Fire\n",
       "4  Charmeleon           Fire"
      ]
     },
     "execution_count": 12,
     "metadata": {},
     "output_type": "execute_result"
    }
   ],
   "source": [
    "df_pokemon= pd.read_csv(\"pokemon.csv\")\n",
    "df_pokemon.head()"
   ]
  },
  {
   "cell_type": "markdown",
   "id": "167f9da8-67a0-4cac-aeef-be2bddc79a4b",
   "metadata": {},
   "source": [
    "### convert a df to a series\n",
    "- The `squeeze` method converts a **DataFrame** to a **Series**.\n",
    "- usecols, index_col"
   ]
  },
  {
   "cell_type": "code",
   "execution_count": 13,
   "id": "f4a9d4f9-54ce-425c-a635-562b87bdb65d",
   "metadata": {},
   "outputs": [
    {
     "data": {
      "text/plain": [
       "0          Bulbasaur\n",
       "1            Ivysaur\n",
       "2           Venusaur\n",
       "3         Charmander\n",
       "4         Charmeleon\n",
       "            ...     \n",
       "1005    Iron Valiant\n",
       "1006        Koraidon\n",
       "1007        Miraidon\n",
       "1008    Walking Wake\n",
       "1009     Iron Leaves\n",
       "Name: Name, Length: 1010, dtype: object"
      ]
     },
     "execution_count": 13,
     "metadata": {},
     "output_type": "execute_result"
    }
   ],
   "source": [
    "# squeeze only works for one-col df\n",
    "pokemon = pd.read_csv(\"pokemon.csv\",usecols=[\"Name\"]).squeeze(\"columns\")\n",
    "pokemon"
   ]
  },
  {
   "cell_type": "code",
   "execution_count": 14,
   "id": "a2640178-4970-4ba3-85a9-b970db26923f",
   "metadata": {},
   "outputs": [],
   "source": [
    "google = pd.read_csv(\"google_stock_price.csv\", usecols=[\"Price\"]).squeeze(\"columns\")\n",
    "\n",
    "# coffee = pd.read_csv(\"coffee.csv\",index_col=[\"Coffee\"]).squeeze(\"columns\")"
   ]
  },
  {
   "cell_type": "code",
   "execution_count": 15,
   "id": "1ff39e39-a44c-40e3-9e72-30443de4343e",
   "metadata": {
    "scrolled": true
   },
   "outputs": [
    {
     "data": {
      "text/plain": [
       "1000        Wo-Chien\n",
       "1001       Chien-Pao\n",
       "1002         Ting-Lu\n",
       "1003          Chi-Yu\n",
       "1004    Roaring Moon\n",
       "1005    Iron Valiant\n",
       "1006        Koraidon\n",
       "1007        Miraidon\n",
       "1008    Walking Wake\n",
       "1009     Iron Leaves\n",
       "Name: Name, dtype: object"
      ]
     },
     "execution_count": 15,
     "metadata": {},
     "output_type": "execute_result"
    }
   ],
   "source": [
    "# head & tail\n",
    "pokemon.head()\n",
    "pokemon.tail(10)"
   ]
  },
  {
   "cell_type": "markdown",
   "id": "06ce1c0e-cbd1-436b-80c0-e640a4c0e0cf",
   "metadata": {},
   "source": [
    "## basic series functions: len, type, list, dict (new), sorted, max, and min"
   ]
  },
  {
   "cell_type": "code",
   "execution_count": 16,
   "id": "f3066d46-e5ae-4418-8f8f-60a24596c239",
   "metadata": {},
   "outputs": [
    {
     "data": {
      "text/plain": [
       "1010"
      ]
     },
     "execution_count": 16,
     "metadata": {},
     "output_type": "execute_result"
    }
   ],
   "source": [
    "len(pokemon)"
   ]
  },
  {
   "cell_type": "code",
   "execution_count": 17,
   "id": "33abda53-2922-42b5-bf8e-d4c6c9c6e204",
   "metadata": {},
   "outputs": [
    {
     "data": {
      "text/plain": [
       "pandas.core.series.Series"
      ]
     },
     "execution_count": 17,
     "metadata": {},
     "output_type": "execute_result"
    }
   ],
   "source": [
    "type(pokemon)"
   ]
  },
  {
   "cell_type": "code",
   "execution_count": 18,
   "id": "80ec0b2a-7bc6-46bc-9f83-d30089154742",
   "metadata": {},
   "outputs": [
    {
     "data": {
      "text/plain": [
       "['Abomasnow', 'Abra', 'Absol']"
      ]
     },
     "execution_count": 18,
     "metadata": {},
     "output_type": "execute_result"
    }
   ],
   "source": [
    "list(pokemon)[0:3]\n",
    "sorted(pokemon)[0:3]"
   ]
  },
  {
   "cell_type": "code",
   "execution_count": 19,
   "id": "f5025414-aa6d-4626-bf43-98d86256bb61",
   "metadata": {},
   "outputs": [],
   "source": [
    "#dict(pokemon)\n",
    "\n",
    "#{0: 'Bulbasaur',\n",
    "# 1: 'Ivysaur',\n",
    "# 2: 'Venusaur',"
   ]
  },
  {
   "cell_type": "code",
   "execution_count": 20,
   "id": "71ad32c1-3920-4a8d-9e72-0f8586a6e5e0",
   "metadata": {},
   "outputs": [
    {
     "data": {
      "text/plain": [
       "(151.863495, 2.47049, 40.211376870018775)"
      ]
     },
     "execution_count": 20,
     "metadata": {},
     "output_type": "execute_result"
    }
   ],
   "source": [
    "max(google), min(google),google.mean()"
   ]
  },
  {
   "cell_type": "markdown",
   "id": "e95f2186-5a3a-4d61-9058-b2c298b13413",
   "metadata": {},
   "source": [
    "## search within a series: IN \n",
    "### default: ONLY on index, need to add .values (return np nd arrary)"
   ]
  },
  {
   "cell_type": "code",
   "execution_count": 21,
   "id": "4fa07456-95c6-44b8-a241-c34b353bf745",
   "metadata": {},
   "outputs": [
    {
     "data": {
      "text/plain": [
       "(False, True, True)"
      ]
     },
     "execution_count": 21,
     "metadata": {},
     "output_type": "execute_result"
    }
   ],
   "source": [
    "\"Ivysaur\" in pokemon, 0 in pokemon, \"Bulbasaur\" in pokemon.values"
   ]
  },
  {
   "cell_type": "markdown",
   "id": "0e620f13-020c-4376-994b-8695c51bf018",
   "metadata": {},
   "source": [
    "## sorting series with sort_values(): not changing the original series"
   ]
  },
  {
   "cell_type": "code",
   "execution_count": 22,
   "id": "ddadb63a-bf0f-48f6-88de-d50097326064",
   "metadata": {},
   "outputs": [
    {
     "data": {
      "text/plain": [
       "4395    151.863495\n",
       "4345    151.000000\n",
       "4346    150.141754\n",
       "4341    150.000000\n",
       "4336    150.000000\n",
       "           ...    \n",
       "12        2.515820\n",
       "11        2.514326\n",
       "13        2.509095\n",
       "0         2.490664\n",
       "10        2.470490\n",
       "Name: Price, Length: 4793, dtype: float64"
      ]
     },
     "execution_count": 22,
     "metadata": {},
     "output_type": "execute_result"
    }
   ],
   "source": [
    "google.sort_values(ascending = False)"
   ]
  },
  {
   "cell_type": "markdown",
   "id": "ea0eade9-3ca9-4de7-9637-daa5650e6bfc",
   "metadata": {},
   "source": [
    "## sorting series with sort_index()"
   ]
  },
  {
   "cell_type": "code",
   "execution_count": 23,
   "id": "c002ec52-60c9-4f51-8b7e-8c603737b0e2",
   "metadata": {},
   "outputs": [
    {
     "data": {
      "text/plain": [
       "Name\n",
       "Bulbasaur     Grass, Poison\n",
       "Ivysaur       Grass, Poison\n",
       "Venusaur      Grass, Poison\n",
       "Charmander             Fire\n",
       "Charmeleon             Fire\n",
       "Name: Type, dtype: object"
      ]
     },
     "execution_count": 23,
     "metadata": {},
     "output_type": "execute_result"
    }
   ],
   "source": [
    "pokemon = pd.read_csv(\"pokemon.csv\",index_col=[\"Name\"]).squeeze(\"columns\")\n",
    "pokemon.head()"
   ]
  },
  {
   "cell_type": "code",
   "execution_count": 24,
   "id": "c8955944-5014-465a-9278-0112f066e426",
   "metadata": {},
   "outputs": [
    {
     "data": {
      "text/plain": [
       "Name\n",
       "Abomasnow        Grass, Ice\n",
       "Abra                Psychic\n",
       "Absol                  Dark\n",
       "Accelgor                Bug\n",
       "Aegislash      Steel, Ghost\n",
       "                  ...      \n",
       "Zoroark                Dark\n",
       "Zorua                  Dark\n",
       "Zubat        Poison, Flying\n",
       "Zweilous       Dark, Dragon\n",
       "Zygarde      Dragon, Ground\n",
       "Name: Type, Length: 1010, dtype: object"
      ]
     },
     "execution_count": 24,
     "metadata": {},
     "output_type": "execute_result"
    }
   ],
   "source": [
    "pokemon.sort_index()"
   ]
  },
  {
   "cell_type": "markdown",
   "id": "e82b2fee-45a5-4004-8a7e-999ad2441173",
   "metadata": {},
   "source": [
    "## extract series values by index position\n",
    "- iloc : i must be specific index\n",
    "- iloc is short for \"index location\"\n",
    "- supports any normal python list slicing"
   ]
  },
  {
   "cell_type": "code",
   "execution_count": 25,
   "id": "4ad20878-8e70-4118-96c5-e878b412b195",
   "metadata": {},
   "outputs": [
    {
     "data": {
      "text/plain": [
       "'Grass, Poison'"
      ]
     },
     "execution_count": 25,
     "metadata": {},
     "output_type": "execute_result"
    }
   ],
   "source": [
    "pokemon = pd.read_csv(\"pokemon.csv\",index_col=[\"Name\"]).squeeze(\"columns\")\n",
    "pokemon.iloc[1]"
   ]
  },
  {
   "cell_type": "code",
   "execution_count": 26,
   "id": "0939483b-43e7-4a6a-9ae8-ece2b394d0af",
   "metadata": {},
   "outputs": [
    {
     "data": {
      "text/plain": [
       "Name\n",
       "Electrode    Electric\n",
       "Unown         Psychic\n",
       "Delcatty       Normal\n",
       "Name: Type, dtype: object"
      ]
     },
     "execution_count": 26,
     "metadata": {},
     "output_type": "execute_result"
    }
   ],
   "source": [
    "#multiple requests\n",
    "pokemon.iloc[[100,200,300]]"
   ]
  },
  {
   "cell_type": "code",
   "execution_count": 27,
   "id": "dc87a99d-a578-401c-8527-ffcb9d663e48",
   "metadata": {},
   "outputs": [
    {
     "data": {
      "text/plain": [
       "Name\n",
       "Bulbasaur    Grass, Poison\n",
       "Ivysaur      Grass, Poison\n",
       "Venusaur     Grass, Poison\n",
       "Name: Type, dtype: object"
      ]
     },
     "execution_count": 27,
     "metadata": {},
     "output_type": "execute_result"
    }
   ],
   "source": [
    "pokemon.iloc[0:3]"
   ]
  },
  {
   "cell_type": "code",
   "execution_count": 28,
   "id": "1fe43fd5-3f04-4a18-b283-18cdc657e781",
   "metadata": {},
   "outputs": [
    {
     "data": {
      "text/plain": [
       "Name\n",
       "Bulbasaur    Grass, Poison\n",
       "Ivysaur      Grass, Poison\n",
       "Name: Type, dtype: object"
      ]
     },
     "execution_count": 28,
     "metadata": {},
     "output_type": "execute_result"
    }
   ],
   "source": [
    "pokemon.iloc[:2]"
   ]
  },
  {
   "cell_type": "markdown",
   "id": "05136652-1dc0-4d90-9483-d1046658fd2b",
   "metadata": {},
   "source": [
    "## FIND a value by index label I (find a value based on label)\n",
    "loc: add label, not value"
   ]
  },
  {
   "cell_type": "code",
   "execution_count": 29,
   "id": "0eab55a7-ddea-45d5-a2ff-33bcdaeaafd8",
   "metadata": {},
   "outputs": [
    {
     "data": {
      "text/plain": [
       "Name\n",
       "Bulbasaur     Grass, Poison\n",
       "Ivysaur       Grass, Poison\n",
       "Venusaur      Grass, Poison\n",
       "Charmander             Fire\n",
       "Charmeleon             Fire\n",
       "Name: Type, dtype: object"
      ]
     },
     "execution_count": 29,
     "metadata": {},
     "output_type": "execute_result"
    }
   ],
   "source": [
    "pokemon = pd.read_csv(\"pokemon.csv\",index_col=[\"Name\"]).squeeze(\"columns\")\n",
    "pokemon.head()"
   ]
  },
  {
   "cell_type": "code",
   "execution_count": 30,
   "id": "182d578a-cb77-4257-b523-d63123ba5295",
   "metadata": {},
   "outputs": [
    {
     "data": {
      "text/plain": [
       "('Grass, Poison', 'Grass, Poison')"
      ]
     },
     "execution_count": 30,
     "metadata": {},
     "output_type": "execute_result"
    }
   ],
   "source": [
    "pokemon.loc[\"Bulbasaur\"], pokemon.iloc[0]"
   ]
  },
  {
   "cell_type": "code",
   "execution_count": 31,
   "id": "95778990-69b2-4e42-b600-e56c208d4ea8",
   "metadata": {},
   "outputs": [
    {
     "data": {
      "text/plain": [
       "Name\n",
       "Bulbasaur    Grass, Poison\n",
       "Mewtwo             Psychic\n",
       "Jolteon           Electric\n",
       "Name: Type, dtype: object"
      ]
     },
     "execution_count": 31,
     "metadata": {},
     "output_type": "execute_result"
    }
   ],
   "source": [
    "pokemon.loc[[\"Bulbasaur\",\"Mewtwo\",\"Jolteon\"]]"
   ]
  },
  {
   "cell_type": "markdown",
   "id": "23825c02-d28c-4f58-adca-78efde86abbf",
   "metadata": {},
   "source": [
    "## FIND a value by index label II get (find a value based on label)\n",
    "different from loc: you can define the False results"
   ]
  },
  {
   "cell_type": "code",
   "execution_count": 32,
   "id": "85ee2d83-f096-4390-9147-28741036bd8d",
   "metadata": {},
   "outputs": [
    {
     "data": {
      "text/plain": [
       "'Fire, Flying'"
      ]
     },
     "execution_count": 32,
     "metadata": {},
     "output_type": "execute_result"
    }
   ],
   "source": [
    "pokemon.get(\"Moltres\")"
   ]
  },
  {
   "cell_type": "code",
   "execution_count": 33,
   "id": "bea9881b-9fac-4241-9070-6af90d0e43a9",
   "metadata": {},
   "outputs": [],
   "source": [
    "pokemon.get(\"Digimon\")"
   ]
  },
  {
   "cell_type": "code",
   "execution_count": 34,
   "id": "99454a8a-f5a8-4357-9295-579285d3e4e1",
   "metadata": {},
   "outputs": [
    {
     "data": {
      "text/plain": [
       "\"I don't see anything\""
      ]
     },
     "execution_count": 34,
     "metadata": {},
     "output_type": "execute_result"
    }
   ],
   "source": [
    "pokemon.get(\"Digimon\",default=\"I don't see anything\")"
   ]
  },
  {
   "cell_type": "code",
   "execution_count": 35,
   "id": "5decbb8d-7689-4bd5-8247-cdd0a959799c",
   "metadata": {},
   "outputs": [],
   "source": [
    "pokemon.get([\"Bulbasaur\",\"Mewtwo\",\"Jolteon123\"])"
   ]
  },
  {
   "cell_type": "markdown",
   "id": "6f66c0fd-b6d5-44e0-8a6b-7609a622cfea",
   "metadata": {},
   "source": [
    "## overwrite one or more values, just ="
   ]
  },
  {
   "cell_type": "code",
   "execution_count": 36,
   "id": "3806bbe1-6044-43ed-bdaf-1d00ea37e54e",
   "metadata": {},
   "outputs": [
    {
     "data": {
      "text/plain": [
       "'whatever'"
      ]
     },
     "execution_count": 36,
     "metadata": {},
     "output_type": "execute_result"
    }
   ],
   "source": [
    "pokemon.iloc[0] = \"whatever\"\n",
    "pokemon.iloc[0]"
   ]
  },
  {
   "cell_type": "code",
   "execution_count": 37,
   "id": "b77afbc6-f974-4937-947e-92a99beeffeb",
   "metadata": {},
   "outputs": [
    {
     "data": {
      "text/plain": [
       "Name\n",
       "Bulbasaur    whatever\n",
       "Ivysaur      whatever\n",
       "Venusaur     whatever\n",
       "Name: Type, dtype: object"
      ]
     },
     "execution_count": 37,
     "metadata": {},
     "output_type": "execute_result"
    }
   ],
   "source": [
    "pokemon.iloc[[0,1,2]] = [\"whatever\",\"whatever\",\"whatever\"]\n",
    "pokemon.iloc[0:3]"
   ]
  },
  {
   "cell_type": "code",
   "execution_count": 38,
   "id": "bc241b60-e907-464e-830d-2b0131268c46",
   "metadata": {},
   "outputs": [],
   "source": [
    "pokemon = pd.read_csv(\"pokemon.csv\",index_col=[\"Name\"]).squeeze(\"columns\")"
   ]
  },
  {
   "cell_type": "code",
   "execution_count": 39,
   "id": "ab4597bd-bc19-459e-9938-060385b97052",
   "metadata": {},
   "outputs": [
    {
     "data": {
      "text/plain": [
       "'whatever'"
      ]
     },
     "execution_count": 39,
     "metadata": {},
     "output_type": "execute_result"
    }
   ],
   "source": [
    "pokemon.loc[\"Bulbasaur\"] = \"whatever\"\n",
    "pokemon.loc[\"Bulbasaur\"]"
   ]
  },
  {
   "cell_type": "markdown",
   "id": "57ad213b-6ec3-4727-b167-bcb1b386eb4f",
   "metadata": {},
   "source": [
    "## The copy Method: .copy()\n",
    "- A **copy** is a duplicate/replica of an object.\n",
    "- Changes to a copy do not modify the original object.\n",
    "- A **view** is a different way of looking at the *same* data.\n",
    "- Changes to a view **DO** modify the original object.\n",
    "- The `copy` method creates a copy of a pandas object."
   ]
  },
  {
   "cell_type": "code",
   "execution_count": 40,
   "id": "ac8b37a1-0bb0-4eaa-8326-f064ef58aeef",
   "metadata": {},
   "outputs": [],
   "source": [
    "pokemon_df = pd.read_csv(\"pokemon.csv\",usecols=[\"Name\"])"
   ]
  },
  {
   "cell_type": "code",
   "execution_count": 41,
   "id": "99a2782a-9239-4771-9c46-9b0a577f0dff",
   "metadata": {},
   "outputs": [],
   "source": [
    "pokemon_series = pokemon_df.squeeze(\"columns\") #df to series"
   ]
  },
  {
   "cell_type": "code",
   "execution_count": 42,
   "id": "fdc41f00-d205-4857-bbee-0762cad2cb9e",
   "metadata": {},
   "outputs": [
    {
     "data": {
      "text/plain": [
       "0           123\n",
       "1       Ivysaur\n",
       "2      Venusaur\n",
       "3    Charmander\n",
       "4    Charmeleon\n",
       "Name: Name, dtype: object"
      ]
     },
     "execution_count": 42,
     "metadata": {},
     "output_type": "execute_result"
    }
   ],
   "source": [
    "# pokemon_series is a view\n",
    "pokemon_series[0] = \"123\"\n",
    "pokemon_series.head()"
   ]
  },
  {
   "cell_type": "code",
   "execution_count": 43,
   "id": "11719869-67c8-43a8-9fd3-caa9806adb7a",
   "metadata": {},
   "outputs": [
    {
     "data": {
      "text/html": [
       "<div>\n",
       "<style scoped>\n",
       "    .dataframe tbody tr th:only-of-type {\n",
       "        vertical-align: middle;\n",
       "    }\n",
       "\n",
       "    .dataframe tbody tr th {\n",
       "        vertical-align: top;\n",
       "    }\n",
       "\n",
       "    .dataframe thead th {\n",
       "        text-align: right;\n",
       "    }\n",
       "</style>\n",
       "<table border=\"1\" class=\"dataframe\">\n",
       "  <thead>\n",
       "    <tr style=\"text-align: right;\">\n",
       "      <th></th>\n",
       "      <th>Name</th>\n",
       "    </tr>\n",
       "  </thead>\n",
       "  <tbody>\n",
       "    <tr>\n",
       "      <th>0</th>\n",
       "      <td>123</td>\n",
       "    </tr>\n",
       "    <tr>\n",
       "      <th>1</th>\n",
       "      <td>Ivysaur</td>\n",
       "    </tr>\n",
       "    <tr>\n",
       "      <th>2</th>\n",
       "      <td>Venusaur</td>\n",
       "    </tr>\n",
       "    <tr>\n",
       "      <th>3</th>\n",
       "      <td>Charmander</td>\n",
       "    </tr>\n",
       "    <tr>\n",
       "      <th>4</th>\n",
       "      <td>Charmeleon</td>\n",
       "    </tr>\n",
       "    <tr>\n",
       "      <th>...</th>\n",
       "      <td>...</td>\n",
       "    </tr>\n",
       "    <tr>\n",
       "      <th>1005</th>\n",
       "      <td>Iron Valiant</td>\n",
       "    </tr>\n",
       "    <tr>\n",
       "      <th>1006</th>\n",
       "      <td>Koraidon</td>\n",
       "    </tr>\n",
       "    <tr>\n",
       "      <th>1007</th>\n",
       "      <td>Miraidon</td>\n",
       "    </tr>\n",
       "    <tr>\n",
       "      <th>1008</th>\n",
       "      <td>Walking Wake</td>\n",
       "    </tr>\n",
       "    <tr>\n",
       "      <th>1009</th>\n",
       "      <td>Iron Leaves</td>\n",
       "    </tr>\n",
       "  </tbody>\n",
       "</table>\n",
       "<p>1010 rows × 1 columns</p>\n",
       "</div>"
      ],
      "text/plain": [
       "              Name\n",
       "0              123\n",
       "1          Ivysaur\n",
       "2         Venusaur\n",
       "3       Charmander\n",
       "4       Charmeleon\n",
       "...            ...\n",
       "1005  Iron Valiant\n",
       "1006      Koraidon\n",
       "1007      Miraidon\n",
       "1008  Walking Wake\n",
       "1009   Iron Leaves\n",
       "\n",
       "[1010 rows x 1 columns]"
      ]
     },
     "execution_count": 43,
     "metadata": {},
     "output_type": "execute_result"
    }
   ],
   "source": [
    "pokemon_df #df is also updated"
   ]
  },
  {
   "cell_type": "code",
   "execution_count": 44,
   "id": "10b7fc24-f378-4f8e-b55a-9acc32b14c72",
   "metadata": {},
   "outputs": [
    {
     "data": {
      "text/html": [
       "<div>\n",
       "<style scoped>\n",
       "    .dataframe tbody tr th:only-of-type {\n",
       "        vertical-align: middle;\n",
       "    }\n",
       "\n",
       "    .dataframe tbody tr th {\n",
       "        vertical-align: top;\n",
       "    }\n",
       "\n",
       "    .dataframe thead th {\n",
       "        text-align: right;\n",
       "    }\n",
       "</style>\n",
       "<table border=\"1\" class=\"dataframe\">\n",
       "  <thead>\n",
       "    <tr style=\"text-align: right;\">\n",
       "      <th></th>\n",
       "      <th>Name</th>\n",
       "    </tr>\n",
       "  </thead>\n",
       "  <tbody>\n",
       "    <tr>\n",
       "      <th>0</th>\n",
       "      <td>123</td>\n",
       "    </tr>\n",
       "    <tr>\n",
       "      <th>1</th>\n",
       "      <td>Ivysaur</td>\n",
       "    </tr>\n",
       "    <tr>\n",
       "      <th>2</th>\n",
       "      <td>Venusaur</td>\n",
       "    </tr>\n",
       "    <tr>\n",
       "      <th>3</th>\n",
       "      <td>Charmander</td>\n",
       "    </tr>\n",
       "    <tr>\n",
       "      <th>4</th>\n",
       "      <td>Charmeleon</td>\n",
       "    </tr>\n",
       "  </tbody>\n",
       "</table>\n",
       "</div>"
      ],
      "text/plain": [
       "         Name\n",
       "0         123\n",
       "1     Ivysaur\n",
       "2    Venusaur\n",
       "3  Charmander\n",
       "4  Charmeleon"
      ]
     },
     "execution_count": 44,
     "metadata": {},
     "output_type": "execute_result"
    }
   ],
   "source": [
    "pokemon_series = pokemon_df.squeeze(\"columns\").copy() #df to series copy\n",
    "pokemon_series[0] = \"324\"\n",
    "pokemon_df.head()"
   ]
  },
  {
   "cell_type": "markdown",
   "id": "0bb865c2-6f13-476a-8c92-bb758defe400",
   "metadata": {},
   "source": [
    "## Math Methods on Series Objects"
   ]
  },
  {
   "cell_type": "markdown",
   "id": "a05c037f-7ce2-42e1-8632-943fad6b7c70",
   "metadata": {},
   "source": [
    "- The `count` method returns the number of values in the **Series**. It excludes missing values; the `size` attribute includes missing values.\n",
    "- The `sum` method adds together the **Series's** values.\n",
    "- The `product` method multiplies together the **Series's** values.\n",
    "- The `mean` method calculates the average of the **Series's** values.\n",
    "- The `std` method calculates the standard deviation of the **Series's** values.\n",
    "- The `max` method returns the largest value in the **Series**.\n",
    "- The `min` method returns the smallest value in the **Series**.\n",
    "- The `median` method returns the median of the **Series** (the value in the middle).\n",
    "- The `mode` method returns the mode of the **Series** (the most frequent alue).\n",
    "- The `describe` method returns a summary with various mathematical calculations."
   ]
  },
  {
   "cell_type": "code",
   "execution_count": 45,
   "id": "5eb3e462-14c4-43f5-90fc-3d55e4d26545",
   "metadata": {},
   "outputs": [
    {
     "data": {
      "text/plain": [
       "(4793, 4793)"
      ]
     },
     "execution_count": 45,
     "metadata": {},
     "output_type": "execute_result"
    }
   ],
   "source": [
    "google.count(), google.size"
   ]
  },
  {
   "cell_type": "code",
   "execution_count": 46,
   "id": "44e60a82-f60d-4f44-8f65-895ad0e70950",
   "metadata": {},
   "outputs": [
    {
     "data": {
      "text/plain": [
       "(192733.129338, 50.263612539359066, 40.211376870018775)"
      ]
     },
     "execution_count": 46,
     "metadata": {},
     "output_type": "execute_result"
    }
   ],
   "source": [
    "google.sum(), google.iloc[[1,2,3,4]].product(), google.mean()"
   ]
  },
  {
   "cell_type": "code",
   "execution_count": 47,
   "id": "01d8d426-e875-42dc-b4ce-45be3cdde3b5",
   "metadata": {},
   "outputs": [
    {
     "data": {
      "text/plain": [
       "(151.863495, 2.47049, 26.327717)"
      ]
     },
     "execution_count": 47,
     "metadata": {},
     "output_type": "execute_result"
    }
   ],
   "source": [
    "google.max(), google.min(), google.median()"
   ]
  },
  {
   "cell_type": "code",
   "execution_count": 48,
   "id": "eed4c05d-2088-4a2f-897b-955b3d43e9d7",
   "metadata": {},
   "outputs": [
    {
     "data": {
      "text/plain": [
       "0    14.719826\n",
       "1    49.000000\n",
       "Name: Price, dtype: float64"
      ]
     },
     "execution_count": 48,
     "metadata": {},
     "output_type": "execute_result"
    }
   ],
   "source": [
    "google.mode()"
   ]
  },
  {
   "cell_type": "code",
   "execution_count": 49,
   "id": "4cb8b431-4dcd-4f47-b70a-f874cbce20ef",
   "metadata": {},
   "outputs": [
    {
     "data": {
      "text/plain": [
       "count    4793.000000\n",
       "mean       40.211377\n",
       "std        37.274753\n",
       "min         2.470490\n",
       "25%        12.767395\n",
       "50%        26.327717\n",
       "75%        56.311001\n",
       "max       151.863495\n",
       "Name: Price, dtype: float64"
      ]
     },
     "execution_count": 49,
     "metadata": {},
     "output_type": "execute_result"
    }
   ],
   "source": [
    "google.describe()"
   ]
  },
  {
   "cell_type": "markdown",
   "id": "2ebd84c2-d267-4d89-bdb8-2967f90ba6cf",
   "metadata": {},
   "source": [
    "## Broadcasting: global arithmetics\n",
    "- **Broadcasting** describes the process of applying an arithmetic operation to an array (i.e., a **Series**).\n",
    "- We can combine mathematical operators with a **Series** to apply the mathematical operation to every value.\n",
    "- There are also methods to accomplish the same results (`add`, `sub`, `mul`, `div`, etc.)"
   ]
  },
  {
   "cell_type": "code",
   "execution_count": 50,
   "id": "5dd9b920-ea98-49a0-b979-7266e6bb2c67",
   "metadata": {},
   "outputs": [
    {
     "data": {
      "text/plain": [
       "0    2.490664\n",
       "1    2.515820\n",
       "2    2.758411\n",
       "3    2.770615\n",
       "4    2.614201\n",
       "Name: Price, dtype: float64"
      ]
     },
     "execution_count": 50,
     "metadata": {},
     "output_type": "execute_result"
    }
   ],
   "source": [
    "google.head()"
   ]
  },
  {
   "cell_type": "code",
   "execution_count": 51,
   "id": "95b5bc45-80a0-4217-a827-6c286e83b82e",
   "metadata": {},
   "outputs": [
    {
     "data": {
      "text/plain": [
       "0        12.490664\n",
       "1        12.515820\n",
       "2        12.758411\n",
       "3        12.770615\n",
       "4        12.614201\n",
       "           ...    \n",
       "4788    142.080002\n",
       "4789    142.998001\n",
       "4790    145.570007\n",
       "4791    147.050003\n",
       "4792    148.429993\n",
       "Name: Price, Length: 4793, dtype: float64"
      ]
     },
     "execution_count": 51,
     "metadata": {},
     "output_type": "execute_result"
    }
   ],
   "source": [
    "google.add(10)"
   ]
  },
  {
   "cell_type": "code",
   "execution_count": 52,
   "id": "e61487f4-a004-4f98-abb5-aea4ac90072b",
   "metadata": {},
   "outputs": [
    {
     "data": {
      "text/plain": [
       "0        -7.509336\n",
       "1        -7.484180\n",
       "2        -7.241589\n",
       "3        -7.229385\n",
       "4        -7.385799\n",
       "           ...    \n",
       "4788    122.080002\n",
       "4789    122.998001\n",
       "4790    125.570007\n",
       "4791    127.050003\n",
       "4792    128.429993\n",
       "Name: Price, Length: 4793, dtype: float64"
      ]
     },
     "execution_count": 52,
     "metadata": {},
     "output_type": "execute_result"
    }
   ],
   "source": [
    "google -10 #x, /, ..."
   ]
  },
  {
   "cell_type": "code",
   "execution_count": 53,
   "id": "9bd54b59-7ea6-4153-81a4-3db1f1d1b819",
   "metadata": {},
   "outputs": [
    {
     "data": {
      "text/plain": [
       "0         2.490664\n",
       "1         2.515820\n",
       "2         2.758411\n",
       "3         2.770615\n",
       "4         2.614201\n",
       "           ...    \n",
       "4788    132.080002\n",
       "4789    132.998001\n",
       "4790    135.570007\n",
       "4791    137.050003\n",
       "4792    138.429993\n",
       "Name: Price, Length: 4793, dtype: float64"
      ]
     },
     "execution_count": 53,
     "metadata": {},
     "output_type": "execute_result"
    }
   ],
   "source": [
    "google.div(1)"
   ]
  },
  {
   "cell_type": "code",
   "execution_count": 54,
   "id": "c8aea7ea-5d93-49ae-95af-f24f5cb841d5",
   "metadata": {},
   "outputs": [
    {
     "data": {
      "text/plain": [
       "0    2.490664\n",
       "1    2.515820\n",
       "2    2.758411\n",
       "3    2.770615\n",
       "4    2.614201\n",
       "Name: Price, dtype: float64"
      ]
     },
     "execution_count": 54,
     "metadata": {},
     "output_type": "execute_result"
    }
   ],
   "source": [
    "google.head()"
   ]
  },
  {
   "cell_type": "markdown",
   "id": "eff2479a-58b3-4c20-8f67-d0211cb8b14f",
   "metadata": {},
   "source": [
    "## frequency count based on values: value_counts"
   ]
  },
  {
   "cell_type": "code",
   "execution_count": 55,
   "id": "c7a22800-f104-4908-9dbc-eef2af72d784",
   "metadata": {},
   "outputs": [],
   "source": [
    "pokemon = pd.read_csv(\"pokemon.csv\",index_col=[\"Name\"]).squeeze(\"columns\")"
   ]
  },
  {
   "cell_type": "code",
   "execution_count": 56,
   "id": "6211287d-14b2-456a-b1bd-30a9693aceb2",
   "metadata": {},
   "outputs": [
    {
     "data": {
      "text/plain": [
       "Type\n",
       "Water               74\n",
       "Normal              74\n",
       "Grass               46\n",
       "Psychic             39\n",
       "Fire                36\n",
       "                    ..\n",
       "Fighting, Ice        1\n",
       "Fire, Dragon         1\n",
       "Normal, Dragon       1\n",
       "Psychic, Steel       1\n",
       "Fighting, Dragon     1\n",
       "Name: count, Length: 200, dtype: int64"
      ]
     },
     "execution_count": 56,
     "metadata": {},
     "output_type": "execute_result"
    }
   ],
   "source": [
    "pokemon.value_counts() #function like Counter"
   ]
  },
  {
   "cell_type": "code",
   "execution_count": 57,
   "id": "5ff834f3-4633-4b85-853b-3f668d0b55e4",
   "metadata": {},
   "outputs": [
    {
     "data": {
      "text/plain": [
       "Type\n",
       "Water               0.073267\n",
       "Normal              0.073267\n",
       "Grass               0.045545\n",
       "Psychic             0.038614\n",
       "Fire                0.035644\n",
       "                      ...   \n",
       "Fighting, Ice       0.000990\n",
       "Fire, Dragon        0.000990\n",
       "Normal, Dragon      0.000990\n",
       "Psychic, Steel      0.000990\n",
       "Fighting, Dragon    0.000990\n",
       "Name: proportion, Length: 200, dtype: float64"
      ]
     },
     "execution_count": 57,
     "metadata": {},
     "output_type": "execute_result"
    }
   ],
   "source": [
    "pokemon.value_counts(normalize=True) #percentages"
   ]
  },
  {
   "cell_type": "code",
   "execution_count": 58,
   "id": "b4455724-89de-4079-9546-29d6606f5526",
   "metadata": {},
   "outputs": [
    {
     "data": {
      "text/plain": [
       "74"
      ]
     },
     "execution_count": 58,
     "metadata": {},
     "output_type": "execute_result"
    }
   ],
   "source": [
    "pokemon.value_counts()[\"Water\"]"
   ]
  },
  {
   "cell_type": "markdown",
   "id": "db451fa4-40ac-4d9a-a129-bb00300123b5",
   "metadata": {},
   "source": [
    "## apply() method\n",
    "\n",
    "- use a function for EVERY value in the series\n",
    "- in the string example, pd built-in func probably better than these"
   ]
  },
  {
   "cell_type": "code",
   "execution_count": 59,
   "id": "4c614f86-0c41-4570-9b7a-676a2ac9d2ca",
   "metadata": {},
   "outputs": [
    {
     "data": {
      "text/plain": [
       "Name\n",
       "Bulbasaur       16\n",
       "Ivysaur         16\n",
       "Venusaur        16\n",
       "Charmander       7\n",
       "Charmeleon       7\n",
       "                ..\n",
       "Iron Valiant    18\n",
       "Koraidon        19\n",
       "Miraidon        19\n",
       "Walking Wake    16\n",
       "Iron Leaves     17\n",
       "Name: Type, Length: 1010, dtype: int64"
      ]
     },
     "execution_count": 59,
     "metadata": {},
     "output_type": "execute_result"
    }
   ],
   "source": [
    "def add123(x):\n",
    "    return len(x + \"123\")\n",
    "\n",
    "pokemon.apply(add123)"
   ]
  },
  {
   "cell_type": "code",
   "execution_count": 60,
   "id": "1ff997d3-ea8c-48de-85e9-8f592d200551",
   "metadata": {},
   "outputs": [
    {
     "data": {
      "text/plain": [
       "Name\n",
       "Bulbasaur        Grass, Poison321\n",
       "Ivysaur          Grass, Poison321\n",
       "Venusaur         Grass, Poison321\n",
       "Charmander                   Fire\n",
       "Charmeleon                   Fire\n",
       "                      ...        \n",
       "Iron Valiant      Fairy, Fighting\n",
       "Koraidon         Fighting, Dragon\n",
       "Miraidon         Electric, Dragon\n",
       "Walking Wake        Water, Dragon\n",
       "Iron Leaves     Grass, Psychic321\n",
       "Name: Type, Length: 1010, dtype: object"
      ]
     },
     "execution_count": 60,
     "metadata": {},
     "output_type": "execute_result"
    }
   ],
   "source": [
    "pokemon.apply(lambda x: x+\"321\" if \"Grass\" in x else x) "
   ]
  },
  {
   "cell_type": "markdown",
   "id": "f8e6457c-2b59-4267-990b-02845c06cd89",
   "metadata": {},
   "source": [
    "## The map Method\n",
    "- The `map` method \"maps\" or connects each **Series** values to another value.\n",
    "- We can pass the method a dictionary or a **Series**. Both types connects keys to values.\n",
    "- The `map` method uses our argument to connect or bridge together the values.\n",
    "\n",
    "- Arg can be dict or series"
   ]
  },
  {
   "cell_type": "code",
   "execution_count": 61,
   "id": "ee66875d-16e8-4c3c-b878-3c2e7f23a0b5",
   "metadata": {},
   "outputs": [
    {
     "data": {
      "text/plain": [
       "Name\n",
       "Bulbasaur          Grass, Poison\n",
       "Ivysaur            Grass, Poison\n",
       "Venusaur           Grass, Poison\n",
       "Charmander                  Fire\n",
       "Charmeleon                  Fire\n",
       "                      ...       \n",
       "Iron Valiant     Fairy, Fighting\n",
       "Koraidon        Fighting, Dragon\n",
       "Miraidon        Electric, Dragon\n",
       "Walking Wake       Water, Dragon\n",
       "Iron Leaves       Grass, Psychic\n",
       "Name: Type, Length: 1010, dtype: object"
      ]
     },
     "execution_count": 61,
     "metadata": {},
     "output_type": "execute_result"
    }
   ],
   "source": [
    "pokemon"
   ]
  },
  {
   "cell_type": "code",
   "execution_count": 62,
   "id": "e3af5448-3312-44db-85bd-0a3e150d422f",
   "metadata": {},
   "outputs": [],
   "source": [
    "attack_powers = {\n",
    "    \"Grass\": 10,\n",
    "    \"Fire\": 15,\n",
    "    \"Water\": 10,\n",
    "    \"Fairy, Fighting\": 20,\n",
    "    \"Grass, Pychic\": 50\n",
    "}"
   ]
  },
  {
   "cell_type": "code",
   "execution_count": 63,
   "id": "0ab4f25b-9a1f-4a49-a878-1714fbdc495b",
   "metadata": {},
   "outputs": [
    {
     "data": {
      "text/plain": [
       "Name\n",
       "Bulbasaur        NaN\n",
       "Ivysaur          NaN\n",
       "Venusaur         NaN\n",
       "Charmander      15.0\n",
       "Charmeleon      15.0\n",
       "                ... \n",
       "Iron Valiant    20.0\n",
       "Koraidon         NaN\n",
       "Miraidon         NaN\n",
       "Walking Wake     NaN\n",
       "Iron Leaves      NaN\n",
       "Name: Type, Length: 1010, dtype: float64"
      ]
     },
     "execution_count": 63,
     "metadata": {},
     "output_type": "execute_result"
    }
   ],
   "source": [
    "pokemon.map(attack_powers)"
   ]
  },
  {
   "cell_type": "code",
   "execution_count": 64,
   "id": "e61633e8-1b71-496e-9928-36d4ac14c3b6",
   "metadata": {},
   "outputs": [
    {
     "data": {
      "text/plain": [
       "Name\n",
       "Bulbasaur        NaN\n",
       "Ivysaur          NaN\n",
       "Venusaur         NaN\n",
       "Charmander      15.0\n",
       "Charmeleon      15.0\n",
       "                ... \n",
       "Iron Valiant    20.0\n",
       "Koraidon         NaN\n",
       "Miraidon         NaN\n",
       "Walking Wake     NaN\n",
       "Iron Leaves      NaN\n",
       "Name: Type, Length: 1010, dtype: float64"
      ]
     },
     "execution_count": 64,
     "metadata": {},
     "output_type": "execute_result"
    }
   ],
   "source": [
    "pokemon.map(pd.Series(attack_powers))"
   ]
  },
  {
   "cell_type": "code",
   "execution_count": null,
   "id": "74fa166a-abd3-4a18-8001-b24b2580ab6d",
   "metadata": {},
   "outputs": [],
   "source": []
  },
  {
   "cell_type": "code",
   "execution_count": null,
   "id": "84c83ceb-786c-4855-96aa-8169aa9afb38",
   "metadata": {},
   "outputs": [],
   "source": []
  },
  {
   "cell_type": "code",
   "execution_count": null,
   "id": "1e82e4e1-3770-4a9e-a88b-a1407af41e64",
   "metadata": {},
   "outputs": [],
   "source": []
  },
  {
   "cell_type": "code",
   "execution_count": null,
   "id": "786a6cf0-4414-401c-8f51-c40149e7a46b",
   "metadata": {},
   "outputs": [],
   "source": []
  },
  {
   "cell_type": "code",
   "execution_count": null,
   "id": "a21db087-3808-4ef3-a4d8-69daa0d086f0",
   "metadata": {},
   "outputs": [],
   "source": []
  },
  {
   "cell_type": "code",
   "execution_count": null,
   "id": "ce6cf897-f0ee-44ae-a0da-163d03a1b029",
   "metadata": {},
   "outputs": [],
   "source": []
  },
  {
   "cell_type": "code",
   "execution_count": null,
   "id": "0422595d-abfd-4742-8938-291581f0757a",
   "metadata": {},
   "outputs": [],
   "source": []
  }
 ],
 "metadata": {
  "kernelspec": {
   "display_name": "Python 3 (ipykernel)",
   "language": "python",
   "name": "python3"
  },
  "language_info": {
   "codemirror_mode": {
    "name": "ipython",
    "version": 3
   },
   "file_extension": ".py",
   "mimetype": "text/x-python",
   "name": "python",
   "nbconvert_exporter": "python",
   "pygments_lexer": "ipython3",
   "version": "3.10.0"
  }
 },
 "nbformat": 4,
 "nbformat_minor": 5
}
