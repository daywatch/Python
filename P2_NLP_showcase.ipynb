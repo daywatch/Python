{
 "cells": [
  {
   "cell_type": "markdown",
   "metadata": {
    "toc": true
   },
   "source": [
    "<h1>Table of Contents<span class=\"tocSkip\"></span></h1>\n",
    "<div class=\"toc\"><ul class=\"toc-item\"><li><span><a href=\"#My-NLP-library-toolkits:-Part-2\" data-toc-modified-id=\"My-NLP-library-toolkits:-Part-2-1\">My NLP library toolkits: Part 2</a></span><ul class=\"toc-item\"><li><span><a href=\"#0.-Loading-the-dataset\" data-toc-modified-id=\"0.-Loading-the-dataset-1.1\">0. Loading the dataset</a></span></li><li><span><a href=\"#7.-Name-entity-recognition\" data-toc-modified-id=\"7.-Name-entity-recognition-1.2\">7. Name entity recognition</a></span><ul class=\"toc-item\"><li><span><a href=\"#7.1-NLTK-(POS-approach)\" data-toc-modified-id=\"7.1-NLTK-(POS-approach)-1.2.1\">7.1 NLTK (POS-approach)</a></span></li><li><span><a href=\"#7.2-Spacy-(OntoNotes)\" data-toc-modified-id=\"7.2-Spacy-(OntoNotes)-1.2.2\">7.2 Spacy (OntoNotes)</a></span></li><li><span><a href=\"#7.3-Flair\" data-toc-modified-id=\"7.3-Flair-1.2.3\">7.3 Flair</a></span></li></ul></li><li><span><a href=\"#8.-Clustering-models-and-visualizations\" data-toc-modified-id=\"8.-Clustering-models-and-visualizations-1.3\">8. Clustering models and visualizations</a></span><ul class=\"toc-item\"><li><span><a href=\"#8.1-K-means-(with-TF-IDF)\" data-toc-modified-id=\"8.1-K-means-(with-TF-IDF)-1.3.1\">8.1 K-means (with TF-IDF)</a></span></li><li><span><a href=\"#8.2-topic-model---LDA\" data-toc-modified-id=\"8.2-topic-model---LDA-1.3.2\">8.2 topic model - LDA</a></span></li><li><span><a href=\"#8.3-topic-model---BERTopic-(BERT-+-tf-idf)\" data-toc-modified-id=\"8.3-topic-model---BERTopic-(BERT-+-tf-idf)-1.3.3\">8.3 topic model - BERTopic (BERT + tf-idf)</a></span></li></ul></li><li><span><a href=\"#9-Keyword-extraction\" data-toc-modified-id=\"9-Keyword-extraction-1.4\">9 Keyword extraction</a></span></li><li><span><a href=\"#10.-Sentence-similarity-search-(tf-idf-+-cosine-similarity)\" data-toc-modified-id=\"10.-Sentence-similarity-search-(tf-idf-+-cosine-similarity)-1.5\">10. Sentence similarity search (tf-idf + cosine similarity)</a></span></li></ul></li></ul></div>"
   ]
  },
  {
   "cell_type": "markdown",
   "metadata": {},
   "source": [
    "# My NLP library toolkits: Part 2\n",
    "\n",
    "**Tao Lin**\n",
    "\n",
    "This part focuses on name entities and semantic clustering/similarity techniques.\n",
    "\n",
    "7. Name entity recognition\n",
    "8. Clustering models and visualization\n",
    "9. Keywords extraction\n",
    "10. Sentence similarity search\n",
    "\n",
    "----------------"
   ]
  },
  {
   "cell_type": "markdown",
   "metadata": {},
   "source": [
    "## 0. Loading the dataset"
   ]
  },
  {
   "cell_type": "code",
   "execution_count": 1,
   "metadata": {},
   "outputs": [
    {
     "name": "stdout",
     "output_type": "stream",
     "text": [
      "The raw input: \n",
      "\n",
      " orme , tennessee , has running water from 6 p.m. to 9 p.m.   town 's spring ran dry in midst of southeast drought .   donated water is trucked in from alabama .   completion of pipeline will solve problem for good . \n"
     ]
    }
   ],
   "source": [
    "# open the file and read the CNN-dm data (originally for summarization tasks)\n",
    "source_lines = open('/Users/taolin/Desktop/udacity/data/train.txt.src' , encoding='utf-8').\\\n",
    "read().strip().split('\\n')\n",
    "source_lines = source_lines\n",
    "target_lines = open('/Users/taolin/Desktop/udacity/data/train.txt.tgt.tagged' , encoding='utf-8').\\\n",
    "read().replace(\"</t>\",'').replace(\"<t>\",'').strip('').split('\\n')\n",
    "target_lines = target_lines\n",
    "\n",
    "sample_data = target_lines[0:1000]\n",
    "print(\"The raw input: \\n\\n\" + sample_data[45])"
   ]
  },
  {
   "cell_type": "code",
   "execution_count": 2,
   "metadata": {},
   "outputs": [],
   "source": [
    "from nltk.corpus import stopwords\n",
    "stop_words = stopwords.words('english')\n",
    "stop_words.extend(['from', 'subject', 're', 'edu', 'use','please','fw','fwd','user','issue'])\n",
    "stop_words.extend([\"a\",\"about\",\"above\",\"after\",\"again\",\"against\",\"ain\",\"all\",\"am\",\"an\",\"and\",\"any\",\"are\",\"aren\",\"aren't\",\"as\",\"at\",\"be\",\"because\",\"been\",\"before\",\"being\",\"below\",\"between\",\"both\",\"but\",\"by\",\"can\",\"couldn\",\"couldn't\",\"d\",\"did\",\"didn\",\"didn't\",\"do\",\"does\",\"doesn\",\"doesn't\",\"doing\",\"don\",\"don't\",\"down\",\"during\",\"each\",\"few\",\"for\",\"from\",\"further\",\"had\",\"hadn\",\"hadn't\",\"has\",\"hasn\",\"hasn't\",\"have\",\"haven\",\"haven't\",\"having\",\"he\",\"her\",\"here\",\"hers\",\"herself\",\"him\",\"himself\",\"his\",\"how\",\"i\",\"if\",\"in\",\"into\",\"is\",\"isn\",\"isn't\",\"it\",\"it's\",\"its\",\"itself\",\"just\",\"ll\",\"m\",\"ma\",\"me\",\"mightn\",\"mightn't\",\"more\",\"most\",\"mustn\",\"mustn't\",\"my\",\"myself\",\"needn\",\"needn't\",\"no\",\"nor\",\"not\",\"now\",\"o\",\"of\",\"off\",\"on\",\"once\",\"only\",\"or\",\"other\",\"our\",\"ours\",\"ourselves\",\"out\",\"over\",\"own\",\"re\",\"s\",\"same\",\"shan\",\"shan't\",\"she\",\"she's\",\"should\",\"should've\",\"shouldn\",\"shouldn't\",\"so\",\"some\",\"such\",\"t\",\"than\",\"that\",\"that'll\",\"the\",\"their\",\"theirs\",\"them\",\"themselves\",\"then\",\"there\",\"these\",\"they\",\"this\",\"those\",\"through\",\"to\",\"too\",\"under\",\"until\",\"up\",\"ve\",\"very\",\"was\",\"wasn\",\"wasn't\",\"we\",\"were\",\"weren\",\"weren't\",\"what\",\"when\",\"where\",\"which\",\"while\",\"who\",\"whom\",\"why\",\"will\",\"with\",\"won\",\"won't\",\"wouldn\",\"wouldn't\",\"y\",\"you\",\"you'd\",\"you'll\",\"you're\",\"you've\",\"your\",\"yours\",\"yourself\",\"yourselves\",\"could\",\"he'd\",\"he'll\",\"he's\",\"here's\",\"how's\",\"i'd\",\"i'll\",\"i'm\",\"i've\",\"let's\",\"ought\",\"she'd\",\"she'll\",\"that's\",\"there's\",\"they'd\",\"they'll\",\"they're\",\"they've\",\"we'd\",\"we'll\",\"we're\",\"we've\",\"what's\",\"when's\",\"where's\",\"who's\",\"why's\",\"would\",\"able\",\"abst\",\"accordance\",\"according\",\"accordingly\",\"across\",\"act\",\"actually\",\"added\",\"adj\",\"affected\",\"affecting\",\"affects\",\"afterwards\",\"ah\",\"almost\",\"alone\",\"along\",\"already\",\"also\",\"although\",\"always\",\"among\",\"amongst\",\"announce\",\"another\",\"anybody\",\"anyhow\",\"anymore\",\"anyone\",\"anything\",\"anyway\",\"anyways\",\"anywhere\",\"apparently\",\"approximately\",\"arent\",\"arise\",\"around\",\"aside\",\"ask\",\"asking\",\"auth\",\"available\",\"away\",\"awfully\",\"b\",\"back\",\"became\",\"become\",\"becomes\",\"becoming\",\"beforehand\",\"begin\",\"beginning\",\"beginnings\",\"begins\",\"behind\",\"believe\",\"beside\",\"besides\",\"beyond\",\"biol\",\"brief\",\"briefly\",\"c\",\"ca\",\"came\",\"cannot\",\"can't\",\"cause\",\"causes\",\"certain\",\"certainly\",\"co\",\"com\",\"come\",\"comes\",\"contain\",\"containing\",\"contains\",\"couldnt\",\"date\",\"different\",\"done\",\"downwards\",\"due\",\"e\",\"ed\",\"edu\",\"effect\",\"eg\",\"eight\",\"eighty\",\"either\",\"else\",\"elsewhere\",\"end\",\"ending\",\"enough\",\"especially\",\"et\",\"etc\",\"even\",\"ever\",\"every\",\"everybody\",\"everyone\",\"everything\",\"everywhere\",\"ex\",\"except\",\"f\",\"far\",\"ff\",\"fifth\",\"first\",\"five\",\"fix\",\"followed\",\"following\",\"follows\",\"former\",\"formerly\",\"forth\",\"found\",\"four\",\"furthermore\",\"g\",\"gave\",\"get\",\"gets\",\"getting\",\"give\",\"given\",\"gives\",\"giving\",\"go\",\"goes\",\"gone\",\"got\",\"gotten\",\"h\",\"happens\",\"hardly\",\"hed\",\"hence\",\"hereafter\",\"hereby\",\"herein\",\"heres\",\"hereupon\",\"hes\",\"hi\",\"hid\",\"hither\",\"home\",\"howbeit\",\"however\",\"hundred\",\"id\",\"ie\",\"im\",\"immediate\",\"immediately\",\"importance\",\"important\",\"inc\",\"indeed\",\"index\",\"information\",\"instead\",\"invention\",\"inward\",\"itd\",\"it'll\",\"j\",\"k\",\"keep\",\"keeps\",\"kept\",\"kg\",\"km\",\"know\",\"known\",\"knows\",\"l\",\"largely\",\"last\",\"lately\",\"later\",\"latter\",\"latterly\",\"least\",\"less\",\"lest\",\"let\",\"lets\",\"like\",\"liked\",\"likely\",\"line\",\"little\",\"'ll\",\"look\",\"looking\",\"looks\",\"ltd\",\"made\",\"mainly\",\"make\",\"makes\",\"many\",\"may\",\"maybe\",\"mean\",\"means\",\"meantime\",\"meanwhile\",\"merely\",\"mg\",\"might\",\"million\",\"miss\",\"ml\",\"moreover\",\"mostly\",\"mr\",\"mrs\",\"much\",\"mug\",\"must\",\"n\",\"na\",\"name\",\"namely\",\"nay\",\"nd\",\"near\",\"nearly\",\"necessarily\",\"necessary\",\"need\",\"needs\",\"neither\",\"never\",\"nevertheless\",\"new\",\"next\",\"nine\",\"ninety\",\"nobody\",\"non\",\"none\",\"nonetheless\",\"noone\",\"normally\",\"nos\",\"noted\",\"nothing\",\"nowhere\",\"obtain\",\"obtained\",\"obviously\",\"often\",\"oh\",\"ok\",\"okay\",\"old\",\"omitted\",\"one\",\"ones\",\"onto\",\"ord\",\"others\",\"otherwise\",\"outside\",\"overall\",\"owing\",\"p\",\"page\",\"pages\",\"part\",\"particular\",\"particularly\",\"past\",\"per\",\"perhaps\",\"placed\",\"please\",\"plus\",\"poorly\",\"possible\",\"possibly\",\"potentially\",\"pp\",\"predominantly\",\"present\",\"previously\",\"primarily\",\"probably\",\"promptly\",\"proud\",\"provides\",\"put\",\"q\",\"que\",\"quickly\",\"quite\",\"qv\",\"r\",\"ran\",\"rather\",\"rd\",\"readily\",\"really\",\"recent\",\"recently\",\"ref\",\"refs\",\"regarding\",\"regardless\",\"regards\",\"related\",\"relatively\",\"research\",\"respectively\",\"resulted\",\"resulting\",\"results\",\"right\",\"run\",\"said\",\"saw\",\"say\",\"saying\",\"says\",\"sec\",\"section\",\"see\",\"seeing\",\"seem\",\"seemed\",\"seeming\",\"seems\",\"seen\",\"self\",\"selves\",\"sent\",\"seven\",\"several\",\"shall\",\"shed\",\"shes\",\"show\",\"showed\",\"shown\",\"showns\",\"shows\",\"significant\",\"significantly\",\"similar\",\"similarly\",\"since\",\"six\",\"slightly\",\"somebody\",\"somehow\",\"someone\",\"somethan\",\"something\",\"sometime\",\"sometimes\",\"somewhat\",\"somewhere\",\"soon\",\"sorry\",\"specifically\",\"specified\",\"specify\",\"specifying\",\"still\",\"stop\",\"strongly\",\"sub\",\"substantially\",\"successfully\",\"sufficiently\",\"suggest\",\"sup\",\"sure\",\"take\",\"taken\",\"taking\",\"tell\",\"tends\",\"th\",\"thank\",\"thanks\",\"thanx\",\"thats\",\"that've\",\"thence\",\"thereafter\",\"thereby\",\"thered\",\"therefore\",\"therein\",\"there'll\",\"thereof\",\"therere\",\"theres\",\"thereto\",\"thereupon\",\"there've\",\"theyd\",\"theyre\",\"think\",\"thou\",\"though\",\"thoughh\",\"thousand\",\"throug\",\"throughout\",\"thru\",\"thus\",\"til\",\"tip\",\"together\",\"took\",\"toward\",\"towards\",\"tried\",\"tries\",\"truly\",\"try\",\"trying\",\"ts\",\"twice\",\"two\",\"u\",\"un\",\"unfortunately\",\"unless\",\"unlike\",\"unlikely\",\"unto\",\"upon\",\"ups\",\"us\",\"use\",\"used\",\"useful\",\"usefully\",\"usefulness\",\"uses\",\"using\",\"usually\",\"v\",\"value\",\"various\",\"'ve\",\"via\",\"viz\",\"vol\",\"vols\",\"vs\",\"w\",\"want\",\"wants\",\"wasnt\",\"way\",\"wed\",\"welcome\",\"went\",\"werent\",\"whatever\",\"what'll\",\"whats\",\"whence\",\"whenever\",\"whereafter\",\"whereas\",\"whereby\",\"wherein\",\"wheres\",\"whereupon\",\"wherever\",\"whether\",\"whim\",\"whither\",\"whod\",\"whoever\",\"whole\",\"who'll\",\"whomever\",\"whos\",\"whose\",\"widely\",\"willing\",\"wish\",\"within\",\"without\",\"wont\",\"words\",\"world\",\"wouldnt\",\"www\",\"x\",\"yes\",\"yet\",\"youd\",\"youre\",\"z\",\"zero\",\"a's\",\"ain't\",\"allow\",\"allows\",\"apart\",\"appear\",\"appreciate\",\"appropriate\",\"associated\",\"best\",\"better\",\"c'mon\",\"c's\",\"cant\",\"changes\",\"clearly\",\"concerning\",\"consequently\",\"consider\",\"considering\",\"corresponding\",\"course\",\"currently\",\"definitely\",\"described\",\"despite\",\"entirely\",\"exactly\",\"example\",\"going\",\"greetings\",\"hello\",\"help\",\"hopefully\",\"ignored\",\"inasmuch\",\"indicate\",\"indicated\",\"indicates\",\"inner\",\"insofar\",\"it'd\",\"keep\",\"keeps\",\"novel\",\"presumably\",\"reasonably\",\"second\",\"secondly\",\"sensible\",\"serious\",\"seriously\",\"sure\",\"t's\",\"third\",\"thorough\",\"thoroughly\",\"three\",\"well\",\"wonder\",\"a\", \"about\", \"above\", \"above\", \"across\", \"after\", \"afterwards\", \"again\", \"against\", \"all\", \"almost\", \"alone\", \"along\", \"already\", \"also\",\"although\",\"always\",\"am\",\"among\", \"amongst\", \"amoungst\", \"amount\", \"an\", \"and\", \"another\", \"any\",\"anyhow\",\"anyone\",\"anything\",\"anyway\", \"anywhere\", \"are\", \"around\", \"as\", \"at\", \"back\",\"be\",\"became\", \"because\",\"become\",\"becomes\", \"becoming\", \"been\", \"before\", \"beforehand\", \"behind\", \"being\", \"below\", \"beside\", \"besides\", \"between\", \"beyond\", \"bill\", \"both\", \"bottom\",\"but\", \"by\", \"call\", \"can\", \"cannot\", \"cant\", \"co\", \"con\", \"could\", \"couldnt\", \"cry\", \"de\", \"describe\", \"detail\", \"do\", \"done\", \"down\", \"due\", \"during\", \"each\", \"eg\", \"eight\", \"either\", \"eleven\",\"else\", \"elsewhere\", \"empty\", \"enough\", \"etc\", \"even\", \"ever\", \"every\", \"everyone\", \"everything\", \"everywhere\", \"except\", \"few\", \"fifteen\", \"fify\", \"fill\", \"find\", \"fire\", \"first\", \"five\", \"for\", \"former\", \"formerly\", \"forty\", \"found\", \"four\", \"from\", \"front\", \"full\", \"further\", \"get\", \"give\", \"go\", \"had\", \"has\", \"hasnt\", \"have\", \"he\", \"hence\", \"her\", \"here\", \"hereafter\", \"hereby\", \"herein\", \"hereupon\", \"hers\", \"herself\", \"him\", \"himself\", \"his\", \"how\", \"however\", \"hundred\", \"ie\", \"if\", \"in\", \"inc\", \"indeed\", \"interest\", \"into\", \"is\", \"it\", \"its\", \"itself\", \"keep\", \"last\", \"latter\", \"latterly\", \"least\", \"less\", \"ltd\", \"made\", \"many\", \"may\", \"me\", \"meanwhile\", \"might\", \"mill\", \"mine\", \"more\", \"moreover\", \"most\", \"mostly\", \"move\", \"much\", \"must\", \"my\", \"myself\", \"name\", \"namely\", \"neither\", \"never\", \"nevertheless\", \"next\", \"nine\", \"no\", \"nobody\", \"none\", \"noone\", \"nor\", \"not\", \"nothing\", \"now\", \"nowhere\", \"of\", \"off\", \"often\", \"on\", \"once\", \"one\", \"only\", \"onto\", \"or\", \"other\", \"others\", \"otherwise\", \"our\", \"ours\", \"ourselves\", \"out\", \"over\", \"own\",\"part\", \"per\", \"perhaps\", \"please\", \"put\", \"rather\", \"re\", \"same\", \"see\", \"seem\", \"seemed\", \"seeming\", \"seems\", \"serious\", \"several\", \"she\", \"should\", \"show\", \"side\", \"since\", \"sincere\", \"six\", \"sixty\", \"so\", \"some\", \"somehow\", \"someone\", \"something\", \"sometime\", \"sometimes\", \"somewhere\", \"still\", \"such\", \"system\", \"take\", \"ten\", \"than\", \"that\", \"the\", \"their\", \"them\", \"themselves\", \"then\", \"thence\", \"there\", \"thereafter\", \"thereby\", \"therefore\", \"therein\", \"thereupon\", \"these\", \"they\", \"thickv\", \"thin\", \"third\", \"this\", \"those\", \"though\", \"three\", \"through\", \"throughout\", \"thru\", \"thus\", \"to\", \"together\", \"too\", \"top\", \"toward\", \"towards\", \"twelve\", \"twenty\", \"two\", \"un\", \"under\", \"until\", \"up\", \"upon\", \"us\", \"very\", \"via\", \"was\", \"we\", \"well\", \"were\", \"what\", \"whatever\", \"when\", \"whence\", \"whenever\", \"where\", \"whereafter\", \"whereas\", \"whereby\", \"wherein\", \"whereupon\", \"wherever\", \"whether\", \"which\", \"while\", \"whither\", \"who\", \"whoever\", \"whole\", \"whom\", \"whose\", \"why\", \"will\", \"with\", \"within\", \"without\", \"would\", \"yet\", \"you\", \"your\", \"yours\", \"yourself\", \"yourselves\", \"the\",\"a\", \"b\", \"c\", \"d\", \"e\", \"f\", \"g\", \"h\", \"i\", \"j\", \"k\", \"l\", \"m\", \"n\", \"o\", \"p\",\n",
    "\"q\", \"r\", \"s\", \"t\", \"u\", \"v\", \"w\", \"x\", \"y\", \"z\",\"A\", \"B\", \"C\", \"D\", \"E\", \"F\", \"G\", \"H\", \"I\", \"J\", \"K\", \"L\", \"M\", \"N\", \"O\", \"P\", \"Q\", \"R\", \"S\", \"T\", \"U\", \"V\", \"W\", \"X\", \"Y\", \"Z\",'co','op','research-articl', 'pagecount','cit','ibid','les','le','au','que','est','pas','vol','el','los','pp','u201d','well-b', 'http', 'volumtype', 'par', '0o', '0s', '3a', '3b', '3d', '6b', '6o', 'a1', 'a2', 'a3', 'a4', 'ab', 'ac', 'ad', 'ae', 'af', 'ag', 'aj', 'al', 'an', 'ao', 'ap', 'ar', 'av', 'aw', 'ax', 'ay', 'az', 'b1', 'b2', 'b3', 'ba', 'bc', 'bd', 'be', 'bi', 'bj', 'bk', 'bl', 'bn', 'bp', 'br', 'bs', 'bt', 'bu', 'bx', 'c1', 'c2', 'c3', 'cc', 'cd', 'ce', 'cf', 'cg', 'ch', 'ci', 'cj', 'cl', 'cm', 'cn', 'cp', 'cq', 'cr', 'cs', 'ct', 'cu', 'cv', 'cx', 'cy', 'cz', 'd2', 'da', 'dc', 'dd', 'de', 'df', 'di', 'dj', 'dk', 'dl', 'do', 'dp', 'dr', 'ds', 'dt', 'du', 'dx', 'dy', 'e2', 'e3', 'ea', 'ec', 'ed', 'ee', 'ef', 'ei', 'ej', 'el', 'em', 'en', 'eo', 'ep', 'eq', 'er', 'es', 'et', 'eu', 'ev', 'ex', 'ey', 'f2', 'fa', 'fc', 'ff', 'fi', 'fj', 'fl', 'fn', 'fo', 'fr', 'fs', 'ft', 'fu', 'fy', 'ga', 'ge', 'gi', 'gj', 'gl', 'go', 'gr', 'gs', 'gy', 'h2', 'h3', 'hh', 'hi', 'hj', 'ho', 'hr', 'hs', 'hu', 'hy', 'i', 'i2', 'i3', 'i4', 'i6', 'i7', 'i8', 'ia', 'ib', 'ic', 'ie', 'ig', 'ih', 'ii', 'ij', 'il', 'in', 'io', 'ip', 'iq', 'ir', 'iv', 'ix', 'iy', 'iz', 'jj', 'jr', 'js', 'jt', 'ju', 'ke', 'kg', 'kj', 'km', 'ko', 'l2', 'la', 'lb', 'lc', 'lf', 'lj', 'ln', 'lo', 'lr', 'ls', 'lt', 'm2', 'ml', 'mn', 'mo', 'ms', 'mt', 'mu', 'n2', 'nc', 'nd', 'ne', 'ng', 'ni', 'nj', 'nl', 'nn', 'nr', 'ns', 'nt', 'ny', 'oa', 'ob', 'oc', 'od', 'of', 'og', 'oi', 'oj', 'ol', 'om', 'on', 'oo', 'oq', 'or', 'os', 'ot', 'ou', 'ow', 'ox', 'oz', 'p1', 'p2', 'p3', 'pc', 'pd', 'pe', 'pf', 'ph', 'pi', 'pj', 'pk', 'pl', 'pm', 'pn', 'po', 'pq', 'pr', 'ps', 'pt', 'pu', 'py', 'qj', 'qu', 'r2', 'ra', 'rc', 'rd', 'rf', 'rh', 'ri', 'rj', 'rl', 'rm', 'rn', 'ro', 'rq', 'rr', 'rs', 'rt', 'ru', 'rv', 'ry', 's2', 'sa', 'sc', 'sd', 'se', 'sf', 'si', 'sj', 'sl', 'sm', 'sn', 'sp', 'sq', 'sr', 'ss', 'st', 'sy', 'sz', 't1', 't2', 't3', 'tb', 'tc', 'td', 'te', 'tf', 'th', 'ti', 'tj', 'tl', 'tm', 'tn', 'tp', 'tq', 'tr', 'ts', 'tt', 'tv', 'tx', 'ue', 'ui', 'uj', 'uk', 'um', 'un', 'uo', 'ur', 'ut', 'va', 'wa', 'vd', 'wi', 'vj', 'vo', 'wo', 'vq', 'vt', 'vu', 'x1', 'x2', 'x3', 'xf', 'xi', 'xj', 'xk', 'xl', 'xn', 'xo', 'xs', 'xt', 'xv', 'xx', 'y2', 'yj', 'yl', 'yr', 'ys', 'yt', 'zi', 'zz'])\n"
   ]
  },
  {
   "cell_type": "code",
   "execution_count": 3,
   "metadata": {},
   "outputs": [],
   "source": [
    "import re\n",
    "\n",
    "# data cleaning from Part 1\n",
    "def data_list(data,stop):\n",
    "    \n",
    "    #from nltk.stem.lancaster import LancasterStemmer\n",
    "    #st = LancasterStemmer()\n",
    "    \n",
    "    new_data = []\n",
    "    for item in data:\n",
    "        \n",
    "        #if type(item)== str: doc = nlp(item)\n",
    "        # document level language detection. Think of it like average language of document!\n",
    "        #lang = doc._.language['language']\n",
    "        #print(lang)\n",
    "        \n",
    "        #if (type(item) == str) and (lang ==\"en\"):\n",
    "        if (type(item) == str):\n",
    "            #print(item)\n",
    "            #print(\"\\n\")\n",
    "    \n",
    "    # delete some expressions\n",
    "            if \"== Created by\": pass\n",
    "    \n",
    "    # delete weblinks\n",
    "            item = re.sub(r'http[s]?://(?:[a-zA-Z]|[0-9]|[$-_@.&+]|[!*\\(\\), ]|(?:%[0-9a-fA-F][0-9a-fA-F]))+',\"\",item)\n",
    "    #lower case\n",
    "            item = item.lower()\n",
    "    \n",
    "    # remove newlines\n",
    "            item = re.sub(r'\\r\\n\\r\\n\\r\\n\\r\\n', '. ', item)\n",
    "\n",
    "    # remove emails\n",
    "            item = re.sub('\\S*@\\S*\\s?', '', item)\n",
    "        \n",
    "    # remove <...> and {...}\n",
    "            item = re.sub('<.*?>','',item)\n",
    "            item = re.sub('{.*?}','',item)\n",
    "\n",
    "    # remove all numbers; puntuations\n",
    "            item = re.sub(r'\\d+', '',item)\n",
    "            item = re.sub(r'\\+', '',item)\n",
    "            item = re.sub(r'\\|',\"\",item)\n",
    "            #item = re.sub(r'==','',item)\n",
    "            #item = re.sub(r'\\*','',item)\n",
    "            #item = re.sub(r'\\_','',item)\n",
    "            item = re.sub(r'[^\\w\\s]', '', item)\n",
    "    \n",
    "    # remove specific words or phrases\n",
    "            item = re.sub('hi team',\"\",item)\n",
    "            item = re.sub(\"hey\",\"\",item)\n",
    "            item = re.sub(\"hi\",\"\",item)\n",
    "            item = re.sub(\"hi there\",\"\",item)\n",
    "            \n",
    "            #print(item)\n",
    "            \n",
    "            w_list = item.split()\n",
    "            #print(w_list)\n",
    "            w = []  \n",
    "            for word in w_list:\n",
    "                if word not in stop:\n",
    "                    w.append(word)\n",
    "            new_data.append(w)\n",
    "        \n",
    "    return(new_data)   \n",
    "\n",
    "#t = data_list(data_nan,stop_words)"
   ]
  },
  {
   "cell_type": "markdown",
   "metadata": {},
   "source": [
    "## 7. Name entity recognition\n",
    "### 7.1 NLTK (POS-approach)\n",
    "\n",
    "The idea is that NEs are usually **nouns, noun phrases, or adjectives**. \n",
    "By sorting out other POS like verbs and functional units we can \n",
    "give a rough result of NE cadidates. The technique was already \n",
    "shown in my Part 1."
   ]
  },
  {
   "cell_type": "markdown",
   "metadata": {},
   "source": [
    "### 7.2 Spacy (OntoNotes)"
   ]
  },
  {
   "cell_type": "code",
   "execution_count": 4,
   "metadata": {},
   "outputs": [
    {
     "name": "stdout",
     "output_type": "stream",
     "text": [
      "The entity list is: \n",
      "\n",
      "\n",
      "[['6 p.m. to 9 p.m.', 'TIME']]\n"
     ]
    }
   ],
   "source": [
    "import spacy\n",
    "\n",
    "nlp = spacy.load(\"en_core_web_sm\")\n",
    "\n",
    "def SPNER(sen):\n",
    "    doc = nlp(sample_data[45])\n",
    "    new = []\n",
    "    for ent in doc.ents:\n",
    "        #print(ent.text, ent.start_char, ent.end_char, ent.label_)\n",
    "        new.append([ent.text,ent.label_])\n",
    "    print (\"The entity list is: \\n\\n\")\n",
    "    print (new)\n",
    "    #return new\n",
    "\n",
    "SPNER(sample_data[45])\n"
   ]
  },
  {
   "cell_type": "markdown",
   "metadata": {},
   "source": [
    "### 7.3 Flair"
   ]
  },
  {
   "cell_type": "code",
   "execution_count": 5,
   "metadata": {},
   "outputs": [
    {
     "name": "stdout",
     "output_type": "stream",
     "text": [
      "2021-06-29 18:07:20,285 --------------------------------------------------------------------------------\n",
      "2021-06-29 18:07:20,286 The model key 'ner' now maps to 'https://huggingface.co/flair/ner-english' on the HuggingFace ModelHub\n",
      "2021-06-29 18:07:20,286  - The most current version of the model is automatically downloaded from there.\n",
      "2021-06-29 18:07:20,286  - (you can alternatively manually download the original model at https://nlp.informatik.hu-berlin.de/resources/models/ner/en-ner-conll03-v0.4.pt)\n",
      "2021-06-29 18:07:20,287 --------------------------------------------------------------------------------\n",
      "2021-06-29 18:07:20,804 loading file /Users/taolin/.flair/models/ner-english/4f4cdab26f24cb98b732b389e6cebc646c36f54cfd6e0b7d3b90b25656e4262f.8baa8ae8795f4df80b28e7f7b61d788ecbb057d1dc85aacb316f1bd02837a4a4\n",
      "\n",
      "\n",
      "Sentence: \"orme , tennessee , has running water from 6 p.m. to 9 p.m. town ' s spring ran dry in midst of southeast drought . donated water is trucked in from alabama . completion of pipeline will solve problem for good .\"   [− Tokens: 42  − Token-Labels: \"orme , tennessee <S-LOC> , has running water from 6 p.m. to 9 p.m. town ' s spring ran dry in midst of southeast drought . donated water is trucked in from alabama <S-LOC> . completion of pipeline will solve problem for good .\"]\n",
      "\n",
      "\n",
      "The following NER tags are found:\n",
      "Span [3]: \"tennessee\"   [− Labels: LOC (0.9991)]\n",
      "Span [32]: \"alabama\"   [− Labels: LOC (0.9994)]\n"
     ]
    }
   ],
   "source": [
    "from flair.data import Sentence\n",
    "from flair.models import SequenceTagger\n",
    "\n",
    "\n",
    "def FlairNER(sen):\n",
    "    # make a sentence\n",
    "    sentence = Sentence(sample_data[45])\n",
    "\n",
    "    # load the NER tagger\n",
    "    tagger = SequenceTagger.load('ner')\n",
    "\n",
    "    # run NER over sentence\n",
    "    tagger.predict(sentence)\n",
    "    \n",
    "    print(\"\\n\\n\" + str(sentence) + \"\\n\\n\")\n",
    "    print('The following NER tags are found:')\n",
    "\n",
    "    # iterate over entities and print\n",
    "    for entity in sentence.get_spans('ner'):\n",
    "        print(entity)\n",
    "\n",
    "FlairNER(sample_data[45])"
   ]
  },
  {
   "cell_type": "markdown",
   "metadata": {},
   "source": [
    "## 8. Clustering models and visualizations\n",
    "### 8.1 K-means (with TF-IDF)"
   ]
  },
  {
   "cell_type": "code",
   "execution_count": 6,
   "metadata": {},
   "outputs": [],
   "source": [
    "from sklearn.feature_extraction.text import TfidfVectorizer\n",
    "from sklearn.cluster import KMeans\n",
    "from sklearn.metrics import adjusted_rand_score\n",
    "import collections\n",
    "\n",
    "def kmeans(list_name,st):\n",
    "    t = data_list(list_name,stop_words)\n",
    "    vectorizer = TfidfVectorizer(stop_words='english')\n",
    "    kt = [\" \".join(item) for item in t] # convert the list of lists into a list of strings\n",
    "    X = vectorizer.fit_transform(kt)\n",
    "    # terms = vectorizer.get_feature_names() #get the word features\n",
    "    \n",
    "    true_k = 5 # number of clusters\n",
    "    model = KMeans(n_clusters=true_k, init='k-means++', max_iter=100, n_init=1)\n",
    "    kmeans = model.fit(X)\n",
    "    clusters = kmeans.labels_\n",
    "    elements_count = collections.Counter(clusters)\n",
    "    \n",
    "    print(f\"Top 10 terms per cluster for {st}:\")\n",
    "    order_centroids = model.cluster_centers_.argsort()[:, ::-1]\n",
    "    terms = vectorizer.get_feature_names()\n",
    "    for i in range(true_k):\n",
    "        print (\"\\n Cluster %d:\" % i)\n",
    "        print(f\"{elements_count[i]} tickets\")\n",
    "        for ind in order_centroids[i, :10]:\n",
    "            print (' %s' % terms[ind])"
   ]
  },
  {
   "cell_type": "code",
   "execution_count": 7,
   "metadata": {},
   "outputs": [
    {
     "name": "stdout",
     "output_type": "stream",
     "text": [
      "Top 10 terms per cluster for Sample:\n",
      "\n",
      " Cluster 0:\n",
      "303 tickets\n",
      " president\n",
      " bush\n",
      " day\n",
      " time\n",
      " officials\n",
      " people\n",
      " government\n",
      " work\n",
      " group\n",
      " life\n",
      "\n",
      " Cluster 1:\n",
      "47 tickets\n",
      " obama\n",
      " clinton\n",
      " sen\n",
      " mccain\n",
      " campaign\n",
      " barack\n",
      " llary\n",
      " wins\n",
      " edwards\n",
      " john\n",
      "\n",
      " Cluster 2:\n",
      "177 tickets\n",
      " police\n",
      " family\n",
      " people\n",
      " authorities\n",
      " death\n",
      " court\n",
      " girl\n",
      " thursday\n",
      " reports\n",
      " husband\n",
      "\n",
      " Cluster 3:\n",
      "345 tickets\n",
      " iraq\n",
      " percent\n",
      " report\n",
      " military\n",
      " troops\n",
      " year\n",
      " men\n",
      " iraqi\n",
      " war\n",
      " afghanistan\n",
      "\n",
      " Cluster 4:\n",
      "128 tickets\n",
      " killed\n",
      " man\n",
      " sunday\n",
      " march\n",
      " people\n",
      " rights\n",
      " support\n",
      " official\n",
      " students\n",
      " law\n"
     ]
    }
   ],
   "source": [
    "kmeans(sample_data,\"Sample\")"
   ]
  },
  {
   "cell_type": "code",
   "execution_count": 8,
   "metadata": {},
   "outputs": [],
   "source": [
    "# visualization of kmeans; better for words than sentences\n",
    "\n",
    "from sklearn.decomposition import PCA\n",
    "from sklearn.feature_extraction.text import CountVectorizer\n",
    "from sklearn.cluster import KMeans\n",
    "import matplotlib\n",
    "import matplotlib.pyplot as plt\n",
    "\n",
    "def kemeansplot(list_name,true_k):\n",
    "    \n",
    "    t = data_list(list_name,stop_words)\n",
    "    vectorizer = TfidfVectorizer(stop_words='english')\n",
    "    kt = [\" \".join(item) for item in t] # convert the list of lists into a list of strings\n",
    "    #X = vectorizer.fit_transform(kt)\n",
    "    \n",
    "    cv = CountVectorizer(analyzer = 'word', max_features = 5000, lowercase=True, preprocessor=None, tokenizer=None, stop_words = 'english')  \n",
    "    vectors = cv.fit_transform(kt)\n",
    "    kmeans = KMeans(n_clusters = true_k, init = 'k-means++', random_state = 0)\n",
    "    kmean_indices = kmeans.fit_predict(vectors)\n",
    "\n",
    "    pca = PCA(n_components=2)\n",
    "    scatter_plot_points = pca.fit_transform(vectors.toarray())\n",
    "\n",
    "    colors = [\"r\", \"b\", \"c\", \"y\", \"m\" ]\n",
    "\n",
    "    x_axis = [o[0] for o in scatter_plot_points]\n",
    "    y_axis = [o[1] for o in scatter_plot_points]\n",
    "    fig, ax = plt.subplots(figsize=(20,10))\n",
    "\n",
    "    ax.scatter(x_axis, y_axis, c=[colors[d] for d in kmean_indices])\n",
    "\n",
    "    for i, txt in enumerate(kt):\n",
    "        ax.annotate(txt, (x_axis[i], y_axis[i]))\n",
    "\n",
    "kemeansplot(sample_data, 5)"
   ]
  },
  {
   "cell_type": "markdown",
   "metadata": {},
   "source": [
    "### 8.2 topic model - LDA\n",
    "Other similar options: LSA, NMF, and hierarchical clustering"
   ]
  },
  {
   "cell_type": "code",
   "execution_count": 9,
   "metadata": {},
   "outputs": [],
   "source": [
    "from gensim import corpora\n",
    "import pickle\n",
    "import gensim\n",
    "\n",
    "\n",
    "def LDA(list_name,NUM_TOPICS):\n",
    "    t = data_list(list_name,stop_words)\n",
    "    \n",
    "    dictionary = corpora.Dictionary(t)\n",
    "\n",
    "    corpus = [dictionary.doc2bow(text) for text in t]\n",
    "\n",
    "    pickle.dump(corpus, open('corpus.pkl', 'wb'))\n",
    "    \n",
    "    dictionary.save('dictionary.gensim')\n",
    "    ldamodel = gensim.models.ldamodel.LdaModel(corpus, num_topics = NUM_TOPICS, id2word=dictionary, passes=15)\n",
    "    ldamodel.save('model5.gensim')\n",
    "    topics = ldamodel.print_topics(num_words=5)\n",
    "    return topics,ldamodel,corpus,dictionary"
   ]
  },
  {
   "cell_type": "code",
   "execution_count": 10,
   "metadata": {},
   "outputs": [
    {
     "data": {
      "text/plain": [
       "[(0,\n",
       "  '0.010*\"obama\" + 0.008*\"clinton\" + 0.005*\"sen\" + 0.005*\"president\" + 0.004*\"bush\"'),\n",
       " (1,\n",
       "  '0.006*\"president\" + 0.006*\"police\" + 0.003*\"bush\" + 0.003*\"years\" + 0.003*\"people\"'),\n",
       " (2,\n",
       "  '0.003*\"years\" + 0.003*\"cnn\" + 0.003*\"people\" + 0.003*\"day\" + 0.003*\"iraq\"'),\n",
       " (3,\n",
       "  '0.005*\"police\" + 0.004*\"iraq\" + 0.003*\"killed\" + 0.003*\"obama\" + 0.003*\"people\"'),\n",
       " (4,\n",
       "  '0.004*\"police\" + 0.004*\"military\" + 0.004*\"people\" + 0.004*\"war\" + 0.003*\"troops\"')]"
      ]
     },
     "execution_count": 10,
     "metadata": {},
     "output_type": "execute_result"
    }
   ],
   "source": [
    "t_result = LDA(sample_data,5)\n",
    "t_result[0]"
   ]
  },
  {
   "cell_type": "code",
   "execution_count": 11,
   "metadata": {},
   "outputs": [
    {
     "name": "stderr",
     "output_type": "stream",
     "text": [
      "/Users/taolin/opt/anaconda3/lib/python3.7/site-packages/pyLDAvis/_prepare.py:257: FutureWarning: Sorting because non-concatenation axis is not aligned. A future version\n",
      "of pandas will change to not sort by default.\n",
      "\n",
      "To accept the future behavior, pass 'sort=False'.\n",
      "\n",
      "To retain the current behavior and silence the warning, pass 'sort=True'.\n",
      "\n",
      "  return pd.concat([default_term_info] + list(topic_dfs))\n"
     ]
    },
    {
     "data": {
      "text/html": [
       "\n",
       "<link rel=\"stylesheet\" type=\"text/css\" href=\"https://cdn.rawgit.com/bmabey/pyLDAvis/files/ldavis.v1.0.0.css\">\n",
       "\n",
       "\n",
       "<div id=\"ldavis_el87421404864637690407678691574\"></div>\n",
       "<script type=\"text/javascript\">\n",
       "\n",
       "var ldavis_el87421404864637690407678691574_data = {\"mdsDat\": {\"x\": [-0.14201474766266048, 0.0395357615772932, 0.005494515192256744, 0.05827400986300821, 0.03871046103010239], \"y\": [-0.01997314840602614, -0.06721040435450105, 0.06415287874797428, -0.07275183540377751, 0.09578250941633035], \"topics\": [1, 2, 3, 4, 5], \"cluster\": [1, 1, 1, 1, 1], \"Freq\": [25.65974235534668, 20.54128646850586, 19.205312728881836, 18.155303955078125, 16.4383602142334]}, \"tinfo\": {\"Category\": [\"Default\", \"Default\", \"Default\", \"Default\", \"Default\", \"Default\", \"Default\", \"Default\", \"Default\", \"Default\", \"Default\", \"Default\", \"Default\", \"Default\", \"Default\", \"Default\", \"Default\", \"Default\", \"Default\", \"Default\", \"Default\", \"Default\", \"Default\", \"Default\", \"Default\", \"Default\", \"Default\", \"Default\", \"Default\", \"Default\", \"Topic1\", \"Topic1\", \"Topic1\", \"Topic1\", \"Topic1\", \"Topic1\", \"Topic1\", \"Topic1\", \"Topic1\", \"Topic1\", \"Topic1\", \"Topic1\", \"Topic1\", \"Topic1\", \"Topic1\", \"Topic1\", \"Topic1\", \"Topic1\", \"Topic1\", \"Topic1\", \"Topic1\", \"Topic1\", \"Topic1\", \"Topic1\", \"Topic1\", \"Topic1\", \"Topic1\", \"Topic1\", \"Topic1\", \"Topic1\", \"Topic1\", \"Topic1\", \"Topic1\", \"Topic1\", \"Topic1\", \"Topic1\", \"Topic1\", \"Topic1\", \"Topic1\", \"Topic1\", \"Topic1\", \"Topic1\", \"Topic1\", \"Topic1\", \"Topic1\", \"Topic1\", \"Topic1\", \"Topic1\", \"Topic1\", \"Topic1\", \"Topic1\", \"Topic1\", \"Topic1\", \"Topic1\", \"Topic1\", \"Topic1\", \"Topic1\", \"Topic1\", \"Topic1\", \"Topic1\", \"Topic1\", \"Topic1\", \"Topic1\", \"Topic1\", \"Topic1\", \"Topic1\", \"Topic1\", \"Topic1\", \"Topic1\", \"Topic1\", \"Topic2\", \"Topic2\", \"Topic2\", \"Topic2\", \"Topic2\", \"Topic2\", \"Topic2\", \"Topic2\", \"Topic2\", \"Topic2\", \"Topic2\", \"Topic2\", \"Topic2\", \"Topic2\", \"Topic2\", \"Topic2\", \"Topic2\", \"Topic2\", \"Topic2\", \"Topic2\", \"Topic2\", \"Topic2\", \"Topic2\", \"Topic2\", \"Topic2\", \"Topic2\", \"Topic2\", \"Topic2\", \"Topic2\", \"Topic2\", \"Topic2\", \"Topic2\", \"Topic2\", \"Topic2\", \"Topic2\", \"Topic2\", \"Topic2\", \"Topic2\", \"Topic2\", \"Topic2\", \"Topic2\", \"Topic2\", \"Topic2\", \"Topic2\", \"Topic2\", \"Topic2\", \"Topic2\", \"Topic2\", \"Topic2\", \"Topic2\", \"Topic2\", \"Topic2\", \"Topic2\", \"Topic2\", \"Topic2\", \"Topic2\", \"Topic2\", \"Topic2\", \"Topic2\", \"Topic2\", \"Topic2\", \"Topic2\", \"Topic2\", \"Topic2\", \"Topic2\", \"Topic2\", \"Topic2\", \"Topic2\", \"Topic2\", \"Topic2\", \"Topic2\", \"Topic2\", \"Topic2\", \"Topic2\", \"Topic2\", \"Topic2\", \"Topic2\", \"Topic3\", \"Topic3\", \"Topic3\", \"Topic3\", \"Topic3\", \"Topic3\", \"Topic3\", \"Topic3\", \"Topic3\", \"Topic3\", \"Topic3\", \"Topic3\", \"Topic3\", \"Topic3\", \"Topic3\", \"Topic3\", \"Topic3\", \"Topic3\", \"Topic3\", \"Topic3\", \"Topic3\", \"Topic3\", \"Topic3\", \"Topic3\", \"Topic3\", \"Topic3\", \"Topic3\", \"Topic3\", \"Topic3\", \"Topic3\", \"Topic3\", \"Topic3\", \"Topic3\", \"Topic3\", \"Topic3\", \"Topic3\", \"Topic3\", \"Topic3\", \"Topic3\", \"Topic3\", \"Topic3\", \"Topic3\", \"Topic3\", \"Topic3\", \"Topic3\", \"Topic3\", \"Topic3\", \"Topic3\", \"Topic3\", \"Topic3\", \"Topic3\", \"Topic3\", \"Topic3\", \"Topic3\", \"Topic3\", \"Topic3\", \"Topic3\", \"Topic3\", \"Topic3\", \"Topic3\", \"Topic3\", \"Topic3\", \"Topic3\", \"Topic3\", \"Topic3\", \"Topic3\", \"Topic3\", \"Topic3\", \"Topic3\", \"Topic3\", \"Topic3\", \"Topic3\", \"Topic3\", \"Topic3\", \"Topic3\", \"Topic3\", \"Topic4\", \"Topic4\", \"Topic4\", \"Topic4\", \"Topic4\", \"Topic4\", \"Topic4\", \"Topic4\", \"Topic4\", \"Topic4\", \"Topic4\", \"Topic4\", \"Topic4\", \"Topic4\", \"Topic4\", \"Topic4\", \"Topic4\", \"Topic4\", \"Topic4\", \"Topic4\", \"Topic4\", \"Topic4\", \"Topic4\", \"Topic4\", \"Topic4\", \"Topic4\", \"Topic4\", \"Topic4\", \"Topic4\", \"Topic4\", \"Topic4\", \"Topic4\", \"Topic4\", \"Topic4\", \"Topic4\", \"Topic4\", \"Topic4\", \"Topic4\", \"Topic4\", \"Topic4\", \"Topic4\", \"Topic4\", \"Topic4\", \"Topic4\", \"Topic4\", \"Topic4\", \"Topic4\", \"Topic4\", \"Topic4\", \"Topic4\", \"Topic4\", \"Topic4\", \"Topic4\", \"Topic4\", \"Topic4\", \"Topic4\", \"Topic4\", \"Topic4\", \"Topic4\", \"Topic4\", \"Topic4\", \"Topic4\", \"Topic4\", \"Topic4\", \"Topic4\", \"Topic4\", \"Topic4\", \"Topic4\", \"Topic4\", \"Topic4\", \"Topic4\", \"Topic4\", \"Topic4\", \"Topic4\", \"Topic5\", \"Topic5\", \"Topic5\", \"Topic5\", \"Topic5\", \"Topic5\", \"Topic5\", \"Topic5\", \"Topic5\", \"Topic5\", \"Topic5\", \"Topic5\", \"Topic5\", \"Topic5\", \"Topic5\", \"Topic5\", \"Topic5\", \"Topic5\", \"Topic5\", \"Topic5\", \"Topic5\", \"Topic5\", \"Topic5\", \"Topic5\", \"Topic5\", \"Topic5\", \"Topic5\", \"Topic5\", \"Topic5\", \"Topic5\", \"Topic5\", \"Topic5\", \"Topic5\", \"Topic5\", \"Topic5\", \"Topic5\", \"Topic5\", \"Topic5\", \"Topic5\", \"Topic5\", \"Topic5\", \"Topic5\", \"Topic5\", \"Topic5\", \"Topic5\", \"Topic5\", \"Topic5\", \"Topic5\", \"Topic5\", \"Topic5\", \"Topic5\", \"Topic5\", \"Topic5\", \"Topic5\", \"Topic5\", \"Topic5\", \"Topic5\", \"Topic5\", \"Topic5\", \"Topic5\", \"Topic5\", \"Topic5\", \"Topic5\", \"Topic5\", \"Topic5\", \"Topic5\", \"Topic5\", \"Topic5\", \"Topic5\", \"Topic5\", \"Topic5\"], \"Freq\": [72.0, 49.0, 36.0, 31.0, 45.0, 18.0, 25.0, 14.0, 14.0, 20.0, 16.0, 11.0, 11.0, 14.0, 16.0, 84.0, 7.0, 7.0, 27.0, 10.0, 11.0, 32.0, 14.0, 14.0, 19.0, 33.0, 10.0, 5.0, 11.0, 9.0, 47.751441955566406, 10.355071067810059, 7.25632905960083, 6.4734039306640625, 5.68468713760376, 4.876265525817871, 16.68330955505371, 4.799222946166992, 4.10666561126709, 4.106128692626953, 4.105382919311523, 4.105285167694092, 4.099252223968506, 8.04941463470459, 3.993988513946533, 3.3168985843658447, 3.31689453125, 3.316884994506836, 3.3167450428009033, 3.316728115081787, 3.316326141357422, 3.316251277923584, 3.316089153289795, 3.315809965133667, 3.3155875205993652, 3.315237283706665, 3.3151636123657227, 3.3151190280914307, 3.315021276473999, 3.3148982524871826, 30.382856369018555, 58.392555236816406, 7.224845886230469, 11.989298820495605, 8.843177795410156, 11.441329002380371, 15.849082946777344, 5.686489105224609, 5.6475324630737305, 5.590841293334961, 9.141700744628906, 8.05905532836914, 6.496339797973633, 5.476254463195801, 11.165793418884277, 6.931559085845947, 25.11682891845703, 19.038867950439453, 13.535646438598633, 12.9660062789917, 6.430779933929443, 10.833142280578613, 18.382205963134766, 14.225444793701172, 26.888471603393555, 9.454919815063477, 7.951358318328857, 22.47962188720703, 13.20965576171875, 10.379742622375488, 8.038894653320312, 8.7581148147583, 12.010855674743652, 12.345460891723633, 10.767818450927734, 9.596012115478516, 11.57725715637207, 11.681761741638184, 10.077115058898926, 9.449249267578125, 5.436017990112305, 4.680780410766602, 4.679795265197754, 4.6790995597839355, 4.665788173675537, 4.663024425506592, 3.9256367683410645, 3.92522931098938, 3.923682689666748, 3.919715404510498, 3.1703975200653076, 3.168260097503662, 3.1680972576141357, 3.1633267402648926, 3.1616485118865967, 2.41585636138916, 2.415853977203369, 2.415853500366211, 2.4158504009246826, 2.4158389568328857, 2.415839433670044, 2.4157912731170654, 2.415743112564087, 2.4157297611236572, 2.4155004024505615, 2.415416955947876, 2.4151852130889893, 2.4151766300201416, 2.4151761531829834, 2.4150564670562744, 3.0023720264434814, 4.679618835449219, 5.437075138092041, 6.711000442504883, 3.9263627529144287, 5.634322166442871, 8.949007987976074, 5.186500072479248, 6.795373916625977, 8.606972694396973, 5.437975883483887, 4.414341449737549, 5.985190391540527, 4.681608200073242, 4.664088249206543, 24.67135238647461, 6.945573806762695, 10.2938871383667, 9.777029991149902, 9.860912322998047, 6.949955940246582, 16.45693588256836, 9.21809196472168, 8.458468437194824, 11.772358894348145, 12.802009582519531, 9.868884086608887, 8.021316528320312, 7.421545505523682, 9.216109275817871, 12.714359283447266, 7.519568920135498, 12.477988243103027, 6.564300060272217, 8.652045249938965, 6.593094825744629, 11.264263153076172, 8.837928771972656, 8.45999526977539, 7.204531192779541, 8.301323890686035, 8.190305709838867, 7.381420135498047, 8.140918731689453, 7.923349380493164, 7.5616984367370605, 7.25707483291626, 6.846189498901367, 5.3548479080200195, 5.354406833648682, 4.606545925140381, 3.8693161010742188, 3.868875741958618, 3.867769718170166, 3.8674206733703613, 3.1251089572906494, 3.124359607696533, 3.1241111755371094, 3.1241490840911865, 3.1230363845825195, 3.122621536254883, 3.122218132019043, 3.1219799518585205, 3.0714995861053467, 2.3808798789978027, 2.380876302719116, 2.3808770179748535, 2.380873918533325, 2.3808069229125977, 2.380683183670044, 2.3803861141204834, 2.380289316177368, 2.380122423171997, 2.3800876140594482, 2.380070209503174, 2.3798444271087646, 2.3798251152038574, 4.6089186668396, 5.353904724121094, 3.8644092082977295, 4.600976467132568, 4.613439559936523, 4.611961841583252, 5.367788314819336, 8.347939491271973, 3.661980628967285, 9.77682113647461, 5.308050632476807, 6.8547444343566895, 25.831912994384766, 24.334949493408203, 14.852123260498047, 6.105410575866699, 12.993069648742676, 13.426115989685059, 5.359049320220947, 4.614265441894531, 4.608857154846191, 5.360753536224365, 6.763317108154297, 6.733281135559082, 12.801514625549316, 10.317056655883789, 6.77118444442749, 13.389815330505371, 10.058963775634766, 7.468420028686523, 6.087503433227539, 9.421545028686523, 5.359990119934082, 8.881746292114258, 6.425886631011963, 7.804592132568359, 6.1043381690979, 6.865931034088135, 8.041159629821777, 6.177114963531494, 6.850493431091309, 6.846839904785156, 7.3564133644104, 6.843123435974121, 6.249382495880127, 6.133375644683838, 6.7573628425598145, 5.2641682624816895, 3.821772575378418, 3.087811231613159, 3.0878050327301025, 3.0878074169158936, 3.0873022079467773, 3.086571455001831, 3.085883617401123, 3.08459210395813, 3.084092140197754, 3.0830976963043213, 3.0827014446258545, 3.0654780864715576, 2.3524742126464844, 2.3524727821350098, 2.3524701595306396, 2.352468729019165, 2.352468490600586, 2.352463960647583, 2.35239839553833, 2.3520288467407227, 2.351839780807495, 2.3516876697540283, 2.351720094680786, 2.3516287803649902, 2.3514797687530518, 2.351020574569702, 2.3507931232452393, 2.3506722450256348, 4.556753635406494, 6.0282745361328125, 6.768321514129639, 5.205751895904541, 3.817997932434082, 3.8205740451812744, 3.8236279487609863, 10.156435012817383, 4.530056953430176, 3.27734112739563, 6.761044025421143, 5.276566505432129, 9.712790489196777, 4.549271106719971, 3.8238368034362793, 2.7462522983551025, 3.0878281593322754, 10.956287384033203, 12.632369995117188, 13.039647102355957, 9.710837364196777, 9.922411918640137, 9.913874626159668, 10.445313453674316, 10.625855445861816, 5.236048221588135, 7.4991631507873535, 5.184196949005127, 5.277239799499512, 9.01354694366455, 7.501130104064941, 10.918684959411621, 8.129758834838867, 11.621150016784668, 6.030364036560059, 8.086105346679688, 6.75338888168335, 6.031459808349609, 7.741838455200195, 8.107967376708984, 7.806715965270996, 6.2297773361206055, 6.508366584777832, 5.987029075622559, 5.161625385284424, 5.1309614181518555, 4.442884922027588, 4.430248737335205, 3.732879638671875, 3.732698440551758, 3.0149660110473633, 3.014953374862671, 3.014569044113159, 3.014408826828003, 3.013514518737793, 3.013465166091919, 3.0115625858306885, 3.0074963569641113, 2.2976558208465576, 2.2976531982421875, 2.2976527214050293, 2.2976503372192383, 2.297637701034546, 2.2975430488586426, 2.2975149154663086, 2.297469139099121, 2.2974472045898438, 2.2974326610565186, 2.297433376312256, 2.297375440597534, 2.297250509262085, 2.297100305557251, 2.296875, 2.2966392040252686, 4.450552940368652, 10.52184772491455, 7.332174301147461, 8.0403413772583, 9.367544174194336, 4.163041114807129, 13.783326148986816, 4.45212459564209, 4.446053981781006, 14.841950416564941, 5.06523323059082, 8.052999496459961, 12.25533390045166, 4.450408935546875, 4.453461647033691, 5.650251388549805, 5.892665386199951, 8.037649154663086, 7.331295490264893, 5.889346122741699, 5.169745445251465, 11.053569793701172, 15.664847373962402, 14.520489692687988, 7.322570323944092, 9.246909141540527, 7.808901786804199, 11.126803398132324, 9.719246864318848, 10.638830184936523, 6.398094177246094, 7.619456768035889, 7.302156925201416, 7.520081043243408, 7.418728828430176, 8.412264823913574, 6.478109836578369, 5.831919193267822, 5.817722320556641, 6.15691614151001, 5.890557765960693], \"Term\": [\"obama\", \"clinton\", \"sen\", \"military\", \"bush\", \"embassy\", \"war\", \"marine\", \"soldier\", \"vote\", \"life\", \"llary\", \"base\", \"barack\", \"russian\", \"police\", \"stiles\", \"chad\", \"troops\", \"students\", \"vick\", \"family\", \"hurricane\", \"crash\", \"arrested\", \"percent\", \"fritzl\", \"ecuador\", \"area\", \"bank\", \"clinton\", \"llary\", \"bhutto\", \"pope\", \"ryan\", \"ronaldo\", \"embassy\", \"romney\", \"chavez\", \"primary\", \"bell\", \"midfielder\", \"jena\", \"debate\", \"delegates\", \"uribe\", \"rage\", \"baku\", \"alicia\", \"beef\", \"marry\", \"serbia\", \"surgery\", \"patches\", \"flames\", \"retail\", \"benedict\", \"linda\", \"cruise\", \"alshaya\", \"sen\", \"obama\", \"office\", \"barack\", \"brown\", \"democratic\", \"vote\", \"taylor\", \"edwards\", \"america\", \"democrats\", \"open\", \"voters\", \"candidate\", \"russian\", \"brazilian\", \"bush\", \"percent\", \"tuesday\", \"campaign\", \"manchester\", \"attacks\", \"year\", \"time\", \"president\", \"face\", \"wins\", \"people\", \"died\", \"john\", \"oil\", \"wte\", \"government\", \"official\", \"house\", \"united\", \"iraq\", \"police\", \"death\", \"calls\", \"robbery\", \"simpson\", \"paper\", \"nasr\", \"pilot\", \"fay\", \"lafave\", \"islamist\", \"sister\", \"atkins\", \"convicts\", \"brain\", \"probation\", \"warning\", \"experience\", \"wmd\", \"minor\", \"mann\", \"mcgrath\", \"wine\", \"capsule\", \"arm\", \"grenades\", \"revolutionary\", \"hanged\", \"voting\", \"nominations\", \"coup\", \"sanchez\", \"miller\", \"wounds\", \"shooting\", \"blackwater\", \"musharraf\", \"fighters\", \"somalia\", \"hurricane\", \"web\", \"storm\", \"murder\", \"australia\", \"armed\", \"led\", \"lebanon\", \"mph\", \"police\", \"aid\", \"mccain\", \"men\", \"iraqi\", \"food\", \"iraq\", \"company\", \"wife\", \"cldren\", \"killed\", \"military\", \"leader\", \"shot\", \"state\", \"obama\", \"charged\", \"people\", \"site\", \"family\", \"victim\", \"president\", \"government\", \"man\", \"plane\", \"officials\", \"cnn\", \"south\", \"official\", \"years\", \"day\", \"yearold\", \"chad\", \"bout\", \"dogs\", \"freedom\", \"snow\", \"israeli\", \"fayed\", \"boys\", \"presidents\", \"compared\", \"dodi\", \"fallon\", \"transfer\", \"duesseldorf\", \"buses\", \"hamas\", \"veto\", \"constitution\", \"choice\", \"halo\", \"roberts\", \"sanrio\", \"rezko\", \"cards\", \"proposed\", \"algeria\", \"nicolas\", \"atm\", \"viktor\", \"sailors\", \"japanese\", \"japan\", \"thailand\", \"jury\", \"ice\", \"corruption\", \"sudan\", \"crash\", \"readers\", \"leaders\", \"protest\", \"election\", \"president\", \"police\", \"bush\", \"east\", \"government\", \"years\", \"crime\", \"decision\", \"blast\", \"middle\", \"left\", \"photos\", \"killed\", \"group\", \"investigation\", \"people\", \"death\", \"girl\", \"french\", \"officials\", \"seed\", \"man\", \"iran\", \"house\", \"son\", \"mother\", \"year\", \"victims\", \"calls\", \"city\", \"iraq\", \"official\", \"charges\", \"states\", \"stiles\", \"place\", \"artifact\", \"penn\", \"trains\", \"gao\", \"confessed\", \"pair\", \"pkk\", \"interests\", \"written\", \"exgirlfriend\", \"exbition\", \"navarrette\", \"rossi\", \"winkler\", \"pole\", \"indymac\", \"burst\", \"gupta\", \"nowak\", \"patino\", \"accidents\", \"ghly\", \"ebay\", \"complete\", \"witnesses\", \"mainstream\", \"doors\", \"sports\", \"witness\", \"mom\", \"bank\", \"sentenced\", \"illness\", \"chester\", \"inter\", \"life\", \"incest\", \"austrian\", \"vick\", \"spent\", \"security\", \"sentence\", \"paris\", \"model\", \"wildlife\", \"day\", \"cnn\", \"years\", \"woman\", \"report\", \"family\", \"man\", \"cldren\", \"fritzl\", \"thursday\", \"plan\", \"opposition\", \"group\", \"iraqi\", \"iraq\", \"charges\", \"people\", \"school\", \"percent\", \"daughter\", \"experts\", \"killed\", \"police\", \"president\", \"city\", \"year\", \"men\", \"ecuador\", \"gibbons\", \"burned\", \"counties\", \"canadian\", \"blaze\", \"damaged\", \"bupa\", \"kandahar\", \"singapore\", \"burrell\", \"commitment\", \"wimunc\", \"gillian\", \"stufflebeem\", \"cutts\", \"bees\", \"jimenez\", \"nckley\", \"sin\", \"bangladesh\", \"hwa\", \"dee\", \"mars\", \"disclosed\", \"peterson\", \"structures\", \"anbar\", \"lantos\", \"complex\", \"damage\", \"marine\", \"students\", \"base\", \"soldier\", \"arson\", \"war\", \"mission\", \"warren\", \"military\", \"mugabe\", \"flight\", \"troops\", \"canada\", \"destroyed\", \"italy\", \"area\", \"arrested\", \"homes\", \"bus\", \"nato\", \"officials\", \"police\", \"people\", \"air\", \"family\", \"reports\", \"killed\", \"official\", \"iraq\", \"afghanistan\", \"house\", \"city\", \"died\", \"death\", \"president\", \"state\", \"incident\", \"called\", \"year\", \"sunday\"], \"Total\": [72.0, 49.0, 36.0, 31.0, 45.0, 18.0, 25.0, 14.0, 14.0, 20.0, 16.0, 11.0, 11.0, 14.0, 16.0, 84.0, 7.0, 7.0, 27.0, 10.0, 11.0, 32.0, 14.0, 14.0, 19.0, 33.0, 10.0, 5.0, 11.0, 9.0, 49.64023208618164, 11.013216972351074, 7.8558220863342285, 7.067020893096924, 6.277101516723633, 5.486321449279785, 18.792640686035156, 5.478216648101807, 4.697405815124512, 4.697359085083008, 4.697327136993408, 4.6973090171813965, 4.696779251098633, 9.381351470947266, 4.6915764808654785, 3.9074835777282715, 3.9074811935424805, 3.9074745178222656, 3.907475709915161, 3.907472610473633, 3.9074461460113525, 3.907437324523926, 3.907437562942505, 3.907402515411377, 3.9074008464813232, 3.907407760620117, 3.907335042953491, 3.9073245525360107, 3.9073355197906494, 3.907390594482422, 36.760860443115234, 72.02025604248047, 8.598173141479492, 14.860573768615723, 10.934346199035645, 14.777544021606445, 20.97919273376465, 7.031668663024902, 6.991814613342285, 7.004251480102539, 12.420777320861816, 10.889331817626953, 8.549412727355957, 7.010017395019531, 16.26897430419922, 9.29869556427002, 45.32611083984375, 33.68266677856445, 22.38359260559082, 21.633304595947266, 8.5514497756958, 18.34712791442871, 42.48414993286133, 29.037189483642578, 80.20362091064453, 16.06237030029297, 12.33275032043457, 74.48906707763672, 32.54153823852539, 20.719499588012695, 13.09246826171875, 16.12673568725586, 37.92192077636719, 42.09210968017578, 29.39126205444336, 23.628173828125, 56.9481201171875, 84.46088409423828, 39.055946350097656, 27.257125854492188, 6.034053325653076, 5.278910160064697, 5.278894424438477, 5.27883768081665, 5.2781548500061035, 5.278301239013672, 4.52374267578125, 4.523756504058838, 4.523676872253418, 4.523327827453613, 3.7685837745666504, 3.768380880355835, 3.768517255783081, 3.7682461738586426, 3.7682485580444336, 3.0133931636810303, 3.0133912563323975, 3.0133919715881348, 3.0133914947509766, 3.0133798122406006, 3.013381242752075, 3.0133895874023438, 3.0133910179138184, 3.0133886337280273, 3.0134003162384033, 3.0133659839630127, 3.013417959213257, 3.013420343399048, 3.0134263038635254, 3.013430595397949, 3.7703943252563477, 6.0135626792907715, 7.504097938537598, 9.817721366882324, 5.312603950500488, 8.242660522460938, 14.321974754333496, 7.536375522613525, 11.287524223327637, 16.543851852416992, 9.048544883728027, 6.823779106140137, 10.421069145202637, 7.492441654205322, 7.483756065368652, 84.46088409423828, 13.435443878173828, 24.264163970947266, 22.47614860534668, 23.9034423828125, 13.592074394226074, 56.9481201171875, 22.438222885131836, 20.15880012512207, 38.98463439941406, 49.85976028442383, 31.053855895996094, 21.091772079467773, 18.366539001464844, 31.447895050048828, 72.02025604248047, 19.521522521972656, 74.48906707763672, 14.346829414367676, 32.55058288574219, 14.901780128479004, 80.20362091064453, 37.92192077636719, 37.2183723449707, 21.029895782470703, 40.99102783203125, 38.998680114746094, 25.704288482666016, 42.09210968017578, 42.62274932861328, 30.72334861755371, 24.23607635498047, 7.445919990539551, 5.957389831542969, 5.957592964172363, 5.212612152099609, 4.469047546386719, 4.469040393829346, 4.4690070152282715, 4.4690842628479, 3.724834442138672, 3.724813222885132, 3.7248075008392334, 3.724874973297119, 3.7248058319091797, 3.724907875061035, 3.724761962890625, 3.7247138023376465, 3.7237346172332764, 2.980605125427246, 2.980602264404297, 2.9806034564971924, 2.980604887008667, 2.9805960655212402, 2.9805760383605957, 2.980581760406494, 2.9805824756622314, 2.9805874824523926, 2.980583429336548, 2.980574607849121, 2.9805657863616943, 2.980595111846924, 5.947950839996338, 7.393406391143799, 5.222963333129883, 6.648426055908203, 6.683374404907227, 6.71989631652832, 8.2843017578125, 14.853601455688477, 5.196950435638428, 18.630029678344727, 8.920135498046875, 12.704574584960938, 80.20362091064453, 84.46088409423828, 45.32611083984375, 11.169490814208984, 37.92192077636719, 42.62274932861328, 9.564569473266602, 7.41840934753418, 7.403467178344727, 9.72006893157959, 14.840215682983398, 14.897491455078125, 49.85976028442383, 34.43586730957031, 15.850604057312012, 74.48906707763672, 39.055946350097656, 21.576343536376953, 13.357011795043945, 40.99102783203125, 9.85098934173584, 37.2183723449707, 16.436098098754883, 29.39126205444336, 14.20437240600586, 23.125133514404297, 42.48414993286133, 15.785287857055664, 27.257125854492188, 28.31353187561035, 56.9481201171875, 42.09210968017578, 29.98979377746582, 21.168838500976562, 7.365868091583252, 5.893349647521973, 4.424686431884766, 3.6893150806427, 3.6893110275268555, 3.689314126968384, 3.689321756362915, 3.6893441677093506, 3.689366579055786, 3.6891744136810303, 3.6890549659729004, 3.6892035007476807, 3.6892693042755127, 3.6884562969207764, 2.95397686958313, 2.9539754390716553, 2.9539740085601807, 2.953972816467285, 2.953972816467285, 2.9539692401885986, 2.95397686958313, 2.9539663791656494, 2.953970193862915, 2.9539480209350586, 2.9540324211120605, 2.954019069671631, 2.953979969024658, 2.9540607929229736, 2.9540727138519287, 2.954041004180908, 5.903497695922852, 8.209527015686035, 9.699141502380371, 7.329346656799316, 5.142330169677734, 5.1789631843566895, 5.213504791259766, 16.94196891784668, 6.670279026031494, 4.463992595672607, 11.314327239990234, 8.911918640136719, 20.800128936767578, 7.409461975097656, 5.922518730163574, 3.693063259124756, 4.40690803527832, 30.72334861755371, 38.998680114746094, 42.62274932861328, 26.65965461730957, 29.248491287231445, 32.55058288574219, 37.2183723449707, 38.98463439941406, 10.427120208740234, 21.772512435913086, 10.407628059387207, 11.239045143127441, 34.43586730957031, 23.9034423828125, 56.9481201171875, 29.98979377746582, 74.48906707763672, 15.647234916687012, 33.68266677856445, 21.107412338256836, 16.351728439331055, 49.85976028442383, 84.46088409423828, 80.20362091064453, 28.31353187561035, 42.48414993286133, 22.47614860534668, 5.775251865386963, 5.777226448059082, 5.057300567626953, 5.058330535888672, 4.338995933532715, 4.339011192321777, 3.620800733566284, 3.620852470397949, 3.6208138465881348, 3.6208958625793457, 3.620877742767334, 3.6208512783050537, 3.6209542751312256, 3.621138095855713, 2.9025869369506836, 2.902585029602051, 2.902585029602051, 2.902583122253418, 2.902574300765991, 2.9025919437408447, 2.9025871753692627, 2.902594566345215, 2.9025959968566895, 2.902587652206421, 2.9025931358337402, 2.9025979042053223, 2.9026083946228027, 2.90263295173645, 2.9026217460632324, 2.9026360511779785, 5.800717353820801, 14.510598182678223, 10.216224670410156, 11.647592544555664, 14.522100448608398, 5.874986171722412, 25.047706604003906, 6.566776752471924, 6.635507106781006, 31.053855895996094, 8.048956871032715, 15.517416954040527, 27.483829498291016, 7.322020530700684, 7.33372688293457, 10.338619232177734, 11.02626895904541, 19.809982299804688, 17.231428146362305, 11.822164535522461, 9.559467315673828, 40.99102783203125, 84.46088409423828, 74.48906707763672, 20.21612548828125, 32.55058288574219, 23.059906005859375, 49.85976028442383, 42.09210968017578, 56.9481201171875, 17.117027282714844, 29.39126205444336, 28.31353187561035, 32.54153823852539, 39.055946350097656, 80.20362091064453, 31.447895050048828, 15.430089950561523, 15.597766876220703, 42.48414993286133, 20.845857620239258], \"loglift\": [30.0, 29.0, 28.0, 27.0, 26.0, 25.0, 24.0, 23.0, 22.0, 21.0, 20.0, 19.0, 18.0, 17.0, 16.0, 15.0, 14.0, 13.0, 12.0, 11.0, 10.0, 9.0, 8.0, 7.0, 6.0, 5.0, 4.0, 3.0, 2.0, 1.0, 1.3214999437332153, 1.2985999584197998, 1.280900001525879, 1.2725000381469727, 1.2611000537872314, 1.242400050163269, 1.2411999702453613, 1.2279000282287598, 1.2258000373840332, 1.2257000207901, 1.225600004196167, 1.2254999876022339, 1.2242000102996826, 1.2071000337600708, 1.1993000507354736, 1.1964000463485718, 1.1964000463485718, 1.1964000463485718, 1.1963000297546387, 1.1963000297546387, 1.1962000131607056, 1.1962000131607056, 1.1962000131607056, 1.1960999965667725, 1.1959999799728394, 1.1958999633789062, 1.1958999633789062, 1.1958999633789062, 1.1958999633789062, 1.1957999467849731, 1.169700026512146, 1.1505000591278076, 1.1862000226974487, 1.1454999446868896, 1.1480000019073486, 1.1044000387191772, 1.079800009727478, 1.1478999853134155, 1.1467000246047974, 1.1348999738693237, 1.0536999702453613, 1.0592999458312988, 1.0856000185012817, 1.1132999658584595, 0.9837999939918518, 1.066499948501587, 0.7699000239372253, 0.7896999716758728, 0.857200026512146, 0.8482999801635742, 1.0751999616622925, 0.8334000110626221, 0.5224999785423279, 0.6467000246047974, 0.26739999651908875, 0.830299973487854, 0.9212999939918518, 0.16220000386238098, 0.4587000012397766, 0.6690000295639038, 0.8725000023841858, 0.7497000098228455, 0.21050000190734863, 0.13369999825954437, 0.3560999929904938, 0.459199994802475, -0.2328999936580658, -0.6179999709129333, 0.005499999970197678, 0.30090001225471497, 1.4783999919891357, 1.462499976158142, 1.4622999429702759, 1.4621000289916992, 1.4594000577926636, 1.458799958229065, 1.4408999681472778, 1.4407999515533447, 1.4404000043869019, 1.4394999742507935, 1.4098999500274658, 1.4092999696731567, 1.4091999530792236, 1.4076999425888062, 1.4071999788284302, 1.3617000579833984, 1.3617000579833984, 1.3617000579833984, 1.3617000579833984, 1.3617000579833984, 1.3617000579833984, 1.3617000579833984, 1.3617000579833984, 1.3617000579833984, 1.3616000413894653, 1.3615000247955322, 1.3614000082015991, 1.3614000082015991, 1.3614000082015991, 1.3614000082015991, 1.3550000190734863, 1.3319000005722046, 1.2604999542236328, 1.202299952507019, 1.280400037765503, 1.202299952507019, 1.1124999523162842, 1.2091000080108643, 1.0752999782562256, 0.9293000102043152, 1.0735000371932983, 1.1471999883651733, 1.0282000303268433, 1.1124999523162842, 1.1098999977111816, 0.3521000146865845, 0.9229000210762024, 0.7253000140190125, 0.7502999901771545, 0.6973000168800354, 0.9120000004768372, 0.34130001068115234, 0.6930999755859375, 0.7142999768257141, 0.38530001044273376, 0.22310000658035278, 0.43639999628067017, 0.6159999966621399, 0.6765999794006348, 0.3553999960422516, -0.15150000154972076, 0.6287000179290771, -0.20399999618530273, 0.8008999824523926, 0.25769999623298645, 0.767300009727478, -0.38019999861717224, 0.12630000710487366, 0.10130000114440918, 0.5115000009536743, -0.0142000000923872, 0.022199999541044235, 0.33500000834465027, -0.06019999831914902, -0.0997999981045723, 0.18080000579357147, 0.37689998745918274, 1.565999984741211, 1.5434000492095947, 1.5432000160217285, 1.5263999700546265, 1.5059000253677368, 1.5058000087738037, 1.5054999589920044, 1.5053999423980713, 1.4744000434875488, 1.4742000102996826, 1.4740999937057495, 1.4740999937057495, 1.4737999439239502, 1.4736000299453735, 1.4735000133514404, 1.4735000133514404, 1.4573999643325806, 1.4253000020980835, 1.4253000020980835, 1.4253000020980835, 1.4253000020980835, 1.4253000020980835, 1.4253000020980835, 1.4250999689102173, 1.4250999689102173, 1.4249999523162842, 1.4249999523162842, 1.4249999523162842, 1.4249000549316406, 1.4249000549316406, 1.3948999643325806, 1.3272000551223755, 1.3487000465393066, 1.2819000482559204, 1.2792999744415283, 1.2735999822616577, 1.215999960899353, 1.073799967765808, 1.2999000549316406, 1.0052000284194946, 1.1309000253677368, 1.0329999923706055, 0.5170000195503235, 0.40560001134872437, 0.5342000126838684, 1.0460000038146973, 0.5788999795913696, 0.49480000138282776, 1.0707000494003296, 1.1751999855041504, 1.1759999990463257, 1.054900050163269, 0.8641999959945679, 0.85589998960495, 0.29030001163482666, 0.4447000026702881, 0.7994999885559082, -0.06620000302791595, 0.29350000619888306, 0.5891000032424927, 0.8641999959945679, 0.17960000038146973, 1.0413999557495117, 0.21719999611377716, 0.7107999920845032, 0.3240000009536743, 0.805400013923645, 0.43560001254081726, -0.014600000344216824, 0.7117999792098999, 0.26899999380111694, 0.2303999960422516, -0.39660000801086426, -0.16660000383853912, 0.08160000294446945, 0.41119998693466187, 1.6200000047683716, 1.5932999849319458, 1.5597000122070312, 1.5282000303268433, 1.5282000303268433, 1.5282000303268433, 1.5281000137329102, 1.5277999639511108, 1.5276000499725342, 1.5271999835968018, 1.5270999670028687, 1.5267000198364258, 1.5266000032424927, 1.5211999416351318, 1.4785000085830688, 1.4785000085830688, 1.4785000085830688, 1.4785000085830688, 1.4785000085830688, 1.4785000085830688, 1.4785000085830688, 1.4782999753952026, 1.4782999753952026, 1.4781999588012695, 1.4781999588012695, 1.4780999422073364, 1.4780999422073364, 1.4779000282287598, 1.4778000116348267, 1.4776999950408936, 1.4472999572753906, 1.3974000215530396, 1.3464000225067139, 1.3640999794006348, 1.408400058746338, 1.4019999504089355, 1.3961999416351318, 1.1944999694824219, 1.3193000555038452, 1.3971999883651733, 1.1913000345230103, 1.1821000576019287, 0.9447000026702881, 1.218400001525879, 1.2687000036239624, 1.409999966621399, 1.3504999876022339, 0.6751000285148621, 0.5788999795913696, 0.5217999815940857, 0.6963000297546387, 0.6251999735832214, 0.517300009727478, 0.43560001254081726, 0.40630000829696655, 1.0174000263214111, 0.6403999924659729, 1.0092999935150146, 0.9502000212669373, 0.36579999327659607, 0.5472000241279602, 0.054499998688697815, 0.4009000062942505, -0.15160000324249268, 0.7526999711990356, 0.2793999910354614, 0.5666000247001648, 0.708899974822998, -0.15639999508857727, -0.6371999979019165, -0.6233999729156494, 0.19220000505447388, -0.16979999840259552, 0.3833000063896179, 1.6931999921798706, 1.686900019645691, 1.6759999990463257, 1.6729999780654907, 1.6550999879837036, 1.6549999713897705, 1.6224000453948975, 1.6224000453948975, 1.6223000288009644, 1.6222000122070312, 1.621899962425232, 1.621899962425232, 1.6212999820709229, 1.6198999881744385, 1.5717999935150146, 1.5717999935150146, 1.5717999935150146, 1.5717999935150146, 1.5717999935150146, 1.5717999935150146, 1.5717999935150146, 1.5717999935150146, 1.5716999769210815, 1.5716999769210815, 1.5716999769210815, 1.5716999769210815, 1.5716999769210815, 1.5715999603271484, 1.5714999437332153, 1.5714000463485718, 1.5405999422073364, 1.4840999841690063, 1.4737999439239502, 1.4349000453948975, 1.3671000003814697, 1.4610999822616577, 1.2081999778747559, 1.4169000387191772, 1.4050999879837036, 1.0672999620437622, 1.3423999547958374, 1.1496000289916992, 0.9979000091552734, 1.3077000379562378, 1.3068000078201294, 1.2014000415802002, 1.1790000200271606, 0.9035000205039978, 0.9509999752044678, 1.1087000370025635, 1.1907999515533447, 0.4950000047683716, 0.12070000171661377, 0.1704999953508377, 0.7900000214576721, 0.546999990940094, 0.7226999998092651, 0.30570000410079956, 0.33980000019073486, 0.12790000438690186, 0.8215000033378601, 0.45559999346733093, 0.4503999948501587, 0.34060001373291016, 0.1446000039577484, -0.44929999113082886, 0.225600004196167, 0.8325999975204468, 0.8192999958992004, -0.12600000202655792, 0.541700005531311], \"logprob\": [30.0, 29.0, 28.0, 27.0, 26.0, 25.0, 24.0, 23.0, 22.0, 21.0, 20.0, 19.0, 18.0, 17.0, 16.0, 15.0, 14.0, 13.0, 12.0, 11.0, 10.0, 9.0, 8.0, 7.0, 6.0, 5.0, 4.0, 3.0, 2.0, 1.0, -4.808700084686279, -6.337299823760986, -6.69290018081665, -6.807000160217285, -6.936999797821045, -7.090400218963623, -5.860300064086914, -7.106299877166748, -7.2621002197265625, -7.26230001449585, -7.262499809265137, -7.262499809265137, -7.263899803161621, -6.589200019836426, -7.289999961853027, -7.4756999015808105, -7.4756999015808105, -7.4756999015808105, -7.475800037384033, -7.475800037384033, -7.475900173187256, -7.475900173187256, -7.47599983215332, -7.47599983215332, -7.476099967956543, -7.476200103759766, -7.476200103759766, -7.47629976272583, -7.47629976272583, -7.47629976272583, -5.260900020599365, -4.607600212097168, -6.697199821472168, -6.190700054168701, -6.495100021362305, -6.237500190734863, -5.911600112915039, -6.936699867248535, -6.94350004196167, -6.95359992980957, -6.461900234222412, -6.5879998207092285, -6.803500175476074, -6.974299907684326, -6.261899948120117, -6.738699913024902, -5.451200008392334, -5.728300094604492, -6.069399833679199, -6.112400054931641, -6.813700199127197, -6.292099952697754, -5.763400077819824, -6.019700050354004, -5.3831000328063965, -6.428199768066406, -6.601399898529053, -5.562099933624268, -6.093800067901611, -6.33489990234375, -6.5904998779296875, -6.504799842834473, -6.188899993896484, -6.161499977111816, -6.2982001304626465, -6.413400173187256, -6.2256999015808105, -6.216700077056885, -6.364500045776367, -6.428800106048584, -6.759200096130371, -6.90880012512207, -6.908999919891357, -6.909200191497803, -6.9120001792907715, -6.912600040435791, -7.084700107574463, -7.084799766540527, -7.08519983291626, -7.08620023727417, -7.298399925231934, -7.299099922180176, -7.299099922180176, -7.300600051879883, -7.301199913024902, -7.570199966430664, -7.570199966430664, -7.570199966430664, -7.570199966430664, -7.570199966430664, -7.570199966430664, -7.570199966430664, -7.570300102233887, -7.570300102233887, -7.570400238037109, -7.570400238037109, -7.570499897003174, -7.570499897003174, -7.570499897003174, -7.570499897003174, -7.35290002822876, -6.908999919891357, -6.758999824523926, -6.548500061035156, -7.08459997177124, -6.723400115966797, -6.260700225830078, -6.80620002746582, -6.535999774932861, -6.299699783325195, -6.758900165557861, -6.967400074005127, -6.663000106811523, -6.908599853515625, -6.912399768829346, -5.246600151062012, -6.514200210571289, -6.120699882507324, -6.1722002029418945, -6.163700103759766, -6.513500213623047, -5.651500225067139, -6.231100082397461, -6.3171000480651855, -5.986499786376953, -5.902699947357178, -6.162899971008301, -6.370200157165527, -6.44789981842041, -6.231299877166748, -5.9095001220703125, -6.434800148010254, -5.928299903869629, -6.5706000328063965, -6.29449987411499, -6.566199779510498, -6.030600070953369, -6.273200035095215, -6.31689977645874, -6.47760009765625, -6.3358001708984375, -6.349299907684326, -6.4532999992370605, -6.355400085449219, -6.382500171661377, -6.429200172424316, -6.470300197601318, -6.461299896240234, -6.706999778747559, -6.707099914550781, -6.857500076293945, -7.031899929046631, -7.032100200653076, -7.032299995422363, -7.032400131225586, -7.245500087738037, -7.245800018310547, -7.2459001541137695, -7.2459001541137695, -7.246200084686279, -7.246300220489502, -7.246500015258789, -7.246500015258789, -7.262800216674805, -7.517499923706055, -7.517499923706055, -7.517499923706055, -7.517499923706055, -7.517600059509277, -7.517600059509277, -7.5177998542785645, -7.5177998542785645, -7.517899990081787, -7.517899990081787, -7.517899990081787, -7.51800012588501, -7.51800012588501, -6.85699987411499, -6.707200050354004, -7.033199787139893, -6.858699798583984, -6.855999946594238, -6.856400012969971, -6.704599857330322, -6.263000011444092, -7.086999893188477, -6.105000019073486, -6.715799808502197, -6.460100173950195, -5.133399963378906, -5.1930999755859375, -5.6869001388549805, -6.575799942016602, -5.8206000328063965, -5.787799835205078, -6.706200122833252, -6.855899810791016, -6.85699987411499, -6.705900192260742, -6.473499774932861, -6.478000164031982, -5.8354997634887695, -6.051199913024902, -6.472300052642822, -5.790500164031982, -6.076600074768066, -6.374300003051758, -6.578800201416016, -6.142000198364258, -6.706099987030029, -6.201000213623047, -6.524700164794922, -6.3302998542785645, -6.576000213623047, -6.458399772644043, -6.3003997802734375, -6.564199924468994, -6.460700035095215, -6.46120023727417, -6.389400005340576, -6.4618000984191895, -6.552499771118164, -6.571300029754639, -6.4182000160217285, -6.667900085449219, -6.988100051879883, -7.201300144195557, -7.201300144195557, -7.201300144195557, -7.201499938964844, -7.201700210571289, -7.202000141143799, -7.202400207519531, -7.202499866485596, -7.202899932861328, -7.203000068664551, -7.208600044250488, -7.473299980163574, -7.473299980163574, -7.473299980163574, -7.473299980163574, -7.473299980163574, -7.473299980163574, -7.473400115966797, -7.473499774932861, -7.473599910736084, -7.473700046539307, -7.473599910736084, -7.473700046539307, -7.473700046539307, -7.473899841308594, -7.473999977111816, -7.474100112915039, -6.81220006942749, -6.532299995422363, -6.416500091552734, -6.678999900817871, -6.989099979400635, -6.988399982452393, -6.987599849700928, -6.010700225830078, -6.8180999755859375, -7.1417999267578125, -6.417600154876709, -6.665500164031982, -6.055300235748291, -6.813799858093262, -6.987500190734863, -7.318600177764893, -7.201300144195557, -5.934899806976318, -5.792500019073486, -5.760799884796143, -6.055500030517578, -6.033999919891357, -6.034900188446045, -5.982600212097168, -5.9654998779296875, -6.6732001304626465, -6.314000129699707, -6.683199882507324, -6.66540002822876, -6.130099773406982, -6.313700199127197, -5.938300132751465, -6.23330020904541, -5.875999927520752, -6.5320000648498535, -6.23859977722168, -6.418700218200684, -6.531799793243408, -6.282199859619141, -6.235899925231934, -6.273799896240234, -6.499499797821045, -6.455699920654297, -6.5391998291015625, -6.588200092315674, -6.594200134277344, -6.738100051879883, -6.741000175476074, -6.912300109863281, -6.912300109863281, -7.125899791717529, -7.125899791717529, -7.125999927520752, -7.125999927520752, -7.126299858093262, -7.126399993896484, -7.126999855041504, -7.128300189971924, -7.397600173950195, -7.397600173950195, -7.397600173950195, -7.397600173950195, -7.397600173950195, -7.397600173950195, -7.397600173950195, -7.397600173950195, -7.397600173950195, -7.39769983291626, -7.39769983291626, -7.39769983291626, -7.39769983291626, -7.397799968719482, -7.397900104522705, -7.3979997634887695, -6.736400127410889, -5.875999927520752, -6.237199783325195, -6.144999980926514, -5.992199897766113, -6.803199768066406, -5.605999946594238, -6.736100196838379, -6.737400054931641, -5.5320000648498535, -6.60699987411499, -6.143400192260742, -5.723499774932861, -6.736400127410889, -6.735799789428711, -6.497700214385986, -6.455699920654297, -6.145299911499023, -6.237299919128418, -6.456299781799316, -6.586599826812744, -5.826700210571289, -5.478000164031982, -5.553899765014648, -6.238500118255615, -6.005199909210205, -6.174200057983398, -5.820099830627441, -5.9552998542785645, -5.8649001121521, -6.3734002113342285, -6.198699951171875, -6.241300106048584, -6.211900234222412, -6.225399971008301, -6.099800109863281, -6.361000061035156, -6.466100215911865, -6.468500137329102, -6.411900043487549, -6.456099987030029]}, \"token.table\": {\"Topic\": [4, 1, 2, 3, 4, 5, 2, 3, 4, 5, 1, 3, 4, 5, 3, 1, 1, 1, 4, 5, 1, 3, 5, 2, 1, 2, 3, 1, 2, 3, 4, 5, 1, 5, 4, 2, 3, 1, 2, 3, 4, 5, 1, 2, 5, 1, 4, 1, 5, 1, 2, 4, 1, 2, 2, 4, 5, 1, 5, 1, 1, 1, 2, 4, 2, 3, 5, 5, 3, 3, 2, 1, 2, 5, 1, 2, 3, 5, 5, 5, 4, 1, 2, 4, 5, 3, 1, 2, 3, 4, 5, 1, 2, 3, 4, 5, 1, 2, 3, 4, 5, 1, 2, 3, 4, 2, 5, 5, 1, 3, 2, 3, 3, 1, 2, 3, 4, 5, 1, 2, 3, 4, 5, 1, 2, 4, 3, 1, 2, 3, 4, 5, 1, 2, 3, 4, 5, 1, 2, 4, 1, 2, 3, 4, 5, 5, 1, 2, 3, 4, 5, 3, 4, 5, 4, 3, 2, 1, 3, 5, 5, 2, 1, 2, 3, 5, 3, 4, 5, 1, 5, 3, 5, 5, 1, 2, 3, 4, 5, 1, 2, 3, 4, 5, 1, 2, 3, 4, 5, 1, 4, 3, 4, 5, 1, 1, 2, 4, 1, 2, 3, 5, 1, 3, 5, 1, 2, 3, 4, 5, 5, 3, 3, 4, 3, 1, 3, 4, 5, 4, 5, 1, 5, 1, 2, 3, 4, 1, 3, 5, 4, 4, 2, 1, 3, 4, 5, 1, 3, 4, 5, 3, 1, 2, 3, 4, 5, 2, 3, 1, 2, 1, 1, 2, 3, 4, 5, 1, 2, 4, 5, 3, 1, 2, 3, 4, 5, 2, 4, 4, 4, 5, 5, 1, 2, 3, 4, 5, 1, 2, 3, 4, 5, 2, 1, 2, 3, 4, 5, 4, 3, 3, 2, 1, 2, 3, 4, 5, 1, 2, 3, 4, 5, 1, 2, 4, 5, 3, 4, 4, 5, 2, 4, 1, 2, 3, 4, 5, 4, 1, 4, 4, 1, 2, 3, 4, 1, 2, 3, 4, 5, 1, 2, 3, 4, 5, 1, 2, 3, 4, 5, 2, 3, 1, 2, 3, 5, 3, 5, 3, 4, 1, 5, 1, 2, 3, 4, 5, 3, 5, 5, 1, 2, 3, 4, 5, 2, 5, 1, 2, 3, 5, 1, 2, 3, 4, 5, 2, 3, 4, 2, 3, 5, 1, 2, 3, 4, 5, 1, 2, 4, 5, 1, 1, 4, 1, 2, 3, 4, 5, 1, 3, 2, 2, 3, 4, 5, 1, 5, 1, 2, 3, 4, 5, 2, 1, 2, 3, 4, 5, 1, 2, 3, 4, 5, 1, 1, 2, 3, 5, 2, 2, 2, 5, 4, 1, 4, 1, 2, 3, 4, 5, 2, 4, 1, 3, 4, 5, 1, 2, 3, 4, 5, 1, 2, 3, 2, 1, 4, 5, 4, 5, 3, 2, 4, 1, 2, 3, 1, 3, 1, 2, 3, 4, 5, 1, 2, 3, 4, 5, 1, 3, 4, 1, 2, 3, 1, 3, 4, 4, 2, 2, 3, 4, 1, 4, 4, 1, 2, 3, 4, 5, 1, 2, 3, 4, 5, 5, 2, 3, 4, 2, 4, 4, 1, 2, 3, 4, 5, 1, 2, 3, 4, 5, 4, 1, 2, 3, 4, 5, 1, 1, 2, 3, 4, 5, 3, 1, 2, 3, 1, 3, 4, 5, 1, 3, 4, 1, 2, 3, 4, 5, 1, 2, 3, 4, 5, 1, 2, 3, 2, 3, 1, 1, 4, 1, 3, 1, 3, 2, 3, 1, 2, 3, 4, 5, 1, 2, 3, 4, 5, 1, 3, 4, 1, 2, 4, 1, 3, 4, 5, 4, 5, 1, 2, 4, 1, 2, 3, 5, 2, 5, 5, 2, 1, 2, 3, 4, 5, 3, 2, 4, 5, 2, 3, 5, 1, 2, 3, 4, 5, 1, 2, 3, 4, 5, 1, 2, 4, 5, 4, 1, 2, 3, 4, 5, 1, 2, 3, 4, 4, 1, 2, 3, 4, 5, 1, 2, 3, 5, 5, 1, 2, 3, 1, 2, 3, 4, 5, 1, 1, 2, 2, 3, 1, 2, 3, 4, 5, 1, 2, 3, 4, 5, 4, 3, 1, 2, 3, 4, 5, 1, 2, 3, 4, 1, 2, 3, 4, 1, 3, 1, 4, 2, 3, 4, 5, 1, 2, 3, 4, 5, 3, 1, 3, 5, 1, 2, 3, 2, 1, 2, 3, 5, 2, 1, 5, 1, 2, 5, 1, 2, 3, 5, 4, 5, 5, 2, 4, 1, 3, 4, 3, 4, 4, 2, 1, 2, 3, 4, 5, 2, 4, 1, 2, 3, 5, 1, 2, 3, 4, 5, 1, 2, 3, 4, 5, 1, 2, 3, 4, 5], \"Freq\": [0.6770548820495605, 0.2336854338645935, 0.058421358466148376, 0.2921068072319031, 0.058421358466148376, 0.35052815079689026, 0.5210099816322327, 0.2977199852466583, 0.07442999631166458, 0.14885999262332916, 0.3462582528591156, 0.2473273128271103, 0.04946546256542206, 0.3462582528591156, 0.6710086464881897, 0.7677590847015381, 0.76777583360672, 0.856622576713562, 0.1427704244852066, 0.6890295743942261, 0.09069251269102097, 0.2720775306224823, 0.5441550612449646, 0.6637043952941895, 0.1465463638305664, 0.5861854553222656, 0.1465463638305664, 0.05047960206866264, 0.15143880248069763, 0.10095920413732529, 0.30287760496139526, 0.40383681654930115, 0.17021316289901733, 0.6808526515960693, 0.9040188789367676, 0.8843047022819519, 0.6710115671157837, 0.599548876285553, 0.05450444296002388, 0.05450444296002388, 0.10900888592004776, 0.16351333260536194, 0.22103001177310944, 0.5525750517845154, 0.22103001177310944, 0.22401471436023712, 0.6720440983772278, 0.7677593231201172, 0.68904048204422, 0.20620381832122803, 0.10310190916061401, 0.7217133641242981, 0.8075058460235596, 0.13458430767059326, 0.17170929908752441, 0.08585464954376221, 0.6868371963500977, 0.7677596807479858, 0.6890409588813782, 0.8515480756759644, 0.7677867412567139, 0.8910588622093201, 0.6663026213645935, 0.26652103662490845, 0.13507184386253357, 0.6753592491149902, 0.27014368772506714, 0.9218690395355225, 0.8392937183380127, 0.8950379490852356, 0.7960978746414185, 0.7527937889099121, 0.10754196345806122, 0.10754196345806122, 0.8230944871902466, 0.09145494550466537, 0.09145494550466537, 0.8285341858863831, 0.7909358143806458, 0.8285284042358398, 0.6770542860031128, 0.2537606358528137, 0.08458688110113144, 0.16917376220226288, 0.5075212717056274, 0.8054205775260925, 0.5515584349632263, 0.044124677777290344, 0.3309350907802582, 0.044124677777290344, 0.022062338888645172, 0.19233521819114685, 0.1282234787940979, 0.1282234787940979, 0.19233521819114685, 0.3846704363822937, 0.3301888704299927, 0.2201259285211563, 0.25681358575820923, 0.03668765351176262, 0.14675061404705048, 0.6009253263473511, 0.18490009009838104, 0.13867506384849548, 0.04622502252459526, 0.27314865589141846, 0.5462973117828369, 0.9218722581863403, 0.7132650017738342, 0.14265300333499908, 0.6637062430381775, 0.6710099577903748, 0.9401121735572815, 0.15367653965950012, 0.409804105758667, 0.30735307931900024, 0.10245102643966675, 0.10245102643966675, 0.20006807148456573, 0.20006807148456573, 0.20006807148456573, 0.26675742864608765, 0.10003403574228287, 0.851533830165863, 0.1930888444185257, 0.7723553776741028, 0.6710053086280823, 0.21191281080245972, 0.07063759863376617, 0.2472316026687622, 0.21191281080245972, 0.2472316026687622, 0.1795579195022583, 0.3078135848045349, 0.1282556653022766, 0.28216245770454407, 0.10260453075170517, 0.9669576287269592, 0.020144950598478317, 0.020144950598478317, 0.20513515174388885, 0.20513515174388885, 0.15385136008262634, 0.33334460854530334, 0.10256757587194443, 0.8285344243049622, 0.133700430393219, 0.401101291179657, 0.133700430393219, 0.222834050655365, 0.133700430393219, 0.8054094910621643, 0.6770436763763428, 0.6890288591384888, 0.8131576180458069, 0.6710047125816345, 0.796055018901825, 0.14881181716918945, 0.7440590858459473, 0.14881181716918945, 0.7907747626304626, 0.6636976599693298, 0.13464747369289398, 0.06732373684644699, 0.5385898947715759, 0.26929494738578796, 0.522762656211853, 0.10455253720283508, 0.31365761160850525, 0.7677866220474243, 0.6890409588813782, 0.17239247262477875, 0.689569890499115, 0.8285459876060486, 0.33163705468177795, 0.14213016629219055, 0.04737672209739685, 0.33163705468177795, 0.14213016629219055, 0.195291206240654, 0.2603882849216461, 0.13019414246082306, 0.3580338954925537, 0.06509707123041153, 0.2560429573059082, 0.17923006415367126, 0.2560429573059082, 0.1280214786529541, 0.17923006415367126, 0.852755606174469, 0.10659445077180862, 0.6739989519119263, 0.269599586725235, 0.6890383362770081, 0.852591872215271, 0.7443726658821106, 0.06767024099826813, 0.13534048199653625, 0.7245923280715942, 0.08051025867462158, 0.08051025867462158, 0.08051025867462158, 0.13635632395744324, 0.2727126479148865, 0.545425295829773, 0.3994894027709961, 0.1843797266483307, 0.12291982024908066, 0.06145991012454033, 0.24583964049816132, 0.6890390515327454, 0.8054107427597046, 0.8392651081085205, 0.677031397819519, 0.8053890466690063, 0.1790591925382614, 0.537177562713623, 0.0895295962691307, 0.1790591925382614, 0.6770406365394592, 0.8657631278038025, 0.8581463098526001, 0.14302438497543335, 0.07871180772781372, 0.15742361545562744, 0.550982654094696, 0.15742361545562744, 0.9046094417572021, 0.05321231856942177, 0.05321231856942177, 0.8131691813468933, 0.8131836652755737, 0.7961258292198181, 0.183466836810112, 0.3057780861854553, 0.366933673620224, 0.183466836810112, 0.5603157877922058, 0.1245146244764328, 0.1245146244764328, 0.1245146244764328, 0.8053961396217346, 0.06144283339381218, 0.27649274468421936, 0.06144283339381218, 0.3072141706943512, 0.27649274468421936, 0.9472744464874268, 0.8950534462928772, 0.18823161721229553, 0.7529264688491821, 0.7677738070487976, 0.19333115220069885, 0.06444371491670609, 0.06444371491670609, 0.12888742983341217, 0.5155497193336487, 0.22071686387062073, 0.5150060057640076, 0.07357228547334671, 0.14714457094669342, 0.9592120051383972, 0.07486704736948013, 0.07486704736948013, 0.4492022693157196, 0.29946818947792053, 0.14973409473896027, 0.4795187711715698, 0.4795187711715698, 0.8131592869758606, 0.6770600080490112, 0.8654671907424927, 0.8284687995910645, 0.13904117047786713, 0.13904117047786713, 0.32442939281463623, 0.23173527419567108, 0.13904117047786713, 0.3164396584033966, 0.23732975125312805, 0.34280964732170105, 0.0527399443089962, 0.0527399443089962, 0.6637040972709656, 0.20327642560005188, 0.11615795642137527, 0.2903949022293091, 0.2613554000854492, 0.11615795642137527, 0.6770551204681396, 0.6710050702095032, 0.8054310083389282, 0.6637020707130432, 0.3482009768486023, 0.058033496141433716, 0.058033496141433716, 0.058033496141433716, 0.406234472990036, 0.37426090240478516, 0.068047434091568, 0.272189736366272, 0.034023717045784, 0.272189736366272, 0.1396455466747284, 0.628404974937439, 0.2094683200120926, 0.6890386939048767, 0.7481250762939453, 0.2992500364780426, 0.7778574824333191, 0.19446437060832977, 0.29983752965927124, 0.7495938539505005, 0.0648084357380867, 0.0648084357380867, 0.1944253146648407, 0.2592337429523468, 0.3888506293296814, 0.6770542860031128, 0.1918095499277115, 0.767238199710846, 0.8131900429725647, 0.25235632061958313, 0.18926723301410675, 0.4416235387325287, 0.12617816030979156, 0.12168338149785995, 0.2433667629957199, 0.36505013704299927, 0.18252506852149963, 0.12168338149785995, 0.21071811020374298, 0.2809574604034424, 0.12291889637708664, 0.19315826892852783, 0.19315826892852783, 0.08366996049880981, 0.4183497726917267, 0.12550494074821472, 0.33467984199523926, 0.08366996049880981, 0.8842208981513977, 0.8950467109680176, 0.19344943761825562, 0.09672471880912781, 0.19344943761825562, 0.5803483128547668, 0.6762782335281372, 0.27051129937171936, 0.8406256437301636, 0.16812512278556824, 0.8516474366188049, 0.6890414357185364, 0.4826371371746063, 0.3378460109233856, 0.04826371371746063, 0.04826371371746063, 0.09652742743492126, 0.752057671546936, 0.3008230924606323, 0.8285430073738098, 0.10028126835823059, 0.2607313096523285, 0.2607313096523285, 0.1604500263929367, 0.22061878442764282, 0.8842235803604126, 0.689032256603241, 0.23705926537513733, 0.37929481267929077, 0.14223556220531464, 0.18964740633964539, 0.0536767803132534, 0.2147071212530136, 0.5367677807807922, 0.1073535606265068, 0.1073535606265068, 0.6673392057418823, 0.13346783816814423, 0.26693567633628845, 0.5757566690444946, 0.19191889464855194, 0.19191889464855194, 0.06738446652889252, 0.13476893305778503, 0.4716912508010864, 0.13476893305778503, 0.20215339958667755, 0.05902501568198204, 0.11805003136396408, 0.5902501940727234, 0.23610006272792816, 0.7677887678146362, 0.9079999327659607, 0.6770341396331787, 0.10747380554676056, 0.21494761109352112, 0.24181605875492096, 0.2686845064163208, 0.16121070086956024, 0.7016354203224182, 0.2338784784078598, 0.6637039184570312, 0.06891514360904694, 0.13783028721809387, 0.06891514360904694, 0.7580665946006775, 0.7677649259567261, 0.6890403628349304, 0.28849127888679504, 0.4121304154396057, 0.08242608606815338, 0.16485217213630676, 0.04121304303407669, 0.663703978061676, 0.13347482681274414, 0.4449160695075989, 0.0889832153916359, 0.2669496536254883, 0.0889832153916359, 0.10287992656230927, 0.10287992656230927, 0.5143996477127075, 0.10287992656230927, 0.10287992656230927, 0.8515514135360718, 0.09660635888576508, 0.3220212161540985, 0.09660635888576508, 0.4830318093299866, 0.6636953949928284, 0.6637040376663208, 0.3045634329319, 0.6091268658638, 0.8123337626457214, 0.2436193972826004, 0.7308582067489624, 0.1297289878129959, 0.21621496975421906, 0.3027009665966034, 0.21621496975421906, 0.1297289878129959, 0.6681137084960938, 0.26724547147750854, 0.12423969805240631, 0.12423969805240631, 0.12423969805240631, 0.6211985349655151, 0.18133625388145447, 0.544008731842041, 0.06044541671872139, 0.06044541671872139, 0.18133625388145447, 0.10185662657022476, 0.7129964232444763, 0.20371325314044952, 0.9471781849861145, 0.20921668410301208, 0.20921668410301208, 0.5230417251586914, 0.8133484125137329, 0.6890435218811035, 0.6710095405578613, 0.6636981964111328, 0.6770533919334412, 0.8053289651870728, 0.18050476908683777, 0.013884983025491238, 0.8141264319419861, 0.11630377918481827, 0.28508904576301575, 0.1900593787431717, 0.16630195081233978, 0.11878710985183716, 0.23757421970367432, 0.1707690805196762, 0.19516466557979584, 0.21956023573875427, 0.12197791039943695, 0.26835140585899353, 0.611038327217102, 0.22913937270641327, 0.1527595818042755, 0.7346640229225159, 0.09183300286531448, 0.18366600573062897, 0.2669265866279602, 0.2669265866279602, 0.44487765431404114, 0.8131526708602905, 0.9471680521965027, 0.16884708404541016, 0.16884708404541016, 0.6753883361816406, 0.767773449420929, 0.6770557761192322, 0.8131590485572815, 0.29534536600112915, 0.1610974669456482, 0.1745222508907318, 0.1610974669456482, 0.20137183368206024, 0.5640883445739746, 0.059377722442150116, 0.059377722442150116, 0.23751088976860046, 0.059377722442150116, 0.6890379190444946, 0.2685015797615051, 0.46987777948379517, 0.2685015797615051, 0.9473007321357727, 0.8131477236747742, 0.8484139442443848, 0.0960833728313446, 0.1921667456626892, 0.1921667456626892, 0.480416864156723, 0.0960833728313446, 0.1902054101228714, 0.33285948634147644, 0.04755135253071785, 0.23775675892829895, 0.14265406131744385, 0.6770540475845337, 0.14207760989665985, 0.29599499702453613, 0.2841552197933197, 0.09471840411424637, 0.18943680822849274, 0.8490140438079834, 0.33664315938949585, 0.13715091347694397, 0.3241748809814453, 0.09974612295627594, 0.09974612295627594, 0.8054049015045166, 0.8515422940254211, 0.7960690855979919, 0.6710097789764404, 0.11210592091083527, 0.5605295896530151, 0.11210592091083527, 0.22421184182167053, 0.7677580118179321, 0.7696821689605713, 0.19242054224014282, 0.2735183835029602, 0.10256939381361008, 0.10256939381361008, 0.34189796447753906, 0.17094898223876953, 0.21682655811309814, 0.08673062175512314, 0.21682655811309814, 0.1300959289073944, 0.34692248702049255, 0.7677724361419678, 0.6637046337127686, 0.671011209487915, 0.8286303877830505, 0.6710047125816345, 0.9127057790756226, 0.9113574624061584, 0.6770533919334412, 0.6761335730552673, 0.30733343958854675, 0.9558551907539368, 0.6710069179534912, 0.6636963486671448, 0.6710067391395569, 0.06390905380249023, 0.3834543228149414, 0.06390905380249023, 0.3834543228149414, 0.12781810760498047, 0.14422987401485443, 0.14422987401485443, 0.09615325182676315, 0.480766236782074, 0.14422987401485443, 0.30453795194625854, 0.5075632333755493, 0.10151264816522598, 0.8160853385925293, 0.1088113784790039, 0.05440568923950195, 0.1349625587463379, 0.1349625587463379, 0.6748128533363342, 0.1349625587463379, 0.6821890473365784, 0.2728756070137024, 0.7677666544914246, 0.8314538598060608, 0.1662907749414444, 0.4355747103691101, 0.38112786412239075, 0.10889367759227753, 0.05444683879613876, 0.9471651911735535, 0.6890393495559692, 0.8285242319107056, 0.8842364549636841, 0.20910543203353882, 0.48791268467903137, 0.06970181316137314, 0.13940362632274628, 0.13940362632274628, 0.895045280456543, 0.06886056065559387, 0.2754422426223755, 0.6197450757026672, 0.7279202938079834, 0.12132005393505096, 0.12132005393505096, 0.21120257675647736, 0.14080171287059784, 0.4224051535129547, 0.14080171287059784, 0.14080171287059784, 0.3501361310482025, 0.27232810854911804, 0.1167120411992073, 0.07780802994966507, 0.19452007114887238, 0.11220928281545639, 0.22441856563091278, 0.5610464215278625, 0.11220928281545639, 0.6770386695861816, 0.1907917857170105, 0.28618767857551575, 0.1907917857170105, 0.12719452381134033, 0.1907917857170105, 0.28343549370765686, 0.23619623482227325, 0.28343549370765686, 0.23619623482227325, 0.9503292441368103, 0.08859338611364365, 0.6201537251472473, 0.1771867722272873, 0.1771867722272873, 0.6890354156494141, 0.09788351505994797, 0.09788351505994797, 0.09788351505994797, 0.6851845979690552, 0.6890405416488647, 0.2414204627275467, 0.12071023136377335, 0.6035511493682861, 0.14391347765922546, 0.2398558109998703, 0.2398558109998703, 0.09594232589006424, 0.2878269553184509, 0.7677665948867798, 0.8532825112342834, 0.14221376180648804, 0.1914621889591217, 0.7658487558364868, 0.2755768299102783, 0.09185894578695297, 0.13778841495513916, 0.3215062916278839, 0.13778841495513916, 0.48214033246040344, 0.24107016623020172, 0.0344385951757431, 0.1377543807029724, 0.10331578552722931, 0.8131599426269531, 0.8054111003875732, 0.2183101922273636, 0.1091550961136818, 0.14554013311862946, 0.07277006655931473, 0.4366203844547272, 0.6254581212997437, 0.13402673602104187, 0.17870232462882996, 0.04467558115720749, 0.4232235550880432, 0.16928942501544952, 0.2539341449737549, 0.16928942501544952, 0.7677575349807739, 0.8056427836418152, 0.3535340428352356, 0.6186845898628235, 0.4697425365447998, 0.20131823420524597, 0.26842430233955383, 0.06710607558488846, 0.3167506456375122, 0.0633501261472702, 0.3801007568836212, 0.0633501261472702, 0.1900503784418106, 0.6710135340690613, 0.7626604437828064, 0.1906651109457016, 0.0476662777364254, 0.7018026113510132, 0.1169670969247818, 0.1169670969247818, 0.6637096405029297, 0.11977144330739975, 0.15969525277614594, 0.15969525277614594, 0.558933436870575, 0.7961263060569763, 0.3014087677001953, 0.6028175354003906, 0.13268977403640747, 0.6634488701820374, 0.13268977403640747, 0.14881837368011475, 0.39684900641441345, 0.14881837368011475, 0.2976367473602295, 0.6807494163513184, 0.22691646218299866, 0.8285108804702759, 0.6637066006660461, 0.677053689956665, 0.6486793160438538, 0.16216982901096344, 0.16216982901096344, 0.16939111053943634, 0.8469555377960205, 0.6770526766777039, 0.6637036204338074, 0.03750986233353615, 0.22505918145179749, 0.18754932284355164, 0.37509864568710327, 0.18754932284355164, 0.7956727147102356, 0.8132163882255554, 0.5580794811248779, 0.12401765584945679, 0.24803531169891357, 0.062008827924728394, 0.4236874282360077, 0.07061456888914108, 0.18830552697181702, 0.164767324924469, 0.14122913777828217, 0.33008643984794617, 0.2888256311416626, 0.12378241121768951, 0.16504321992397308, 0.08252160996198654, 0.14076989889144897, 0.18769319355487823, 0.305001437664032, 0.305001437664032, 0.04692329838871956], \"Term\": [\"accidents\", \"afghanistan\", \"afghanistan\", \"afghanistan\", \"afghanistan\", \"afghanistan\", \"aid\", \"aid\", \"aid\", \"aid\", \"air\", \"air\", \"air\", \"air\", \"algeria\", \"alicia\", \"alshaya\", \"america\", \"america\", \"anbar\", \"area\", \"area\", \"area\", \"arm\", \"armed\", \"armed\", \"armed\", \"arrested\", \"arrested\", \"arrested\", \"arrested\", \"arrested\", \"arson\", \"arson\", \"artifact\", \"atkins\", \"atm\", \"attacks\", \"attacks\", \"attacks\", \"attacks\", \"attacks\", \"australia\", \"australia\", \"australia\", \"austrian\", \"austrian\", \"baku\", \"bangladesh\", \"bank\", \"bank\", \"bank\", \"barack\", \"barack\", \"base\", \"base\", \"base\", \"beef\", \"bees\", \"bell\", \"benedict\", \"bhutto\", \"blackwater\", \"blackwater\", \"blast\", \"blast\", \"blast\", \"blaze\", \"bout\", \"boys\", \"brain\", \"brazilian\", \"brazilian\", \"brazilian\", \"brown\", \"brown\", \"brown\", \"bupa\", \"burned\", \"burrell\", \"burst\", \"bus\", \"bus\", \"bus\", \"bus\", \"buses\", \"bush\", \"bush\", \"bush\", \"bush\", \"bush\", \"called\", \"called\", \"called\", \"called\", \"called\", \"calls\", \"calls\", \"calls\", \"calls\", \"calls\", \"campaign\", \"campaign\", \"campaign\", \"campaign\", \"canada\", \"canada\", \"canadian\", \"candidate\", \"candidate\", \"capsule\", \"cards\", \"chad\", \"charged\", \"charged\", \"charged\", \"charged\", \"charged\", \"charges\", \"charges\", \"charges\", \"charges\", \"charges\", \"chavez\", \"chester\", \"chester\", \"choice\", \"city\", \"city\", \"city\", \"city\", \"city\", \"cldren\", \"cldren\", \"cldren\", \"cldren\", \"cldren\", \"clinton\", \"clinton\", \"clinton\", \"cnn\", \"cnn\", \"cnn\", \"cnn\", \"cnn\", \"commitment\", \"company\", \"company\", \"company\", \"company\", \"company\", \"compared\", \"complete\", \"complex\", \"confessed\", \"constitution\", \"convicts\", \"corruption\", \"corruption\", \"corruption\", \"counties\", \"coup\", \"crash\", \"crash\", \"crash\", \"crash\", \"crime\", \"crime\", \"crime\", \"cruise\", \"cutts\", \"damage\", \"damage\", \"damaged\", \"daughter\", \"daughter\", \"daughter\", \"daughter\", \"daughter\", \"day\", \"day\", \"day\", \"day\", \"day\", \"death\", \"death\", \"death\", \"death\", \"death\", \"debate\", \"debate\", \"decision\", \"decision\", \"dee\", \"delegates\", \"democratic\", \"democratic\", \"democratic\", \"democrats\", \"democrats\", \"democrats\", \"democrats\", \"destroyed\", \"destroyed\", \"destroyed\", \"died\", \"died\", \"died\", \"died\", \"died\", \"disclosed\", \"dodi\", \"dogs\", \"doors\", \"duesseldorf\", \"east\", \"east\", \"east\", \"east\", \"ebay\", \"ecuador\", \"edwards\", \"edwards\", \"election\", \"election\", \"election\", \"election\", \"embassy\", \"embassy\", \"embassy\", \"exbition\", \"exgirlfriend\", \"experience\", \"experts\", \"experts\", \"experts\", \"experts\", \"face\", \"face\", \"face\", \"face\", \"fallon\", \"family\", \"family\", \"family\", \"family\", \"family\", \"fay\", \"fayed\", \"fighters\", \"fighters\", \"flames\", \"flight\", \"flight\", \"flight\", \"flight\", \"flight\", \"food\", \"food\", \"food\", \"food\", \"freedom\", \"french\", \"french\", \"french\", \"french\", \"french\", \"fritzl\", \"fritzl\", \"gao\", \"ghly\", \"gibbons\", \"gillian\", \"girl\", \"girl\", \"girl\", \"girl\", \"girl\", \"government\", \"government\", \"government\", \"government\", \"government\", \"grenades\", \"group\", \"group\", \"group\", \"group\", \"group\", \"gupta\", \"halo\", \"hamas\", \"hanged\", \"homes\", \"homes\", \"homes\", \"homes\", \"homes\", \"house\", \"house\", \"house\", \"house\", \"house\", \"hurricane\", \"hurricane\", \"hurricane\", \"hwa\", \"ice\", \"ice\", \"illness\", \"illness\", \"incest\", \"incest\", \"incident\", \"incident\", \"incident\", \"incident\", \"incident\", \"indymac\", \"inter\", \"inter\", \"interests\", \"investigation\", \"investigation\", \"investigation\", \"investigation\", \"iran\", \"iran\", \"iran\", \"iran\", \"iran\", \"iraq\", \"iraq\", \"iraq\", \"iraq\", \"iraq\", \"iraqi\", \"iraqi\", \"iraqi\", \"iraqi\", \"iraqi\", \"islamist\", \"israeli\", \"italy\", \"italy\", \"italy\", \"italy\", \"japan\", \"japan\", \"japanese\", \"japanese\", \"jena\", \"jimenez\", \"john\", \"john\", \"john\", \"john\", \"john\", \"jury\", \"jury\", \"kandahar\", \"killed\", \"killed\", \"killed\", \"killed\", \"killed\", \"lafave\", \"lantos\", \"leader\", \"leader\", \"leader\", \"leader\", \"leaders\", \"leaders\", \"leaders\", \"leaders\", \"leaders\", \"lebanon\", \"lebanon\", \"lebanon\", \"led\", \"led\", \"led\", \"left\", \"left\", \"left\", \"left\", \"left\", \"life\", \"life\", \"life\", \"life\", \"linda\", \"llary\", \"mainstream\", \"man\", \"man\", \"man\", \"man\", \"man\", \"manchester\", \"manchester\", \"mann\", \"marine\", \"marine\", \"marine\", \"marine\", \"marry\", \"mars\", \"mccain\", \"mccain\", \"mccain\", \"mccain\", \"mccain\", \"mcgrath\", \"men\", \"men\", \"men\", \"men\", \"men\", \"middle\", \"middle\", \"middle\", \"middle\", \"middle\", \"midfielder\", \"military\", \"military\", \"military\", \"military\", \"miller\", \"minor\", \"mission\", \"mission\", \"model\", \"mom\", \"mom\", \"mother\", \"mother\", \"mother\", \"mother\", \"mother\", \"mph\", \"mph\", \"mugabe\", \"mugabe\", \"mugabe\", \"mugabe\", \"murder\", \"murder\", \"murder\", \"murder\", \"murder\", \"musharraf\", \"musharraf\", \"musharraf\", \"nasr\", \"nato\", \"nato\", \"nato\", \"navarrette\", \"nckley\", \"nicolas\", \"nominations\", \"nowak\", \"obama\", \"obama\", \"obama\", \"office\", \"office\", \"official\", \"official\", \"official\", \"official\", \"official\", \"officials\", \"officials\", \"officials\", \"officials\", \"officials\", \"oil\", \"oil\", \"oil\", \"open\", \"open\", \"open\", \"opposition\", \"opposition\", \"opposition\", \"pair\", \"paper\", \"paris\", \"paris\", \"paris\", \"patches\", \"patino\", \"penn\", \"people\", \"people\", \"people\", \"people\", \"people\", \"percent\", \"percent\", \"percent\", \"percent\", \"percent\", \"peterson\", \"photos\", \"photos\", \"photos\", \"pilot\", \"pkk\", \"place\", \"plan\", \"plan\", \"plan\", \"plan\", \"plan\", \"plane\", \"plane\", \"plane\", \"plane\", \"plane\", \"pole\", \"police\", \"police\", \"police\", \"police\", \"police\", \"pope\", \"president\", \"president\", \"president\", \"president\", \"president\", \"presidents\", \"primary\", \"probation\", \"proposed\", \"protest\", \"protest\", \"protest\", \"protest\", \"rage\", \"readers\", \"readers\", \"report\", \"report\", \"report\", \"report\", \"report\", \"reports\", \"reports\", \"reports\", \"reports\", \"reports\", \"retail\", \"revolutionary\", \"rezko\", \"robbery\", \"roberts\", \"romney\", \"ronaldo\", \"rossi\", \"russian\", \"russian\", \"ryan\", \"sailors\", \"sanchez\", \"sanrio\", \"school\", \"school\", \"school\", \"school\", \"school\", \"security\", \"security\", \"security\", \"security\", \"security\", \"seed\", \"seed\", \"seed\", \"sen\", \"sen\", \"sen\", \"sentence\", \"sentence\", \"sentence\", \"sentence\", \"sentenced\", \"sentenced\", \"serbia\", \"shooting\", \"shooting\", \"shot\", \"shot\", \"shot\", \"shot\", \"simpson\", \"sin\", \"singapore\", \"sister\", \"site\", \"site\", \"site\", \"site\", \"site\", \"snow\", \"soldier\", \"soldier\", \"soldier\", \"somalia\", \"somalia\", \"somalia\", \"son\", \"son\", \"son\", \"son\", \"son\", \"south\", \"south\", \"south\", \"south\", \"south\", \"spent\", \"spent\", \"spent\", \"spent\", \"sports\", \"state\", \"state\", \"state\", \"state\", \"state\", \"states\", \"states\", \"states\", \"states\", \"stiles\", \"storm\", \"storm\", \"storm\", \"storm\", \"structures\", \"students\", \"students\", \"students\", \"students\", \"stufflebeem\", \"sudan\", \"sudan\", \"sudan\", \"sunday\", \"sunday\", \"sunday\", \"sunday\", \"sunday\", \"surgery\", \"taylor\", \"taylor\", \"thailand\", \"thailand\", \"thursday\", \"thursday\", \"thursday\", \"thursday\", \"thursday\", \"time\", \"time\", \"time\", \"time\", \"time\", \"trains\", \"transfer\", \"troops\", \"troops\", \"troops\", \"troops\", \"troops\", \"tuesday\", \"tuesday\", \"tuesday\", \"tuesday\", \"united\", \"united\", \"united\", \"united\", \"uribe\", \"veto\", \"vick\", \"vick\", \"victim\", \"victim\", \"victim\", \"victim\", \"victims\", \"victims\", \"victims\", \"victims\", \"victims\", \"viktor\", \"vote\", \"vote\", \"vote\", \"voters\", \"voters\", \"voters\", \"voting\", \"war\", \"war\", \"war\", \"war\", \"warning\", \"warren\", \"warren\", \"web\", \"web\", \"web\", \"wife\", \"wife\", \"wife\", \"wife\", \"wildlife\", \"wildlife\", \"wimunc\", \"wine\", \"winkler\", \"wins\", \"wins\", \"wins\", \"witness\", \"witness\", \"witnesses\", \"wmd\", \"woman\", \"woman\", \"woman\", \"woman\", \"woman\", \"wounds\", \"written\", \"wte\", \"wte\", \"wte\", \"wte\", \"year\", \"year\", \"year\", \"year\", \"year\", \"yearold\", \"yearold\", \"yearold\", \"yearold\", \"yearold\", \"years\", \"years\", \"years\", \"years\", \"years\"]}, \"R\": 30, \"lambda.step\": 0.01, \"plot.opts\": {\"xlab\": \"PC1\", \"ylab\": \"PC2\"}, \"topic.order\": [1, 4, 2, 3, 5]};\n",
       "\n",
       "function LDAvis_load_lib(url, callback){\n",
       "  var s = document.createElement('script');\n",
       "  s.src = url;\n",
       "  s.async = true;\n",
       "  s.onreadystatechange = s.onload = callback;\n",
       "  s.onerror = function(){console.warn(\"failed to load library \" + url);};\n",
       "  document.getElementsByTagName(\"head\")[0].appendChild(s);\n",
       "}\n",
       "\n",
       "if(typeof(LDAvis) !== \"undefined\"){\n",
       "   // already loaded: just create the visualization\n",
       "   !function(LDAvis){\n",
       "       new LDAvis(\"#\" + \"ldavis_el87421404864637690407678691574\", ldavis_el87421404864637690407678691574_data);\n",
       "   }(LDAvis);\n",
       "}else if(typeof define === \"function\" && define.amd){\n",
       "   // require.js is available: use it to load d3/LDAvis\n",
       "   require.config({paths: {d3: \"https://cdnjs.cloudflare.com/ajax/libs/d3/3.5.5/d3.min\"}});\n",
       "   require([\"d3\"], function(d3){\n",
       "      window.d3 = d3;\n",
       "      LDAvis_load_lib(\"https://cdn.rawgit.com/bmabey/pyLDAvis/files/ldavis.v1.0.0.js\", function(){\n",
       "        new LDAvis(\"#\" + \"ldavis_el87421404864637690407678691574\", ldavis_el87421404864637690407678691574_data);\n",
       "      });\n",
       "    });\n",
       "}else{\n",
       "    // require.js not available: dynamically load d3 & LDAvis\n",
       "    LDAvis_load_lib(\"https://cdnjs.cloudflare.com/ajax/libs/d3/3.5.5/d3.min.js\", function(){\n",
       "         LDAvis_load_lib(\"https://cdn.rawgit.com/bmabey/pyLDAvis/files/ldavis.v1.0.0.js\", function(){\n",
       "                 new LDAvis(\"#\" + \"ldavis_el87421404864637690407678691574\", ldavis_el87421404864637690407678691574_data);\n",
       "            })\n",
       "         });\n",
       "}\n",
       "</script>"
      ],
      "text/plain": [
       "PreparedData(topic_coordinates=              x         y  topics  cluster       Freq\n",
       "topic                                                \n",
       "0     -0.142015 -0.019973       1        1  25.659742\n",
       "3      0.039536 -0.067210       2        1  20.541286\n",
       "1      0.005495  0.064153       3        1  19.205313\n",
       "2      0.058274 -0.072752       4        1  18.155304\n",
       "4      0.038710  0.095783       5        1  16.438360, topic_info=     Category       Freq      Term      Total  loglift  logprob\n",
       "1654  Default  72.000000     obama  72.000000  30.0000  30.0000\n",
       "1579  Default  49.000000   clinton  49.000000  29.0000  29.0000\n",
       "1453  Default  36.000000       sen  36.000000  28.0000  28.0000\n",
       "208   Default  31.000000  military  31.000000  27.0000  27.0000\n",
       "79    Default  45.000000      bush  45.000000  26.0000  26.0000\n",
       "...       ...        ...       ...        ...      ...      ...\n",
       "715    Topic5   6.478110     state  31.447895   0.2256  -6.3610\n",
       "811    Topic5   5.831919  incident  15.430090   0.8326  -6.4661\n",
       "1443   Topic5   5.817722    called  15.597767   0.8193  -6.4685\n",
       "296    Topic5   6.156916      year  42.484150  -0.1260  -6.4119\n",
       "405    Topic5   5.890558    sunday  20.845858   0.5417  -6.4561\n",
       "\n",
       "[398 rows x 6 columns], token_table=      Topic      Freq         Term\n",
       "term                              \n",
       "5053      4  0.677055    accidents\n",
       "1304      1  0.233685  afghanistan\n",
       "1304      2  0.058421  afghanistan\n",
       "1304      3  0.292107  afghanistan\n",
       "1304      4  0.058421  afghanistan\n",
       "...     ...       ...          ...\n",
       "242       1  0.140770        years\n",
       "242       2  0.187693        years\n",
       "242       3  0.305001        years\n",
       "242       4  0.305001        years\n",
       "242       5  0.046923        years\n",
       "\n",
       "[762 rows x 3 columns], R=30, lambda_step=0.01, plot_opts={'xlab': 'PC1', 'ylab': 'PC2'}, topic_order=[1, 4, 2, 3, 5])"
      ]
     },
     "execution_count": 11,
     "metadata": {},
     "output_type": "execute_result"
    }
   ],
   "source": [
    "#visualize the topic analysis for description\n",
    "import pyLDAvis.gensim\n",
    "\n",
    "pyLDAvis.enable_notebook()\n",
    "pyLDAvis.gensim.prepare(t_result[1], t_result[2], t_result[3])\n",
    "#pyLDAvis.gensim.prepare(ldamodel, corpus, dictionary)"
   ]
  },
  {
   "cell_type": "markdown",
   "metadata": {},
   "source": [
    "### 8.3 topic model - BERTopic (BERT + tf-idf)"
   ]
  },
  {
   "cell_type": "code",
   "execution_count": 12,
   "metadata": {},
   "outputs": [],
   "source": [
    "%%script false --no-raise-error\n",
    "from bertopic import BERTopic\n",
    "\n",
    "\n",
    "def BERTOPIC(list_name, num):\n",
    "    \n",
    "    docs = data_list(list_name,stop_words)\n",
    "    \n",
    "    vectorizer = TfidfVectorizer(min_df=5)\n",
    "    embeddings = vectorizer.fit_transform(docs)\n",
    "\n",
    "    topic_model = BERTopic(language=\"english\", calculate_probabilities=True, verbose=True)\n",
    "    topics, _ = topic_model.fit_transform(docs, embeddings)\n",
    "\n",
    "    freq = topic_model.get_topic_info(); freq.head(num)\n",
    "    \n",
    "    detail = topic_model.get_topic(0)\n",
    "    \n",
    "    return freq, detail\n",
    "\n",
    "BERTOPIC(sample_data,5)\n",
    "\n",
    "# note: this package ran successfully on my Colab (cannot ran on my mac due to depedency issues)\n",
    "# freq returns with mixed-topic lists and detail returns topic scores for words"
   ]
  },
  {
   "cell_type": "markdown",
   "metadata": {},
   "source": [
    "## 9 Keyword extraction"
   ]
  },
  {
   "cell_type": "code",
   "execution_count": 13,
   "metadata": {},
   "outputs": [
    {
     "name": "stdout",
     "output_type": "stream",
     "text": [
      "The top-10 keywords are: \n",
      "\n"
     ]
    },
    {
     "data": {
      "text/plain": [
       "[('police', 0.0011482759388729087),\n",
       " ('president bush', 0.0015093051156371364),\n",
       " ('obama', 0.0016295058950138597),\n",
       " ('iraq', 0.0020501184940579995),\n",
       " ('years', 0.0021378160582356883),\n",
       " ('official', 0.0023299180687660834),\n",
       " ('killed', 0.0026301725049606025),\n",
       " ('clinton', 0.002987365550068196),\n",
       " ('bush', 0.0032993043054512852),\n",
       " ('united states', 0.003606873851881622)]"
      ]
     },
     "execution_count": 13,
     "metadata": {},
     "output_type": "execute_result"
    }
   ],
   "source": [
    "# https://repositorio.inesctec.pt/bitstream/123456789/7622/1/P-00N-NF3.pdf\n",
    "# score is based on cases, freq, position, context, and sentence ind\n",
    "\n",
    "import yake\n",
    "import operator\n",
    "\n",
    "def YAKE(list_name,cityname, num):\n",
    "    \n",
    "    #list_name = data_list(list_name,stop_words)\n",
    "    \n",
    "    kw_extractor = yake.KeywordExtractor()\n",
    "\n",
    "    text = \" \".join(list_name)\n",
    "    language = \"en\"\n",
    "    max_ngram_size = 3\n",
    "    deduplication_threshold = 0.3\n",
    "    numOfKeywords = num\n",
    "    custom_kw_extractor = yake.KeywordExtractor(lan=language, n=max_ngram_size, dedupLim=deduplication_threshold, top=numOfKeywords, features=None)\n",
    "    keywords = custom_kw_extractor.extract_keywords(text)\n",
    "\n",
    "    #print(f\"Top {numOfKeywords} words for {cityname} (YAKE):\")\n",
    "\n",
    "\n",
    "    keywords.sort(key=operator.itemgetter(1))\n",
    "    \n",
    "    print(f\"The top-{num} keywords are: \\n\")\n",
    "    \n",
    "    return keywords\n",
    "\n",
    "YAKE(sample_data,\"Sample\", 10)"
   ]
  },
  {
   "cell_type": "markdown",
   "metadata": {},
   "source": [
    "## 10. Sentence similarity search (tf-idf + cosine similarity)\n",
    "**tf-idf can be replaced by different versions of BERT embeddings or GloVe**"
   ]
  },
  {
   "cell_type": "code",
   "execution_count": 14,
   "metadata": {},
   "outputs": [],
   "source": [
    "from nltk import word_tokenize\n",
    "from nltk.stem import WordNetLemmatizer\n",
    "from sklearn.feature_extraction.text import TfidfVectorizer\n",
    "\n",
    "\n",
    "lemmatizer = WordNetLemmatizer()\n",
    "tfidf_vectorizer = TfidfVectorizer()\n",
    "\n",
    "descriptions_lemmatized = [\" \".join([lemmatizer.lemmatize(token.lower()) for token in word_tokenize(description)]) \n",
    "                           for description in sample_data]\n",
    "\n",
    "descriptions_representation_tfidf = tfidf_vectorizer.fit_transform(descriptions_lemmatized)\n",
    "\n",
    "# cosine similarity\n",
    "\n",
    "def find_similar(vector_representation, all_representations, k=1):\n",
    "    similarity_matrix = cosine_similarity(vector_representation, all_representations)\n",
    "    np.fill_diagonal(similarity_matrix, 0)\n",
    "    similarities = similarity_matrix[0]\n",
    "    if k == 1:\n",
    "        return [np.argmax(similarities)]\n",
    "    elif k is not None:\n",
    "        return np.flip(similarities.argsort()[-k:][::1])\n",
    "    "
   ]
  },
  {
   "cell_type": "code",
   "execution_count": 15,
   "metadata": {},
   "outputs": [
    {
     "name": "stdout",
     "output_type": "stream",
     "text": [
      "Input: Obama visited the United Nation\n",
      "\n",
      "5 most similar outputs \n",
      "\n",
      " president of united arab emirates agrees to cancel all iraq 's debts to the nation .   west has urged nations to forgive billions in iraqi debt .   uae cabinet nominates abdullah ibrahim al-shehhi to be ambassador to iraq . \n",
      "\n",
      " new : sen. barack obama , iraqi prime minister reportedly hold `` productive '' talks .   sens. jack reed and chuck hagel accompany obama on trip .   obama has talks with afghan president hamid karzai on sunday .   obama says part of his strategy is `` taking the fight to al qaeda in afghanistan '' \n",
      "\n",
      " democratic nominee pledges to make it easier to balance work and family .   obama urges equal pay , help with child and health care , paid sick leave .   sen. clinton joins sen. obama at `` women for obama '' fundraiser .   many clinton supporters still are not ready to back obama . \n",
      "\n",
      " manchester united earn 0-0 draw away to barcelona in first leg of semifinal .   united 's top scorer cristiano ronaldo misses penalty in the third minute .   barca dominated champions league tie but could not breach united 's defense .   goalkeeper edwin van der sar made several saves but not seriously tested . \n",
      "\n",
      " new : barack obama makes fun of hillary clinton for drinking a shot in front of media .   new : clinton 's verbal attacks on obama met with boos from audience .   clinton has accused obama of being out of touch , elitist for remarks at fundraiser .   at fundraiser , obama said some pennsylvanians bitter and clinging to guns , religion . \n",
      "\n",
      "\n",
      "Input: The war continued for several years\n",
      "\n",
      "5 most similar outputs \n",
      "\n",
      " pervez musharraf tells nationwide audience he will resign as president .   u.s. and britain praise musharraf for his contribution to ` war on terror '   both promise continued aid and support for pakistan . \n",
      "\n",
      " new : as iraq war enters sixth year , american death toll rises to 4,000 .   new : four u.s. soldiers killed when their vehicle was hit by an ied .   at least 30 iraqis died sunday ; 80,000 to 150,000 or more killed since war 's start .   iraq security adviser said sunday that iraq war is `` well worth fighting '' \n",
      "\n",
      " karadzic was a psychiatrist who came to be nicknamed the `` butcher of bosnia ''   he was the bosnian serb political leader during the 1992-1995 war .   troops under his leadership are reported to have massacred 100,000 people .   he was indicted by the u.n. tribunal for war crimes and genocide . \n",
      "\n",
      " danish police say several arrested for plotting `` terror-related assassination ''   agency reports that suspects include two tunisians and a dane of moroccan origin .   newspaper says the target was its cartoonist kurt westergaard .   prophet mohammed drawings sparked protests in the muslim world two years ago . \n",
      "\n",
      " census-takers fan out across sudan this week in a landmark headcount .   count will be used to determine how power is shared in the war-torn country .   north-south tensions continue to simmer , threatening the return of civil war . \n",
      "\n",
      "\n"
     ]
    }
   ],
   "source": [
    "from sklearn.metrics.pairwise import cosine_similarity\n",
    "import numpy as np\n",
    "\n",
    "descriptions = [\"Obama visited the United Nation\",\n",
    "                \"The war continued for several years\"\n",
    "               ]\n",
    "\n",
    "def similarity_generator(list_name, num):\n",
    "    num=5\n",
    "\n",
    "    for description in descriptions:\n",
    "        print(\"Input: {}\".format(description))\n",
    "        print()\n",
    "\n",
    "        tf_idf_similar_indexes = find_similar(tfidf_vectorizer.transform([\" \".join([lemmatizer.lemmatize(token.lower()) \n",
    "                        for token in word_tokenize(description)])]), descriptions_representation_tfidf, num)\n",
    "        print(f\"{num} most similar outputs \\n\")\n",
    "        for index in tf_idf_similar_indexes:\n",
    "            print(list_name[index] + \"\\n\")\n",
    "        print()\n",
    "\n",
    "similarity_generator(sample_data, 5)"
   ]
  },
  {
   "cell_type": "code",
   "execution_count": null,
   "metadata": {},
   "outputs": [],
   "source": []
  }
 ],
 "metadata": {
  "kernelspec": {
   "display_name": "Python 3",
   "language": "python",
   "name": "python3"
  },
  "language_info": {
   "codemirror_mode": {
    "name": "ipython",
    "version": 3
   },
   "file_extension": ".py",
   "mimetype": "text/x-python",
   "name": "python",
   "nbconvert_exporter": "python",
   "pygments_lexer": "ipython3",
   "version": "3.7.3"
  },
  "toc": {
   "base_numbering": 1,
   "nav_menu": {},
   "number_sections": false,
   "sideBar": true,
   "skip_h1_title": false,
   "title_cell": "Table of Contents",
   "title_sidebar": "Contents",
   "toc_cell": true,
   "toc_position": {
    "height": "calc(100% - 180px)",
    "left": "10px",
    "top": "150px",
    "width": "288px"
   },
   "toc_section_display": true,
   "toc_window_display": true
  }
 },
 "nbformat": 4,
 "nbformat_minor": 2
}
