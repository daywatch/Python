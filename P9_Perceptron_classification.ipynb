{
 "cells": [
  {
   "cell_type": "markdown",
   "metadata": {},
   "source": [
    "This code shows a simple perceptron algorithm. Might be relevant to complext Multi-layer perceptrons in the future.\n",
    "https://machinelearningmastery.com/perceptron-algorithm-for-classification-in-python/#:~:text=The%20Perceptron%20algorithm%20is%20a,and%20predicts%20a%20class%20label.\n",
    "\n",
    "\n",
    "## 1. Load the data\n",
    "The text words were converted into indices in this assignment"
   ]
  },
  {
   "cell_type": "code",
   "execution_count": 1,
   "metadata": {},
   "outputs": [],
   "source": [
    "import codecs\n",
    "lines = [line.strip() for line in codecs.open('/Users/Daywatch/Desktop/6300ML/HW3/new/restaurant_train.txt')]\n",
    "lines=[line.split() for line in lines]\n",
    "\n",
    "lines2 = [line.strip() for line in codecs.open('/Users/Daywatch/Desktop/6300ML/HW3/new/restaurant_test.txt')]\n",
    "lines2=[line.split() for line in lines2]\n",
    "\n",
    "from random import shuffle\n",
    "shuffle(lines)"
   ]
  },
  {
   "cell_type": "code",
   "execution_count": 2,
   "metadata": {},
   "outputs": [
    {
     "name": "stdout",
     "output_type": "stream",
     "text": [
      "2 7:1 10:1 11:1 12:1 26:1 28:1 31:1 33:1 34:1 50:1 57:1 77:1 81:1 106:1 115:1 118:1 125:1 127:1 138:1 148:1 204:1 207:1 305:1 307:1 352:1 357:1 364:1 375:1 476:1 569:1 659:1 810:1 1529:1 2129:1 2209:1 2760:1 2920:1 3510:1 3583:1 4200:1 4553:1 5245:1 7336:1 7628:1 7687:1 8390:1\n"
     ]
    }
   ],
   "source": [
    "print(*lines[0])"
   ]
  },
  {
   "cell_type": "markdown",
   "metadata": {},
   "source": [
    "## 2. Set up feature lists, weight list, vectors, and vector computations"
   ]
  },
  {
   "cell_type": "code",
   "execution_count": 3,
   "metadata": {},
   "outputs": [],
   "source": [
    "#find out biggest and smallest number in training data\n",
    "#t=[lines[i][-1][:-2] for i in range(0, len(lines))]\n",
    "#big_numbers=[int(x) for x in t]\n",
    "#f_num1=max(big_numbers)+1 \n",
    "#f_num1 #9489\n",
    "\n",
    "t=[lines2[i][-1][:-2] for i in range(0, len(lines2))]\n",
    "big_numbers=[int(x) for x in t]\n",
    "f_num2=max(big_numbers)+1 \n",
    "f_num2 #test has 9492 features\n",
    "\n",
    "#create empty list \n",
    "w0=[0]*(f_num2+1) #class 0\n",
    "w1=[0]*(f_num2+1) #class 1\n",
    "w2=[0]*(f_num2+1) #class 2\n",
    "\n",
    "#insert bias weight of 0 at the 0 position.\n",
    "w0.insert(0,0)\n",
    "w1.insert(0,0)\n",
    "w2.insert(0,0)\n",
    "\n",
    "#make a function that takes the short lists of f1, f2, etc. and makes them long (9490)\n",
    "def freader(f): #freader = vector (f) reader\n",
    "    emptyvector = [0]*9493\n",
    "    emptyvector.insert(0,1)\n",
    "    for string in f[1:]:\n",
    "        n=int(string.split(':')[0]) #add class at the beginning of the list\n",
    "        emptyvector[n+1]=1\n",
    "    return emptyvector\n",
    "train_right_cls=[line[0] for line in lines]\n",
    "\n",
    "#print (freader(lines[23])[0:11])\n",
    "data=[freader(l) for l in lines]\n",
    "\n",
    "def vec_add(x,y):\n",
    "    return [x[0]+x[1] for x in zip(x,y)]\n",
    "\n",
    "#vec_add([1,2,3],[4,5,6])\n",
    "\n",
    "def vec_sub(x,y):\n",
    "    return [x[0]-x[1] for x in zip(x,y)]\n",
    "\n",
    "#dotproduct\n",
    "\n",
    "def dotproduct(x,y):\n",
    "    return sum(x[0]*x[1] for x in zip(x,y))\n"
   ]
  },
  {
   "cell_type": "markdown",
   "metadata": {},
   "source": [
    "## 3. Classification"
   ]
  },
  {
   "cell_type": "code",
   "execution_count": 4,
   "metadata": {},
   "outputs": [
    {
     "name": "stdout",
     "output_type": "stream",
     "text": [
      "ERRORS: 318\n",
      "ERRORS: 103\n",
      "ERRORS: 58\n",
      "ERRORS: 26\n",
      "ERRORS: 14\n",
      "ERRORS: 2\n",
      "ERRORS: 9\n",
      "ERRORS: 12\n",
      "ERRORS: 9\n",
      "ERRORS: 11\n",
      "ERRORS: 4\n",
      "ERRORS: 5\n",
      "ERRORS: 1\n",
      "ERRORS: 3\n",
      "ERRORS: 4\n",
      "ERRORS: 0\n"
     ]
    }
   ],
   "source": [
    "\n",
    "#classify: f = vectors, w = list of weights\n",
    "w=[w0,w1,w2]\n",
    "#create a classifier which takes in line and weight lists and outputs renewed lists and result\n",
    "def classify(f,w):\n",
    "    maxdp = -1\n",
    "    for i in range(len(w)):\n",
    "        dp = dotproduct(w[i],f)\n",
    "        if dp > maxdp:\n",
    "            bestclass = i\n",
    "            maxdp = dp\n",
    "    return bestclass\n",
    "\n",
    "\n",
    "errors = 1\n",
    "while errors > 0:\n",
    "    errors = 0\n",
    "    for correct, features in zip(train_right_cls,data):\n",
    "        guessed = classify(features, w)\n",
    "        correct = int(correct)\n",
    "        if correct != guessed:\n",
    "            w[correct] = vec_add(features, w[correct])\n",
    "            w[guessed] = vec_sub(w[guessed],features)\n",
    "            errors += 1\n",
    "    print(\"ERRORS:\" , errors) # This should go down\n"
   ]
  },
  {
   "cell_type": "markdown",
   "metadata": {},
   "source": [
    "## 4. Testing and reporting accuracies"
   ]
  },
  {
   "cell_type": "code",
   "execution_count": 5,
   "metadata": {},
   "outputs": [
    {
     "name": "stdout",
     "output_type": "stream",
     "text": [
      "0.876\n"
     ]
    }
   ],
   "source": [
    "#read and sort testing data\n",
    "lines2 = [line.strip() for line in codecs.open('/Users/Daywatch/Desktop/6300ML/HW3/new/restaurant_test.txt')]\n",
    "lines2=[line.split() for line in lines2]\n",
    "\n",
    "test_right_cls=[line[0] for line in lines2]\n",
    "test_right_cls = list(map(int, test_right_cls))\n",
    "\n",
    "data2=[freader(l) for l in lines2]\n",
    "\n",
    "def accuracy(data,w,correct):\n",
    "    count = 0\n",
    "    for i in range(0,len(data)):\n",
    "        if classify(data[i],w) == correct[i]:\n",
    "            count+=1\n",
    "    return (float(count/len(data)))\n",
    "print (accuracy(data2,w,test_right_cls))"
   ]
  }
 ],
 "metadata": {
  "kernelspec": {
   "display_name": "Python 3",
   "language": "python",
   "name": "python3"
  },
  "language_info": {
   "codemirror_mode": {
    "name": "ipython",
    "version": 3
   },
   "file_extension": ".py",
   "mimetype": "text/x-python",
   "name": "python",
   "nbconvert_exporter": "python",
   "pygments_lexer": "ipython3",
   "version": "3.7.3"
  }
 },
 "nbformat": 4,
 "nbformat_minor": 2
}
